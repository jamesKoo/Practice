{
 "cells": [
  {
   "cell_type": "markdown",
   "metadata": {},
   "source": [
    "## RL Lab 02: Playing OpenAI GYM Games"
   ]
  },
  {
   "cell_type": "markdown",
   "metadata": {},
   "source": [
    "### Installation"
   ]
  },
  {
   "cell_type": "code",
   "execution_count": 1,
   "metadata": {
    "collapsed": true
   },
   "outputs": [],
   "source": [
    "import tensorflow\n",
    "import gym"
   ]
  },
  {
   "cell_type": "markdown",
   "metadata": {},
   "source": [
    "### Python arrow keyin"
   ]
  },
  {
   "cell_type": "markdown",
   "metadata": {},
   "source": [
    "Not supported on Jupyter, IDE(Pycharm)"
   ]
  },
  {
   "cell_type": "code",
   "execution_count": 2,
   "metadata": {
    "collapsed": false
   },
   "outputs": [],
   "source": [
    "import sys\n",
    "import termios\n",
    "\n",
    "class _Getch:\n",
    "    def __call__(self):\n",
    "        fd = sys.stdin.fileno()\n",
    "        old_settings = termios.tcgetattr(fd)\n",
    "        try:\n",
    "            tty.setraw(sys.stdin.fileno())\n",
    "            ch = sys.stdin.read(3)\n",
    "        finally:\n",
    "            termios.tcsetattr(fd, termios.TSCADRAIN, old_settings)\n",
    "        return ch\n",
    "        \n",
    "inkey = _Getch()\n",
    "\n",
    "# MACROS\n",
    "LEFT = 0\n",
    "DOWN = 1\n",
    "RIGHT = 2\n",
    "UP = 3\n",
    "\n",
    "# Key mapping\n",
    "arrow_keys = {\n",
    "    '\\x1b[A': UP,\n",
    "    '\\x1b[B': DOWN,\n",
    "    '\\x1b[C': RIGHT,\n",
    "    '\\x1b[D': LEFT}"
   ]
  },
  {
   "cell_type": "markdown",
   "metadata": {},
   "source": [
    "### Playing Game"
   ]
  },
  {
   "cell_type": "markdown",
   "metadata": {},
   "source": [
    "Resistration"
   ]
  },
  {
   "cell_type": "code",
   "execution_count": 3,
   "metadata": {
    "collapsed": false
   },
   "outputs": [
    {
     "name": "stderr",
     "output_type": "stream",
     "text": [
      "[2017-07-08 22:35:25,481] Making new env: FrozenLake-v3\n"
     ]
    },
    {
     "name": "stdout",
     "output_type": "stream",
     "text": [
      "\n",
      "\u001b[41mS\u001b[0mFFF\n",
      "FHFH\n",
      "FFFH\n",
      "HFFG\n"
     ]
    }
   ],
   "source": [
    "from gym.envs.registration import register\n",
    "\n",
    "# Register FrozenLake with is_slippery False\n",
    "register(id='FrozenLake-v3',\n",
    "         entry_point='gym.envs.toy_text:FrozenLakeEnv',\n",
    "         kwargs={'map_name': '4x4', 'is_slippery': False})\n",
    "\n",
    "env = gym.make('FrozenLake-v3')\n",
    "env.render()  # show the initial board"
   ]
  },
  {
   "cell_type": "markdown",
   "metadata": {},
   "source": [
    "Play\n",
    "\n",
    "Used 'input' function with 'a','s','d','w' instead of arrow key"
   ]
  },
  {
   "cell_type": "code",
   "execution_count": 7,
   "metadata": {
    "collapsed": false
   },
   "outputs": [
    {
     "name": "stdout",
     "output_type": "stream",
     "text": [
      "d\n",
      "  (Right)\n",
      "S\u001b[41mF\u001b[0mFF\n",
      "FHFH\n",
      "FFFH\n",
      "HFFG\n",
      "State: 1 Action: 2 Reward: 0.0 Info: {'prob': 1.0}\n",
      "d\n",
      "  (Right)\n",
      "SF\u001b[41mF\u001b[0mF\n",
      "FHFH\n",
      "FFFH\n",
      "HFFG\n",
      "State: 2 Action: 2 Reward: 0.0 Info: {'prob': 1.0}\n",
      "s\n",
      "  (Down)\n",
      "SFFF\n",
      "FH\u001b[41mF\u001b[0mH\n",
      "FFFH\n",
      "HFFG\n",
      "State: 6 Action: 1 Reward: 0.0 Info: {'prob': 1.0}\n",
      "s\n",
      "  (Down)\n",
      "SFFF\n",
      "FHFH\n",
      "FF\u001b[41mF\u001b[0mH\n",
      "HFFG\n",
      "State: 10 Action: 1 Reward: 0.0 Info: {'prob': 1.0}\n",
      "s\n",
      "  (Down)\n",
      "SFFF\n",
      "FHFH\n",
      "FFFH\n",
      "HF\u001b[41mF\u001b[0mG\n",
      "State: 14 Action: 1 Reward: 0.0 Info: {'prob': 1.0}\n",
      "d\n",
      "  (Right)\n",
      "SFFF\n",
      "FHFH\n",
      "FFFH\n",
      "HFF\u001b[41mG\u001b[0m\n",
      "State: 15 Action: 2 Reward: 1.0 Info: {'prob': 1.0}\n",
      "Finished with reward 1.0\n"
     ]
    }
   ],
   "source": [
    "arrow_keys2 = {'a': LEFT, \n",
    "               's': DOWN,\n",
    "               'd': RIGHT,\n",
    "               'w': UP}\n",
    "env.reset()\n",
    "while True:\n",
    "    # Choose an action from keyboard\n",
    "    key = input()\n",
    "    if key not in arrow_keys2.keys():\n",
    "        print('Game aborted!')\n",
    "        break\n",
    "\n",
    "    action = arrow_keys2[key]\n",
    "    state, reward, done, info = env.step(action)\n",
    "    env.render()  # show the board after action\n",
    "    print('State:', state, 'Action:', action, 'Reward:', reward, 'Info:', info)\n",
    "    \n",
    "    if done:\n",
    "        print('Finished with reward', reward)\n",
    "        break"
   ]
  }
 ],
 "metadata": {
  "kernelspec": {
   "display_name": "Python 3",
   "language": "python",
   "name": "python3"
  },
  "language_info": {
   "codemirror_mode": {
    "name": "ipython",
    "version": 3
   },
   "file_extension": ".py",
   "mimetype": "text/x-python",
   "name": "python",
   "nbconvert_exporter": "python",
   "pygments_lexer": "ipython3",
   "version": "3.6.0"
  }
 },
 "nbformat": 4,
 "nbformat_minor": 2
}
