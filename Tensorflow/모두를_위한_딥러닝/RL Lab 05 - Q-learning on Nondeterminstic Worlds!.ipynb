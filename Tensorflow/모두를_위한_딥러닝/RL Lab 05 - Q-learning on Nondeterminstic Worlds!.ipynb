{
 "cells": [
  {
   "cell_type": "markdown",
   "metadata": {},
   "source": [
    "## RL Lab 05 - Q-learning on Nondeterminstic Worlds!"
   ]
  },
  {
   "cell_type": "markdown",
   "metadata": {},
   "source": [
    "### Determnistic Worlds"
   ]
  },
  {
   "cell_type": "code",
   "execution_count": 1,
   "metadata": {
    "collapsed": false
   },
   "outputs": [
    {
     "name": "stderr",
     "output_type": "stream",
     "text": [
      "[2017-07-11 22:57:48,198] Making new env: FrozenLake-v3\n"
     ]
    },
    {
     "name": "stdout",
     "output_type": "stream",
     "text": [
      "\n",
      "\u001b[41mS\u001b[0mFFF\n",
      "FHFH\n",
      "FFFH\n",
      "HFFG\n"
     ]
    }
   ],
   "source": [
    "import gym\n",
    "from gym.envs.registration import register\n",
    "\n",
    "# Register FrozenLake with is_slippery False\n",
    "register(id='FrozenLake-v3',\n",
    "         entry_point='gym.envs.toy_text:FrozenLakeEnv',\n",
    "         kwargs={'map_name': '4x4', 'is_slippery': False})\n",
    "\n",
    "env = gym.make('FrozenLake-v3')\n",
    "env.render()  # show the initial board"
   ]
  },
  {
   "cell_type": "code",
   "execution_count": 4,
   "metadata": {
    "collapsed": false
   },
   "outputs": [
    {
     "name": "stdout",
     "output_type": "stream",
     "text": [
      "d\n",
      "  (Right)\n",
      "S\u001b[41mF\u001b[0mFF\n",
      "FHFH\n",
      "FFFH\n",
      "HFFG\n",
      "State: 1 Action: 2 Reward: 0.0 Info: {'prob': 1.0}\n",
      "d\n",
      "  (Right)\n",
      "SF\u001b[41mF\u001b[0mF\n",
      "FHFH\n",
      "FFFH\n",
      "HFFG\n",
      "State: 2 Action: 2 Reward: 0.0 Info: {'prob': 1.0}\n",
      "s\n",
      "  (Down)\n",
      "SFFF\n",
      "FH\u001b[41mF\u001b[0mH\n",
      "FFFH\n",
      "HFFG\n",
      "State: 6 Action: 1 Reward: 0.0 Info: {'prob': 1.0}\n",
      "s\n",
      "  (Down)\n",
      "SFFF\n",
      "FHFH\n",
      "FF\u001b[41mF\u001b[0mH\n",
      "HFFG\n",
      "State: 10 Action: 1 Reward: 0.0 Info: {'prob': 1.0}\n",
      "s\n",
      "  (Down)\n",
      "SFFF\n",
      "FHFH\n",
      "FFFH\n",
      "HF\u001b[41mF\u001b[0mG\n",
      "State: 14 Action: 1 Reward: 0.0 Info: {'prob': 1.0}\n",
      "d\n",
      "  (Right)\n",
      "SFFF\n",
      "FHFH\n",
      "FFFH\n",
      "HFF\u001b[41mG\u001b[0m\n",
      "State: 15 Action: 2 Reward: 1.0 Info: {'prob': 1.0}\n",
      "Finished with reward 1.0\n"
     ]
    }
   ],
   "source": [
    "# MACROS\n",
    "LEFT = 0\n",
    "DOWN = 1\n",
    "RIGHT = 2\n",
    "UP = 3\n",
    "\n",
    "arrow_keys = {'a': LEFT, \n",
    "               's': DOWN,\n",
    "               'd': RIGHT,\n",
    "               'w': UP}\n",
    "env.reset()\n",
    "while True:\n",
    "    # Choose an action from keyboard\n",
    "    key = input()\n",
    "    if key not in arrow_keys.keys():\n",
    "        print('Game aborted!')\n",
    "        break\n",
    "\n",
    "    action = arrow_keys[key]\n",
    "    state, reward, done, info = env.step(action)\n",
    "    env.render()  # show the board after action\n",
    "    print('State:', state, 'Action:', action, 'Reward:', reward, 'Info:', info)\n",
    "    \n",
    "    if done:\n",
    "        print('Finished with reward', reward)\n",
    "        break"
   ]
  },
  {
   "cell_type": "markdown",
   "metadata": {},
   "source": [
    "### Nondeterministci Worlds!"
   ]
  },
  {
   "cell_type": "code",
   "execution_count": 9,
   "metadata": {
    "collapsed": false
   },
   "outputs": [
    {
     "name": "stderr",
     "output_type": "stream",
     "text": [
      "[2017-07-11 23:02:54,736] Making new env: FrozenLake-v0\n"
     ]
    },
    {
     "name": "stdout",
     "output_type": "stream",
     "text": [
      "\n",
      "\u001b[41mS\u001b[0mFFF\n",
      "FHFH\n",
      "FFFH\n",
      "HFFG\n",
      "d\n",
      "  (Right)\n",
      "S\u001b[41mF\u001b[0mFF\n",
      "FHFH\n",
      "FFFH\n",
      "HFFG\n",
      "State: 1 Action: 2 Reward: 0.0 Info: {'prob': 0.3333333333333333}\n",
      "d\n",
      "  (Right)\n",
      "SF\u001b[41mF\u001b[0mF\n",
      "FHFH\n",
      "FFFH\n",
      "HFFG\n",
      "State: 2 Action: 2 Reward: 0.0 Info: {'prob': 0.3333333333333333}\n",
      "s\n",
      "  (Down)\n",
      "SFF\u001b[41mF\u001b[0m\n",
      "FHFH\n",
      "FFFH\n",
      "HFFG\n",
      "State: 3 Action: 1 Reward: 0.0 Info: {'prob': 0.3333333333333333}\n",
      "a\n",
      "  (Left)\n",
      "SFFF\n",
      "FHF\u001b[41mH\u001b[0m\n",
      "FFFH\n",
      "HFFG\n",
      "State: 7 Action: 0 Reward: 0.0 Info: {'prob': 0.3333333333333333}\n",
      "Finished with reward 0.0\n"
     ]
    }
   ],
   "source": [
    "env = gym.make('FrozenLake-v0')\n",
    "env.render()\n",
    "env.reset()\n",
    "while True:\n",
    "    # Choose an action from keyboard\n",
    "    key = input()\n",
    "    if key not in arrow_keys.keys():\n",
    "        print('Game aborted!')\n",
    "        break\n",
    "\n",
    "    action = arrow_keys[key]\n",
    "    state, reward, done, info = env.step(action)\n",
    "    env.render()  # show the board after action\n",
    "    print('State:', state, 'Action:', action, 'Reward:', reward, 'Info:', info)\n",
    "    \n",
    "    if done:\n",
    "        print('Finished with reward', reward)\n",
    "        break"
   ]
  },
  {
   "cell_type": "markdown",
   "metadata": {},
   "source": [
    "### Previous Q-learning"
   ]
  },
  {
   "cell_type": "code",
   "execution_count": 17,
   "metadata": {
    "collapsed": false
   },
   "outputs": [
    {
     "name": "stdout",
     "output_type": "stream",
     "text": [
      "Success rate:0.0205\n",
      "Final Q-Table Value\n",
      "[[ 0.    0.    0.    0.  ]\n",
      " [ 0.    0.    0.    0.  ]\n",
      " [ 0.    0.    0.    0.  ]\n",
      " [ 0.    0.    0.    0.  ]\n",
      " [ 0.    0.    0.    0.  ]\n",
      " [ 0.    0.    0.    0.  ]\n",
      " [ 0.    0.    0.    0.  ]\n",
      " [ 0.    0.    0.    0.  ]\n",
      " [ 0.    0.    0.    0.  ]\n",
      " [ 0.    0.    0.    0.  ]\n",
      " [ 0.    0.    0.99  0.  ]\n",
      " [ 0.    0.    0.    0.  ]\n",
      " [ 0.    0.    0.    0.  ]\n",
      " [ 0.    0.    0.    0.  ]\n",
      " [ 0.    0.    0.    0.  ]\n",
      " [ 0.    0.    0.    0.  ]]\n"
     ]
    },
    {
     "data": {
      "image/png": "[encoded data removed]",
      "text/plain": [
       "<matplotlib.figure.Figure at 0x11021e588>"
      ]
     },
     "metadata": {},
     "output_type": "display_data"
    }
   ],
   "source": [
    "import numpy as np\n",
    "import matplotlib.pyplot as plt\n",
    "\n",
    "num_episodes = 2000\n",
    "dis = 0.99\n",
    "Q = np.zeros([env.observation_space.n, env.action_space.n])\n",
    "rList=[]\n",
    "\n",
    "for i in range(num_episodes):\n",
    "    # Reset environment and get first new observation\n",
    "    state = env.reset()\n",
    "    rAll = 0\n",
    "    done = False\n",
    "    e = 1. / ((i // 100) + 1)\n",
    "    \n",
    "    # The Q-Table learning alrogithm\n",
    "    while not done:\n",
    "        if np.random.rand(1) < e:\n",
    "            action = env.action_space.sample()\n",
    "        else:\n",
    "            action = np.argmax(Q[state, :])\n",
    "            \n",
    "        # Choose an action by greedily (with noise) picking from Q table\n",
    "        action = np.argmax(Q[state, :] + np.random.randn(1, env.action_space.n) / (i + 1))\n",
    "        \n",
    "        # Get new state and reward from enviroment\n",
    "        new_state, reward, done, _ = env.step(action)\n",
    "        \n",
    "        # Update Q-table with new knowledge using decay rate\n",
    "        Q[state, action] = reward + dis * np.max(Q[new_state, :])\n",
    "        \n",
    "        rAll += reward\n",
    "        state = new_state\n",
    "        \n",
    "    rList.append(rAll)\n",
    "\n",
    "print('Success rate:' + str(sum(rList) / num_episodes))\n",
    "print('Final Q-Table Value')\n",
    "print(Q)\n",
    "plt.bar(range(len(rList)), rList, color='b')\n",
    "plt.show()"
   ]
  },
  {
   "cell_type": "markdown",
   "metadata": {},
   "source": [
    "### New Q-learning algorithm"
   ]
  },
  {
   "cell_type": "code",
   "execution_count": 24,
   "metadata": {
    "collapsed": false
   },
   "outputs": [
    {
     "name": "stdout",
     "output_type": "stream",
     "text": [
      "Success rate:0.689\n",
      "Final Q-Table Value\n",
      "[[  6.63924951e-01   7.76781897e-03   2.46071943e-02   3.09990393e-02]\n",
      " [  0.00000000e+00   0.00000000e+00   0.00000000e+00   4.82558424e-01]\n",
      " [  2.56633126e-03   3.86531888e-01   0.00000000e+00   0.00000000e+00]\n",
      " [  1.59559569e-03   7.44738124e-04   4.48130366e-03   4.17277735e-01]\n",
      " [  7.56659595e-01   4.35907903e-03   0.00000000e+00   1.22355752e-02]\n",
      " [  0.00000000e+00   0.00000000e+00   0.00000000e+00   0.00000000e+00]\n",
      " [  2.85968795e-04   0.00000000e+00   3.15595909e-02   0.00000000e+00]\n",
      " [  0.00000000e+00   0.00000000e+00   0.00000000e+00   0.00000000e+00]\n",
      " [  0.00000000e+00   0.00000000e+00   2.86013552e-03   8.15544360e-01]\n",
      " [  0.00000000e+00   5.84603755e-01   1.57737733e-03   0.00000000e+00]\n",
      " [  2.17841593e-01   3.54108867e-03   0.00000000e+00   0.00000000e+00]\n",
      " [  0.00000000e+00   0.00000000e+00   0.00000000e+00   0.00000000e+00]\n",
      " [  0.00000000e+00   0.00000000e+00   0.00000000e+00   0.00000000e+00]\n",
      " [  0.00000000e+00   0.00000000e+00   9.31910421e-01   0.00000000e+00]\n",
      " [  0.00000000e+00   9.10362562e-01   0.00000000e+00   0.00000000e+00]\n",
      " [  0.00000000e+00   0.00000000e+00   0.00000000e+00   0.00000000e+00]]\n"
     ]
    },
    {
     "data": {
      "image/png": "[encoded data removed]",
      "text/plain": [
       "<matplotlib.figure.Figure at 0x10f4c87f0>"
      ]
     },
     "metadata": {},
     "output_type": "display_data"
    }
   ],
   "source": [
    "num_episodes = 5000\n",
    "dis = 0.99\n",
    "learning_rate = 0.7\n",
    "\n",
    "Q = np.zeros([env.observation_space.n, env.action_space.n])\n",
    "rList=[]\n",
    "\n",
    "for i in range(num_episodes):\n",
    "    # Reset environment and get first new observation\n",
    "    state = env.reset()\n",
    "    rAll = 0\n",
    "    done = False\n",
    "    e = 1. / ((i // 100) + 1)\n",
    "    \n",
    "    # The Q-Table learning alrogithm\n",
    "    while not done:\n",
    "        if np.random.rand(1) < e:\n",
    "            action = env.action_space.sample()\n",
    "        else:\n",
    "            action = np.argmax(Q[state, :])\n",
    "            \n",
    "        # Choose an action by greedily (with noise) picking from Q table\n",
    "        action = np.argmax(Q[state, :] + np.random.randn(1, env.action_space.n) / (i + 1))\n",
    "        \n",
    "        # Get new state and reward from enviroment\n",
    "        new_state, reward, done, _ = env.step(action)\n",
    "        \n",
    "        # Update Q-table with new knowledge using decay rate\n",
    "        Q[state, action] = (1-learning_rate) * Q[state, action] + learning_rate * (reward + dis * np.max(Q[new_state, :]))\n",
    "        \n",
    "        rAll += reward\n",
    "        state = new_state\n",
    "        \n",
    "    rList.append(rAll)\n",
    "\n",
    "print('Success rate:' + str(sum(rList) / num_episodes))\n",
    "print('Final Q-Table Value')\n",
    "print(Q)\n",
    "plt.bar(range(len(rList)), rList, color='b')\n",
    "plt.show()"
   ]
  }
 ],
 "metadata": {
  "kernelspec": {
   "display_name": "Python 3",
   "language": "python",
   "name": "python3"
  },
  "language_info": {
   "codemirror_mode": {
    "name": "ipython",
    "version": 3
   },
   "file_extension": ".py",
   "mimetype": "text/x-python",
   "name": "python",
   "nbconvert_exporter": "python",
   "pygments_lexer": "ipython3",
   "version": "3.6.0"
  }
 },
 "nbformat": 4,
 "nbformat_minor": 2
}
