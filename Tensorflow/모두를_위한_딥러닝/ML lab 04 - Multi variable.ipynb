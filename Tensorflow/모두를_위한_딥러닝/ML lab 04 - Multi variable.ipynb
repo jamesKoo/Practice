{
 "cells": [
  {
   "cell_type": "markdown",
   "metadata": {},
   "source": [
    "ML lab 04 - Multi variable"
   ]
  },
  {
   "cell_type": "code",
   "execution_count": 5,
   "metadata": {
    "collapsed": false,
    "scrolled": false
   },
   "outputs": [
    {
     "name": "stdout",
     "output_type": "stream",
     "text": [
      "0 3.86657 [[ 0.21485162  1.68095446  1.06247008]]\n",
      "100 7.12491e-08 [[  6.32857555e-04   9.99833643e-01   9.99802589e-01]]\n",
      "200 1.44723e-10 [[  2.85474634e-05   9.99992490e-01   9.99991119e-01]]\n",
      "300 2.75691e-13 [[  1.29145610e-06   9.99999583e-01   9.99999583e-01]]\n",
      "400 4.83169e-14 [[  1.61352204e-07   9.99999940e-01   9.99999940e-01]]\n",
      "500 4.83169e-14 [[  1.61352204e-07   9.99999940e-01   9.99999940e-01]]\n",
      "600 4.83169e-14 [[  1.61352204e-07   9.99999940e-01   9.99999940e-01]]\n",
      "700 4.83169e-14 [[  1.61352204e-07   9.99999940e-01   9.99999940e-01]]\n",
      "800 4.83169e-14 [[  1.61352204e-07   9.99999940e-01   9.99999940e-01]]\n",
      "900 4.83169e-14 [[  1.61352204e-07   9.99999940e-01   9.99999940e-01]]\n",
      "1000 4.83169e-14 [[  1.61352204e-07   9.99999940e-01   9.99999940e-01]]\n",
      "1100 4.83169e-14 [[  1.61352204e-07   9.99999940e-01   9.99999940e-01]]\n",
      "1200 4.83169e-14 [[  1.61352204e-07   9.99999940e-01   9.99999940e-01]]\n",
      "1300 4.83169e-14 [[  1.61352204e-07   9.99999940e-01   9.99999940e-01]]\n",
      "1400 4.83169e-14 [[  1.61352204e-07   9.99999940e-01   9.99999940e-01]]\n",
      "1500 4.83169e-14 [[  1.61352204e-07   9.99999940e-01   9.99999940e-01]]\n",
      "1600 4.83169e-14 [[  1.61352204e-07   9.99999940e-01   9.99999940e-01]]\n",
      "1700 4.83169e-14 [[  1.61352204e-07   9.99999940e-01   9.99999940e-01]]\n",
      "1800 4.83169e-14 [[  1.61352204e-07   9.99999940e-01   9.99999940e-01]]\n",
      "1900 4.83169e-14 [[  1.61352204e-07   9.99999940e-01   9.99999940e-01]]\n",
      "2000 4.83169e-14 [[  1.61352204e-07   9.99999940e-01   9.99999940e-01]]\n"
     ]
    }
   ],
   "source": [
    "import tensorflow as tf\n",
    "\n",
    "x_data = [[1., 1., 1., 1., 1.],\n",
    "          [1., 0., 3., 0., 5.],\n",
    "          [0., 2., 0., 4., 0.]]\n",
    "y_data = [1., 2., 3., 4., 5.]\n",
    "\n",
    "W = tf.Variable(tf.random_uniform([1, 3], -1.0, 1.0))\n",
    "\n",
    "b = tf.Variable(tf.random_uniform([1], -1.0, 1.0))\n",
    "\n",
    "hypothesis = tf.matmul(W, x_data)\n",
    "\n",
    "cost = tf.reduce_mean(tf.square(hypothesis - y_data))\n",
    "\n",
    "a = tf.Variable(0.1)\n",
    "optimizer = tf.train.GradientDescentOptimizer(a)\n",
    "train = optimizer.minimize(cost)\n",
    "\n",
    "init = tf.initialize_all_variables()\n",
    "\n",
    "sess = tf.Session()\n",
    "sess.run(init)\n",
    "\n",
    "for step in xrange(2001):\n",
    "    sess.run(train)\n",
    "    if step % 100 == 0:\n",
    "        print step, sess.run(cost), sess.run(W)\n",
    "        \n",
    "# Learns best fit is W: [1 1], b:[0]"
   ]
  },
  {
   "cell_type": "code",
   "execution_count": 4,
   "metadata": {
    "collapsed": false
   },
   "outputs": [
    {
     "name": "stdout",
     "output_type": "stream",
     "text": [
      "x [[ 1.  1.  1.  1.  1.]\n",
      " [ 1.  0.  3.  0.  5.]\n",
      " [ 0.  2.  0.  4.  0.]]\n",
      "y [ 1.  2.  3.  4.  5.]\n",
      "0 0.904807 [[ 1.07381272  1.0138973   0.51069987]]\n",
      "100 0.000397956 [[ 0.04729137  0.98756838  0.98525006]]\n",
      "200 8.09813e-07 [[ 0.00213333  0.99943912  0.99933457]]\n",
      "300 1.64486e-09 [[  9.62530612e-05   9.99974728e-01   9.99970019e-01]]\n",
      "400 3.5044e-12 [[  4.32362776e-06   9.99998868e-01   9.99998629e-01]]\n",
      "500 2.55795e-14 [[  2.51438678e-07   9.99999881e-01   9.99999940e-01]]\n",
      "600 1.42109e-14 [[  1.75144820e-07   1.00000000e+00   9.99999940e-01]]\n",
      "700 1.42109e-14 [[  1.75144820e-07   1.00000000e+00   9.99999940e-01]]\n",
      "800 1.42109e-14 [[  1.75144820e-07   1.00000000e+00   9.99999940e-01]]\n",
      "900 1.42109e-14 [[  1.75144820e-07   1.00000000e+00   9.99999940e-01]]\n",
      "1000 1.42109e-14 [[  1.75144820e-07   1.00000000e+00   9.99999940e-01]]\n",
      "1100 1.42109e-14 [[  1.75144820e-07   1.00000000e+00   9.99999940e-01]]\n",
      "1200 1.42109e-14 [[  1.75144820e-07   1.00000000e+00   9.99999940e-01]]\n",
      "1300 1.42109e-14 [[  1.75144820e-07   1.00000000e+00   9.99999940e-01]]\n",
      "1400 1.42109e-14 [[  1.75144820e-07   1.00000000e+00   9.99999940e-01]]\n",
      "1500 1.42109e-14 [[  1.75144820e-07   1.00000000e+00   9.99999940e-01]]\n",
      "1600 1.42109e-14 [[  1.75144820e-07   1.00000000e+00   9.99999940e-01]]\n",
      "1700 1.42109e-14 [[  1.75144820e-07   1.00000000e+00   9.99999940e-01]]\n",
      "1800 1.42109e-14 [[  1.75144820e-07   1.00000000e+00   9.99999940e-01]]\n",
      "1900 1.42109e-14 [[  1.75144820e-07   1.00000000e+00   9.99999940e-01]]\n",
      "2000 1.42109e-14 [[  1.75144820e-07   1.00000000e+00   9.99999940e-01]]\n"
     ]
    }
   ],
   "source": [
    "import tensorflow as tf\n",
    "import numpy as np\n",
    "\n",
    "xy = np.loadtxt(\"train.txt\", unpack=True, dtype=\"float32\")\n",
    "x_data = xy[0:-1]\n",
    "y_data = xy[-1]\n",
    "\n",
    "print \"x\", x_data\n",
    "print \"y\", y_data\n",
    "\n",
    "W = tf.Variable(tf.random_uniform([1, 3], -1.0, 1.0))\n",
    "\n",
    "b = tf.Variable(tf.random_uniform([1], -1.0, 1.0))\n",
    "\n",
    "hypothesis = tf.matmul(W, x_data)\n",
    "\n",
    "cost = tf.reduce_mean(tf.square(hypothesis - y_data))\n",
    "\n",
    "a = tf.Variable(0.1)\n",
    "optimizer = tf.train.GradientDescentOptimizer(a)\n",
    "train = optimizer.minimize(cost)\n",
    "\n",
    "init = tf.initialize_all_variables()\n",
    "\n",
    "sess = tf.Session()\n",
    "sess.run(init)\n",
    "\n",
    "for step in xrange(2001):\n",
    "    sess.run(train)\n",
    "    if step % 100 == 0:\n",
    "        print step, sess.run(cost), sess.run(W)\n",
    "        \n",
    "# Learns best fit is W: [1 1], b:[0]"
   ]
  },
  {
   "cell_type": "code",
   "execution_count": null,
   "metadata": {
    "collapsed": true
   },
   "outputs": [],
   "source": []
  }
 ],
 "metadata": {
  "kernelspec": {
   "display_name": "Python 2",
   "language": "python",
   "name": "python2"
  },
  "language_info": {
   "codemirror_mode": {
    "name": "ipython",
    "version": 2
   },
   "file_extension": ".py",
   "mimetype": "text/x-python",
   "name": "python",
   "nbconvert_exporter": "python",
   "pygments_lexer": "ipython2",
   "version": "2.7.6"
  }
 },
 "nbformat": 4,
 "nbformat_minor": 0
}
