{
 "cells": [
  {
   "cell_type": "markdown",
   "metadata": {},
   "source": [
    "# MNIST 99%"
   ]
  },
  {
   "cell_type": "code",
   "execution_count": 3,
   "metadata": {
    "collapsed": false
   },
   "outputs": [
    {
     "name": "stdout",
     "output_type": "stream",
     "text": [
      "Extracting MNIST_data/train-images-idx3-ubyte.gz\n",
      "Extracting MNIST_data/train-labels-idx1-ubyte.gz\n",
      "Extracting MNIST_data/t10k-images-idx3-ubyte.gz\n",
      "Extracting MNIST_data/t10k-labels-idx1-ubyte.gz\n",
      " 0 0.96484375\n",
      "1 0.96875\n",
      "2 0.98046875\n",
      "3 0.99609375\n",
      "4 0.9921875\n"
     ]
    }
   ],
   "source": [
    "import tensorflow as tf\n",
    "import numpy as np\n",
    "import tensorflow.examples.tutorials.mnist.input_data as input_data\n",
    "\n",
    "def init_weights(shape):\n",
    "    return tf.Variable(tf.random_normal(shape, stddev=0.01))\n",
    "\n",
    "mnist = input_data.read_data_sets(\"MNIST_data/\", one_hot=True)\n",
    "\n",
    "# Parameters\n",
    "p_keep_conv = tf.placeholder(\"float\")\n",
    "p_keep_hidden = tf.placeholder(\"float\")\n",
    "#\n",
    "\n",
    "trX, trY, teX, teY = mnist.train.images, mnist.train.labels, mnist.test.images, mnist.test.labels\n",
    "trX = trX.reshape(-1, 28, 28, 1)\n",
    "teX = teX.reshape(-1, 28, 28, 1)\n",
    "\n",
    "X = tf.placeholder(\"float\", [None, 28, 28, 1])\n",
    "Y = tf.placeholder(\"float\", [None, 10])\n",
    "\n",
    "w = init_weights([3, 3, 1, 32])\n",
    "w2 = init_weights([3, 3, 32, 64])\n",
    "w3 = init_weights([3, 3, 64, 128])\n",
    "w4 = init_weights([128 * 4 *4, 625])\n",
    "w_o = init_weights([625, 10])\n",
    "\n",
    "l1a = tf.nn.relu(tf.nn.conv2d(X, w, strides=[1, 1, 1, 1], padding=\"SAME\"))\n",
    "l1 = tf.nn.max_pool(l1a, ksize=([1, 2, 2, 1]), strides=[1, 2, 2, 1], padding=\"SAME\")\n",
    "l1 = tf.nn.dropout(l1, p_keep_conv)\n",
    "\n",
    "l2a = tf.nn.relu(tf.nn.conv2d(l1, w2, strides=[1, 1, 1, 1], padding=\"SAME\"))\n",
    "l2 = tf.nn.max_pool(l2a, ksize=[1, 2, 2, 1], strides=[1, 2, 2, 1], padding=\"SAME\")\n",
    "l2 = tf.nn.dropout(l2, p_keep_conv)\n",
    "\n",
    "l3a = tf.nn.relu(tf.nn.conv2d(l2, w3, strides=[1, 1, 1, 1], padding=\"SAME\"))\n",
    "l3 = tf.nn.max_pool(l3a, ksize=[1, 2, 2, 1], strides=[1, 2, 2, 1], padding=\"SAME\")\n",
    "l3 = tf.reshape(l3, [-1, w4.get_shape().as_list()[0]])\n",
    "l3 = tf.nn.dropout(l3, p_keep_conv)\n",
    "\n",
    "l4 = tf.nn.relu(tf.matmul(l3, w4))\n",
    "l4 = tf.nn.dropout(l4, p_keep_hidden)\n",
    "\n",
    "py_x= tf.matmul(l4, w_o)\n",
    "\n",
    "\n",
    "cost = tf.reduce_mean(tf.nn.softmax_cross_entropy_with_logits(py_x, Y))\n",
    "train_op = tf.train.RMSPropOptimizer(0.001, 0.9).minimize(cost)\n",
    "predict_op = tf.argmax(py_x, 1)\n",
    "\n",
    "with tf.Session() as sess:\n",
    "    tf.initialize_all_variables().run()\n",
    "    \n",
    "    for i in range(5):\n",
    "        for start, end in zip(range(0, len(trX), 128), range(128, len(trX), 128)):\n",
    "            sess.run(train_op, feed_dict={X: trX[start:end], Y: trY[start:end], p_keep_conv:0.8, p_keep_hidden:0.5})\n",
    "            \n",
    "        test_indices = np.arange(len(teX))\n",
    "        np.random.shuffle(test_indices)\n",
    "        test_indices = test_indices[0:256]\n",
    "            \n",
    "        print i, np.mean(np.argmax(teY[test_indices], axis=1) == sess.run(predict_op, feed_dict={X:teX[test_indices], Y:teY[test_indices], p_keep_conv:1.0, p_keep_hidden:1.0}))\n",
    "    \n",
    "            \n",
    "\n"
   ]
  },
  {
   "cell_type": "code",
   "execution_count": null,
   "metadata": {
    "collapsed": true
   },
   "outputs": [],
   "source": []
  }
 ],
 "metadata": {
  "kernelspec": {
   "display_name": "Python 2",
   "language": "python",
   "name": "python2"
  },
  "language_info": {
   "codemirror_mode": {
    "name": "ipython",
    "version": 2
   },
   "file_extension": ".py",
   "mimetype": "text/x-python",
   "name": "python",
   "nbconvert_exporter": "python",
   "pygments_lexer": "ipython2",
   "version": "2.7.6"
  }
 },
 "nbformat": 4,
 "nbformat_minor": 0
}
