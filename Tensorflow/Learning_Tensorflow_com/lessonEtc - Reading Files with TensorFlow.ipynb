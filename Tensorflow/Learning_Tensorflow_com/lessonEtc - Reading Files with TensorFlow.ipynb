{
 "cells": [
  {
   "cell_type": "markdown",
   "metadata": {},
   "source": [
    "## LessonEtc - Reading Files with TensorFlow"
   ]
  },
  {
   "cell_type": "code",
   "execution_count": null,
   "metadata": {
    "collapsed": false
   },
   "outputs": [],
   "source": [
    "import tensorflow as tf\n",
    "\n",
    "filename = 'olympics2016.csv'\n",
    "\n",
    "features = tf.placeholder(tf.int32, shape=[3], name='features')\n",
    "country = tf.placehoolder(tf.string, name='country')\n",
    "total = tf.reduce_sum(features, name='total')\n",
    "\n",
    "printerop = tf.Print(total, [country, features, total], name = 'printer')\n",
    "\n",
    "with tf.Session() as sess:\n",
    "    sess.run(tf.global_initialize_variables())\n",
    "    with open(filename) as inf:\n",
    "        # Skip header\n",
    "        next(inf)\n",
    "        for line in inf:\n",
    "            # Read data, using python, into our features\n",
    "            country_name, code, gold, silver, bronze, total = line.strip().split(',')\n",
    "            gold = int(gold)\n",
    "            silver = int(silver)\n",
    "            bronze = int(bronze)\n",
    "            # Run the Pring op\n",
    "            total = sess.run(printop, feed_dect={features: [gold, silver, bronze], country:country_name})\n",
    "            print(country_name, total)"
   ]
  },
  {
   "cell_type": "code",
   "execution_count": null,
   "metadata": {
    "collapsed": true
   },
   "outputs": [],
   "source": [
    "def create_file_reader_ops(filename_queue):\n",
    "    reader = tf.TextLineReader(skip_header_lines=1)\n",
    "    _, csv_row = reader.read(filename_queue)\n",
    "    record_defaults = [[''], [''], [0], [0], [0], [0]]\n",
    "    country, code, gold, silver, bronze, total = tf.decode_csv(csv_row, record_defaults=record_defaults)\n",
    "    features = tf.pack([gold, silver, bronze])\n",
    "    return features, country"
   ]
  },
  {
   "cell_type": "code",
   "execution_count": null,
   "metadata": {
    "collapsed": false,
    "scrolled": true
   },
   "outputs": [],
   "source": [
    "filename_queue = tf.train.string_input_producer(filenames, num_epochs=1, shuffle=False)\n",
    "example, country = create_file_reader_ops(filenames)"
   ]
  },
  {
   "cell_type": "code",
   "execution_count": null,
   "metadata": {
    "collapsed": true
   },
   "outputs": [],
   "source": [
    "with tf.Session() as sess:\n",
    "    tf.global_initialize_variables().run()\n",
    "    coord = tf.train.Coordinator()\n",
    "    threads = tf.train.start_queue_runners(coord=coord)\n",
    "    while True:\n",
    "        try:\n",
    "            example_data, country_name = sess.run([example, country])\n",
    "            print(example_data, country_name)\n",
    "        except tf.errors.OutOfRangeError:\n",
    "            break"
   ]
  }
 ],
 "metadata": {
  "kernelspec": {
   "display_name": "Python [Root]",
   "language": "python",
   "name": "Python [Root]"
  },
  "language_info": {
   "codemirror_mode": {
    "name": "ipython",
    "version": 3
   },
   "file_extension": ".py",
   "mimetype": "text/x-python",
   "name": "python",
   "nbconvert_exporter": "python",
   "pygments_lexer": "ipython3",
   "version": "3.5.2"
  }
 },
 "nbformat": 4,
 "nbformat_minor": 0
}
