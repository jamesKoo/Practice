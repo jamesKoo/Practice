{
 "cells": [
  {
   "cell_type": "markdown",
   "metadata": {},
   "source": [
    "## Looping and Convergence"
   ]
  },
  {
   "cell_type": "code",
   "execution_count": 1,
   "metadata": {
    "collapsed": false
   },
   "outputs": [
    {
     "name": "stdout",
     "output_type": "stream",
     "text": [
      "1\n",
      "2\n",
      "3\n",
      "4\n",
      "5\n"
     ]
    }
   ],
   "source": [
    "import tensorflow as tf\n",
    "\n",
    "x = tf.Variable(0, name='x')\n",
    "\n",
    "model = tf.global_variables_initializer()\n",
    "\n",
    "with tf.Session() as sess:\n",
    "    for i in range(5):\n",
    "        sess.run(model)\n",
    "        x = x + 1\n",
    "        print(sess.run(x))"
   ]
  },
  {
   "cell_type": "code",
   "execution_count": 9,
   "metadata": {
    "collapsed": false
   },
   "outputs": [
    {
     "name": "stdout",
     "output_type": "stream",
     "text": [
      "1\n",
      "2\n",
      "3\n",
      "4\n",
      "5\n"
     ]
    }
   ],
   "source": [
    "import tensorflow as tf\n",
    "\n",
    "x = tf.Variable(0, name='x')\n",
    "threshold = tf.constant(5)\n",
    "\n",
    "model = tf.global_variables_initializer()\n",
    "\n",
    "with tf.Session() as sess:\n",
    "    sess.run(model)\n",
    "    \n",
    "    while sess.run(tf.less(x, threshold)):\n",
    "        x = x + 1\n",
    "        x_value = sess.run(x)\n",
    "        print(x_value)"
   ]
  },
  {
   "cell_type": "markdown",
   "metadata": {},
   "source": [
    "## Gradient Descent"
   ]
  },
  {
   "cell_type": "code",
   "execution_count": 14,
   "metadata": {
    "collapsed": false
   },
   "outputs": [
    {
     "name": "stdout",
     "output_type": "stream",
     "text": [
      "Predicted model:  2.249x +  5.873\n"
     ]
    }
   ],
   "source": [
    "import tensorflow as tf\n",
    "import numpy as np\n",
    "\n",
    "# x and y are placeholders for our training data\n",
    "x = tf.placeholder('float')\n",
    "y = tf.placeholder('float')\n",
    "\n",
    "# w is the variable storing our values. It it initialised with starting 'guesses'\n",
    "w = tf.Variable([1.0, 2.0], name='w')\n",
    "\n",
    "# Our model of y = a*x + b\n",
    "y_model = tf.mul(x, w[0]) + w[1]\n",
    "\n",
    "# Our error is defined as the square of the difference\n",
    "error = tf.square(y - y_model)\n",
    "\n",
    "# The Gradient Descent Optimizer does the heavy lifting\n",
    "train_op = tf.train.GradientDescentOptimizer(0.01).minimize(error)\n",
    "\n",
    "# Normal Tensorflow - initializer values, create a session and run the model\n",
    "model = tf.global_variables_initializer()\n",
    "\n",
    "with tf.Session() as sess:\n",
    "    sess.run(model)\n",
    "    \n",
    "    for i in range(1000):\n",
    "        x_value = np.random.rand()\n",
    "        y_value = x_value * 2 + 6\n",
    "        \n",
    "        sess.run(train_op, feed_dict={x:x_value, y:y_value})\n",
    "        \n",
    "    w_value = sess.run(w)\n",
    "    print('Predicted model: {a: .3f}x + {b: .3f}'.format(a=w_value[0], b=w_value[1]))"
   ]
  },
  {
   "cell_type": "markdown",
   "metadata": {},
   "source": [
    "## Plotting the error"
   ]
  },
  {
   "cell_type": "code",
   "execution_count": 33,
   "metadata": {
    "collapsed": false
   },
   "outputs": [
    {
     "name": "stdout",
     "output_type": "stream",
     "text": [
      "Predicted model:  2.017x +  5.908\n"
     ]
    },
    {
     "name": "stderr",
     "output_type": "stream",
     "text": [
      "C:\\Users\\james\\Anaconda3\\lib\\site-packages\\numpy\\core\\fromnumeric.py:2889: RuntimeWarning: Mean of empty slice.\n",
      "  out=out, **kwargs)\n",
      "C:\\Users\\james\\Anaconda3\\lib\\site-packages\\numpy\\core\\_methods.py:80: RuntimeWarning: invalid value encountered in double_scalars\n",
      "  ret = ret.dtype.type(ret / rcount)\n"
     ]
    },
    {
     "data": {
      "image/png": "[encoded data removed]",
      "text/plain": [
       "<matplotlib.figure.Figure at 0x1d2cd18e470>"
      ]
     },
     "metadata": {},
     "output_type": "display_data"
    }
   ],
   "source": [
    "%matplotlib inline\n",
    "import matplotlib.pyplot as plt\n",
    "import tensorflow as tf\n",
    "import numpy as np\n",
    "\n",
    "# x and y are placeholders for our training data\n",
    "x = tf.placeholder('float')\n",
    "y = tf.placeholder('float')\n",
    "\n",
    "# w is the variable storing our values. It it initialised with starting 'guesses'\n",
    "w = tf.Variable([1.0, 2.0], name='w')\n",
    "\n",
    "# Our model of y = a*x + b\n",
    "y_model = tf.mul(x, w[0]) + w[1]\n",
    "\n",
    "# Our error is defined as the square of the difference\n",
    "error = tf.square(y - y_model)\n",
    "\n",
    "# The Gradient Descent Optimizer does the heavy lifting\n",
    "train_op = tf.train.GradientDescentOptimizer(0.01).minimize(error)\n",
    "\n",
    "# Normal Tensorflow - initializer values, create a session and run the model\n",
    "model = tf.global_variables_initializer()\n",
    "\n",
    "errors = []\n",
    "with tf.Session() as sess:\n",
    "    sess.run(model)\n",
    "    \n",
    "    for i in range(1000):\n",
    "        x_train = tf.random_normal((1,),mean=5, stddev=2.0)\n",
    "        y_train = x_train * 2 + 6\n",
    "        x_value,y_value = sess.run([x_train, y_train])\n",
    "        \n",
    "        _, error_value = sess.run([train_op, error], feed_dict={x:x_value, y:y_value})        \n",
    "        sess.run(train_op, feed_dict={x:x_value, y:y_value})\n",
    "        \n",
    "        errors.append(error_value)\n",
    "        \n",
    "    w_value = sess.run(w)\n",
    "    print('Predicted model: {a: .3f}x + {b: .3f}'.format(a=w_value[0], b=w_value[1]))\n",
    "\n",
    "plt.plot([np.mean(errors[i-50:i]) for i in range(len(errors))])\n",
    "plt.show()"
   ]
  },
  {
   "cell_type": "markdown",
   "metadata": {},
   "source": [
    "## Exercise"
   ]
  },
  {
   "cell_type": "markdown",
   "metadata": {},
   "source": [
    "2) Try separate the a and b values from the Gradient Descent example (where w is used)."
   ]
  },
  {
   "cell_type": "code",
   "execution_count": 41,
   "metadata": {
    "collapsed": false
   },
   "outputs": [
    {
     "name": "stdout",
     "output_type": "stream",
     "text": [
      "Predicted model:  2.322x +  3.614\n"
     ]
    },
    {
     "name": "stderr",
     "output_type": "stream",
     "text": [
      "C:\\Users\\james\\Anaconda3\\lib\\site-packages\\numpy\\core\\fromnumeric.py:2889: RuntimeWarning: Mean of empty slice.\n",
      "  out=out, **kwargs)\n",
      "C:\\Users\\james\\Anaconda3\\lib\\site-packages\\numpy\\core\\_methods.py:80: RuntimeWarning: invalid value encountered in double_scalars\n",
      "  ret = ret.dtype.type(ret / rcount)\n"
     ]
    },
    {
     "data": {
      "image/png": "[encoded data removed]",
      "text/plain": [
       "<matplotlib.figure.Figure at 0x1d284095a90>"
      ]
     },
     "metadata": {},
     "output_type": "display_data"
    }
   ],
   "source": [
    "%matplotlib inline\n",
    "import matplotlib.pyplot as plt\n",
    "import tensorflow as tf\n",
    "import numpy as np\n",
    "\n",
    "# x and y are placeholders for our training data\n",
    "x = tf.placeholder('float')\n",
    "y = tf.placeholder('float')\n",
    "\n",
    "# w is the variable storing our values. It it initialised with starting 'guesses'\n",
    "a = tf.Variable(1.0, name='a')\n",
    "b = tf.Variable(2.0, name='b')\n",
    "\n",
    "# Our model of y = a*x + b\n",
    "y_model = tf.mul(x, a) + b\n",
    "\n",
    "# Our error is defined as the square of the difference\n",
    "error = tf.square(y - y_model)\n",
    "\n",
    "# The Gradient Descent Optimizer does the heavy lifting\n",
    "train_op = tf.train.GradientDescentOptimizer(0.01).minimize(error)\n",
    "\n",
    "# Normal Tensorflow - initializer values, create a session and run the model\n",
    "model = tf.global_variables_initializer()\n",
    "\n",
    "errors = []\n",
    "with tf.Session() as sess:\n",
    "    sess.run(model)\n",
    "    \n",
    "    for i in range(100):\n",
    "        x_train = tf.random_normal((1,),mean=5, stddev=2.0)\n",
    "        y_train = x_train * 2 + 6\n",
    "        x_value,y_value = sess.run([x_train, y_train])\n",
    "        \n",
    "        _, error_value = sess.run([train_op, error], feed_dict={x:x_value, y:y_value})        \n",
    "        sess.run(train_op, feed_dict={x:x_value, y:y_value})\n",
    "        \n",
    "        errors.append(error_value)\n",
    "        \n",
    "    a_value = sess.run(a)\n",
    "    b_value = sess.run(b)\n",
    "    print('Predicted model: {a: .3f}x + {b: .3f}'.format(a=a_value, b=b_value))\n",
    "\n",
    "plt.plot([np.mean(errors[i-50:i]) for i in range(len(errors))])\n",
    "plt.show()"
   ]
  },
  {
   "cell_type": "markdown",
   "metadata": {},
   "source": [
    "3) Our example trains on just a single example at a time, which is inefficient. Extend it to learn using a number (say, 50) of training samples at a time."
   ]
  },
  {
   "cell_type": "code",
   "execution_count": 49,
   "metadata": {
    "collapsed": false
   },
   "outputs": [
    {
     "name": "stdout",
     "output_type": "stream",
     "text": [
      "Predicted model:  2.556x +  2.660\n"
     ]
    },
    {
     "data": {
      "image/png": "[encoded data removed]",
      "text/plain": [
       "<matplotlib.figure.Figure at 0x1d2857976a0>"
      ]
     },
     "metadata": {},
     "output_type": "display_data"
    }
   ],
   "source": [
    "%matplotlib inline\n",
    "import matplotlib.pyplot as plt\n",
    "import tensorflow as tf\n",
    "import numpy as np\n",
    "\n",
    "# x and y are placeholders for our training data\n",
    "x = tf.placeholder('float', [None, 1])\n",
    "y = tf.placeholder('float', [None, 1])\n",
    "\n",
    "# w is the variable storing our values. It it initialised with starting 'guesses'\n",
    "w = tf.Variable([1.0, 2.0], name='w')\n",
    "\n",
    "# Our model of y = a*x + b\n",
    "y_model = tf.mul(x, w[0]) + w[1]\n",
    "\n",
    "# Our error is defined as the square of the difference\n",
    "error = tf.reduce_mean(tf.square(y - y_model))\n",
    "\n",
    "# The Gradient Descent Optimizer does the heavy lifting\n",
    "train_op = tf.train.GradientDescentOptimizer(0.01).minimize(error)\n",
    "\n",
    "# Normal Tensorflow - initializer values, create a session and run the model\n",
    "model = tf.global_variables_initializer()\n",
    "\n",
    "batch = 50\n",
    "\n",
    "errors = []\n",
    "with tf.Session() as sess:\n",
    "    sess.run(model)\n",
    "    \n",
    "    for i in range(1000 // batch):\n",
    "        x_train = tf.random_normal((batch,1),mean=5, stddev=2.0)\n",
    "        y_train = x_train * 2 + 6\n",
    "        x_value,y_value = sess.run([x_train, y_train])\n",
    "        \n",
    "        _, error_value = sess.run([train_op, error], feed_dict={x:x_value, y:y_value})        \n",
    "        sess.run(train_op, feed_dict={x:x_value, y:y_value})\n",
    "        \n",
    "        errors.append(error_value)\n",
    "        \n",
    "    w_value = sess.run(w)\n",
    "    print('Predicted model: {a: .3f}x + {b: .3f}'.format(a=w_value[0], b=w_value[1]))\n",
    "\n",
    "plt.plot(errors)\n",
    "plt.show()\n"
   ]
  }
 ],
 "metadata": {
  "anaconda-cloud": {},
  "kernelspec": {
   "display_name": "Python [default]",
   "language": "python",
   "name": "python3"
  },
  "language_info": {
   "codemirror_mode": {
    "name": "ipython",
    "version": 3
   },
   "file_extension": ".py",
   "mimetype": "text/x-python",
   "name": "python",
   "nbconvert_exporter": "python",
   "pygments_lexer": "ipython3",
   "version": "3.5.2"
  }
 },
 "nbformat": 4,
 "nbformat_minor": 1
}
