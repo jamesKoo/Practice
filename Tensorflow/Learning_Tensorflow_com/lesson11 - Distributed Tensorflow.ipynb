{
 "cells": [
  {
   "cell_type": "markdown",
   "metadata": {},
   "source": [
    "## Distributed Tensorflow"
   ]
  },
  {
   "cell_type": "code",
   "execution_count": 1,
   "metadata": {
    "collapsed": false
   },
   "outputs": [
    {
     "name": "stdout",
     "output_type": "stream",
     "text": [
      "238\n"
     ]
    }
   ],
   "source": [
    "import tensorflow as tf\n",
    "\n",
    "x = tf.constant(2)\n",
    "y1 = x + 300\n",
    "y2 = x - 66\n",
    "y = y1 + y2\n",
    "\n",
    "with tf.Session() as sess:\n",
    "    result = sess.run(y)\n",
    "    print(result)"
   ]
  },
  {
   "cell_type": "code",
   "execution_count": null,
   "metadata": {
    "collapsed": true
   },
   "outputs": [],
   "source": [
    "import tensorflow as tf\n",
    "\n",
    "cluster = tf.train.ClusterSpec({'local' : ['localhost:2222', 'localhost:2223']})\n",
    "server = tf.train.Server(cluster, job_name='local', task_index=1)\n",
    "\n",
    "server.start()\n",
    "server.join()"
   ]
  },
  {
   "cell_type": "code",
   "execution_count": 9,
   "metadata": {
    "collapsed": false
   },
   "outputs": [
    {
     "name": "stdout",
     "output_type": "stream",
     "text": [
      "238\n"
     ]
    }
   ],
   "source": [
    "import tensorflow as tf\n",
    "\n",
    "cluster = tf.train.ClusterSpec({'local' : ['localhost:2222', 'localhost:2223']})\n",
    "\n",
    "x = tf.constant(2)\n",
    "\n",
    "with tf.device('/job:local/task:1'):\n",
    "    y2 = x - 66\n",
    "    \n",
    "with tf.device('/job:local/task:0'):\n",
    "    y1 = x + 300\n",
    "    y = y1 + y2\n",
    "    \n",
    "with tf.Session('grpc://localhost:2222') as sess:\n",
    "    result = sess.run(y)\n",
    "    print(result)"
   ]
  },
  {
   "cell_type": "markdown",
   "metadata": {},
   "source": [
    "## Map and Reduce"
   ]
  },
  {
   "cell_type": "code",
   "execution_count": 10,
   "metadata": {
    "collapsed": false
   },
   "outputs": [
    {
     "name": "stdout",
     "output_type": "stream",
     "text": [
      "[6, 7, 8]\n"
     ]
    }
   ],
   "source": [
    "def myfunction(x):\n",
    "    return x + 5\n",
    "\n",
    "map_result = map(myfunction, [1, 2, 3])\n",
    "\n",
    "print(list(mabp_result))"
   ]
  },
  {
   "cell_type": "code",
   "execution_count": 11,
   "metadata": {
    "collapsed": false
   },
   "outputs": [
    {
     "name": "stdout",
     "output_type": "stream",
     "text": [
      "6\n"
     ]
    }
   ],
   "source": [
    "from functools import reduce\n",
    "\n",
    "def add(a, b):\n",
    "    return a + b\n",
    "\n",
    "print(reduce(add, [1, 2, 3]))"
   ]
  },
  {
   "cell_type": "code",
   "execution_count": 1,
   "metadata": {
    "collapsed": false
   },
   "outputs": [
    {
     "name": "stdout",
     "output_type": "stream",
     "text": [
      "0.478785\n"
     ]
    }
   ],
   "source": [
    "import numpy as np\n",
    "import tensorflow as tf\n",
    "\n",
    "x = tf.placeholder(tf.float32, 100)\n",
    "\n",
    "mean = tf.reduce_mean(x)\n",
    "\n",
    "with tf.Session() as sess:\n",
    "    result = sess.run(mean, feed_dict={x:np.random.random(100)})\n",
    "    print(result)"
   ]
  },
  {
   "cell_type": "code",
   "execution_count": 4,
   "metadata": {
    "collapsed": false
   },
   "outputs": [
    {
     "name": "stdout",
     "output_type": "stream",
     "text": [
      "0.460536\n"
     ]
    }
   ],
   "source": [
    "import numpy as np\n",
    "import tensorflow as tf\n",
    "\n",
    "cluster = tf.train.ClusterSpec({'local': ['localhost:2222', 'localhost:2223']})\n",
    "\n",
    "x = tf.placeholder(tf.float32, 100)\n",
    "\n",
    "with tf.device('/job:local/task:1'):\n",
    "    first_batch = tf.slice(x, [0], [50])\n",
    "    mean1 = tf.reduce_mean(first_batch)\n",
    "    \n",
    "with tf.device('/job:local/task:0'):\n",
    "    second_batch = tf.slice(x, [50], [-1])\n",
    "    mean2 = tf.reduce_mean(second_batch)\n",
    "    mean = (mean1 + mean2) / 2\n",
    "    \n",
    "with tf.Session('grpc://localhost:2222') as sess:\n",
    "    result = sess.run(mean, feed_dict={x: np.random.random(100)})\n",
    "    print(result)"
   ]
  }
 ],
 "metadata": {
  "kernelspec": {
   "display_name": "Python [Root]",
   "language": "python",
   "name": "Python [Root]"
  },
  "language_info": {
   "codemirror_mode": {
    "name": "ipython",
    "version": 3
   },
   "file_extension": ".py",
   "mimetype": "text/x-python",
   "name": "python",
   "nbconvert_exporter": "python",
   "pygments_lexer": "ipython3",
   "version": "3.5.2"
  }
 },
 "nbformat": 4,
 "nbformat_minor": 0
}
