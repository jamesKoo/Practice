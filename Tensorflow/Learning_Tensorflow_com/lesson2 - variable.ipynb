{
 "cells": [
  {
   "cell_type": "markdown",
   "metadata": {},
   "source": [
    "## Waht does TensorFlow do?"
   ]
  },
  {
   "cell_type": "code",
   "execution_count": 1,
   "metadata": {
    "collapsed": false
   },
   "outputs": [
    {
     "name": "stdout",
     "output_type": "stream",
     "text": [
      "Tensor(\"y/read:0\", shape=(), dtype=int32)\n"
     ]
    }
   ],
   "source": [
    "import tensorflow as tf\n",
    "\n",
    "x = tf.constant(35, name='x')\n",
    "y = tf.Variable(x + 5, name='y')\n",
    "\n",
    "print(y)"
   ]
  },
  {
   "cell_type": "code",
   "execution_count": 2,
   "metadata": {
    "collapsed": false
   },
   "outputs": [
    {
     "name": "stdout",
     "output_type": "stream",
     "text": [
      "40\n"
     ]
    }
   ],
   "source": [
    "#model = tf.initialize_all_variables()\n",
    "model = tf.global_variables_initializer()\n",
    "\n",
    "with tf.Session() as sess:\n",
    "    sess.run(model)\n",
    "    print(sess.run(y))"
   ]
  },
  {
   "cell_type": "markdown",
   "metadata": {},
   "source": [
    "## Exercises"
   ]
  },
  {
   "cell_type": "code",
   "execution_count": 3,
   "metadata": {
    "collapsed": false
   },
   "outputs": [
    {
     "name": "stdout",
     "output_type": "stream",
     "text": [
      "[40 45 50]\n"
     ]
    }
   ],
   "source": [
    "#1\n",
    "\n",
    "x = tf.constant([35, 40, 45], name='x')\n",
    "y = tf.Variable(x + 5, name='y')\n",
    "\n",
    "model = tf.global_variables_initializer()\n",
    "\n",
    "with tf.Session() as sess:\n",
    "    sess.run(model)\n",
    "    print(sess.run(y))"
   ]
  },
  {
   "cell_type": "code",
   "execution_count": 4,
   "metadata": {
    "collapsed": false
   },
   "outputs": [
    {
     "name": "stdout",
     "output_type": "stream",
     "text": [
      "[2149727 1858685 3931199 ...,  884957  142313  122789]\n"
     ]
    }
   ],
   "source": [
    "#2\n",
    "#y = 5x^2 - 3x + 15\n",
    "\n",
    "import numpy as np\n",
    "\n",
    "data = np.random.randint(1000, size=10000)\n",
    "x = tf.constant(data, name='x')\n",
    "y = tf.Variable(5*x**2 - 3*x + 15, name='y')\n",
    "\n",
    "model = tf.global_variables_initializer()\n",
    "\n",
    "with tf.Session() as sess:\n",
    "    sess.run(model)\n",
    "    print(sess.run(y))"
   ]
  },
  {
   "cell_type": "code",
   "execution_count": 5,
   "metadata": {
    "collapsed": false
   },
   "outputs": [
    {
     "name": "stdout",
     "output_type": "stream",
     "text": [
      "1\n",
      "2\n",
      "3\n",
      "4\n",
      "5\n"
     ]
    }
   ],
   "source": [
    "#3\n",
    "\n",
    "x = tf.Variable(0, name='x')\n",
    "\n",
    "model = tf.global_variables_initializer()\n",
    "\n",
    "with tf.Session() as sess:\n",
    "    for i in range(5):\n",
    "        sess.run(model)\n",
    "        x = x + 1\n",
    "        print(sess.run(x))"
   ]
  },
  {
   "cell_type": "code",
   "execution_count": 37,
   "metadata": {
    "collapsed": false,
    "scrolled": true
   },
   "outputs": [
    {
     "name": "stdout",
     "output_type": "stream",
     "text": [
      "485.762\n",
      "485.6265\n",
      "497.434333333\n",
      "495.36875\n",
      "496.9986\n"
     ]
    }
   ],
   "source": [
    "#4\n",
    "\n",
    "mean = tf.Variable(0, name = 'mean')\n",
    "\n",
    "model = tf.global_variables_initializer()\n",
    "\n",
    "m = 1000\n",
    "n = 0\n",
    "\n",
    "with tf.Session() as sess:\n",
    "    sess.run(model)\n",
    "    \n",
    "    for i in range(5):\n",
    "        data = np.random.randint(1000, size=m)\n",
    "        data_sum = np.sum(data)\n",
    "        \n",
    "        n += m\n",
    "     \n",
    "        mean = mean * (n - m) / n + data_sum / n\n",
    "        print(sess.run(mean))"
   ]
  },
  {
   "cell_type": "code",
   "execution_count": 44,
   "metadata": {
    "collapsed": false
   },
   "outputs": [
    {
     "name": "stdout",
     "output_type": "stream",
     "text": [
      "Tensor(\"x_9:0\", shape=(), dtype=int32)\n",
      "40\n"
     ]
    }
   ],
   "source": [
    "#5\n",
    "\n",
    "x = tf.constant(35, name='x')\n",
    "print(x)\n",
    "\n",
    "y = tf.Variable(x + 5, name='y')\n",
    "\n",
    "with tf.Session() as sess:\n",
    "    merged = tf.summary.merge_all()\n",
    "    writer = tf.summary.FileWriter('./log', sess.graph)\n",
    "    model = tf.global_variables_initializer()\n",
    "    sess.run(model)\n",
    "    print(sess.run(y))"
   ]
  },
  {
   "cell_type": "markdown",
   "metadata": {},
   "source": [
    "## tf.constant_initializer"
   ]
  },
  {
   "cell_type": "code",
   "execution_count": 1,
   "metadata": {
    "collapsed": false
   },
   "outputs": [
    {
     "name": "stdout",
     "output_type": "stream",
     "text": [
      "[ 2.  2.]\n"
     ]
    }
   ],
   "source": [
    "import tensorflow as tf\n",
    "\n",
    "constant_init = tf.constant_initializer([1, 1], dtype=tf.float32)\n",
    "var = tf.get_variable(name='var', initializer=constant_init, shape=(2))\n",
    "\n",
    "sess = tf.Session()\n",
    "sess.run(tf.global_variables_initializer())\n",
    "\n",
    "var = var + 1\n",
    "print(sess.run(var))\n"
   ]
  },
  {
   "cell_type": "code",
   "execution_count": 4,
   "metadata": {
    "collapsed": false
   },
   "outputs": [
    {
     "name": "stdout",
     "output_type": "stream",
     "text": [
      "Predicted model:  2.267x +  5.862\n"
     ]
    }
   ],
   "source": [
    "import tensorflow as tf\n",
    "import numpy as np\n",
    "\n",
    "# x and y are placeholders for our training data\n",
    "x = tf.placeholder('float')\n",
    "y = tf.placeholder('float')\n",
    "\n",
    "# w is the variable storing our values. It it initialised with starting 'guesses'\n",
    "init_w = tf.constant_initializer([1.0, 2.0], dtype=tf.float32)\n",
    "w = tf.get_variable(name='w', initializer=init_w, shape=(2))\n",
    "\n",
    "# Our model of y = a*x + b\n",
    "y_model = tf.mul(x, w[0]) + w[1]\n",
    "\n",
    "# Our error is defined as the square of the difference\n",
    "error = tf.square(y - y_model)\n",
    "\n",
    "# The Gradient Descent Optimizer does the heavy lifting\n",
    "train_op = tf.train.GradientDescentOptimizer(0.01).minimize(error)\n",
    "\n",
    "# Normal Tensorflow - initializer values, create a session and run the model\n",
    "model = tf.global_variables_initializer()\n",
    "\n",
    "with tf.Session() as sess:\n",
    "    sess.run(model)\n",
    "    \n",
    "    for i in range(1000):\n",
    "        x_value = np.random.rand()\n",
    "        y_value = x_value * 2 + 6\n",
    "        \n",
    "        sess.run(train_op, feed_dict={x:x_value, y:y_value})\n",
    "        \n",
    "    w_value = sess.run(w)\n",
    "    print('Predicted model: {a: .3f}x + {b: .3f}'.format(a=w_value[0], b=w_value[1]))"
   ]
  }
 ],
 "metadata": {
  "anaconda-cloud": {},
  "kernelspec": {
   "display_name": "Python [conda root]",
   "language": "python",
   "name": "conda-root-py"
  },
  "language_info": {
   "codemirror_mode": {
    "name": "ipython",
    "version": 3
   },
   "file_extension": ".py",
   "mimetype": "text/x-python",
   "name": "python",
   "nbconvert_exporter": "python",
   "pygments_lexer": "ipython3",
   "version": "3.5.2"
  }
 },
 "nbformat": 4,
 "nbformat_minor": 1
}
