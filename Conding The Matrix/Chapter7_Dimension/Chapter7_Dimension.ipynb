{
 "cells": [
  {
   "cell_type": "markdown",
   "metadata": {},
   "source": [
    "# Chapter 7 Dimesion"
   ]
  },
  {
   "cell_type": "markdown",
   "metadata": {},
   "source": [
    "기저에서 중용한 사실은 벡터공간에 대한 모든 기저는 동일한 크기를 가진다는 것이다."
   ]
  },
  {
   "cell_type": "markdown",
   "metadata": {},
   "source": [
    "# 7.1 기저의 크기"
   ]
  },
  {
   "cell_type": "markdown",
   "metadata": {},
   "source": [
    "## 7.1.1 Morphing 보조겅리와 그 응용"
   ]
  },
  {
   "cell_type": "markdown",
   "metadata": {},
   "source": [
    "### Lemma 7.1.1 Morphing Lemma\n",
    "V는 벡터공간이라 하자. S는 V에 대한 생정자들의 집합이라 하고 B는 V에 속하는 벡터들로 구성된 일착독립인 집합이라 하자. 그러면 $|S|\\ge|B|$이다."
   ]
  },
  {
   "cell_type": "markdown",
   "metadata": {},
   "source": [
    "### Theorm 7.1.2 Basis Theorem\n",
    "V는 벡터공간이라 하자. V에 대한 모든 기저는 동일한 크기를 가진다."
   ]
  },
  {
   "cell_type": "markdown",
   "metadata": {},
   "source": [
    "### Theorm 7.1.3 \n",
    "V는 벡터공간이라 하자. V에 대한 생성자들의 집합이 V에 대한 생성자들로 구성된 가장 작은 집합이이 되는 필요충분조건은 이 집합이 V에 대한 기저인 것이다."
   ]
  },
  {
   "cell_type": "markdown",
   "metadata": {},
   "source": [
    "### 7.1.2 Morphing 보조정리의 증명"
   ]
  },
  {
   "cell_type": "markdown",
   "metadata": {},
   "source": [
    "집합 S'은 여전히 V를 생성하고 S와 동일한 크기를 가지지만 B의 모든 원소들을 포함한다. 이것은 |S|가 적어도 |B|와 같다는 것을 보여준다. \n",
    "\n",
    "교환 Lemma와 귀납법을 통해 증명해보자.\n",
    "\n",
    "$B={b_1,...,b_n}$, k단계 후에 얻어진 집합은 $S_k$라고 한다.\n",
    "\n",
    "먼저, k=0인 경우, $S_0$은 S이고, V를 생성하고 S와 동일한 크기를 가진다.\n",
    "\n",
    "k=1,...,n에 대해 $A_k=\\{b_1,...,b_{k-1}\\}$라고 하자. $b_k\\cup A_k$는 일차 독립이므로, Exchage Lemma를 $A_k$와 $S_{k-1}$에 적용할 수 있따. $\\{b_k\\}\\cup (S_{k-1}-\\{w\\})$가 V가 생성하는 그러한 벡터 $w\\in S_{k-1}-A_k$가 있다. $S_k=\\{b_k\\}\\cup S_{k-1}-\\{w\\}$라고 정의하자. 그러면 $|S_k|=|S_{k-1}|$이고 $S_k$는 V를 생성하며 $S_k$는 $b_1,...,b_k$를 포함한다.\n"
   ]
  },
  {
   "cell_type": "markdown",
   "metadata": {},
   "source": [
    "# 7.2 차원과 랭크"
   ]
  },
  {
   "cell_type": "markdown",
   "metadata": {},
   "source": [
    "## 7.2.1 정의 및 예제"
   ]
  },
  {
   "cell_type": "markdown",
   "metadata": {},
   "source": [
    "### Definition 7.2.1\n",
    "벡터공간의 차원은 그 벡터공간에 대한 기저의 크기로 정의하자. 벡터공간 V의 차원은 dimV로 표현된다."
   ]
  },
  {
   "cell_type": "markdown",
   "metadata": {},
   "source": [
    "### Example 7.2.2\n",
    "$\\mathbb R^3$에 대한 하나의 기저는 표준기저 {[1,0,0],[0,1,0],[0,0,1]}이다. 그러므로 $\\mathbb R^3$의 차원은 3이다."
   ]
  },
  {
   "cell_type": "markdown",
   "metadata": {},
   "source": [
    "### Example 7.2.3\n",
    "임의의 필드 F와 유한집합 D에 대해, $F^D$에 대한 하나의 기저는 표준기저이고 이것은 |D|벡터들로 구성된다. 그러므로 $F^D$의 차원은 |D|이다."
   ]
  },
  {
   "cell_type": "markdown",
   "metadata": {},
   "source": [
    "### Example 7.2.4"
   ]
  },
  {
   "cell_type": "markdown",
   "metadata": {},
   "source": [
    "S={[-0.6,-2.1,-3.5,-2.2],[-1.3,1.5,-0.9,-0.5],[4.9,-3.7,0.5,-0.3],[2.6,-3.5,-1.2,-2.0],[-1.5,-2.5,-3.5,-0.94]}라고 하자. \n",
    "\n",
    "만약 S가 일차독립이라면 S는 SpanS에 대한 기저이고 그래서 dimSpanS는 S의 크기, 즉 5이다.\n",
    "만약 S가 일차독립인지 모른다면 Subset-Basis Lemma(Lemma 6.6.11)에 의하면 S는 기저인 부분집합을 포함한다. 그리고 기저의 최대 크기는 |S|이어야 한다. 그러므로 dimSpanS는 5보다 작거나 같아야 한다. S는 영이 아닌 벡터들을 포함하므로 SpanS도 영이 아닌 벡터를 포함한다. 그러므로 dimSpanS는 영보다 크다."
   ]
  },
  {
   "cell_type": "markdown",
   "metadata": {},
   "source": [
    "### Definition 7.2.5\n",
    "벡터들의 집합 S의 랭크(rank)를 SpanS의 차원이라고 정의하자. S의 랭크는 rankS로 나타낸다."
   ]
  },
  {
   "cell_type": "markdown",
   "metadata": {},
   "source": [
    "### Example 7.2.6 \n",
    "벡터 [1,0,0],[0,2,0],[2,4,0]은 일차 종속이다. 따라서 랭크는 3보다 작다. 이들 중 임의의 두 벡터는 세 벡터들의 생성에 대한 기저를 형성한다. 따라서 랭크는 2이다."
   ]
  },
  {
   "cell_type": "markdown",
   "metadata": {},
   "source": [
    "### Proposition 7.2.8\n",
    "벡터들로 구성된 임의의 집합 S에 대해, $rankS\\le|S|$이다."
   ]
  },
  {
   "cell_type": "markdown",
   "metadata": {},
   "source": [
    "### Definition 7.2.9\n",
    "행렬 M에 대해, M의 행랭크는 그 행렬의 행의 랭크이고 M의 열랭크는 그 행렬의 열의 랭크이다."
   ]
  },
  {
   "cell_type": "markdown",
   "metadata": {},
   "source": [
    "### Example 7.2.10\n",
    "$M=\\begin{bmatrix} 1 && 0 && 0 \\\\ 0 && 2 && 0 \\\\ 2 && 4 && 0 \\end{bmatrix}$\n",
    "\n",
    "M의 행랭크는 Example7.2.6과 같고 따라서 2이고, 열랭크 또한 2이다."
   ]
  },
  {
   "cell_type": "markdown",
   "metadata": {},
   "source": [
    "### Example 7.2.11\n",
    "$M=\\begin{bmatrix} 1 && 0 && 0 && 5 \\\\ 0 && 2 && 0 && 7\\\\ 0 && 0 && 3 && 9 \\end{bmatrix}$\n",
    "\n",
    "각 행은 하나의 영이 아닌 원소와 영인 다른 원솔르 가진다. 그래서, 세 행들은 일차독립이다. 따라서 M의 행랭크는 3이다.\n",
    "M의 열랭크는 처음 세 열의 선형결합으로 나타낼 수 있다. 따라서, 열랭크는 3이다."
   ]
  },
  {
   "cell_type": "markdown",
   "metadata": {},
   "source": [
    "### Example 7.2.12\n",
    "$M=\\begin{bmatrix} 1 && 0 && 3 \\\\ 0 && 4 && 0\\\\ 0 && 0 && 3 \\\\2 && 1 && 3\\end{bmatrix}$\n",
    "\n",
    "M의 행집합은 첫 세 벡터들은 일차독립으므로 행링크는 3이고, 열랭크 또한 3이다."
   ]
  },
  {
   "cell_type": "markdown",
   "metadata": {},
   "source": [
    "## 7.2.2 기하학적 구조"
   ]
  },
  {
   "cell_type": "markdown",
   "metadata": {},
   "source": [
    "기하학적 객체의 차원은 객체의 점들에 할당되어야 하는 최소 개수의 좌표이다. 좌표의 수는 기저의 크기이고, 기저의 크기는 주어진 벡터들로 구성된 집합의 랭크이다.\n",
    "- Span{[1,2,-2]}은 직선, 즉 1차원 객체이고 벡터공간은 차원이 1이다.\n",
    "- Span{[0,0,0]}은 점, 즉 1차원 구조이고 벡터공간은 차원이 0이다.\n",
    "- Span{[1,2],[3,4]}은 $\\mathbb R^2$의 모든 것, 2차원 객체를 구성하고, 벡터공간은 차원이 2이다.\n",
    "- Span{[1,3],[2,6]}은 직선, 즉 1차원 객체이고, 벡터공간은 차원이 1이다.\n",
    "- Span{[1,0,0],[0,1,0],[0,0,1]}은 $\\mathbb R^3$의 모든 것, 3차원 객체이고 벡터공간은 차원이 3이다.\n",
    "- Span{[1,0,0],[0,1,0],[1,1,0]}은 평면 즉 2차원 객체이고, 벡터공간은 차원이 2이다.\n"
   ]
  },
  {
   "cell_type": "markdown",
   "metadata": {},
   "source": [
    "## 7.2.3 그래프의 차원 및 랭크"
   ]
  },
  {
   "cell_type": "markdown",
   "metadata": {},
   "source": [
    "연결 서브그래프 T의 랭크는 T내 에지들의 양 끝점인 노드들의 수보다 하나 작다. 예를 들어, 하나의 에지로 구성된 집합은 랭크가 1이고, 사이클을 형성하는 세개의 에지로 구성된 집합은 랭크가 2이다."
   ]
  },
  {
   "cell_type": "markdown",
   "metadata": {},
   "source": [
    "## 7.2.4 GF(2)상의 벡터공간의 크기"
   ]
  },
  {
   "cell_type": "markdown",
   "metadata": {},
   "source": [
    "d는 V의 차원이라 하고 $b_1,...,b_d$는 V에 대한 기저라고 하자. Unique Representation Lemma에 의하면, V내의 각 벡터는 기저벡터들의 선형결합으로 유일하게 표현된다. d개 기저벡터가 있으므로, 각 선형결합에는 d개 계수가 있다. 각 계수는 0또는 1이 될 수 있다. 그러므로, $2^d$개의 다른 선형결합이 있다."
   ]
  },
  {
   "cell_type": "markdown",
   "metadata": {},
   "source": [
    "## 7.2.5 V에 속하는 벡터들의 임의의 일차독립 집합은 V에 대한 기저를 형성하도록 확장될 수 있다."
   ]
  },
  {
   "cell_type": "markdown",
   "metadata": {},
   "source": [
    "### 7.2.13 Superset-Basis Lemma\n",
    "임의의 벡터공간 V와 V에 속하는 벡터들로 구성된 임의의 일차독립 집합 A에 대해, V는 A의 모든 원소를 포함하는 기저를 가진다."
   ]
  },
  {
   "cell_type": "markdown",
   "metadata": {},
   "source": [
    "### Proof\n",
    "Grow 알고리즘 버전의 superset_basis가 종료된다는 어떻게 보여 줄 수 있을까? 어떤 필드 F와 어떤 집합 D에 대해, 벡터공간 V는 $F^D$내 벡터들로 구성되고 D는 유한하다고 가정한다. 그러므로, |D| 벡터들로 구성되는 $F^D$에 대한 표준기저가 있다.\n",
    "\n",
    "Morphing Lemma에 의하면, B는 $F^D$에 속하는 벡터들로 구성된 일차독립 집합이므로, B의 크기는 $F^D$에 대한 표준기저의 크기보다 작거나 동일하다."
   ]
  },
  {
   "cell_type": "markdown",
   "metadata": {},
   "source": [
    "## 7.6.2 차원 원리(Dimension principle)"
   ]
  },
  {
   "cell_type": "markdown",
   "metadata": {},
   "source": [
    "### Lemma 7.2.14 Dimension Principle\n",
    "만약 V가 W가 부분공간이면, 다음 성질이 성립한다.\n",
    "- Property D1: $dimV\\le dimW$\n",
    "- Property D2: 만약 $dimV=dimW$이면 $V=W$이다."
   ]
  },
  {
   "cell_type": "markdown",
   "metadata": {},
   "source": [
    "### Example 7.2.15\n",
    "$V=Span\\{[1,2],[2,1]\\}$라고 해 보자. 명백하게 V는 $\\mathbb R^2$의 부분공간이다. 하지만, 집합 $\\{[1,2],[2,1]\\}$은 일차독립이고 따라서 dimV=2이다. $dim\\mathbb R^2=2$이다. Property D1은 $V=\\mathbb R^2$임을 보여준다."
   ]
  },
  {
   "cell_type": "markdown",
   "metadata": {},
   "source": [
    "### Example 7.2.16\n",
    "S={[-0.6,-2.1,-3.5,-2.2],[-1.3,1.5,-0.9,-0.5],[4.9,-3.7,0.5,-0.3],[2.6,-3.5,-1.2,-2.0],[-1.5,-2.5,-3.5,-0.94]}에 대해 고려해 보았다. |S|=5이므로, $dimSapnS\\le 5$이다. S내의 모든 벡터는 4-벡터이므로, SpanS는 $\\mathbb R^4$의 부분공간이고 $dimSpanS\\le 4$이다."
   ]
  },
  {
   "cell_type": "markdown",
   "metadata": {},
   "source": [
    "### Proposition 7.2.17\n",
    "D-벡터들로 구성된 임의의 집합의 랭크는 |D|보다 작거나 같다."
   ]
  },
  {
   "cell_type": "markdown",
   "metadata": {},
   "source": [
    "## 7.2.7 Grow 알고리즘 종료"
   ]
  },
  {
   "cell_type": "markdown",
   "metadata": {},
   "source": [
    "### Lemma 7.2.18 Grow Algorithm Termination Lemma\n",
    "만약 dimV가 유한하다면 GROW(V)는 종료된다."
   ]
  },
  {
   "cell_type": "markdown",
   "metadata": {},
   "source": [
    "### Corollary 7.2.19\n",
    "유한한 D에 대해, $F^D$의 임의의 부분공간은 기저이다."
   ]
  },
  {
   "cell_type": "markdown",
   "metadata": {},
   "source": [
    "## 7.2.8 Rank 정리"
   ]
  },
  {
   "cell_type": "markdown",
   "metadata": {},
   "source": [
    "### Theorem 7.2.20 Rank Theorem\n",
    "임의의 행령에 대해, 행랭크는 열랭크와 동일하다"
   ]
  },
  {
   "cell_type": "markdown",
   "metadata": {},
   "source": [
    "### Definition 7.2.21 \n",
    "행렬의 랭크는 그 행렬의 영랭크와 동일하고, 이것은 또한 그 행렬의 행랭크와 동일하다."
   ]
  },
  {
   "cell_type": "markdown",
   "metadata": {},
   "source": [
    "## 7.2.9 간단한 인증 - 다시 보기"
   ]
  },
  {
   "cell_type": "markdown",
   "metadata": {},
   "source": [
    "- 패스워드는 GF(2)상의 n-벡터 $\\hat x$\n",
    "- 시도(Challenge): 컴퓨터는 랜덤 n-벡터 a를 전송한다.\n",
    "- 응답(Response): 사용자는 $a\\cdot \\hat x$을 보낸다."
   ]
  },
  {
   "cell_type": "markdown",
   "metadata": {},
   "source": [
    "이브는 통신을 감청하여 m개의 쌍 $a_1,b_1,...,a_m,b_m$을 알게 된다고 해보자. 이브는 Span{$a_1,...,a_m$}내의 임의의 시도에 대한 올바른 응답을 계산할 수 있다. $a=a_1\\alpha_1+...+a_m\\alpha_m$라고 하자. 그러면, 올바른 응답은 $\\alpha_1b_1+...+\\alpha_mb_m$이다.\n"
   ]
  },
  {
   "cell_type": "markdown",
   "metadata": {},
   "source": [
    "### Fact 7.2.22\n",
    "아마도 랭크 rank[$a_1,...,a_m$]은 min{m,n}보다 크게 작지는 않을 것이다."
   ]
  },
  {
   "cell_type": "markdown",
   "metadata": {},
   "source": [
    "확률이론을 사용하여 이것이 가능하다는 것을 보여 줄 수 있다."
   ]
  },
  {
   "cell_type": "code",
   "execution_count": 20,
   "metadata": {},
   "outputs": [
    {
     "data": {
      "text/plain": [
       "50"
      ]
     },
     "execution_count": 20,
     "metadata": {},
     "output_type": "execute_result"
    }
   ],
   "source": [
    "from vec import Vec\n",
    "from random import randint\n",
    "from GF2 import one\n",
    "\n",
    "def rand_GF2(): return one if randint(0,1)==1 else 0\n",
    "def rand_GF2_vec(D): return Vec(D, {d:rand_GF2() for d in D})\n",
    "\n",
    "D = set(range(100))\n",
    "L = [rand_GF2_vec(D) for i in range(50)]\n",
    "\n",
    "from independence import rank\n",
    "rank(L)"
   ]
  },
  {
   "cell_type": "markdown",
   "metadata": {},
   "source": [
    "일단 m>n이면, 아마도 Span{$a_1,...,a_m$}은 $GF(2)^n$이다. 감청한 m개의 쌍을 $Ax=b$로 나나탤 수 있고 $\\hat x$은 이 선형시스템에 해이다. $Ax=b$의 해집합은 $\\hat x+ Null A$이다. \n",
    "\n",
    "일단 rank A가 n이 되면, A의 열들은 일차독립이고, 그래서 Null A는 자명하다(trivial). 이것은 유일한 해는 패드워드 $\\hat x$임을 암시하며, 이브는 solver을 사용하여 패드워드를 계산할 수 있다."
   ]
  },
  {
   "cell_type": "markdown",
   "metadata": {},
   "source": [
    "# 7.3 직합(Direct sum)"
   ]
  },
  {
   "cell_type": "markdown",
   "metadata": {},
   "source": [
    "## 7.3.1 정의"
   ]
  },
  {
   "cell_type": "markdown",
   "metadata": {},
   "source": [
    "### Definition 7.3.1\n",
    "만약 U와 V가 단지 영벡터만을 공유한다면 U와 V와 직합(direct sum)은 아래 직합이라고 정의하면,\n",
    "$$\\{u+v: u\\in U,v\\in V\\}$$\n",
    "$U\\oplus V$로 나타낸다."
   ]
  },
  {
   "cell_type": "code",
   "execution_count": null,
   "metadata": {},
   "outputs": [],
   "source": [
    "{u+v for u in U for v in V}"
   ]
  },
  {
   "cell_type": "markdown",
   "metadata": {},
   "source": [
    "만약 U와 V가 영이 아닌 벡터를 공유하는 경우 직합을 형성하는 데 에러가 있다고 간주된다."
   ]
  },
  {
   "cell_type": "markdown",
   "metadata": {},
   "source": [
    "### Example 7.3.2\n",
    "GF(2)상의 U=Span{1000,0100}, V=Span{0010}라고 하자. \n",
    "\n",
    "그러므로 U와 V는 둘 모두에 있는 유일한 벡터는 영벡터이다. \n",
    "\n",
    "따라서, $U\\oplus V=\\{0000, 1000,0100,1100,0010,1010,0110\\}$이다."
   ]
  },
  {
   "cell_type": "markdown",
   "metadata": {},
   "source": [
    "### Example 7.3.3\n",
    "U=Span{[1,2,1,2],[3,0,0,4]}, V는 $\\begin{bmatrix} 0 && 1 && -2 && 0 \\\\ 1 && 0 && 0 && -1 \\end{bmatrix}$의 영공간이라 하자. 영벡터 이외에 [2,-2,-1,2] 벡터를 서로 공유하기 때문에 $U\\oplus V$는 형성될 수 없다. "
   ]
  },
  {
   "cell_type": "markdown",
   "metadata": {},
   "source": [
    "### Example 7.3.4\n",
    "U=Span{[4,-1,1]}, V=Span{[0,1,1]}라고 하자. U와 V 각각은 단일 벡터의 생성이고, 그래서 직선을 형성한다. 유일한 교점은 원점이다. 그래서, $U\\oplus V$는 정의된다. 이 직합은 Span{[4,-1,1],[0,1,1]}되며 두 개의 직선을 포함하는 평면이이다."
   ]
  },
  {
   "cell_type": "markdown",
   "metadata": {},
   "source": [
    "### Proposition 7.3.5\n",
    "직합 $U\\oplus V$은 벡터공간이다."
   ]
  },
  {
   "cell_type": "markdown",
   "metadata": {},
   "source": [
    "## 7.3.2 직합에 대한 생성자"
   ]
  },
  {
   "cell_type": "markdown",
   "metadata": {},
   "source": [
    "### Lemma 7.3.6\n",
    "아래 집합의 합집합은\n",
    "- V의 생성자 집합\n",
    "- W의 생성자 집합\n",
    "\n",
    "$V\\oplus W$에 대한 생성자 집합이다."
   ]
  },
  {
   "cell_type": "markdown",
   "metadata": {},
   "source": [
    "### Example 7.3.7\n",
    "U는 원점을 포함하는 평면을 구성하는 $\\mathbb R^3$내 점들의 집합이라 하고, V는 원점을 포함하는 직선을 구성하는 점들의 집합이라 하자. 이 직선이 평면상에 있지 않으면, 이 직선과 평면의 교점은 원점이다. 따라서 이들의 직합이 정의되며 그것은 $\\mathbb R^3$의 모든 점이다."
   ]
  },
  {
   "cell_type": "markdown",
   "metadata": {},
   "source": [
    "## 7.3.3 직합에 대한 기저"
   ]
  },
  {
   "cell_type": "markdown",
   "metadata": {},
   "source": [
    "### Lemma 7.3.8 Direct Sum Basis Lemma\n",
    "U의 기저와 V의 기저의 합집합은 $U\\oplus V$의 기저이다."
   ]
  },
  {
   "cell_type": "markdown",
   "metadata": {},
   "source": [
    "### Corollary 7.3.9 Direct Sum Dimension Corollary\n",
    "$dimV+dimU=dimU\\oplus V$"
   ]
  },
  {
   "cell_type": "markdown",
   "metadata": {},
   "source": [
    "## 7.3.4 벡터의 고유 분해(Unique decomposition)"
   ]
  },
  {
   "cell_type": "markdown",
   "metadata": {},
   "source": [
    "### Corollary 7.3.10 Direct-Sum Unique Representation Corollary\n",
    "$U\\oplus V$내 임의의 벡터는 u+v로 유일하게 표현되다. 여기서 $u\\in U, v\\in V$이다."
   ]
  },
  {
   "cell_type": "markdown",
   "metadata": {},
   "source": [
    "### 7.3.5 여부분 공간(Complementary subspace)"
   ]
  },
  {
   "cell_type": "markdown",
   "metadata": {},
   "source": [
    "### Definition 7.3.11\n",
    "만약 $U\\oplus V=W$이면, U와 V는 W의 여부분공간(complementary subspace)이라 한다."
   ]
  },
  {
   "cell_type": "markdown",
   "metadata": {},
   "source": [
    "### Example 7.3.12\n",
    "U는 $\\mathbb R^3$내의 평면이라 하자. 그러면, U와 원점을 지나며 U내에 놓여 있지 않은 임의의 직선은 $\\mathbb R^3$의 여부분공간이다. "
   ]
  },
  {
   "cell_type": "markdown",
   "metadata": {},
   "source": [
    "### Problem 7.3.13\n",
    "$(SpanS)\\oplus (SpanT)=\\mathbb R^3$을 만족하는 $\\mathbb R$상의 벡터들의 집합 T를 제시해 보자. 그리고, 일반 벡터 [x,y,z]을 $S\\cup T$내의 벡터들의 선형결합으로 어떻게 포현할 수 있는지 보여라.\n",
    "\n",
    "1. S={[2,1,2],[1,1,1]}\n",
    " - T={[1,0,0]}\n",
    " - [x,y,z]의 표준 기저벡터는 [T, 2S1-S0, S0-S1-T]\n",
    "2. S={[0,1,-1],[0,0,0]}\n",
    " - T={[1,0,0],[0,1,0]}\n",
    " - [x,y,z]의 표준 기저벡터는 [T0, T1, -S+T]"
   ]
  },
  {
   "cell_type": "markdown",
   "metadata": {},
   "source": [
    "### Problem 7.3.14\n",
    "$(SpanS)\\oplus (SpanT)=GF(2)^3$을 만족하는 GF(2)상의 벡터들의 집합 T를 제시해 보자. 그리고, 일반 벡터 [x,y,z]을 $S\\cup T$내의 벡터들의 선형결합으로 어떻게 포현할 수 있는지 보여라.\n",
    "\n",
    "1. S={[1,1,0],[0,1,1]}\n",
    " - T={[0,1,0]}\n",
    " - [x,y,z]의 표준 기저벡터는 [S0+T, T, S1+T]\n",
    "2. S={[1,1,1]}\n",
    " - T={[1,0,0],[0,1,0]}\n",
    " - [x,y,z]의 표준 기저벡터는 [T0, T1, S+T0+T1]"
   ]
  },
  {
   "cell_type": "markdown",
   "metadata": {},
   "source": [
    "### Proposition 7.3.15\n",
    "임의의 벡터공간 W와 W의 임의의 부분공간 U에 대해, $W=U\\oplus V$을 만족하는 W의 부분공간 V가 있다."
   ]
  }
 ],
 "metadata": {
  "kernelspec": {
   "display_name": "Python 3",
   "language": "python",
   "name": "python3"
  },
  "language_info": {
   "codemirror_mode": {
    "name": "ipython",
    "version": 3
   },
   "file_extension": ".py",
   "mimetype": "text/x-python",
   "name": "python",
   "nbconvert_exporter": "python",
   "pygments_lexer": "ipython3",
   "version": "3.6.0"
  }
 },
 "nbformat": 4,
 "nbformat_minor": 2
}
