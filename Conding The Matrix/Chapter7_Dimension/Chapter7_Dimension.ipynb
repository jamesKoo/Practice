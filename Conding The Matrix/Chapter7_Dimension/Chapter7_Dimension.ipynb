{
 "cells": [
  {
   "cell_type": "markdown",
   "metadata": {},
   "source": [
    "# Chapter 7 Dimesion"
   ]
  },
  {
   "cell_type": "markdown",
   "metadata": {},
   "source": [
    "기저에서 중용한 사실은 벡터공간에 대한 모든 기저는 동일한 크기를 가진다는 것이다."
   ]
  },
  {
   "cell_type": "markdown",
   "metadata": {},
   "source": [
    "# 7.1 기저의 크기"
   ]
  },
  {
   "cell_type": "markdown",
   "metadata": {},
   "source": [
    "## 7.1.1 Morphing 보조겅리와 그 응용"
   ]
  },
  {
   "cell_type": "markdown",
   "metadata": {},
   "source": [
    "### Lemma 7.1.1 Morphing Lemma\n",
    "V는 벡터공간이라 하자. S는 V에 대한 생정자들의 집합이라 하고 B는 V에 속하는 벡터들로 구성된 일착독립인 집합이라 하자. 그러면 $|S|\\ge|B|$이다."
   ]
  },
  {
   "cell_type": "markdown",
   "metadata": {},
   "source": [
    "### Theorm 7.1.2 Basis Theorem\n",
    "V는 벡터공간이라 하자. V에 대한 모든 기저는 동일한 크기를 가진다."
   ]
  },
  {
   "cell_type": "markdown",
   "metadata": {},
   "source": [
    "### Theorm 7.1.3 \n",
    "V는 벡터공간이라 하자. V에 대한 생성자들의 집합이 V에 대한 생성자들로 구성된 가장 작은 집합이이 되는 필요충분조건은 이 집합이 V에 대한 기저인 것이다."
   ]
  },
  {
   "cell_type": "markdown",
   "metadata": {},
   "source": [
    "### 7.1.2 Morphing 보조정리의 증명"
   ]
  },
  {
   "cell_type": "markdown",
   "metadata": {},
   "source": [
    "집합 S'은 여전히 V를 생성하고 S와 동일한 크기를 가지지만 B의 모든 원소들을 포함한다. 이것은 |S|가 적어도 |B|와 같다는 것을 보여준다. \n",
    "\n",
    "교환 Lemma와 귀납법을 통해 증명해보자.\n",
    "\n",
    "$B={b_1,...,b_n}$, k단계 후에 얻어진 집합은 $S_k$라고 한다.\n",
    "\n",
    "먼저, k=0인 경우, $S_0$은 S이고, V를 생성하고 S와 동일한 크기를 가진다.\n",
    "\n",
    "k=1,...,n에 대해 $A_k=\\{b_1,...,b_{k-1}\\}$라고 하자. $b_k\\cup A_k$는 일차 독립이므로, Exchage Lemma를 $A_k$와 $S_{k-1}$에 적용할 수 있따. $\\{b_k\\}\\cup (S_{k-1}-\\{w\\})$가 V가 생성하는 그러한 벡터 $w\\in S_{k-1}-A_k$가 있다. $S_k=\\{b_k\\}\\cup S_{k-1}-\\{w\\}$라고 정의하자. 그러면 $|S_k|=|S_{k-1}|$이고 $S_k$는 V를 생성하며 $S_k$는 $b_1,...,b_k$를 포함한다.\n"
   ]
  },
  {
   "cell_type": "markdown",
   "metadata": {},
   "source": [
    "# 7.2 차원과 랭크"
   ]
  },
  {
   "cell_type": "markdown",
   "metadata": {},
   "source": [
    "## 7.2.1 정의 및 예제"
   ]
  },
  {
   "cell_type": "markdown",
   "metadata": {},
   "source": [
    "### Definition 7.2.1\n",
    "벡터공간의 차원은 그 벡터공간에 대한 기저의 크기로 정의하자. 벡터공간 V의 차원은 dimV로 표현된다."
   ]
  },
  {
   "cell_type": "markdown",
   "metadata": {},
   "source": [
    "### Example 7.2.2\n",
    "$\\mathbb R^3$에 대한 하나의 기저는 표준기저 {[1,0,0],[0,1,0],[0,0,1]}이다. 그러므로 $\\mathbb R^3$의 차원은 3이다."
   ]
  },
  {
   "cell_type": "markdown",
   "metadata": {},
   "source": [
    "### Example 7.2.3\n",
    "임의의 필드 F와 유한집합 D에 대해, $F^D$에 대한 하나의 기저는 표준기저이고 이것은 |D|벡터들로 구성된다. 그러므로 $F^D$의 차원은 |D|이다."
   ]
  },
  {
   "cell_type": "markdown",
   "metadata": {},
   "source": [
    "### Example 7.2.4"
   ]
  },
  {
   "cell_type": "markdown",
   "metadata": {},
   "source": [
    "S={[-0.6,-2.1,-3.5,-2.2],[-1.3,1.5,-0.9,-0.5],[4.9,-3.7,0.5,-0.3],[2.6,-3.5,-1.2,-2.0],[-1.5,-2.5,-3.5,-0.94]}라고 하자. \n",
    "\n",
    "만약 S가 일차독립이라면 S는 SpanS에 대한 기저이고 그래서 dimSpanS는 S의 크기, 즉 5이다.\n",
    "만약 S가 일차독립인지 모른다면 Subset-Basis Lemma(Lemma 6.6.11)에 의하면 S는 기저인 부분집합을 포함한다. 그리고 기저의 최대 크기는 |S|이어야 한다. 그러므로 dimSpanS는 5보다 작거나 같아야 한다. S는 영이 아닌 벡터들을 포함하므로 SpanS도 영이 아닌 벡터를 포함한다. 그러므로 dimSpanS는 영보다 크다."
   ]
  },
  {
   "cell_type": "markdown",
   "metadata": {},
   "source": [
    "### Definition 7.2.5\n",
    "벡터들의 집합 S의 랭크(rank)를 SpanS의 차원이라고 정의하자. S의 랭크는 rankS로 나타낸다."
   ]
  },
  {
   "cell_type": "markdown",
   "metadata": {},
   "source": [
    "### Example 7.2.6 \n",
    "벡터 [1,0,0],[0,2,0],[2,4,0]은 일차 종속이다. 따라서 랭크는 3보다 작다. 이들 중 임의의 두 벡터는 세 벡터들의 생성에 대한 기저를 형성한다. 따라서 랭크는 2이다."
   ]
  },
  {
   "cell_type": "markdown",
   "metadata": {},
   "source": [
    "### Proposition 7.2.8\n",
    "벡터들로 구성된 임의의 집합 S에 대해, $rankS\\le|S|$이다."
   ]
  },
  {
   "cell_type": "markdown",
   "metadata": {},
   "source": [
    "### Definition 7.2.9\n",
    "행렬 M에 대해, M의 행랭크는 그 행렬의 행의 랭크이고 M의 열랭크는 그 행렬의 열의 랭크이다."
   ]
  },
  {
   "cell_type": "markdown",
   "metadata": {},
   "source": [
    "### Example 7.2.10\n",
    "$M=\\begin{bmatrix} 1 && 0 && 0 \\\\ 0 && 2 && 0 \\\\ 2 && 4 && 0 \\end{bmatrix}$\n",
    "\n",
    "M의 행랭크는 Example7.2.6과 같고 따라서 2이고, 열랭크 또한 2이다."
   ]
  },
  {
   "cell_type": "markdown",
   "metadata": {},
   "source": [
    "### Example 7.2.11\n",
    "$M=\\begin{bmatrix} 1 && 0 && 0 && 5 \\\\ 0 && 2 && 0 && 7\\\\ 0 && 0 && 3 && 9 \\end{bmatrix}$\n",
    "\n",
    "각 행은 하나의 영이 아닌 원소와 영인 다른 원솔르 가진다. 그래서, 세 행들은 일차독립이다. 따라서 M의 행랭크는 3이다.\n",
    "M의 열랭크는 처음 세 열의 선형결합으로 나타낼 수 있다. 따라서, 열랭크는 3이다."
   ]
  },
  {
   "cell_type": "markdown",
   "metadata": {},
   "source": [
    "### Example 7.2.12\n",
    "$M=\\begin{bmatrix} 1 && 0 && 3 \\\\ 0 && 4 && 0\\\\ 0 && 0 && 3 \\\\2 && 1 && 3\\end{bmatrix}$\n",
    "\n",
    "M의 행집합은 첫 세 벡터들은 일차독립으므로 행링크는 3이고, 열랭크 또한 3이다."
   ]
  },
  {
   "cell_type": "markdown",
   "metadata": {},
   "source": [
    "## 7.2.2 기하학적 구조"
   ]
  },
  {
   "cell_type": "markdown",
   "metadata": {},
   "source": [
    "기하학적 객체의 차원은 객체의 점들에 할당되어야 하는 최소 개수의 좌표이다. 좌표의 수는 기저의 크기이고, 기저의 크기는 주어진 벡터들로 구성된 집합의 랭크이다.\n",
    "- Span{[1,2,-2]}은 직선, 즉 1차원 객체이고 벡터공간은 차원이 1이다.\n",
    "- Span{[0,0,0]}은 점, 즉 1차원 구조이고 벡터공간은 차원이 0이다.\n",
    "- Span{[1,2],[3,4]}은 $\\mathbb R^2$의 모든 것, 2차원 객체를 구성하고, 벡터공간은 차원이 2이다.\n",
    "- Span{[1,3],[2,6]}은 직선, 즉 1차원 객체이고, 벡터공간은 차원이 1이다.\n",
    "- Span{[1,0,0],[0,1,0],[0,0,1]}은 $\\mathbb R^3$의 모든 것, 3차원 객체이고 벡터공간은 차원이 3이다.\n",
    "- Span{[1,0,0],[0,1,0],[1,1,0]}은 평면 즉 2차원 객체이고, 벡터공간은 차원이 2이다.\n"
   ]
  },
  {
   "cell_type": "markdown",
   "metadata": {},
   "source": [
    "## 7.2.3 그래프의 차원 및 랭크"
   ]
  },
  {
   "cell_type": "markdown",
   "metadata": {},
   "source": [
    "연결 서브그래프 T의 랭크는 T내 에지들의 양 끝점인 노드들의 수보다 하나 작다. 예를 들어, 하나의 에지로 구성된 집합은 랭크가 1이고, 사이클을 형성하는 세개의 에지로 구성된 집합은 랭크가 2이다."
   ]
  },
  {
   "cell_type": "markdown",
   "metadata": {},
   "source": [
    "## 7.2.4 GF(2)상의 벡터공간의 크기"
   ]
  },
  {
   "cell_type": "markdown",
   "metadata": {},
   "source": [
    "d는 V의 차원이라 하고 $b_1,...,b_d$는 V에 대한 기저라고 하자. Unique Representation Lemma에 의하면, V내의 각 벡터는 기저벡터들의 선형결합으로 유일하게 표현된다. d개 기저벡터가 있으므로, 각 선형결합에는 d개 계수가 있다. 각 계수는 0또는 1이 될 수 있다. 그러므로, $2^d$개의 다른 선형결합이 있다."
   ]
  },
  {
   "cell_type": "markdown",
   "metadata": {},
   "source": [
    "## 7.2.5 V에 속하는 벡터들의 임의의 일차독립 집합은 V에 대한 기저를 형성하도록 확장될 수 있다."
   ]
  },
  {
   "cell_type": "markdown",
   "metadata": {},
   "source": [
    "### 7.2.13 Superset-Basis Lemma\n",
    "임의의 벡터공간 V와 V에 속하는 벡터들로 구성된 임의의 일차독립 집합 A에 대해, V는 A의 모든 원소를 포함하는 기저를 가진다."
   ]
  },
  {
   "cell_type": "markdown",
   "metadata": {},
   "source": [
    "### Proof\n",
    "Grow 알고리즘 버전의 superset_basis가 종료된다는 어떻게 보여 줄 수 있을까? 어떤 필드 F와 어떤 집합 D에 대해, 벡터공간 V는 $F^D$내 벡터들로 구성되고 D는 유한하다고 가정한다. 그러므로, |D| 벡터들로 구성되는 $F^D$에 대한 표준기저가 있다.\n",
    "\n",
    "Morphing Lemma에 의하면, B는 $F^D$에 속하는 벡터들로 구성된 일차독립 집합이므로, B의 크기는 $F^D$에 대한 표준기저의 크기보다 작거나 동일하다."
   ]
  },
  {
   "cell_type": "markdown",
   "metadata": {},
   "source": [
    "## 7.6.2 차원 원리(Dimension principle)"
   ]
  },
  {
   "cell_type": "markdown",
   "metadata": {},
   "source": [
    "### Lemma 7.2.14 Dimension Principle\n",
    "만약 V가 W가 부분공간이면, 다음 성질이 성립한다.\n",
    "- Property D1: $dimV\\le dimW$\n",
    "- Property D2: 만약 $dimV=dimW$이면 $V=W$이다."
   ]
  },
  {
   "cell_type": "markdown",
   "metadata": {},
   "source": [
    "### Example 7.2.15\n",
    "$V=Span\\{[1,2],[2,1]\\}$라고 해 보자. 명백하게 V는 $\\mathbb R^2$의 부분공간이다. 하지만, 집합 $\\{[1,2],[2,1]\\}$은 일차독립이고 따라서 dimV=2이다. $dim\\mathbb R^2=2$이다. Property D1은 $V=\\mathbb R^2$임을 보여준다."
   ]
  },
  {
   "cell_type": "markdown",
   "metadata": {},
   "source": [
    "### Example 7.2.16\n",
    "S={[-0.6,-2.1,-3.5,-2.2],[-1.3,1.5,-0.9,-0.5],[4.9,-3.7,0.5,-0.3],[2.6,-3.5,-1.2,-2.0],[-1.5,-2.5,-3.5,-0.94]}에 대해 고려해 보았다. |S|=5이므로, $dimSapnS\\le 5$이다. S내의 모든 벡터는 4-벡터이므로, SpanS는 $\\mathbb R^4$의 부분공간이고 $dimSpanS\\le 4$이다."
   ]
  },
  {
   "cell_type": "markdown",
   "metadata": {},
   "source": [
    "### Proposition 7.2.17\n",
    "D-벡터들로 구성된 임의의 집합의 랭크는 |D|보다 작거나 같다."
   ]
  },
  {
   "cell_type": "markdown",
   "metadata": {},
   "source": [
    "## 7.2.7 Grow 알고리즘 종료"
   ]
  },
  {
   "cell_type": "markdown",
   "metadata": {},
   "source": [
    "### Lemma 7.2.18 Grow Algorithm Termination Lemma\n",
    "만약 dimV가 유한하다면 GROW(V)는 종료된다."
   ]
  },
  {
   "cell_type": "markdown",
   "metadata": {},
   "source": [
    "### Corollary 7.2.19\n",
    "유한한 D에 대해, $F^D$의 임의의 부분공간은 기저이다."
   ]
  },
  {
   "cell_type": "markdown",
   "metadata": {},
   "source": [
    "## 7.2.8 Rank 정리"
   ]
  },
  {
   "cell_type": "markdown",
   "metadata": {},
   "source": [
    "### Theorem 7.2.20 Rank Theorem\n",
    "임의의 행령에 대해, 행랭크는 열랭크와 동일하다"
   ]
  },
  {
   "cell_type": "markdown",
   "metadata": {},
   "source": [
    "### Definition 7.2.21 \n",
    "행렬의 랭크는 그 행렬의 열랭크와 동일하고, 이것은 또한 그 행렬의 행랭크와 동일하다."
   ]
  },
  {
   "cell_type": "markdown",
   "metadata": {},
   "source": [
    "## 7.2.9 간단한 인증 - 다시 보기"
   ]
  },
  {
   "cell_type": "markdown",
   "metadata": {},
   "source": [
    "- 패스워드는 GF(2)상의 n-벡터 $\\hat x$\n",
    "- 시도(Challenge): 컴퓨터는 랜덤 n-벡터 a를 전송한다.\n",
    "- 응답(Response): 사용자는 $a\\cdot \\hat x$을 보낸다."
   ]
  },
  {
   "cell_type": "markdown",
   "metadata": {},
   "source": [
    "이브는 통신을 감청하여 m개의 쌍 $a_1,b_1,...,a_m,b_m$을 알게 된다고 해보자. 이브는 Span{$a_1,...,a_m$}내의 임의의 시도에 대한 올바른 응답을 계산할 수 있다. $a=a_1\\alpha_1+...+a_m\\alpha_m$라고 하자. 그러면, 올바른 응답은 $\\alpha_1b_1+...+\\alpha_mb_m$이다.\n"
   ]
  },
  {
   "cell_type": "markdown",
   "metadata": {},
   "source": [
    "### Fact 7.2.22\n",
    "아마도 랭크 rank[$a_1,...,a_m$]은 min{m,n}보다 크게 작지는 않을 것이다."
   ]
  },
  {
   "cell_type": "markdown",
   "metadata": {},
   "source": [
    "확률이론을 사용하여 이것이 가능하다는 것을 보여 줄 수 있다."
   ]
  },
  {
   "cell_type": "code",
   "execution_count": 20,
   "metadata": {},
   "outputs": [
    {
     "data": {
      "text/plain": [
       "50"
      ]
     },
     "execution_count": 20,
     "metadata": {},
     "output_type": "execute_result"
    }
   ],
   "source": [
    "from vec import Vec\n",
    "from random import randint\n",
    "from GF2 import one\n",
    "\n",
    "def rand_GF2(): return one if randint(0,1)==1 else 0\n",
    "def rand_GF2_vec(D): return Vec(D, {d:rand_GF2() for d in D})\n",
    "\n",
    "D = set(range(100))\n",
    "L = [rand_GF2_vec(D) for i in range(50)]\n",
    "\n",
    "from independence import rank\n",
    "rank(L)"
   ]
  },
  {
   "cell_type": "markdown",
   "metadata": {},
   "source": [
    "일단 m>n이면, 아마도 Span{$a_1,...,a_m$}은 $GF(2)^n$이다. 감청한 m개의 쌍을 $Ax=b$로 나나탤 수 있고 $\\hat x$은 이 선형시스템에 해이다. $Ax=b$의 해집합은 $\\hat x+ Null A$이다. \n",
    "\n",
    "일단 rank A가 n이 되면, A의 열들은 일차독립이고, 그래서 Null A는 자명하다(trivial). 이것은 유일한 해는 패드워드 $\\hat x$임을 암시하며, 이브는 solver을 사용하여 패드워드를 계산할 수 있다."
   ]
  },
  {
   "cell_type": "markdown",
   "metadata": {},
   "source": [
    "# 7.3 직합(Direct sum)"
   ]
  },
  {
   "cell_type": "markdown",
   "metadata": {},
   "source": [
    "## 7.3.1 정의"
   ]
  },
  {
   "cell_type": "markdown",
   "metadata": {},
   "source": [
    "### Definition 7.3.1\n",
    "만약 U와 V가 단지 영벡터만을 공유한다면 U와 V와 직합(direct sum)은 아래 직합이라고 정의하면,\n",
    "$$\\{u+v: u\\in U,v\\in V\\}$$\n",
    "$U\\oplus V$로 나타낸다."
   ]
  },
  {
   "cell_type": "code",
   "execution_count": null,
   "metadata": {},
   "outputs": [],
   "source": [
    "{u+v for u in U for v in V}"
   ]
  },
  {
   "cell_type": "markdown",
   "metadata": {},
   "source": [
    "만약 U와 V가 영이 아닌 벡터를 공유하는 경우 직합을 형성하는 데 에러가 있다고 간주된다."
   ]
  },
  {
   "cell_type": "markdown",
   "metadata": {},
   "source": [
    "### Example 7.3.2\n",
    "GF(2)상의 U=Span{1000,0100}, V=Span{0010}라고 하자. \n",
    "\n",
    "그러므로 U와 V는 둘 모두에 있는 유일한 벡터는 영벡터이다. \n",
    "\n",
    "따라서, $U\\oplus V=\\{0000, 1000,0100,1100,0010,1010,0110\\}$이다."
   ]
  },
  {
   "cell_type": "markdown",
   "metadata": {},
   "source": [
    "### Example 7.3.3\n",
    "U=Span{[1,2,1,2],[3,0,0,4]}, V는 $\\begin{bmatrix} 0 && 1 && -2 && 0 \\\\ 1 && 0 && 0 && -1 \\end{bmatrix}$의 영공간이라 하자. 영벡터 이외에 [2,-2,-1,2] 벡터를 서로 공유하기 때문에 $U\\oplus V$는 형성될 수 없다. "
   ]
  },
  {
   "cell_type": "markdown",
   "metadata": {},
   "source": [
    "### Example 7.3.4\n",
    "U=Span{[4,-1,1]}, V=Span{[0,1,1]}라고 하자. U와 V 각각은 단일 벡터의 생성이고, 그래서 직선을 형성한다. 유일한 교점은 원점이다. 그래서, $U\\oplus V$는 정의된다. 이 직합은 Span{[4,-1,1],[0,1,1]}되며 두 개의 직선을 포함하는 평면이이다."
   ]
  },
  {
   "cell_type": "markdown",
   "metadata": {},
   "source": [
    "### Proposition 7.3.5\n",
    "직합 $U\\oplus V$은 벡터공간이다."
   ]
  },
  {
   "cell_type": "markdown",
   "metadata": {},
   "source": [
    "## 7.3.2 직합에 대한 생성자"
   ]
  },
  {
   "cell_type": "markdown",
   "metadata": {},
   "source": [
    "### Lemma 7.3.6\n",
    "아래 집합의 합집합은\n",
    "- V의 생성자 집합\n",
    "- W의 생성자 집합\n",
    "\n",
    "$V\\oplus W$에 대한 생성자 집합이다."
   ]
  },
  {
   "cell_type": "markdown",
   "metadata": {},
   "source": [
    "### Example 7.3.7\n",
    "U는 원점을 포함하는 평면을 구성하는 $\\mathbb R^3$내 점들의 집합이라 하고, V는 원점을 포함하는 직선을 구성하는 점들의 집합이라 하자. 이 직선이 평면상에 있지 않으면, 이 직선과 평면의 교점은 원점이다. 따라서 이들의 직합이 정의되며 그것은 $\\mathbb R^3$의 모든 점이다."
   ]
  },
  {
   "cell_type": "markdown",
   "metadata": {},
   "source": [
    "## 7.3.3 직합에 대한 기저"
   ]
  },
  {
   "cell_type": "markdown",
   "metadata": {},
   "source": [
    "### Lemma 7.3.8 Direct Sum Basis Lemma\n",
    "U의 기저와 V의 기저의 합집합은 $U\\oplus V$의 기저이다."
   ]
  },
  {
   "cell_type": "markdown",
   "metadata": {},
   "source": [
    "### Corollary 7.3.9 Direct Sum Dimension Corollary\n",
    "$dimV+dimU=dimU\\oplus V$"
   ]
  },
  {
   "cell_type": "markdown",
   "metadata": {},
   "source": [
    "## 7.3.4 벡터의 고유 분해(Unique decomposition)"
   ]
  },
  {
   "cell_type": "markdown",
   "metadata": {},
   "source": [
    "### Corollary 7.3.10 Direct-Sum Unique Representation Corollary\n",
    "$U\\oplus V$내 임의의 벡터는 u+v로 유일하게 표현되다. 여기서 $u\\in U, v\\in V$이다."
   ]
  },
  {
   "cell_type": "markdown",
   "metadata": {},
   "source": [
    "### 7.3.5 여부분 공간(Complementary subspace)"
   ]
  },
  {
   "cell_type": "markdown",
   "metadata": {},
   "source": [
    "### Definition 7.3.11\n",
    "만약 $U\\oplus V=W$이면, U와 V는 W의 여부분공간(complementary subspace)이라 한다."
   ]
  },
  {
   "cell_type": "markdown",
   "metadata": {},
   "source": [
    "### Example 7.3.12\n",
    "U는 $\\mathbb R^3$내의 평면이라 하자. 그러면, U와 원점을 지나며 U내에 놓여 있지 않은 임의의 직선은 $\\mathbb R^3$의 여부분공간이다. "
   ]
  },
  {
   "cell_type": "markdown",
   "metadata": {},
   "source": [
    "### Problem 7.3.13\n",
    "$(SpanS)\\oplus (SpanT)=\\mathbb R^3$을 만족하는 $\\mathbb R$상의 벡터들의 집합 T를 제시해 보자. 그리고, 일반 벡터 [x,y,z]을 $S\\cup T$내의 벡터들의 선형결합으로 어떻게 포현할 수 있는지 보여라.\n",
    "\n",
    "1. S={[2,1,2],[1,1,1]}\n",
    " - T={[1,0,0]}\n",
    " - [x,y,z]의 표준 기저벡터는 [T, 2S1-S0, S0-S1-T]\n",
    "2. S={[0,1,-1],[0,0,0]}\n",
    " - T={[1,0,0],[0,1,0]}\n",
    " - [x,y,z]의 표준 기저벡터는 [T0, T1, -S+T]"
   ]
  },
  {
   "cell_type": "markdown",
   "metadata": {},
   "source": [
    "### Problem 7.3.14\n",
    "$(SpanS)\\oplus (SpanT)=GF(2)^3$을 만족하는 GF(2)상의 벡터들의 집합 T를 제시해 보자. 그리고, 일반 벡터 [x,y,z]을 $S\\cup T$내의 벡터들의 선형결합으로 어떻게 포현할 수 있는지 보여라.\n",
    "\n",
    "1. S={[1,1,0],[0,1,1]}\n",
    " - T={[0,1,0]}\n",
    " - [x,y,z]의 표준 기저벡터는 [S0+T, T, S1+T]\n",
    "2. S={[1,1,1]}\n",
    " - T={[1,0,0],[0,1,0]}\n",
    " - [x,y,z]의 표준 기저벡터는 [T0, T1, S+T0+T1]"
   ]
  },
  {
   "cell_type": "markdown",
   "metadata": {},
   "source": [
    "### Proposition 7.3.15\n",
    "임의의 벡터공간 W와 W의 임의의 부분공간 U에 대해, $W=U\\oplus V$을 만족하는 W의 부분공간 V가 있다."
   ]
  },
  {
   "cell_type": "markdown",
   "metadata": {},
   "source": [
    "# 7.4 차원과 선형함수"
   ]
  },
  {
   "cell_type": "markdown",
   "metadata": {},
   "source": [
    "## 7.4.1 선형함수의 가역성"
   ]
  },
  {
   "cell_type": "markdown",
   "metadata": {},
   "source": [
    "선형함수 $f:V\\rightarrow W$가 가역적일 필요충분조건은 전단사(one-to-one, onto) 함수이다.\n",
    "\n",
    "One-to-One Lemma(Leamma 5.10.16)에 의하면, f가 단사함수일 필요충분족건은 그 커널(kernel)이 자명한 경우이다.\n",
    "\n",
    "f의 이미지는 $Imf=\\{f(v):v\\in V\\}$이다. 따라서, f가 전사함수일 필요충분조건은 Imf=W인 경우이다. Dimension Principle(Lemma 7.2.14)에 의하면, f가 전사함수일 필요충분조건은 $dimImf=dimW$이다.\n",
    "\n",
    "선형함수 $f:U\\rightarrow W$는 만약 dimKerf=0이고 dimImf=dimW이면 가역적인다."
   ]
  },
  {
   "cell_type": "markdown",
   "metadata": {},
   "source": [
    "## 7.4.2 가장 큰 가역적인 서브함수(Subfunction)"
   ]
  },
  {
   "cell_type": "markdown",
   "metadata": {},
   "source": [
    "- $f:V\\rightarrow W$는 반드시 가역적이지는 않는 선형함수라 하자.\n",
    "- $f^*:V^*\\rightarrow W^*$를 서브함수로 정의해 보자.\n",
    " - $V^*$은 $V$의 부분집합이고 $W*$은 $W$의 부분집합이며 $f^*$는 $V^*$내에 f와 동일하다는 것을 의미한다.\n",
    "- 가역적인 서브함수를 선택해 보자.\n",
    "  - 전사함수: $W^*$가 f의 상, 즉 정의역 원소들의 상인 W의 원소들이 되게 정의한다. $w_1,...,w_r은 W^*$에 대한 기저라고 하자.\n",
    "  - 단사함수: $v_1,...,v_r$은 $w_1,...w_r$의 원상(pre-image)이라고 하자. $f(v_1)=w_1,...f(v_r)=w_r$을 만족하는 V내의 임의의 벡터들 $v_1,...v_r$이고 $V^*$는 Span{v_1,...v_r}라고 정의하자."
   ]
  },
  {
   "cell_type": "markdown",
   "metadata": {},
   "source": [
    "### Lemma 7.4.1\n",
    "$f^*$은 전사함수이다."
   ]
  },
  {
   "cell_type": "markdown",
   "metadata": {},
   "source": [
    "### Lemma 7.4.2\n",
    "$f^*$은 단사함수이다."
   ]
  },
  {
   "cell_type": "markdown",
   "metadata": {},
   "source": [
    "### Lemma 7.4.3\n",
    "$v_1,...,v_r$는 $V^*$에 대한 기저를 형성한다."
   ]
  },
  {
   "cell_type": "markdown",
   "metadata": {},
   "source": [
    "### Example 7.4.4\n",
    "A=$\\begin{bmatrix} 1 && 2 && 1  \\\\ 2 && 1 && 1 \\\\ 1 && 2 && 1 \\end{bmatrix}$이라 하고, $f:\\mathbb R^3\\rightarrow \\mathbb R^3$은 $f(x)=Ax$라고 정의하자.\n",
    "\n",
    "$W^*=Imf=Col A=Span\\{[1,2,1],[2,1,2],[1,1,1]\\}$이라 정의하자. $W^*$에 대한 기저는 하나의 기저는 $w_1=[0,1,0], w_2=[1,0,1]$이다.\n",
    "\n",
    "$Av_1=w_1, Av_2=w_2$에 대해 선택된 원상을 $v_1,v_2$라 하자.  $V^*=Span\\{v_1,v_2\\}$라고 하자.\n",
    "\n",
    "그러면, $f^*:V^*\\rightarrow Imf$은 전단수 함수이다."
   ]
  },
  {
   "cell_type": "markdown",
   "metadata": {},
   "source": [
    "## 7.4.3 Kernel-Image 정리"
   ]
  },
  {
   "cell_type": "markdown",
   "metadata": {},
   "source": [
    "### Lemma 7.4.5 \n",
    "$V=Ker f\\oplus V^*$"
   ]
  },
  {
   "cell_type": "markdown",
   "metadata": {},
   "source": [
    "### Example 7.4.6\n",
    "A=$\\begin{bmatrix} 1 && 2 && 1  \\\\ 2 && 1 && 1 \\\\ 1 && 2 && 1 \\end{bmatrix}$이라 하고, $f:\\mathbb R^3\\rightarrow \\mathbb R^3$은 $f(x)=Ax$라고 정의하자.  $V^*=Span\\{v_1,v_2\\}$라고 하자.\n",
    "\n",
    "f의 커널은 Span{[1,1,-3]}이다. 그러므로 V=(Span{[1,1,-3]})$\\oplus$(Span{$v_1,v_2$})이다."
   ]
  },
  {
   "cell_type": "markdown",
   "metadata": {},
   "source": [
    "### Theorem 7.4.7 Kernel-Image Theorem\n",
    "임의의 선형함수 $f:V\\rightarrow W$에 대해, \n",
    "\n",
    "$dimKerf+dimImf=dimV$"
   ]
  },
  {
   "cell_type": "markdown",
   "metadata": {},
   "source": [
    "## 7.4.4 선형함수의 가역성 - 다시 보기"
   ]
  },
  {
   "cell_type": "markdown",
   "metadata": {},
   "source": [
    "### Theorem 7.4.8 Linear-Function Invertibility Theorem\n",
    "$f:V\\rightarrow W$는 선형함수라고 하자. 그러면, f가 가역적일 필요충분조건은 $dimKerf=0$이고, $dimV=dimW$이다."
   ]
  },
  {
   "cell_type": "markdown",
   "metadata": {},
   "source": [
    "## 7.4.5 Rank-Nullity 정리"
   ]
  },
  {
   "cell_type": "markdown",
   "metadata": {},
   "source": [
    "RxC행렬 A에 대해, $f:F^C\\rightarrow F^R$을 f(x)=Ax에 의해 정의하자.\n",
    "\n",
    "Kernel-Image Theorem에 의하면, $dimF^C=dimKerf+dimImf$이다. \n",
    "\n",
    "다시 다음과 같이 표현할 수 있다. \n",
    "\n",
    "$dimF^C=dimNullA+dimColA$\n",
    "\n",
    "$F^C$의 차원은 |C|, 즉 A의 열의 개수, A의 열공간은 차원은 A의 랭크라고 한다.\n",
    "\n",
    "행렬 A의 영공간의 차원은 A의 *nullity*라고 한다."
   ]
  },
  {
   "cell_type": "markdown",
   "metadata": {},
   "source": [
    "### Theorem 7.4.9 Rank-Nullity Theorem\n",
    "임의의 n-열 행렬 A에 대해,\n",
    "\n",
    "$rank A + nullityA=n$"
   ]
  },
  {
   "cell_type": "markdown",
   "metadata": {},
   "source": [
    "## 7.4.6 체크섬(Checksum)문제 - 다시 보기"
   ]
  },
  {
   "cell_type": "markdown",
   "metadata": {},
   "source": [
    "간단한 체크섬 함수는 GF(2)상의 n-벡터들을 GF(2)상의 64-벡터들로 매핑한다.\n",
    "\n",
    "$x\\mapsto [a_1\\cdot x, ..., a_{64}\\cdot x]$\n",
    "\n",
    "원래의 파일은 n-벡터 p, 전송 에러는 n-벡터 e로 나타낸다. 그래서 에러가 있는 파일은 p+e이다.\n",
    "\n",
    "$Probability(p+e가 p와 동일한 체크섬을 가진다)=\\frac{2^{dimV}}{2^n}$\n",
    "\n",
    "여기서, V는 다음 행렬의 영공간이다. A=$\\begin{bmatrix} a_1   \\\\ ... \\\\ a_{64}\\end{bmatrix}$\n",
    "\n",
    "Fact 7.2.22에 의하면, (n>64라고 가정할 경우) 아마도 $rankA=64$일 것이다.\n",
    "\n",
    "Rank-Nullity Theorem에 의하면,\n",
    "\n",
    "$rankA+nullityA=n$\n",
    "\n",
    "$64+dimV=n$\n",
    "\n",
    "$dimV=n-64$\n",
    "\n",
    "그러므로, $Probability=\\frac{2^{n-64}}{2^n}=\\frac{1}{2^{64}}$로 에러가 발견되지 않을 확률은 아주 작다."
   ]
  },
  {
   "cell_type": "markdown",
   "metadata": {},
   "source": [
    "## 7.4.7 행렬의 가역성"
   ]
  },
  {
   "cell_type": "markdown",
   "metadata": {},
   "source": [
    "### Corollary 7.4.10 \n",
    "A는 RxC행렬이라 하자. 그러면, A가 가역적이 될 필요충분조건은 |R|=|C|이고, A의 열들은 일차독립이다."
   ]
  },
  {
   "cell_type": "markdown",
   "metadata": {},
   "source": [
    "### Corollary 7.4.11\n",
    "가역행렬의 전치행렬은 가역적이다."
   ]
  },
  {
   "cell_type": "markdown",
   "metadata": {},
   "source": [
    "### Corollary 7.4.12\n",
    "A와 B는 정방행렬이고 BA는 단위행렬이라고 해 보자. 그러면, A와 B는 서로의 역행렬이다."
   ]
  },
  {
   "cell_type": "markdown",
   "metadata": {},
   "source": [
    "### Example 7.4.13\n",
    "$\\begin{bmatrix} 1 && 2 && 3  \\\\ 4 && 5 && 6\\end{bmatrix}$은 정방행렬이 아니다. 따라서, 이행렬은 가젹적일 수 없다."
   ]
  },
  {
   "cell_type": "markdown",
   "metadata": {},
   "source": [
    "### Example 7.4.14\n",
    "A=$\\begin{bmatrix} 1 && 2 \\\\ 3 && 4  \\end{bmatrix}$은 정방행렬이고 그 열들은 일차독립이다. 따라서, 이 행렬은 가역적이다."
   ]
  },
  {
   "cell_type": "markdown",
   "metadata": {},
   "source": [
    "### Example 7.4.15\n",
    "A=$\\begin{bmatrix} 1 && 1 && 2  \\\\ 2 && 1 && 3 \\\\ 3 && 1 && 4 \\end{bmatrix}$은 정방행렬이지만, 그 열들이 일차독립이 아니다. 따라서, 이 행렬은 가역적이지 않다."
   ]
  },
  {
   "cell_type": "markdown",
   "metadata": {},
   "source": [
    "## 7.4.8 행렬의 가역성과 기저 변경"
   ]
  },
  {
   "cell_type": "markdown",
   "metadata": {},
   "source": [
    "섹션 6.8에서 보았듯이, 동일한 공간의 기저 $a_1,...,a_n$과 $b_1,...,b_m$에 대해 m x n 행렬 C가 존재하며, 이 행렬을 곱하면, $a_1,...,a_n$에 대한 좌표표현이 $b_1,...,b_m$에 대한 좌표표현으로 변환된다. 행렬 C는 가역적이다. 따라서 C는 사실상 정방행렬이다."
   ]
  },
  {
   "cell_type": "markdown",
   "metadata": {},
   "source": [
    "# 7.5 소멸자(Annihilator)"
   ]
  },
  {
   "cell_type": "markdown",
   "metadata": {},
   "source": [
    "벡터 공간의 표현들\n",
    "- 벡터들로 구성된 유한집합의 생성\n",
    "- 동차 선형시스템의 해집합\n",
    "\n",
    "아핀공간의 표현들\n",
    "- 벡터들로 구성된 유한집합의 아핀 hull\n",
    "- 선형시스템의 해집합"
   ]
  },
  {
   "cell_type": "markdown",
   "metadata": {},
   "source": [
    "## 7.5.1 표현 변환"
   ]
  },
  {
   "cell_type": "markdown",
   "metadata": {},
   "source": [
    "- Conversion Problem 1\n",
    " - 주어진 동차 선형시스템 Ax=0에 대해, 벡터 $w_1, ..., w_k$를 찾아보자. 이 벡터들의 생성은 이 시스템의 해집합이다.\n",
    "- Conversion Problem 2\n",
    " - 주어진 벡터들 $w_1,...,w_k$에 대해, 동차 선형시스템 Ax=0을 찾아보자. 이 시스템의 해집합은 $Span=\\{w_1,...,w_k\\}$와 동일하다.\n",
    "- Conversion Problem 3\n",
    " - 주어진 선형시스템 Ax=b에 대해, 벡터 $u_1,...,u_k$를 찾아보자. 이 벡터들의 아핀 hull은 그 시스템의 해집합이다(만약 그 해집합이 공집합이 아닌 경우).\n",
    "- Conversion Problem 4\n",
    " - 주어진 벡터들 $w_1,...,w_k$에 대해, 선형시스템 Ax=0을 찾아보자. 이 시스템의 해집합은 {$w_1,...,w_k$}의 아핀 hull과 동일하다."
   ]
  },
  {
   "cell_type": "markdown",
   "metadata": {},
   "source": [
    "### Example 7.5.1 \n",
    "평면 $\\{[x,y,z]\\in\\mathbb R^3:[4,-1,1]\\cdot[x,y,z]=0\\}$이 주어진다.\n",
    "- Conversion Problem 1에 대한 알고리즘에 의하면 이 평면은 또한 Span{[1,2,-2],[0,1,1]}으로 표현될 수 있다."
   ]
  },
  {
   "cell_type": "markdown",
   "metadata": {},
   "source": [
    "### Example 7.5.2\n",
    "직선 $\\{[x,y,z]\\in\\mathbb R^3:[1,2,-2]\\cdot[x,y,z]=0, [0,1,1]\\cdot [x,y,z]=0\\}$이 주어진다.\n",
    "- Conversion Problem 1에 대한 알고리즘에 의하면 이 직선은 또한 Span{[4,-1,1]}으로 표현될 수 있다."
   ]
  },
  {
   "cell_type": "markdown",
   "metadata": {},
   "source": [
    "### Example 7.5.3\n",
    "평면 Span{[1,2,-2,],[0,1,1]}이 주어진다. \n",
    "- Conversion Problem 2에 대한 알고리즘에 의하면 이 평면 또한 $\\{[x,y,z]\\in\\mathbb R^3:[4,-1,1]\\cdot[x,y,z]=0\\}$로 표현될 수 있다."
   ]
  },
  {
   "cell_type": "markdown",
   "metadata": {},
   "source": [
    "### Example 7.5.4\n",
    "직선 Span{[4,-1,1]}이 주어진다.\n",
    "- Conversion Problem 2에 대한 알고리즘에 의하면 이 직선은 또한 $\\{[x,y,z]\\in\\mathbb R^3:[1,2,-2]\\cdot[x,y,z]=0, [0,1,1]\\cdot [x,y,z]=0\\}$로 표현될 수 있다."
   ]
  },
  {
   "cell_type": "markdown",
   "metadata": {},
   "source": [
    "### Example 7.6.5\n",
    "직선은 $\\{[x,y,z]\\in\\mathbb R^3:[5,2,4]\\cdot[x,y,z]=13, [0,2,-1]\\cdot [x,y,z]=3\\}$으로 주어진다.\n",
    "- Conversion Problem 3에 대한 알고리즘에 의하면 이 직선은 [3,1,-1],[1,2,1]의 아핀 hull이다."
   ]
  },
  {
   "cell_type": "markdown",
   "metadata": {},
   "source": [
    "### Example 7.6.6\n",
    "섹션 4.5.5에서는 빛과 삼각형이 교차하는 점을 어떻게 찾는지 보여 줌으로써 여러 가지 표현이 사용되는 것을 보여 주었다. 하나의 중요한 단계는 삼각형의 주어진 꼭지점들에 대해 이 삼각형을 포함하는 평면에 대해 이 삼각형을 포함하는 평면에 대한 방정식을 찾는 것이다. 꼭지점들은 [1,1,1],[2,2,3],[-1,3,0]이다.\n",
    "- 삼각형을 포함하는 평면은 꼭지점들의 아핀 hull이다. Conversion Problem 4에 대한 알고리즘에 의하면 이 평면은 $[5,3,-4]\\cdot [x,y,z]=4$의 해집합이다."
   ]
  },
  {
   "cell_type": "markdown",
   "metadata": {},
   "source": [
    "## 7.5.2 벡터공간의 소멸자"
   ]
  },
  {
   "cell_type": "markdown",
   "metadata": {},
   "source": [
    "### Definition 7.5.7\n",
    "$F^n$의 부분공간 V에 대해, V의 소멸자는 $V^0$로 표현되고 다음과 같다.\n",
    "\n",
    "$V^0=\\{u\\in F^n:u\\cdot v=0, 모든 벡터 v\\in V에 대해 \\}$"
   ]
  },
  {
   "cell_type": "markdown",
   "metadata": {},
   "source": [
    "### Lemma 7.5.8\n",
    "$a_1,...,a_m$은 V에 대한 생성자들이라 하고, 행렬 A는 다음과 같다고 하자.\n",
    "\n",
    "A=$\\begin{bmatrix} a_1  \\\\ ... \\\\ a_n \\end{bmatrix}$\n",
    "\n",
    "그러면, $V^0=NullA$이다."
   ]
  },
  {
   "cell_type": "markdown",
   "metadata": {},
   "source": [
    "### Example 7.5.9 example over $\\mathbb R$\n",
    "V=Span{[1,0,1],[0,1,0]}라 하자. \n",
    "- $V^0=Span\\{[1,0,-1]\\}$임을 보여주자.\n",
    "\n",
    "이 경우 $dimV=2$이고, $dimV^0=1$이다. 따라서,\n",
    "- $dimV+dimV^0=3$이다."
   ]
  },
  {
   "cell_type": "markdown",
   "metadata": {},
   "source": [
    "### Example 7.5.10 example over GF(2)\n",
    "V=span{[1,0,1],[0,1,0]}라 하자.\n",
    "- $V^0=Span\\{[1,0,1]\\}$임을 보여주다\n",
    "\n",
    "이 경우 $dimV=2$이고, $dimV^0=1$이다. 따라서,\n",
    "- $dimV+dimV^0=3$이다."
   ]
  },
  {
   "cell_type": "markdown",
   "metadata": {},
   "source": [
    "### Example 7.5.11 Example over $\\mathbb R$\n",
    "V=Span{[1,0,1,0],[0,1,0,1]]}라 하자.\n",
    "- $V^0=Span\\{[1,0,-1,0],[0,1,0,-1]\\}$임을 보여 줄 수 있다.\n",
    "\n",
    "이 경우 $dimV=2$이고, $dimV^0=2$이다. 따라서,\n",
    "- $dimV+dimV^0=4$이다."
   ]
  },
  {
   "cell_type": "markdown",
   "metadata": {},
   "source": [
    "### Remark 7.5.12\n",
    "섹션 4.4.4에서 제시된 선형대수갛에 대한 전통적이고 추상적인 접근방식에서 소멸자는 다르게 정의되지만 여기서 사용하는 정의와 일관성이 있다."
   ]
  },
  {
   "cell_type": "markdown",
   "metadata": {},
   "source": [
    "## 7.5.3 Annihilator Dimension 정리"
   ]
  },
  {
   "cell_type": "markdown",
   "metadata": {},
   "source": [
    "### Theorem 7.5.13 Annihilator Dimension Theorem\n",
    "만약 V와 $V^0$가 $F^n$의 부분공간이면, 다음이 성립한다.\n",
    "\n",
    "$dimV+dimV^0=n$"
   ]
  },
  {
   "cell_type": "markdown",
   "metadata": {},
   "source": [
    "### Exsample 7.5.14 \n",
    "A=$\\begin{bmatrix} 1 && 0 && 2 && 4  \\\\ 0 && 5 && 1 && 2 \\\\ 0 && 2 && 5 && 6 \\end{bmatrix}$의 영공간에 대한 기저를 찾아보자.\n",
    "\n",
    "V=Row A라고 하자. Lemma 7.5.8에 의하면 A의 영공간은 소멸자 $V^0$이다. dimRowA=3으로 Annihilator Dimensio Therorem에 의해, dim$V^0$은 4-3=1이다."
   ]
  },
  {
   "cell_type": "markdown",
   "metadata": {},
   "source": [
    "## 7.5.4 V에 대한 생성자에서 $V^0$에 대한 생성자로, 그리고 그 반대로"
   ]
  },
  {
   "cell_type": "markdown",
   "metadata": {},
   "source": [
    "- 벡터공간 V에 대한 생성자들 -> Algorithm X -> 소멸자 $V^0$에 대한 생성자들\n",
    "- 소멸자 $V^0$에 대한 생성자들 -> Algorithm X -> 소멸자의 소멸자 $V^0$에 대한 생성자들\n",
    "- 소멸자 $V^0$에 대한 생성자들 -> Algorithm X -> 벡터공간 V에 대한 생성자들"
   ]
  },
  {
   "cell_type": "markdown",
   "metadata": {},
   "source": [
    "## 7.5.5 Annihilator 정리"
   ]
  },
  {
   "cell_type": "markdown",
   "metadata": {},
   "source": [
    "### Theorem 7.5.15 Annihilator Theorem\n",
    "$(V^0)^0=V$(소멸자의 소멸자는 원래의 공간이다)."
   ]
  },
  {
   "cell_type": "markdown",
   "metadata": {},
   "source": [
    "# 7.6 Review questions"
   ]
  },
  {
   "cell_type": "markdown",
   "metadata": {},
   "source": [
    "### - 벡터공간은 그 크기가 다른 기저를 가질 수 있는가?\n",
    " - Basis theorm 에 의해 동일한 벡터공간의 모든 기저는 크기가 같다."
   ]
  },
  {
   "cell_type": "markdown",
   "metadata": {},
   "source": [
    "### - 벡터들로 구성된 집합의 랭크는 무엇이간?\n",
    "- 랭크는 벡터들의 생성의 차원이다. 즉, dim SpanS 이다"
   ]
  },
  {
   "cell_type": "markdown",
   "metadata": {},
   "source": [
    "### - 행렬의 랭크는 무엇인가?\n",
    "- 행렬의 랭크는 열랭크, 또는 행랭크로서 열랭크와 행랭크는 동잉하다."
   ]
  },
  {
   "cell_type": "markdown",
   "metadata": {},
   "source": [
    "### - 차원과 랭크의 차이는 무엇인가?\n",
    "- 차원은 벡터공간의 기저의 크기이고 랭크는 벡터들이 생성하는 차원이다. 즉 차원은 벡터공간에 대해서, 랭크는 벡터들의 집합에 대해서 생성되는 벡터공간의 크기를 말한다."
   ]
  },
  {
   "cell_type": "markdown",
   "metadata": {},
   "source": [
    "### - 차원과 랭크는 어떻게 그래프에 적용되는가?\n",
    "- 연결 서브그래프 T의 랭크는 T내 에지들의 양 끝점인 노드들의 수보다 하나 작다. 예를 들어, 하나의 에지로 구성된 집합은 랭크가 1이고, 사이클을 형성하는 세개의 에지로 구성된 집합은 랭크가 2이다."
   ]
  },
  {
   "cell_type": "markdown",
   "metadata": {},
   "source": [
    "### - Rank Theorem은 무엇인가?\n",
    "- 임으의 행렬에 대해, 열랭크와 행랭크는 동일하다."
   ]
  },
  {
   "cell_type": "markdown",
   "metadata": {},
   "source": [
    "### - Dimension Principle은 무엇인가?\n",
    "- 만약 V가 W가 부분공간이면, 다음 성질이 성립한다.\n",
    " - Property D1: $dimV\\le dimW$\n",
    " - Property D2: 만약 $dimV=dimW$이면 $V=W$이다 ."
   ]
  },
  {
   "cell_type": "markdown",
   "metadata": {},
   "source": [
    "### - 두 벡터공간은 언제 직합을 형성할 수 있는가?\n",
    "- 두 벡터공간이 영벡터만을 공유할 때, 즉 두 벡터공간의 기저가 서로 일차독립인 경우이다."
   ]
  },
  {
   "cell_type": "markdown",
   "metadata": {},
   "source": [
    "### - 두 벡터공간의 직합의 차원은 벡터공간의 차원에 어떻게 연관되는가?\n",
    "- Direct sum dimension corollary에 의해 $dimV+dimU=dimU\\oplus V$ 로 표현된다."
   ]
  },
  {
   "cell_type": "markdown",
   "metadata": {},
   "source": [
    "### - 차원은 선형함수가 가역적이기 위한 기준에 어떻게 사용될 수 있는가?\n",
    "선형함수 f가 가역적이기 위한 조건의 하나의 전사함수인 경우의 필요충분조건은 공역 벡터공간인 W에 대해 $dimImf=dimW$이다."
   ]
  },
  {
   "cell_type": "markdown",
   "metadata": {},
   "source": [
    "### - Kernel-Image 정리는 무엇인가?\n",
    "- 임의의 선형함수 $f:V\\rightarrow W$에 대해, \n",
    " - $dimKerf+dimImf=dimV$"
   ]
  },
  {
   "cell_type": "markdown",
   "metadata": {},
   "source": [
    "### - Rank-Nullity 정리는 무엇인가?\n",
    "-임의의 n-열 행렬 A에 대해,\n",
    " - $rank A + nullityA=n$"
   ]
  },
  {
   "cell_type": "markdown",
   "metadata": {},
   "source": [
    "### - 차원은 행렬의 가역성에 대한 기준을 제공하는 데 어떻게 사용될 수 있는가?\n",
    "- 행렬이 A가 가역적이기 위한 조건중 하나로 A의 열들은 일차독립이어야 하고 Rank-Nullity 정리에 의해 A의 랭크는 |C|과 같아야 한다."
   ]
  },
  {
   "cell_type": "markdown",
   "metadata": {},
   "source": [
    "### - 벡터공간의 소멸자는 무엇인가?\n",
    "- $F^n$의 부분공간 V에 대해, V의 소멸자는 $V^0$로 표현되고 다음과 같다.\n",
    " - $V^0=\\{u\\in F^n:u\\cdot v=0, 모든 벡터 v\\in V에 대해 \\}$"
   ]
  },
  {
   "cell_type": "markdown",
   "metadata": {},
   "source": [
    "### - Annihilator 정리는 무엇인가?\n",
    "- $(V^0)^0=V$(소멸자의 소멸자는 원래의 공간이다)."
   ]
  },
  {
   "cell_type": "markdown",
   "metadata": {},
   "source": [
    "# 7.7 Problems"
   ]
  },
  {
   "cell_type": "markdown",
   "metadata": {},
   "source": [
    "### Problem 7.7.1\n",
    "스패팅트리에 대한 Exchange Lemma를 사용하여 그림 7.1(a)의 스패닝포리스트를 그림 7.1(b)의 스패닝포리스트로 변환해 보자."
   ]
  },
  {
   "cell_type": "code",
   "execution_count": 1,
   "metadata": {},
   "outputs": [],
   "source": [
    "# F0 = {(W,K), (W,M), (P,W), (K,A)}\n",
    "# F1 = {(P,K), (W,M), (P,W), (K,A)}\n",
    "# F2 = {(P,K), (P,M), (P,W), (K,A)}\n",
    "# F3 = {(P,K), (P,M), (P,W), (W,A)}\n",
    "# F4 = {(P,K), (P,M), (P,A), (W,A)}"
   ]
  },
  {
   "cell_type": "markdown",
   "metadata": {},
   "source": [
    "### Problem 7.7.2\n",
    "Exchange Lemma를 반복 사용하여 집합 $S = \\{w_0, w_1, w_2\\}$를 집합 $B=\\{v_0, v_1, v_2\\}$로 변환해 보자.\n",
    "\n",
    "$\\mathbb R$상의 벡터들:\n",
    "\n",
    "$w_0=[1,0,0], w_1=[0,1,0], w_2=[0,0,1]$\n",
    "\n",
    "$v_0=[1,2,3], v_1=[1,3,3], v_2=[0,3,3]$"
   ]
  },
  {
   "cell_type": "code",
   "execution_count": 2,
   "metadata": {},
   "outputs": [],
   "source": [
    "# S0 = {w0, w1, w2}\n",
    "# S1 = {v0, w1, w2}\n",
    "# S2 = {v0, v1, w2}\n",
    "# S3 = {v0, v1, v3}"
   ]
  },
  {
   "cell_type": "markdown",
   "metadata": {},
   "source": [
    "### Problem 7.7.3\n",
    "Exchange Lemma를 반복 사용하여 집합 $S = \\{w_0, w_1, w_2\\}$를 집합 $B=\\{v_0, v_1, v_2\\}$로 변환해 보자.\n",
    "\n",
    "GF(2)상의 벡터들:\n",
    "\n",
    "$w_0=[0,one,0], w_1=[0,0,one], w_2=[one,one,one]$\n",
    "\n",
    "$v_0=[one,0,one], v_1=[one,0,0], v_2=[one,one,0]$"
   ]
  },
  {
   "cell_type": "code",
   "execution_count": 3,
   "metadata": {},
   "outputs": [],
   "source": [
    "# S0 = {w0, w1, w2}\n",
    "# S1 = {v0, w1, w2}\n",
    "# S2 = {v0, v1, w2}\n",
    "# S2 = {v0, v1, v2}"
   ]
  },
  {
   "cell_type": "markdown",
   "metadata": {},
   "source": [
    "### Problem 7.7.4\n",
    "다음 프로시저인 morph(S, B)를 작성해라\n",
    "- input\n",
    " - 벡터들의 리스트 S\n",
    " - 일차독립인 벡터들의 리스트 B. 이때, SpanS= SpanB 이다.\n",
    "- ouput: i=1,2,...,k에 대해 다음을 만족하는 벡터들의 쌍들로 구성된 k-원소 리스트\n",
    "  - $[z_1,w_1],...,[z_k,w_k]$\n",
    "  - SpanS=SpanS$\\cup \\{z_1,...,z_i\\} - \\{w_1,...,w_i\\}$\n",
    "  - 여기서, k=|B|이다.\n"
   ]
  },
  {
   "cell_type": "code",
   "execution_count": 40,
   "metadata": {},
   "outputs": [
    {
     "name": "stdout",
     "output_type": "stream",
     "text": [
      "injecting  \n",
      " 0 1 2\n",
      "------\n",
      " 1 0 0\n",
      "ejectin  \n",
      " 0 1 2\n",
      "------\n",
      " 2 4 0\n",
      "\n",
      "\n",
      "injecting  \n",
      " 0 1 2\n",
      "------\n",
      " 0 1 0\n",
      "ejectin  \n",
      " 0 1 2\n",
      "------\n",
      " 1 0 3\n",
      "\n",
      "\n",
      "injecting  \n",
      " 0 1 2\n",
      "------\n",
      " 0 0 1\n",
      "ejectin  \n",
      " 0 1 2\n",
      "------\n",
      " 0 4 4\n",
      "\n",
      "\n"
     ]
    }
   ],
   "source": [
    "import math\n",
    "from vecutil import *\n",
    "from matutil import *\n",
    "from GF2 import one\n",
    "from solver import solve\n",
    "\n",
    "def is_zero(v):\n",
    "    for elem in v.D:\n",
    "        if isinstance(v[elem], type(one)):\n",
    "            return False\n",
    "        elif not math.isclose(v[elem], 0, abs_tol=1e-14):\n",
    "            return False\n",
    "    return True\n",
    "\n",
    "def is_superfluous(L, i):\n",
    "    if len(L) is 1:\n",
    "        return False\n",
    "    \n",
    "    b = L[i]\n",
    "    _L = [L[idx] for idx in range(len(L)) if idx != i]\n",
    "    mat = coldict2mat(_L)\n",
    "    b = L[i]\n",
    "    u = solve(mat, b)\n",
    "    return is_zero(b - mat*u)\n",
    "\n",
    "\n",
    "def exchange(S, A, z):\n",
    "    for i in range(len(S)):\n",
    "        if S[i] not in A and is_superfluous([z]+S, i):\n",
    "            return S[i]\n",
    "    return None\n",
    "\n",
    "def morph(S, B):\n",
    "    A = []\n",
    "    Z_W = []\n",
    "    for b in B:\n",
    "        w = exchange(S, A, b)\n",
    "        Z_W.append((b, w))\n",
    "        S.remove(w), S.append(b)\n",
    "        A.append(b)\n",
    "    return Z_W\n",
    "\n",
    "S=[list2vec(v) for v in [[2,4,0],[1,0,3],[0,4,4],[1,1,1]]]\n",
    "B=[list2vec(v) for v in [[1,0,0],[0,1,0],[0,0,1]]]\n",
    "\n",
    "for (z, w) in morph(S, B):\n",
    "    print('injecting ', z)\n",
    "    print('ejectin ', w)\n",
    "    print('\\n')"
   ]
  },
  {
   "cell_type": "markdown",
   "metadata": {},
   "source": [
    "### Problem 7.7.5\n",
    "다음의 각 행렬에 대해, (a) 행공간에 대한 기저를 제시하고, (b) 열공간에 대한 기저를 제시하고, (c) 행랭크는 열랭크와 동일하다는 것을 입증해 보자."
   ]
  },
  {
   "cell_type": "code",
   "execution_count": 41,
   "metadata": {},
   "outputs": [
    {
     "name": "stdout",
     "output_type": "stream",
     "text": [
      "1.\n",
      "행공간에 대한 기저\n",
      "행랭크:  2 , [Vec({0, 1, 2},{0: 1, 1: 2, 2: 0}), Vec({0, 1, 2},{0: 0, 1: 2, 2: 1})]\n",
      "\n",
      "열공간에 대한 기저\n",
      "행랭크:  2 , [Vec({0, 1},{0: 1, 1: 0}), Vec({0, 1},{0: 2, 1: 2})]\n",
      "\n",
      "2.\n",
      "행공간에 대한 기저\n",
      "행랭크:  3 , [Vec({0, 1, 2, 3},{0: 1, 1: 4, 2: 0, 3: 0}), Vec({0, 1, 2, 3},{0: 0, 1: 2, 2: 2, 3: 0}), Vec({0, 1, 2, 3},{0: 0, 1: 0, 2: 1, 3: 1})]\n",
      "\n",
      "열공간에 대한 기저\n",
      "행랭크:  3 , [Vec({0, 1, 2},{0: 1, 1: 0, 2: 0}), Vec({0, 1, 2},{0: 4, 1: 2, 2: 0}), Vec({0, 1, 2},{0: 0, 1: 2, 2: 1})]\n",
      "\n",
      "3.\n",
      "행공간에 대한 기저\n",
      "행랭크:  1 , [Vec({0},{0: 1})]\n",
      "\n",
      "열공간에 대한 기저\n",
      "행랭크:  1 , [Vec({0, 1, 2},{0: 1, 1: 2, 2: 3})]\n",
      "\n",
      "4.\n",
      "행공간에 대한 기저\n",
      "행랭크:  2 , [Vec({0, 1},{0: 1, 1: 0}), Vec({0, 1},{0: 2, 1: 1})]\n",
      "\n",
      "열공간에 대한 기저\n",
      "행랭크:  2 , [Vec({0, 1, 2},{0: 1, 1: 2, 2: 3}), Vec({0, 1, 2},{0: 0, 1: 1, 2: 4})]\n"
     ]
    }
   ],
   "source": [
    "def subset_basis(T):\n",
    "    B = []\n",
    "    for t in T:\n",
    "        if not is_superfluous(B + [t], len(B)):\n",
    "            B.append(t)\n",
    "    return B\n",
    "\n",
    "print('1.')\n",
    "print('행공간에 대한 기저')\n",
    "S=[list2vec(v) for v in [[1,2,0],[0,2,1]]]\n",
    "basis = subset_basis(S)\n",
    "print('행랭크: ', len(basis), ',', basis)\n",
    "\n",
    "print('\\n열공간에 대한 기저')\n",
    "S=[list2vec(v) for v in [[1,0],[2,2],[0,1]]]\n",
    "basis = subset_basis(S)\n",
    "print('행랭크: ', len(basis), ',', basis)\n",
    "\n",
    "\n",
    "print('\\n2.')\n",
    "print('행공간에 대한 기저')\n",
    "S=[list2vec(v) for v in [[1,4,0,0],[0,2,2,0],[0,0,1,1]]]\n",
    "basis = subset_basis(S)\n",
    "print('행랭크: ', len(basis), ',', basis)\n",
    "\n",
    "print('\\n열공간에 대한 기저')\n",
    "S=[list2vec(v) for v in [[1,0,0],[4,2,0],[0,2,1],[0,0,1]]]\n",
    "basis = subset_basis(S)\n",
    "print('행랭크: ', len(basis), ',', basis)\n",
    "\n",
    "\n",
    "print('\\n3.')\n",
    "print('행공간에 대한 기저')\n",
    "S=[list2vec(v) for v in [[1], [2], [3]]]\n",
    "basis = subset_basis(S)\n",
    "print('행랭크: ', len(basis), ',', basis)\n",
    "\n",
    "print('\\n열공간에 대한 기저')\n",
    "S=[list2vec(v) for v in [[1,2,3]]]\n",
    "basis = subset_basis(S)\n",
    "print('행랭크: ', len(basis), ',', basis)\n",
    "\n",
    "\n",
    "print('\\n4.')\n",
    "print('행공간에 대한 기저')\n",
    "S=[list2vec(v) for v in [[1,0], [2,1], [3,4]]]\n",
    "basis = subset_basis(S)\n",
    "print('행랭크: ', len(basis), ',', basis)\n",
    "\n",
    "print('\\n열공간에 대한 기저')\n",
    "S=[list2vec(v) for v in [[1,2,3],[0,1,4]]]\n",
    "basis = subset_basis(S)\n",
    "print('행랭크: ', len(basis), ',', basis)\n",
    "\n",
    "\n",
    "\n"
   ]
  },
  {
   "cell_type": "markdown",
   "metadata": {},
   "source": [
    "### Problm 7.7.6 \n",
    "다음 스펙을 가지는 프로시저, my_is_independent(L)을 작성하고 테스트해 보자.\n",
    "- input\n",
    " - 벡터들의 리스트 L\n",
    "- output\n",
    " - True, 만약 이 벡터들이 일차독립인 리스트를 형성하면."
   ]
  },
  {
   "cell_type": "code",
   "execution_count": 42,
   "metadata": {},
   "outputs": [
    {
     "name": "stdout",
     "output_type": "stream",
     "text": [
      "is independent: False , [Vec({0, 1, 2},{0: 2, 1: 4, 2: 0}), Vec({0, 1, 2},{0: 8, 1: 16, 2: 4}), Vec({0, 1, 2},{0: 0, 1: 0, 2: 7})]\n",
      "is independent: True , [Vec({0, 1, 2},{0: 2, 1: 4, 2: 0}), Vec({0, 1, 2},{0: 8, 1: 16, 2: 4})]\n",
      "is independent: True , [Vec({0, 1, 2, 3},{0: 1, 1: 3, 2: 0, 3: 0}), Vec({0, 1, 2, 3},{0: 2, 1: 1, 2: 1, 3: 0}), Vec({0, 1, 2, 3},{0: 0, 1: 0, 2: 1, 3: 0}), Vec({0, 1, 2, 3},{0: 1, 1: 1, 2: 4, 3: -1})]\n",
      "is independent: True , [Vec({0, 1, 2, 3},{0: one, 1: 0, 2: one, 3: 0}), Vec({0, 1, 2, 3},{0: 0, 1: one, 2: 0, 3: 0}), Vec({0, 1, 2, 3},{0: one, 1: one, 2: one, 3: one}), Vec({0, 1, 2, 3},{0: one, 1: 0, 2: 0, 3: one})]\n"
     ]
    }
   ],
   "source": [
    "from GF2 import one\n",
    "from independence import rank\n",
    "\n",
    "def my_is_independent(L):\n",
    "    return len(L) == rank(L)\n",
    "\n",
    "L = [list2vec(v) for v in [[2,4,0],[8,16,4],[0,0,7]]]\n",
    "print('is independent:', my_is_independent(L), ',', L)\n",
    "\n",
    "L = [list2vec(v) for v in [[2,4,0],[8,16,4]]]\n",
    "print('is independent:', my_is_independent(L), ',', L)\n",
    "\n",
    "L = [list2vec(v) for v in [[1,3,0,0],[2,1,1,0],[0,0,1,0],[1,1,4,-1]]]\n",
    "print('is independent:', my_is_independent(L), ',', L)\n",
    "\n",
    "L = [list2vec(v) for v in [[one,0,one,0],[0,one,0,0],[one,one,one,one],[one,0,0,one]]]\n",
    "print('is independent:', my_is_independent(L), ',', L)"
   ]
  },
  {
   "cell_type": "markdown",
   "metadata": {},
   "source": [
    "### Problem 7.7.7\n",
    "다음 스펙을 가지는 프로시저, my_rank(L)을 작성하고 테스트해 보자.\n",
    "- input\n",
    " - Vecs의 리스트 L\n",
    "- ouput\n",
    " - L의 랭크"
   ]
  },
  {
   "cell_type": "code",
   "execution_count": 77,
   "metadata": {},
   "outputs": [
    {
     "name": "stdout",
     "output_type": "stream",
     "text": [
      "rank: 2 , [Vec({0, 1, 2},{0: 1, 1: 2, 2: 3}), Vec({0, 1, 2},{0: 4, 1: 5, 2: 6}), Vec({0, 1, 2},{0: 1.1, 1: 1.1, 2: 1.1})]\n",
      "rank: 3 , [Vec({0, 1, 2, 3},{0: 1, 1: 3, 2: 0, 3: 0}), Vec({0, 1, 2, 3},{0: 2, 1: 0, 2: 5, 3: 1}), Vec({0, 1, 2, 3},{0: 0, 1: 0, 2: 7, 3: -1})]\n",
      "rank: 3 , [Vec({0, 1, 2, 3},{0: one, 1: 0, 2: one, 3: 0}), Vec({0, 1, 2, 3},{0: 0, 1: one, 2: 0, 3: 0}), Vec({0, 1, 2, 3},{0: one, 1: one, 2: one, 3: one}), Vec({0, 1, 2, 3},{0: 0, 1: 0, 2: 0, 3: one})]\n"
     ]
    }
   ],
   "source": [
    "def my_rank(L):\n",
    "    return len(subset_basis(L))\n",
    "\n",
    "L = [list2vec(v) for v in [[1,2,3],[4,5,6],[1.1,1.1,1.1]]]\n",
    "print('rank:', my_rank(L), ',', L)\n",
    "\n",
    "L = [list2vec(v) for v in [[1,3,0,0],[2,0,5,1],[0,0,7,-1]]]\n",
    "print('rank:', my_rank(L), ',', L)\n",
    "\n",
    "L = [list2vec(v) for v in [[one,0,one,0],[0,one,0,0],[one,one,one,one],[0,0,0,one]]]\n",
    "print('rank:', my_rank(L), ',', L)"
   ]
  },
  {
   "cell_type": "markdown",
   "metadata": {},
   "source": [
    "### Problem 7.7.8\n",
    "만약 어떤 벡터공간이 n 차원이면 그 공간의 임의의 n+1벡터들은 ~~일차독립임~~(번역이 잘 못되서 한참동안 생각했네) 일차종속을 증명해라."
   ]
  },
  {
   "cell_type": "code",
   "execution_count": 35,
   "metadata": {},
   "outputs": [],
   "source": [
    "# 링크 차좀: http://www.math.harvard.edu/archive/23b_spring_04/hw3sc.pdf \n",
    "# 생각보다 길군"
   ]
  },
  {
   "cell_type": "markdown",
   "metadata": {},
   "source": [
    "### Problem 7.7.9\n",
    "다음의 각 문제는 벡터공간의 두 부분공간 U와 V를 명시한다. $U\\cap V=\\{0\\}$인지 체크해 보자."
   ]
  },
  {
   "cell_type": "code",
   "execution_count": 43,
   "metadata": {},
   "outputs": [
    {
     "name": "stdout",
     "output_type": "stream",
     "text": [
      "Yes [Vec({0, 1, 2, 3},{0: one, 1: 0, 2: one, 3: 0}), Vec({0, 1, 2, 3},{0: 0, 1: 0, 2: one, 3: 0}), Vec({0, 1, 2, 3},{0: 0, 1: one, 2: 0, 3: one}), Vec({0, 1, 2, 3},{0: 0, 1: 0, 2: 0, 3: one})]\n",
      "No [Vec({0, 1, 2},{0: 1, 1: 2, 2: 3}), Vec({0, 1, 2},{0: 1, 1: 2, 2: 0}), Vec({0, 1, 2},{0: 2, 1: 1, 2: 3}), Vec({0, 1, 2},{0: 2, 1: 1, 2: 3})]\n",
      "Yes [Vec({0, 1, 2, 3},{0: 2, 1: 0, 2: 8, 3: 0}), Vec({0, 1, 2, 3},{0: 1, 1: 1, 2: 4, 3: 0}), Vec({0, 1, 2, 3},{0: 2, 1: 1, 2: 1, 3: 1}), Vec({0, 1, 2, 3},{0: 0, 1: 1, 2: 1, 3: 1})]\n"
     ]
    }
   ],
   "source": [
    "# 1.\n",
    "U = [list2vec(u) for u in [[one,0,one,0],[0,0,one,0]]]\n",
    "V = [list2vec(v) for v in [[0,one,0,one],[0,0,0,one]]]\n",
    "print('Yes' if my_is_independent(U+V) else 'No', U+V)\n",
    "\n",
    "# 2.\n",
    "U = [list2vec(u) for u in [[1,2,3],[1,2,0]]]\n",
    "V = [list2vec(v) for v in [[2,1,3],[2,1,3]]]\n",
    "print('Yes' if my_is_independent(U+V) else 'No', U+V)\n",
    "\n",
    "# 3.\n",
    "U = [list2vec(u) for u in [[2,0,8,0],[1,1,4,0]]]\n",
    "V = [list2vec(v) for v in [[2,1,1,1],[0,1,1,1]]]\n",
    "print('Yes' if my_is_independent(U+V) else 'No', U+V)"
   ]
  },
  {
   "cell_type": "markdown",
   "metadata": {},
   "source": [
    "### Problem 7.7.10\n",
    "Proposition 7.3.5에 의하면 직합 $U\\oplus V$은 벡터공간이다. 이것은 벡터공간을 정의한다는 것을 Property V1, V2, V3을 사용하여 증명해 보자."
   ]
  },
  {
   "cell_type": "code",
   "execution_count": 84,
   "metadata": {},
   "outputs": [],
   "source": [
    "# V1: V는 영벡터를 포함한다.\n",
    "# - U, V 벡터공간은 서로 영벡터를 포함하므로 직합도 영벡터를 포함한다.\n",
    "\n",
    "# V2: 모든 벡터 v에 대해, 만약 V가 v를 포함하면 V는 모든 스칼라 a에 대해 a*v를 포함하고 스칼라-벡터 곱에 대해 닫혀 있다.\n",
    "# - 직합은 U, V의 기저에 의해 생성된 공간으로 생성되는 모든 벡터는 곱셈에 닫혀 있다.\n",
    "\n",
    "# V3: 모든 벡터들의 쌍 u, v에 대해, 만약 V가 u와 v를 포함하면 V는 u+v를 포함한다.\n",
    "# - 직합은 U, V의 기저에 의해 생성된 공간으로 생성되는 모든 벡터는 덧셈에 닫혀 있다."
   ]
  },
  {
   "cell_type": "markdown",
   "metadata": {},
   "source": [
    "### Problem 7.7.11\n",
    "다음 스펙을 가지는 프로시저 direct_sum_decompose(U_basis, V_basis, w)을 작성하고 테스트해 보자.\n",
    "- input\n",
    " - 벡터공간 U에 대한 기저를 포함하는 리스트 U_basis\n",
    " - 벡터공간 V에 대한 기저를 포함하는 리스트 V_basis\n",
    " - 직합 $U\\oplus V$에 속하는 벡터 w\n",
    "- ouput\n",
    " - 쌍(u,v) 여기서, w = u+v이고 u는 U에 속하고 v는 V에 속한다"
   ]
  },
  {
   "cell_type": "code",
   "execution_count": 44,
   "metadata": {},
   "outputs": [
    {
     "name": "stdout",
     "output_type": "stream",
     "text": [
      "--Real--\n",
      "1: \n",
      " 0 1 2 3 4 5\n",
      "------------\n",
      " 2 5 0 0 1 0 \n",
      " \n",
      " 0 1 2 3 4 5\n",
      "------------\n",
      " 0 0 0 0 0 0 \n",
      " \n",
      " 0 1 2 3 4 5\n",
      "------------\n",
      " 2 5 0 0 1 0 \n",
      "\n",
      "2: \n",
      " 0 1 2 3 4 5\n",
      "------------\n",
      " 0 0 0 0 0 0 \n",
      " \n",
      " 0 1 2 3 4  5\n",
      "-------------\n",
      " 0 0 3 0 0 -4 \n",
      " \n",
      " 0 1 2 3 4  5\n",
      "-------------\n",
      " 0 0 3 0 0 -4\n",
      "3: \n",
      " 0 1 2 3 4 5\n",
      "------------\n",
      " 1 2 0 0 0 0 \n",
      " \n",
      " 0 1 2 3 4 5\n",
      "------------\n",
      " 0 0 3 0 0 1 \n",
      " \n",
      " 0 1 2 3 4 5\n",
      "------------\n",
      " 1 2 3 0 0 1\n",
      "4: \n",
      "  0 1 2 3 4 5\n",
      "-------------\n",
      " -6 2 0 0 4 0 \n",
      " \n",
      " 0 1 2 3 4 5\n",
      "------------\n",
      " 0 0 4 0 0 5 \n",
      " \n",
      "  0 1 2 3 4 5\n",
      "-------------\n",
      " -6 2 4 0 4 5\n",
      "--GF(2)--\n",
      "1: \n",
      " 0 1 2 3 4 5\n",
      "------------\n",
      " 0 0 0 0 0 0 \n",
      " \n",
      " 0 1 2 3 4 5\n",
      "------------\n",
      " 0 0 0 0 0 0 \n",
      " \n",
      " 0 1 2 3 4 5\n",
      "------------\n",
      " 0 0 0 0 0 0 \n",
      "\n",
      "2: \n",
      "   0 1 2   3 4 5\n",
      "----------------\n",
      " one 0 0 one 0 0 \n",
      " \n",
      " 0 1 2 3 4 5\n",
      "------------\n",
      " 0 0 0 0 0 0 \n",
      " \n",
      "   0 1 2   3 4 5\n",
      "----------------\n",
      " one 0 0 one 0 0 \n",
      "\n",
      "3: \n",
      " 0 1 2   3 4 5\n",
      "--------------\n",
      " 0 0 0 one 0 0 \n",
      " \n",
      "   0   1   2 3   4   5\n",
      "----------------------\n",
      " one one one 0 one one \n",
      " \n",
      "   0   1   2   3   4   5\n",
      "------------------------\n",
      " one one one one one one \n",
      "\n"
     ]
    }
   ],
   "source": [
    "from vec import Vec\n",
    "\n",
    "def vec2rep(veclist, v):\n",
    "    mat = coldict2mat(veclist)\n",
    "    return solve(mat, v)\n",
    "\n",
    "def direct_sum_decompose(U_basis, V_basis, w):\n",
    "    coord = vec2rep(U_basis+V_basis, w)\n",
    "    u = Vec(U_basis[0].D, {})\n",
    "    for i in range(len(U_basis)):\n",
    "        u += (coord[i] * U_basis[i])\n",
    "    v = Vec(V_basis[0].D, {})\n",
    "    for i in range(len(V_basis)):\n",
    "        v += (coord[i + len(U_basis)] * V_basis[i])\n",
    "    return (u, v)\n",
    "\n",
    "print('--Real--')\n",
    "U_basis = [list2vec(u) for u in [[2,1,0,0,6,0],[11,5,0,0,1,0],[3,1.5,0,0,7.5,0]]]\n",
    "V_basis = [list2vec(v) for v in [[0,0,7,0,0,1],[0,0,15,0,0,2]]]\n",
    "\n",
    "w = list2vec([2,5,0,0,1,0])\n",
    "u, v = direct_sum_decompose(U_basis, V_basis, w)\n",
    "print('1:', u, '\\n', v, '\\n', u+v, '\\n')\n",
    "\n",
    "w = list2vec([0,0,3,0,0,-4])\n",
    "u, v = direct_sum_decompose(U_basis, V_basis, w)\n",
    "print('2:', u, '\\n', v, '\\n', u+v)\n",
    "\n",
    "w = list2vec([1,2,3,0,0,1])\n",
    "u, v = direct_sum_decompose(U_basis, V_basis, w)\n",
    "print('3:', u, '\\n', v, '\\n', u+v)\n",
    "\n",
    "w = list2vec([-6,2,4,0,4,5])\n",
    "u, v = direct_sum_decompose(U_basis, V_basis, w)\n",
    "print('4:', u, '\\n', v, '\\n', u+v)\n",
    "\n",
    "print('--GF(2)--')\n",
    "U_basis = [list2vec(u) for u in [[one, one, 0, one, 0, one],[one, one, 0, 0, 0, one], [one, 0, 0, 0, 0, 0]]]\n",
    "V_basis = [list2vec(v) for v in [[one, one, one, 0, one, one]]]\n",
    "\n",
    "w = list2vec([0,0,0,0,0,0])\n",
    "u, v = direct_sum_decompose(U_basis, V_basis, w)\n",
    "print('1:', u, '\\n', v, '\\n', u+v, '\\n')\n",
    "\n",
    "w = list2vec([one,0,0,one,0,0])\n",
    "u, v = direct_sum_decompose(U_basis, V_basis, w)\n",
    "print('2:', u, '\\n', v, '\\n', u+v, '\\n')\n",
    "\n",
    "w = list2vec([one,one,one,one,one,one])\n",
    "u, v = direct_sum_decompose(U_basis, V_basis, w)\n",
    "print('3:', u, '\\n', v, '\\n', u+v, '\\n')"
   ]
  },
  {
   "cell_type": "markdown",
   "metadata": {},
   "source": [
    "### Problem 7.7.12\n",
    "다음 스펙을 가지는 프로시저, is_invertible(M)을 작성하고 테스트해 보자\n",
    "- input\n",
    " - Mat의 인스턴스 M\n",
    "- output\n",
    " - 만약 M이 가역행렬이면 참, 그렇지 않으면 거짓"
   ]
  },
  {
   "cell_type": "code",
   "execution_count": 34,
   "metadata": {},
   "outputs": [
    {
     "name": "stdout",
     "output_type": "stream",
     "text": [
      "False \n",
      "       0 1 2\n",
      "     -------\n",
      " 0  |  1 2 3\n",
      " 1  |  3 1 1\n",
      "\n",
      "True \n",
      "       0 1 2 3\n",
      "     ---------\n",
      " 0  |  1 0 1 0\n",
      " 1  |  0 2 1 0\n",
      " 2  |  0 0 3 1\n",
      " 3  |  0 0 0 4\n",
      "\n",
      "False \n",
      "       0 1\n",
      "     -----\n",
      " 0  |  1 0\n",
      " 1  |  0 1\n",
      " 2  |  2 1\n",
      "\n",
      "True \n",
      "       0 1\n",
      "     -----\n",
      " 0  |  1 0\n",
      " 1  |  0 1\n",
      "\n",
      "True \n",
      "       0 1 2\n",
      "     -------\n",
      " 0  |  1 0 1\n",
      " 1  |  0 1 1\n",
      " 2  |  1 1 0\n",
      "\n",
      "False \n",
      "         0   1   2\n",
      "     -------------\n",
      " 0  |  one   0 one\n",
      " 1  |    0 one one\n",
      " 2  |  one one   0\n",
      "\n",
      "True \n",
      "         0   1\n",
      "     ---------\n",
      " 0  |  one one\n",
      " 1  |    0 one\n",
      "\n"
     ]
    }
   ],
   "source": [
    "from independence import rank\n",
    "from matutil import mat2coldict\n",
    "from matutil import listlist2mat\n",
    "from GF2 import one\n",
    "\n",
    "def is_invertible(M):\n",
    "    return len(M.D[0]) == len(M.D[1]) and len(M.D[0]) == rank([val for val in mat2coldict(M).values()])\n",
    "\n",
    "# 1\n",
    "M = listlist2mat([[1,2,3],[3,1,1]])\n",
    "print(is_invertible(M), M)\n",
    "\n",
    "# 2\n",
    "M = listlist2mat([[1,0,1,0],[0,2,1,0],[0,0,3,1],[0,0,0,4]])\n",
    "print(is_invertible(M), M)\n",
    "\n",
    "# 3\n",
    "M = listlist2mat([[1,0],[0,1],[2,1]])\n",
    "print(is_invertible(M), M)\n",
    "\n",
    "# 4\n",
    "M = listlist2mat([[1,0],[0,1]])\n",
    "print(is_invertible(M), M)\n",
    "\n",
    "# 5\n",
    "M = listlist2mat([[1,0,1],[0,1,1],[1,1,0]])\n",
    "print(is_invertible(M), M)\n",
    "\n",
    "# 6\n",
    "M = listlist2mat([[one,0,one],[0,one,one],[one,one,0]])\n",
    "print(is_invertible(M), M)\n",
    "\n",
    "# 7\n",
    "M = listlist2mat([[one,one],[0,one]])\n",
    "print(is_invertible(M), M)"
   ]
  },
  {
   "cell_type": "markdown",
   "metadata": {},
   "source": [
    "### Problem 7.7.13\n",
    "다음 스펙을 가지는 프로시저, find_matrix_inverse(A)를 작성해 보자.\n",
    "- input\n",
    " - GF(2)상의 가역행렬 A(Mat으로 표현됨)\n",
    "- output\n",
    " - A의 역행렬(Mat으로 표현됨)"
   ]
  },
  {
   "cell_type": "code",
   "execution_count": 61,
   "metadata": {},
   "outputs": [
    {
     "name": "stdout",
     "output_type": "stream",
     "text": [
      "1: A*A_inv \n",
      "         0   1   2\n",
      "     -------------\n",
      " 0  |  one   0   0\n",
      " 1  |    0 one   0\n",
      " 2  |    0   0 one\n",
      " \n",
      "A_inv*A \n",
      "         0   1   2\n",
      "     -------------\n",
      " 0  |  one   0   0\n",
      " 1  |    0 one   0\n",
      " 2  |    0   0 one\n",
      "\n",
      "2: A*A_inv \n",
      "         0   1   2   3\n",
      "     -----------------\n",
      " 0  |  one   0   0   0\n",
      " 1  |    0 one   0   0\n",
      " 2  |    0   0 one   0\n",
      " 3  |    0   0   0 one\n",
      " \n",
      "A_inv*A \n",
      "         0   1   2   3\n",
      "     -----------------\n",
      " 0  |  one   0   0   0\n",
      " 1  |    0 one   0   0\n",
      " 2  |    0   0 one   0\n",
      " 3  |    0   0   0 one\n",
      "\n",
      "3: A*A_inv \n",
      "         0   1   2   3   4\n",
      "     ---------------------\n",
      " 0  |  one   0   0   0   0\n",
      " 1  |    0 one   0   0   0\n",
      " 2  |    0   0 one   0   0\n",
      " 3  |    0   0   0 one   0\n",
      " 4  |    0   0   0   0 one\n",
      " \n",
      "A_inv*A \n",
      "         0   1   2   3   4\n",
      "     ---------------------\n",
      " 0  |  one   0   0   0   0\n",
      " 1  |    0 one   0   0   0\n",
      " 2  |    0   0 one   0   0\n",
      " 3  |    0   0   0 one   0\n",
      " 4  |    0   0   0   0 one\n",
      "\n"
     ]
    }
   ],
   "source": [
    "from matutil import identity\n",
    "\n",
    "def find_matrix_inverse(A):\n",
    "    if len(A.D[0]) != len(A.D[1]):\n",
    "        return None\n",
    "    \n",
    "    I = identity(A.D[0], one)\n",
    "    coldict_b = {}\n",
    "    for k, v in mat2coldict(I).items():\n",
    "        coldict_b[k] = solve(A, v)\n",
    "    return coldict2mat(coldict_b)\n",
    "\n",
    "# 1\n",
    "A = listlist2mat([[0,one,0],[one,0,0],[0,0,one]])\n",
    "A_inv = find_matrix_inverse(A)\n",
    "print('1: A*A_inv', A*A_inv, '\\nA_inv*A', A_inv*A)\n",
    "\n",
    "# 2\n",
    "A = listlist2mat([[one,one,one,one],[one,one,one,0],[0,one,0,one],[0,0,one,0]])\n",
    "A_inv = find_matrix_inverse(A)\n",
    "print('2: A*A_inv', A*A_inv, '\\nA_inv*A', A_inv*A)\n",
    "\n",
    "# 3\n",
    "A = listlist2mat([[one,one,0,0,0],[0,one,one,0,0],[0,0,one,one,0],[0,0,0,one,one],[0,0,0,0,one]])\n",
    "A_inv = find_matrix_inverse(A)\n",
    "print('3: A*A_inv', A*A_inv, '\\nA_inv*A', A_inv*A)"
   ]
  },
  {
   "cell_type": "markdown",
   "metadata": {},
   "source": [
    "### Problem 7.7.14\n",
    "삼삼각행렬의 역행렬을 찾는 프로시저, find_triangular_matrix_inverse(A)을 작성해 보자.\n",
    "- input\n",
    " - 영이 아닌 대각 원소들을 가진 상삼각행렬을 나타내는 Mat의 인스턴스 M 행-라벨 집합과 열-라벨 집합은 {0,1,2,...,n-1}의 형태라고 가정할 수 있다.\n",
    "- output\n",
    " - M의 역행렬을 나타내느 Mat"
   ]
  },
  {
   "cell_type": "code",
   "execution_count": 68,
   "metadata": {},
   "outputs": [
    {
     "name": "stdout",
     "output_type": "stream",
     "text": [
      "A \n",
      "       0   1   2   3\n",
      "     ---------------\n",
      " 0  |  1 0.5 0.2   4\n",
      " 1  |  0   1 0.3 0.9\n",
      " 2  |  0   0   1 0.1\n",
      " 3  |  0   0   0   1\n",
      " \n",
      "inverse A \n",
      "       0    1     2     3\n",
      "     --------------------\n",
      " 0  |  1 -0.5 -0.05 -3.54\n",
      " 1  |  0    1  -0.3 -0.87\n",
      " 2  |  0    0     1  -0.1\n",
      " 3  |  0    0     0     1\n",
      "\n",
      "A*A_inv \n",
      "       0 1 2 3\n",
      "     ---------\n",
      " 0  |  1 0 0 0\n",
      " 1  |  0 1 0 0\n",
      " 2  |  0 0 1 0\n",
      " 3  |  0 0 0 1\n",
      "\n"
     ]
    }
   ],
   "source": [
    "from triangular import triangular_solve_n\n",
    "from matutil import mat2rowdict\n",
    "\n",
    "def find_triangular_matrix_inverse(A):\n",
    "    I = identity(A.D[0], 1)\n",
    "    coldict_inv = {}\n",
    "    rowlist = [v for v in mat2rowdict(A).values()]\n",
    "    for k, v in mat2coldict(I).items():\n",
    "        coldict_inv[k] = triangular_solve_n(rowlist, v)\n",
    "    \n",
    "    return coldict2mat(coldict_inv)\n",
    "\n",
    "A = listlist2mat([[1,.5,.2,4],[0,1,.3,.9],[0,0,1,.1],[0,0,0,1]])\n",
    "print('A', A, '\\ninverse A', find_triangular_matrix_inverse(A))\n",
    "print('A*A_inv', find_triangular_matrix_inverse(A)*A)"
   ]
  }
 ],
 "metadata": {
  "kernelspec": {
   "display_name": "Python 3",
   "language": "python",
   "name": "python3"
  },
  "language_info": {
   "codemirror_mode": {
    "name": "ipython",
    "version": 3
   },
   "file_extension": ".py",
   "mimetype": "text/x-python",
   "name": "python",
   "nbconvert_exporter": "python",
   "pygments_lexer": "ipython3",
   "version": "3.6.0"
  }
 },
 "nbformat": 4,
 "nbformat_minor": 2
}
