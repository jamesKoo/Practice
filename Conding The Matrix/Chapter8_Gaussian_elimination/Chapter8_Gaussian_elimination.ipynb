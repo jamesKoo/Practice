{
 "cells": [
  {
   "cell_type": "markdown",
   "metadata": {},
   "source": [
    "# Chapter 8 - 가우스 소거법"
   ]
  },
  {
   "cell_type": "markdown",
   "metadata": {},
   "source": [
    "이 장에서 $\\mathbb R$상의 행렬에 적용되는 과정의 개요를 설명하지만, 주로 GF(2)상의 행렬에 적용되는 가우스 소거법에 중점을 둔다. 이아고리즘은 다음에 적용된다.\n",
    "- 주어진 벡터들의 생성에 대한 기저 찾기. 이것은 또한 랭크에 대한 알고리즘을 제공하여 일차종속을 테스트할 수도 있다.\n",
    "- 행렬의 영공간에 대한 기저 찾기.\n",
    "- 행렬방적ㅇ식의 해 구하기. 이것은 주어진 벡터를 다른 주어진 벡터들의 선형결합으로 표현하는 것과 동일하다. 또한, 이것은 선형방정식들의 시스템에 대한 해를 구하는 것과 동일하다."
   ]
  },
  {
   "cell_type": "markdown",
   "metadata": {},
   "source": [
    "# 8.1 사다리꼴(Echelon from)"
   ]
  },
  {
   "cell_type": "markdown",
   "metadata": {},
   "source": [
    "### Definition 8.1.1\n",
    "m x n행렬 A는 만약 다음 조건을 만족하면 *사다리꼴*이다. 즉, 임의의 행에 대해, 만약 그 행의 첫 번째 영이 아닌 엔트리가 위치 k에 있으면 그 행 이전의 모든 행의 첫 번째 영이 아닌 엔트리는 k보다 작은 어떤 위치에 있다."
   ]
  },
  {
   "cell_type": "markdown",
   "metadata": {},
   "source": [
    "## 8.1.1 사다리꼴에서 행공간에 대한 기저로"
   ]
  },
  {
   "cell_type": "markdown",
   "metadata": {},
   "source": [
    "### Lemma 8.1.2\n",
    "만약 어떤 행렬이 사다리꼴이면, 영이 아닌 행들은 행공간에 대한 기저를 형성한다."
   ]
  },
  {
   "cell_type": "markdown",
   "metadata": {},
   "source": [
    "## 8.1.2 사다리꼴 행렬의 행리스트"
   ]
  },
  {
   "cell_type": "markdown",
   "metadata": {},
   "source": [
    "행렬의 사다리꼴은 행과 관련된 것이 많으며, 행렬을 Mat의 인스턴스가 아니라 행 리스트, 즉 벡터들의 리스트로 나타낼 때 사다리꼴을 이용하면 편리하다."
   ]
  },
  {
   "cell_type": "markdown",
   "metadata": {},
   "source": [
    "## 8.1.3 맨 왼쪽의 영이 아닌 위치에 의한 행들의 정렬"
   ]
  },
  {
   "cell_type": "code",
   "execution_count": 41,
   "metadata": {},
   "outputs": [
    {
     "data": {
      "text/plain": [
       "[Vec({0, 1, 2, 3, 4},{0: 1, 1: 2, 2: 3, 3: 4, 4: 5}),\n",
       " Vec({0, 1, 2, 3, 4},{0: 0, 1: 2, 2: 3, 3: 4, 4: 5}),\n",
       " Vec({0, 1, 2, 3, 4},{0: 0, 1: 0, 2: 0, 3: 3, 4: 2}),\n",
       " Vec({0, 1, 2, 3, 4},{0: 0, 1: 0, 2: 0, 3: 6, 4: 7})]"
      ]
     },
     "execution_count": 41,
     "metadata": {},
     "output_type": "execute_result"
    }
   ],
   "source": [
    "from vecutil import list2vec\n",
    "\n",
    "# example mat\n",
    "rowlist = [list2vec(v) for v in [[0,2,3,4,5],[0,0,0,3,2],[1,2,3,4,5],[0,0,0,6,7],[0,0,0,9,9]]]\n",
    "\n",
    "# sort column labels\n",
    "col_label_list = sorted(rowlist[0].D, key=hash)\n",
    "\n",
    "# sort to echelon form\n",
    "new_rowlist = []\n",
    "row_left = set(range(len(rowlist)))\n",
    "\n",
    "for c in col_label_list:\n",
    "    rows_with_nonzeros = [r for r in row_left if rowlist[r][c] != 0]\n",
    "    if rows_with_nonzeros != []:\n",
    "        pivot = rows_with_nonzeros[0]\n",
    "        new_rowlist.append(rowlist[pivot])\n",
    "        row_left.remove(pivot)\n",
    "        \n",
    "new_rowlist"
   ]
  },
  {
   "cell_type": "markdown",
   "metadata": {},
   "source": [
    "new_rowlist에 추가된 행은 피봇행(pivot row)이라 하고, 열 c의 피봇행의 원소는 피봇원소(pivot element)라고 한다.\n",
    "___"
   ]
  },
  {
   "cell_type": "markdown",
   "metadata": {},
   "source": [
    "위의 결과는 사라리꼴 정의에 위배된다. 네 번째 행의 첫 번째 영이 아닌 엔트리는 네 번째 위치에 있으므로, 모든 이전 행의 첫 번째 영이 아닌 엔트리는 세 번째 위치의 왼쪽에 있어ㅑ 한다. 하지만, 세 번째 행의 첫 번째 영이 아닌 엔트리는 네 번째 위치에 있다."
   ]
  },
  {
   "cell_type": "markdown",
   "metadata": {},
   "source": [
    "## 8.1.4 기본행덧셈 연산"
   ]
  },
  {
   "cell_type": "markdown",
   "metadata": {},
   "source": [
    "8.1.3 알고리즘은 기본행덧셈(elementary row-addition operation)을 수행하여 피봇행이 아닌 다른 행에 있는 영이 아닌 원소를 영으로 만든다."
   ]
  },
  {
   "cell_type": "code",
   "execution_count": 46,
   "metadata": {},
   "outputs": [
    {
     "data": {
      "text/plain": [
       "[Vec({0, 1, 2, 3, 4},{0: 1, 1: 2, 2: 3, 3: 4, 4: 5}),\n",
       " Vec({0, 1, 2, 3, 4},{0: 0, 1: 2, 2: 3, 3: 4, 4: 5}),\n",
       " Vec({0, 1, 2, 3, 4},{0: 0, 1: 0, 2: 0, 3: 3, 4: 2}),\n",
       " Vec({0, 1, 2, 3, 4},{0: 0.0, 1: 0.0, 2: 0.0, 3: 0.0, 4: 3.0})]"
      ]
     },
     "execution_count": 46,
     "metadata": {},
     "output_type": "execute_result"
    }
   ],
   "source": [
    "from vecutil import list2vec\n",
    "\n",
    "# example mat\n",
    "rowlist = [list2vec(v) for v in [[0,2,3,4,5],[0,0,0,3,2],[1,2,3,4,5],[0,0,0,6,7],[0,0,0,9,9]]]\n",
    "\n",
    "# sort column labels\n",
    "col_label_list = sorted(rowlist[0].D, key=hash)\n",
    "\n",
    "# sort to echelon form\n",
    "new_rowlist = []\n",
    "row_left = set(range(len(rowlist)))\n",
    "\n",
    "for c in col_label_list:\n",
    "    rows_with_nonzeros = [r for r in row_left if rowlist[r][c] != 0]\n",
    "    if rows_with_nonzeros != []:\n",
    "        pivot = rows_with_nonzeros[0]\n",
    "        new_rowlist.append(rowlist[pivot])\n",
    "        row_left.remove(pivot)\n",
    "        \n",
    "        # elementary row-addition operation\n",
    "        for r in rows_with_nonzeros[1:]:\n",
    "            multiplier = rowlist[r][c]/rowlist[pivot][c]\n",
    "            rowlist[r] -= multiplier*rowlist[pivot]\n",
    "        \n",
    "        \n",
    "new_rowlist"
   ]
  },
  {
   "cell_type": "markdown",
   "metadata": {},
   "source": [
    "## 8.1.5 기본행덧셈 행렬에 의한 곱셈"
   ]
  },
  {
   "cell_type": "markdown",
   "metadata": {},
   "source": [
    "한 행의 배수를 다른 행에서 빼는 것은 그 행렬을 기본행덕셈 행렬과 곱합으로써 이룰어질 수 있다. 5장에 살펴보았듯이, 이러한 행렬은 가역적이다.\n",
    "\n",
    "$\\begin{bmatrix} 1 && 0 && 0 && 0  \\\\ 0 && 1 && 0 && 0 \\\\ 0 && 0 && 1 && 0 \\\\ 0 && 0 && -2 && 1 \\end{bmatrix} \\begin{bmatrix} 1 && 2 && 3 && 4 && 5 \\\\ 0 && 2 && 3 && 4 && 5 \\\\ 0 && 0 && 0 && 3 && 2 \\\\ 0 && 0 && 0 && 6 && 7 \\end{bmatrix} = \\begin{bmatrix} 1 && 2 && 3 && 4 && 5 \\\\ 0 && 2 && 3 && 4 && 5 \\\\ 0 && 0 && 0 && 3 && 2 \\\\ 0 && 0 && 0 && 0 && 3 \\end{bmatrix}$"
   ]
  },
  {
   "cell_type": "markdown",
   "metadata": {},
   "source": [
    "## 8.1.6 행덧셈 연산은 행공간을 유지한다."
   ]
  },
  {
   "cell_type": "markdown",
   "metadata": {},
   "source": [
    "행렬을 사다리꼴로 변환하는 명목상의 목적은 그 행렬의 행공간에 대한 기저를 얻는 것이다."
   ]
  },
  {
   "cell_type": "markdown",
   "metadata": {},
   "source": [
    "### Lemma 8.1.3\n",
    "행렬 A와 N에 대해, $RowNA\\subseteq RowA$이다. "
   ]
  },
  {
   "cell_type": "markdown",
   "metadata": {},
   "source": [
    "### Corollary 8.1.4\n",
    "행렬 A와 M에 대해, 만약 M이 가역적이면 $RowMA=RowA$이다."
   ]
  },
  {
   "cell_type": "markdown",
   "metadata": {},
   "source": [
    "### Example 8.1.5\n",
    "섹션 8.1.4의 예들 다시 살펴보자. Lemma 8.1.3의 주장을 사용하여 $RowMA\\subseteq A$이고 $RowA\\subseteq RowMA$임을 확인해보자.\n",
    "\n",
    "- $RowMA$에 속하는 모든 벡터 v는 벡터와 행렬 A의 곱셈으로 표현될 수 있음을 보여준다. 이것은 또한 v가 RowA임을 보여준다.\n",
    "- A는 $M^{-1}MA$로 표현되고 $M^{-1}MA$에 속하는 모든 벡터 v는 벡터와 행렬 MA의 곱셈으로 표현될 수 있음을 보여준다. 이것은 또한 v가 $RowMA$에 속한다는 것을 보여 준다."
   ]
  },
  {
   "cell_type": "markdown",
   "metadata": {},
   "source": [
    "## 8.1.7 가우스 소거법을 통한 기저, 랭크, 일차독립"
   ]
  },
  {
   "cell_type": "markdown",
   "metadata": {},
   "source": [
    "작성한 프로그램은 프로시저, row_reduce(rowlist)에 포함되었다. \n",
    "\n",
    "주어진 벡터들의 생성에 대한 기저를 찾는 프로시저를 가지고 있으므로, 랭크 및 일차독립에 대한 프로시저는 쉽게 작성할 수 있다."
   ]
  },
  {
   "cell_type": "code",
   "execution_count": 50,
   "metadata": {},
   "outputs": [
    {
     "data": {
      "text/plain": [
       "[Vec({0, 1, 2, 3, 4},{0: 1, 1: 2, 2: 3, 3: 4, 4: 5}),\n",
       " Vec({0, 1, 2, 3, 4},{0: 0, 1: 2, 2: 3, 3: 4, 4: 5}),\n",
       " Vec({0, 1, 2, 3, 4},{0: 0, 1: 0, 2: 0, 3: 3, 4: 2}),\n",
       " Vec({0, 1, 2, 3, 4},{0: 0.0, 1: 0.0, 2: 0.0, 3: 0.0, 4: 3.0})]"
      ]
     },
     "execution_count": 50,
     "metadata": {},
     "output_type": "execute_result"
    }
   ],
   "source": [
    "from echelon import row_reduce\n",
    "\n",
    "rowlist = [list2vec(v) for v in [[0,2,3,4,5],[0,0,0,3,2],[1,2,3,4,5],[0,0,0,6,7],[0,0,0,9,9]]]\n",
    "row_reduce(rowlist)"
   ]
  },
  {
   "cell_type": "markdown",
   "metadata": {},
   "source": [
    "## 8.1.8 가우스 소거법이 실패할 때"
   ]
  },
  {
   "cell_type": "markdown",
   "metadata": {},
   "source": [
    "파이썬은 부동소수를 사용하여 계산을 수행하고 산술연산은 근사적으로 옳다. 따라서 파이썬의 계산 결과를 벡터 집합의 랭크를 결정하는 데 사용하기 어려울 수 있다."
   ]
  },
  {
   "cell_type": "code",
   "execution_count": 67,
   "metadata": {},
   "outputs": [
    {
     "data": {
      "text/plain": [
       "-1e+20"
      ]
     },
     "execution_count": 67,
     "metadata": {},
     "output_type": "execute_result"
    }
   ],
   "source": [
    "1 - 1e20"
   ]
  },
  {
   "cell_type": "code",
   "execution_count": 66,
   "metadata": {},
   "outputs": [
    {
     "data": {
      "text/plain": [
       "0.0"
      ]
     },
     "execution_count": 66,
     "metadata": {},
     "output_type": "execute_result"
    }
   ],
   "source": [
    "1 - 1e20  + 1e20"
   ]
  },
  {
   "cell_type": "markdown",
   "metadata": {},
   "source": [
    "## 8.1.9 피봇팅 및 수치해석"
   ]
  },
  {
   "cell_type": "markdown",
   "metadata": {},
   "source": [
    "*피봇팅(pivoting)*은 피봇원소를 주의깊게 선택하는 것을 말한다. 여기에는 두 가지 전략이 사용된다.\n",
    "- 부분적 피봇팅(partial pivoting): 열 c에 영이 아닌 엔트리를 가지는 행 중에서 절대값이 가장 큰 엔트리를 가지는 행을 선택한다.\n",
    "- 완전 피봇팅(complete pivoting): 미리 열의 순서를 선택하는 대신에 그때그때 피봇원소를 최대로 하는 각 열을 선택한다.\n",
    "\n",
    "보통은 구현하기 쉽고 실행속도가 빠르기 때문에 부분적 피봇팅이 실직적으로 사용된다. 이론적으로는 여전히 아주 큰 행렬에 대해 심각하게 나쁜 결과를 초래할 수 있다.\n",
    "\n",
    "정확하지 않은 연산을 사용하여 행렬의 랭크를 계산하는 것은 아주 어렵다. 일반적으로 인정되는 방법은 행렬의 특이값분해(singular value decomposition)를 사용한다."
   ]
  },
  {
   "cell_type": "code",
   "execution_count": 69,
   "metadata": {},
   "outputs": [
    {
     "data": {
      "text/plain": [
       "1e+20"
      ]
     },
     "execution_count": 69,
     "metadata": {},
     "output_type": "execute_result"
    }
   ],
   "source": [
    "1 + 1e20"
   ]
  },
  {
   "cell_type": "code",
   "execution_count": 70,
   "metadata": {},
   "outputs": [
    {
     "data": {
      "text/plain": [
       "0.0"
      ]
     },
     "execution_count": 70,
     "metadata": {},
     "output_type": "execute_result"
    }
   ],
   "source": [
    "1 + 1e20 - 1e20"
   ]
  },
  {
   "cell_type": "markdown",
   "metadata": {},
   "source": [
    "# 8.2 GF(2)상의 가우스 소거법"
   ]
  },
  {
   "cell_type": "markdown",
   "metadata": {},
   "source": [
    "가우스 소거법은 GF(2)상의 벡터들에 대해 수행될 수 있다. 이 경우, 모든 연산은 정확하고 수치적 문제를 발생하지 않는다."
   ]
  },
  {
   "cell_type": "code",
   "execution_count": 72,
   "metadata": {},
   "outputs": [
    {
     "data": {
      "text/plain": [
       "[Vec({0, 1, 2, 3},{0: one, 1: 0, 2: one, 3: one}),\n",
       " Vec({0, 1, 2, 3},{0: 0, 1: one, 2: 0, 3: 0}),\n",
       " Vec({0, 1, 2, 3},{0: 0, 1: 0, 2: one, 3: one}),\n",
       " Vec({0, 1, 2, 3},{0: 0, 1: 0, 2: 0, 3: one})]"
      ]
     },
     "execution_count": 72,
     "metadata": {},
     "output_type": "execute_result"
    }
   ],
   "source": [
    "from vecutil import list2vec\n",
    "from GF2 import one\n",
    "\n",
    "# example mat\n",
    "rowlist = [list2vec(v) for v in [[0,0,one,one],[one,0,one,one],[one,0,0,one],[one,one,one,one]]]\n",
    "\n",
    "# sort column labels\n",
    "col_label_list = sorted(rowlist[0].D, key=hash)\n",
    "\n",
    "# sort to echelon form\n",
    "new_rowlist = []\n",
    "row_left = set(range(len(rowlist)))\n",
    "\n",
    "for c in col_label_list:\n",
    "    rows_with_nonzeros = [r for r in row_left if rowlist[r][c] != 0]\n",
    "    if rows_with_nonzeros != []:\n",
    "        pivot = rows_with_nonzeros[0]\n",
    "        new_rowlist.append(rowlist[pivot])\n",
    "        row_left.remove(pivot)\n",
    "        \n",
    "        # elementary row-addition operation\n",
    "        for r in rows_with_nonzeros[1:]:\n",
    "            multiplier = rowlist[r][c]/rowlist[pivot][c]\n",
    "            rowlist[r] -= multiplier*rowlist[pivot]\n",
    "        \n",
    "        \n",
    "new_rowlist"
   ]
  },
  {
   "cell_type": "markdown",
   "metadata": {},
   "source": [
    "# 8.3 다른 문제에 대해 가우스 소거법 사용하기"
   ]
  },
  {
   "cell_type": "markdown",
   "metadata": {},
   "source": [
    "가우스 소거법은 행렬의 행공간에 대한 기저를 찾는 문제 이외에 다른 문제들을 해결하는 데도 사용될 수 있다.\n",
    "- 선형시스템의 해 구하기\n",
    "- 영공간에 대한 기저 찾기"
   ]
  },
  {
   "cell_type": "markdown",
   "metadata": {},
   "source": [
    "## 8.3.1 가역행렬 M과 사다리꼴의 행렬 MA"
   ]
  },
  {
   "cell_type": "markdown",
   "metadata": {},
   "source": [
    "가우스 소거법을 다른 문제들을 해결하는 데 사용하는 핵심은 입력 행렬을 사다리꼴 행렬로 만드는데 사용되는 기본행-덧셈 연산을 추적하는 것이다."
   ]
  },
  {
   "cell_type": "markdown",
   "metadata": {},
   "source": [
    "### Proposition 8.3.1\n",
    "임의의 행렬 A에 대해, MA는 사다리꼴 행렬인 그러한 가역 행렬 M이 있다."
   ]
  },
  {
   "cell_type": "markdown",
   "metadata": {},
   "source": [
    "## 8.3.2 행렬 곱셈없이 M 계산하기"
   ]
  },
  {
   "cell_type": "markdown",
   "metadata": {},
   "source": [
    "M을 계산하는 프로시저는 아래의 rowlist에 의해 표현되는 두 개의 행렬을 유지한다.\n",
    "- 코드에서 rowlist에 의해 표현되는 변환되는 행렬\n",
    "- 코드에서 M_rowlist에 의해 표현되는 변환하는 행렬\n",
    " \n",
    "알고리즘은 변환하는 행렬과 입력 행렬의 곱이 rowlist에 의해 표현되는 행렬과 동일하게 되도록 유지한다.\n",
    "- $M\\_rowlist(초기행렬)=rowlist$\n",
    "\n",
    "i번째 행-덧셈 연산을 수행하는 것은 rowlist의 어느 한 행의 배수를 또 다른 행에서 빼는 것으로 구성된다. 이것은 행렬 rowlist를 행-덧셈 행렬 $M_i$와 곱하는 것과 동일하다.\n",
    "- $M_i(M\\_rowlist)(초기행렬)=M_i(rowlist)$"
   ]
  },
  {
   "cell_type": "markdown",
   "metadata": {},
   "source": [
    "### Example 8.3.2\n",
    "다음 행렬을 사용하여 예를 실행해 보자.\n",
    "$A=\\begin{bmatrix} 0 && 2 && 3 && 4 && 5 \\\\ 0 && 0 && 0 && 3 && 2 \\\\ 1 && 2 && 3 && 4 && 5 \\\\ 0 && 0 && 0 && 6 && 7 \\\\ 0 && 0 && 0 && 9 && 8\\end{bmatrix}$\n",
    "\n",
    "...\n",
    "\n",
    "따라서, 식은 다음과 같이 된다.\n",
    "$\\begin{bmatrix} 1 &&  &&  &&  &&  \\\\  && 1 &&  &&  &&  \\\\  &&  && 1 &&  &&  \\\\  && -2 &&  && 1 &&  \\\\  && -1\\frac{1}{3} &&  && -\\frac{2}{3} && 1\\end{bmatrix}\\begin{bmatrix} 0 && 2 && 3 && 4 && 5 \\\\ 0 && 0 && 0 && 3 && 2 \\\\ 1 && 2 && 3 && 4 && 5 \\\\ 0 && 0 && 0 && 6 && 7 \\\\ 0 && 0 && 0 && 9 && 8\\end{bmatrix}=\\begin{bmatrix} 0 && 2 && 3 && 4 && 5 \\\\ 0 && 0 && 0 && 3 && 2 \\\\ 1 && 2 && 3 && 4 && 5 \\\\ 0 && 0 && 0 && 0 && 3 \\\\ 0 && 0 && 0 && 0 && 0\\end{bmatrix}$"
   ]
  },
  {
   "cell_type": "code",
   "execution_count": 2,
   "metadata": {},
   "outputs": [
    {
     "data": {
      "text/plain": [
       "[Vec({0, 1, 2, 3, 4},{2: 1}),\n",
       " Vec({0, 1, 2, 3, 4},{0: 1}),\n",
       " Vec({0, 1, 2, 3, 4},{1: 1}),\n",
       " Vec({0, 1, 2, 3, 4},{0: 0, 1: -2.0, 2: 0, 3: 1, 4: 0}),\n",
       " Vec({0, 1, 2, 3, 4},{0: 0.0, 1: -1.6666666666666667, 2: 0.0, 3: -0.6666666666666666, 4: 1.0})]"
      ]
     },
     "execution_count": 2,
     "metadata": {},
     "output_type": "execute_result"
    }
   ],
   "source": [
    "from vec import Vec\n",
    "from vecutil import list2vec\n",
    "\n",
    "# example mat\n",
    "rowlist = [list2vec(v) for v in [[0,2,3,4,5],[0,0,0,3,2],[1,2,3,4,5],[0,0,0,6,7],[0,0,0,9,8]]]\n",
    "\n",
    "# sort column labels\n",
    "col_label_list = sorted(rowlist[0].D, key=hash)\n",
    "row_label_list = col_label_list\n",
    "\n",
    "# sort to echelon form\n",
    "M_rowlist = [Vec(rowlist[0].D, {row_label_list[i]:1}) for i in range(len(rowlist))]\n",
    "new_M_rowlist = []\n",
    "row_left = set(range(len(rowlist)))\n",
    "\n",
    "for c in col_label_list:\n",
    "    rows_with_nonzeros = [r for r in row_left if rowlist[r][c] != 0]\n",
    "    if rows_with_nonzeros != []:\n",
    "        pivot = rows_with_nonzeros[0]\n",
    "        new_M_rowlist.append(M_rowlist[pivot])\n",
    "        row_left.remove(pivot)\n",
    "        \n",
    "        # elementary row-addition operation\n",
    "        for r in rows_with_nonzeros[1:]:\n",
    "            multiplier = rowlist[r][c]/rowlist[pivot][c]\n",
    "            rowlist[r] -= multiplier*rowlist[pivot]\n",
    "            M_rowlist[r] -= multiplier*M_rowlist[pivot]\n",
    "\n",
    "for r in row_left: new_M_rowlist.append(M_rowlist[r])\n",
    "        \n",
    "new_M_rowlist"
   ]
  },
  {
   "cell_type": "code",
   "execution_count": 6,
   "metadata": {},
   "outputs": [
    {
     "name": "stdout",
     "output_type": "stream",
     "text": [
      "A \n",
      "       0 1 2 3 4\n",
      "     -----------\n",
      " 0  |  0 2 3 4 5\n",
      " 1  |  0 0 0 3 2\n",
      " 2  |  1 2 3 4 5\n",
      " 3  |  0 0 0 6 7\n",
      " 4  |  0 0 0 9 8\n",
      "\n",
      "M \n",
      "       0     1 2      3 4\n",
      "     --------------------\n",
      " 0  |  0     0 1      0 0\n",
      " 1  |  1     0 0      0 0\n",
      " 2  |  0     1 0      0 0\n",
      " 3  |  0    -2 0      1 0\n",
      " 4  |  0 -1.67 0 -0.667 1\n",
      "\n",
      "MA \n",
      "       0 1 2 3 4\n",
      "     -----------\n",
      " 0  |  1 2 3 4 5\n",
      " 1  |  0 2 3 4 5\n",
      " 2  |  0 0 0 3 2\n",
      " 3  |  0 0 0 0 3\n",
      " 4  |  0 0 0 0 0\n",
      "\n"
     ]
    }
   ],
   "source": [
    "from echelon import transformation\n",
    "from matutil import listlist2mat\n",
    "\n",
    "A = listlist2mat([[0,2,3,4,5],[0,0,0,3,2],[1,2,3,4,5],[0,0,0,6,7],[0,0,0,9,8]])\n",
    "M = transformation(A, is_GF2=False)\n",
    "print('A', A)\n",
    "print('M', M)\n",
    "print('MA', M*A)"
   ]
  },
  {
   "cell_type": "markdown",
   "metadata": {},
   "source": [
    "### Example 8.3.3 \n",
    "변환하는 행렬을 유지하는 또 다른 예가 있다."
   ]
  },
  {
   "cell_type": "code",
   "execution_count": 5,
   "metadata": {},
   "outputs": [
    {
     "name": "stdout",
     "output_type": "stream",
     "text": [
      "A \n",
      "       0 1 2 3 4\n",
      "     -----------\n",
      " 0  |  0 2 4 2 8\n",
      " 1  |  2 1 0 5 4\n",
      " 2  |  4 1 2 4 2\n",
      " 3  |  5 0 0 2 8\n",
      "\n",
      "A \n",
      "           0  1     2 3\n",
      "     ------------------\n",
      " 0  |      0  1     0 0\n",
      " 1  |      1  0     0 0\n",
      " 2  |    0.5 -2     1 0\n",
      " 3  |  0.625  0 -1.25 1\n",
      "\n",
      "MA \n",
      "       0 1 2     3    4\n",
      "     ------------------\n",
      " 0  |  2 1 0     5    4\n",
      " 1  |  0 2 4     2    8\n",
      " 2  |  0 0 4    -5   -2\n",
      " 3  |  0 0 0 -1.75 10.5\n",
      "\n"
     ]
    }
   ],
   "source": [
    "A = listlist2mat([[0,2,4,2,8],[2,1,0,5,4],[4,1,2,4,2],[5,0,0,2,8]])\n",
    "M = transformation(A, is_GF2=False)\n",
    "print('A', A)\n",
    "print('M', M)\n",
    "print('MA', M*A)"
   ]
  },
  {
   "cell_type": "markdown",
   "metadata": {},
   "source": [
    "# 8.4 가우스 소거법을 사용하여 행렬-벡터 방정식 풀기 "
   ]
  },
  {
   "cell_type": "markdown",
   "metadata": {},
   "source": [
    "행렬-벡터 방정식의 해을 구하고자 한다고 해보자.\n",
    "\n",
    "$Ax=b$\n",
    "\n",
    "MA가 사다리꼴 행렬 U가 되는 그러한 행렬 M을 계산하자. 그리고, 위의 식 양변에 M을 곱하면 다음을 얻는다.\n",
    "\n",
    "$MAx=Mb$\n",
    "\n",
    "새로운 방정식은 MA가 사다리꼴이므로 원래 방정식보다 해를 구하기 더 쉽다."
   ]
  },
  {
   "cell_type": "markdown",
   "metadata": {},
   "source": [
    "## 8.4.1 행렬이 사다리꼴일 때 행렬-벡터 방정식의 해 구하기-가역적인 경우"
   ]
  },
  {
   "cell_type": "markdown",
   "metadata": {},
   "source": [
    "U가 사다리꼴 행렬이면서 가역적인 경우, U는 정방행렬이고 그 대각원소들은 영이 아니다.\n",
    "\n",
    "이것은 상삼각행렬이며 후진대입법을 사용하여 방정식 $Ux=b$를 풀 수 있다."
   ]
  },
  {
   "cell_type": "markdown",
   "metadata": {},
   "source": [
    "## 8.4.2 엔트리가 영인 행들에 대한 처리"
   ]
  },
  {
   "cell_type": "markdown",
   "metadata": {},
   "source": [
    "일반적인 경우를 고려해 보자. U가 삼각행렬이 될 수 없는 경우가 두 가지 있다.\n",
    "- 엔트리가 모두 영인 행들이 있을 수 있다.\n",
    "- U의 열들 중 어떠한 행도 그 행의 맨 왼쪽 영이 아닌 엔트리가 이 열에 위치하지 않는 그러한 열들이 있을 수 있다.\n",
    "\n",
    "첫 번째 이슈에서 엔트리가 영인 행들은 그냥 무시하면 된다. \n",
    "- $a_i\\cdot x=b_i$에서 $a_i=0$이다.\n",
    " - 만약 $b_i=0$이면 방정식은 x 값에 관계없이 항상 성립한다.\n",
    " - 만약 $b_i\\neq0$이면 방벙식은 x 값에 관계없이 항상 성립하지 않는다."
   ]
  },
  {
   "cell_type": "markdown",
   "metadata": {},
   "source": [
    "## 8.4.3 관련없는 열들에 대한 처리"
   ]
  },
  {
   "cell_type": "markdown",
   "metadata": {},
   "source": [
    "다음 예를 살펴보자.\n",
    "\n",
    "$\\begin{bmatrix} 1 &&  &&1 &&  &&  \\\\  && 2 &&  && 3 &&  \\\\  &&  &&  && 1 && 9 \\end{bmatrix} * \\begin{bmatrix} x_a && x_b &&x_c &&x_d  &&x_e \\end{bmatrix} = \\begin{bmatrix} 1 \\\\ 1\\\\ 1 \\end{bmatrix}$\n",
    "\n",
    "어떤 열의 위치에 영이 아닌 맨 왼쪽 엔트리를 가지는 행이 하나도 없는 경우 그런 열은 버린다. 예제에서는 C, E를 버린 다음 시스템은 아래와 같다.\n",
    "\n",
    "$\\begin{bmatrix} 1 &&  &&   \\\\  && 2 &&  3  \\\\  &&  &&  1  \\end{bmatrix} * \\begin{bmatrix} x_a && x_b  &&x_d   \\end{bmatrix} = \\begin{bmatrix} 1 \\\\ 1\\\\ 1 \\end{bmatrix}$\n",
    "\n",
    "이 시스템은 삼각형 형태이고 후진대입법을 사용하여 풀 수 있다.\n",
    "\n",
    "버려진 열에 대응하는 변수  $x_c, x_e$는 영으로 설정하다. 행렬-벡터 곱셈의 선형결합 정의를 사용하여 살펴보면 버려진 열들은 선형결하베 아무것도 기여하는 것이 없다. 이것이 보여 주는 것은 이렇게 변수에 값을 할당한 솔루션은 버려진 열들을 다시 채워넣을 경우에도 맞는 솔루션이 된다는 것이다."
   ]
  },
  {
   "cell_type": "markdown",
   "metadata": {},
   "source": [
    "## 8.4.4 단순한 인증기법 공격하기 및 개선하기"
   ]
  },
  {
   "cell_type": "markdown",
   "metadata": {},
   "source": [
    "- $\\hat x$: GF(2)상의 n-벡터로 패스워드\n",
    "- $a$: 컴퓨터는 시도로서의 n-벡터\n",
    "- $a\\cdot \\hat x$: 사용자의 응답\n",
    "\n",
    "이브는 m개 쌍 $a_1,b_1,...,a_m,b_m$에 대해 알고 있으면 아래와 같이 표현할 수 있고, rankA가 n이 되면 솔루션은 유일하게 되고, 이브는 가우스 소거법을 사용하여 그 솔루션을 찾아 패스워드를 얻을 수 있다.\n",
    "\n",
    "$\\begin{bmatrix} a_1 \\\\ ... \\\\ a_m \\end{bmatrix} \\begin{bmatrix} \\hat x \\end{bmatrix}=\\begin{bmatrix} b_1 \\\\ ... \\\\ b_m \\end{bmatrix}$\n",
    "\n",
    "\n",
    "**의도적 실수를 도입하여 조금 더 안전하게 만들기**\n",
    "- 대략 전체 횟수의 1/6정도, 사용자는 랜덤하게 잘못된 도트곱을 전송한다.\n",
    "- 컴퓨터는 사용자가 75%정도 맞게 응답하면 패스워드를 알고 있다고 생각한다.\n",
    "\n",
    "사실, 엄청나게 많은 횟수의 시도-응답을 관찰하더라도 솔루션ㅇㄹ 찾는데 사용할 수 있는 알려진 효과적인 알고리즘은 없다. GF(2)상의 규모가 큰 행렬-벡터 방정식에 대한 \"근사\" 해를 찾는 것은 어려운 계산문제이다.\n",
    "\n",
    "\n"
   ]
  },
  {
   "cell_type": "markdown",
   "metadata": {},
   "source": [
    "# 8.5 영공간에 대한 기저 찾기"
   ]
  },
  {
   "cell_type": "markdown",
   "metadata": {},
   "source": [
    "주어진 행렬 A에 대해, 벡터공간 $\\{v:v*A=0\\}$에 대한 기저를 찾는 알고리즘을 기술해 보자. 이것은 $A^T$의 영공간이다.  \n",
    "사다리꼴 행렬이 되도록하는 $MA=U$의 가역적인 M행렬을 찾는 것이다. 벡터-행렬 정의를 사용하기 위해 M과 U를 행들로 구선된 것으로 해석한다.  \n",
    "$\\begin{bmatrix} b_1  \\\\  ...  \\\\  b_m  \\end{bmatrix} * \\begin{bmatrix}   \\\\&& A && \\\\ \\\\   \\end{bmatrix} = \\begin{bmatrix} u_1 \\\\ ... \\\\ u_m \\end{bmatrix}$  \n",
    "만약 $u_i$가 영벡터이면 M의 대응하는 행 $b_i$는 $b_i*A=0$인 성질을 가진다.\n"
   ]
  },
  {
   "cell_type": "markdown",
   "metadata": {},
   "source": [
    "### Example 8.5.1 \n",
    "A는 GF(2)상의 다음 행렬이라 해보자.\n",
    "$A=\\begin{bmatrix} 0 && 0 && 0 && one && 0 \\\\  0 && 0 && 0 && one && one  \\\\  one && 0 && 0 && one && 0 \\\\ one && 0 && 0 && 0 && one \\\\ one && 0 && 0 && 0 && 0\\end{bmatrix}$  \n",
    "아래는 MA=U를 만족하는 행렬이다.\n",
    "\n",
    "\n",
    "$\\begin{bmatrix} 0 && 0 && one && 0 && 0 \\\\  one && 0 && 0 && 0 && 0  \\\\  one && one && 0 && 0 && 0 \\\\ 0 && one && one && one && 0 \\\\ one && 0 && one && 0 && 0\\end{bmatrix}*\\begin{bmatrix} 0 && 0 && 0 && one && 0 \\\\  0 && 0 && 0 && one && one  \\\\  one && 0 && 0 && one && 0 \\\\ one && 0 && 0 && 0 && one \\\\ one && 0 && 0 && 0 && 0\\end{bmatrix}=\\begin{bmatrix} one && 0 && 0 && one && 0 \\\\  0 && 0 && 0 && one && 0  \\\\  0 && 0 && 0 && 0 && one \\\\ 0 && 0 && 0 && 0 && 0 \\\\ 0 && 0 && 0 && 0 && 0\\end{bmatrix}$\n",
    "\n",
    "\n",
    "우변 행렬의행 3과 4는 영벡터이고, 좌변의 첫 번째 행렬 M의 행 3과 4는 벡터공간 $\\{v:v*A=0\\}$에 속한다. 이들 두 벡터가 사실상 이 벡터공간에 대한 기저를 형성함을 보여 줄 것이다."
   ]
  },
  {
   "cell_type": "markdown",
   "metadata": {},
   "source": [
    "___"
   ]
  },
  {
   "cell_type": "markdown",
   "metadata": {},
   "source": [
    "선택된 M의 행들이 벡터공간 $\\{v:v*A=0\\}$에 대한 기저라는 것을 보여 주기 위해, 다음 두 가지를 증명해야 한다.\n",
    "- 선택된 행들은 일차독립이다.\n",
    "- 선택된 행들은 벡터공간을 생성(Span)한다.\n",
    "\n",
    "\n",
    "M은 가역행렬이므로 정방행렬이고 그 열들은 일차독립니다. 따라서, 이 행렬의 행들도 일차독립이다. 그러므로, 행들의 임의의 부분집합은 일차독립이다.  \n",
    "만약 선택된 해들의 랭크가 그 벡터공간의 차원과 동일하다는 것을 보여 줄 수 있으면, Dimension Principle의 Property D2에 의해 선택된 행들의 생성은 사실상 그 벡터공간과 동일하다는 것을 보여 줄 수 있다.  \n",
    "선택된 행들은 일차독립이므로, 이들의 랭크는 행들의 개수 s와 동일하다. A의 행의 개수를 m이라 하자.  \n",
    "m=(U의 영이 아닌 행수 개수) + (U의 엔트리가 모두 영인 행의 개수)  \n",
    "&nbsp;&nbsp; = rankA + s  \n",
    "Rank-Nullity Theorem(Kernel-Image Theorem의 행렬버전)에 의하면,  \n",
    "m=rankA+nullity$A^T$  \n",
    "그러므로, $s=nulltiyA^T$\n"
   ]
  },
  {
   "cell_type": "markdown",
   "metadata": {},
   "source": [
    "# 8.6 정수 인수분해"
   ]
  },
  {
   "cell_type": "markdown",
   "metadata": {},
   "source": [
    "### Theorem 8.6.1 Prime Factorization Theorem\n",
    "임의의 양의 정수 N에 대해, 곱이 N이 되는 유일한 소수의 그룹이 존재한다."
   ]
  },
  {
   "cell_type": "code",
   "execution_count": 2,
   "metadata": {},
   "outputs": [],
   "source": [
    "def prime_factorize(N):\n",
    "    if is_prime(N):\n",
    "        return [N]\n",
    "    a, b = factor(N) # 어려운 것은 factor(N)을 신속하게 실행될 수 있도록 구현하는 것이다.\n",
    "    return prime_factorize(a) + prime_factorize(b)"
   ]
  },
  {
   "cell_type": "markdown",
   "metadata": {},
   "source": [
    "## 8.6.1 인수분해에 대한 첫 번째 시도"
   ]
  },
  {
   "cell_type": "markdown",
   "metadata": {},
   "source": [
    "*나눗셈 시도(trial divisions)*는 특정 정수 b에 대해 N이 b로 나누어지는 테스트하는 것이다. 나눗셈 시도는 단순한 연산이 아니다. 이것은 정확한 산술연산이 이루어져야 하므로 부동소수에 대한 연산보다 훨씬 더 느리다."
   ]
  },
  {
   "cell_type": "code",
   "execution_count": 3,
   "metadata": {},
   "outputs": [],
   "source": [
    "def find_divisor(N):\n",
    "    for i in range(2, N):\n",
    "        if N % i == 0:\n",
    "            return i"
   ]
  },
  {
   "cell_type": "markdown",
   "metadata": {},
   "source": [
    "### Claim\n",
    "만약 N이 합성수이면, 자명하지 않는 인수는 $\\sqrt N$보다 작거나 같다."
   ]
  },
  {
   "cell_type": "markdown",
   "metadata": {},
   "source": [
    "___\n",
    "$\\sqrt N$보다 작거나 같은 소수들에 의한 나눗셈 시도만을 고려해보자. Prime Number Theorem에 의하면, 숫자 K보다 작거나 같은 소수는 대략 $K/\\ln(K)$이다."
   ]
  },
  {
   "cell_type": "markdown",
   "metadata": {},
   "source": [
    "# 8.7 Lab: 임계치 비밀 공유(Threshold Secret-Sharing)"
   ]
  },
  {
   "cell_type": "markdown",
   "metadata": {},
   "source": [
    "임계치 비밀 공유 기법을 사용해 보자. 이 기법에서는, 예를 들어, 4명의 조교에게 비밀을 분할하고, 임의의 3명의 조교가 모이면 비밀을 풀 수 있지만 임의의 2명으로는 그 비밀을 풀 수 없다."
   ]
  },
  {
   "cell_type": "markdown",
   "metadata": {},
   "source": [
    "## 8.7.1 첫 번째 시도"
   ]
  },
  {
   "cell_type": "markdown",
   "metadata": {},
   "source": [
    "GF(2)상의 5개 3-벡터: $a_0, a_1, a_2, a_3, a_4$가 있다. 이 벡터들은 알려져 있고 다음 요구조건을 만족한다고 해 보자."
   ]
  },
  {
   "cell_type": "markdown",
   "metadata": {},
   "source": [
    "### Requirement\n",
    "모든 세 원소의 집합은 일차독립이다."
   ]
  },
  {
   "cell_type": "markdown",
   "metadata": {},
   "source": [
    "___\n",
    "1-비트 비밀 s를 조교들 사이에 공유한다고 해보자. 랜덤하게 $a_0\\cdot u=s$가 되는 3-벡터 u를 선택한다. u는 비밀로 유지하지만, 다른 도트곱을 계산한다.  \n",
    "$\\beta_1=a_1\\cdot u$  \n",
    "$\\beta_2=a_2\\cdot u$  \n",
    "$\\beta_3=a_3\\cdot u$  \n",
    "$\\beta_4=a_4\\cdot u$  \n",
    "각 $\\beta$는 TA(조교)들에게 주어진다. 주어진 비트는 그 TA의 몫(share)이라고 한다.\n",
    "\n",
    "TA1, 2, 3이 비밀을 풀고하 한다고 해보자. 그들은 다음 행렬-벡터 방정식을 푼다.  \n",
    "$\\begin{bmatrix} a_1 \\\\ --- \\\\  a_2  \\\\---\\\\  a_3  \\end{bmatrix} * \\begin{bmatrix}   x_1 \\\\ x_2 \\\\ x_3   \\end{bmatrix} = \\begin{bmatrix} \\beta_1 \\\\ \\beta_2 \\\\ \\beta_3 \\end{bmatrix}$  \n",
    "\n",
    "$a_1, a_2, a_3$은 일차독립이고, 정방행렬이므로 이 행렬은 가역적이고 그래서 유일한 해가 존재한다. 그러므로, 세명의 TA는 비밀 벡터 u를 얻을 수 있고, $a_0\\cdot u$로 비밀 s를 알 수 있다.\n",
    "\n",
    "이제, 두명의 정직하지 않는 조교들이 2명이 몰래 비밀을 얻으려고 한다고 해보자. 3x3 행렬 식을 만들기 위해 $\\beta$가 하나고 부족하고 따라서 유일한 해를 찾을 수 없다.\n",
    "\n",
    "**위 기법은 동작하는 것처럼 보이지만 문제가 있다. 문제는 요구조건을 만족하는 5개의 3-벡터가 없다는 것이다. 위 기법이 동작할 만큼 충분한 수의 GF(2)상의 3-벡터는 없다.**"
   ]
  },
  {
   "cell_type": "markdown",
   "metadata": {},
   "source": [
    "## 8.7.2 동작되는 기법"
   ]
  },
  {
   "cell_type": "markdown",
   "metadata": {},
   "source": [
    "더 큰 벡터들을 고려해 보자. GF(2)상의 10개의 6-벡터 $a_0, b_0, a_1, b_1, a_2, b_2, a_3, b_3, a_4, b_4$를 찾아보자. 이 벡터들으 아래와 같이 5개이 쌍을 구성한다고 생각한다.\n",
    "- $a_0, b_0$으로 구성되는 쌍 0\n",
    "- $a_1, b_1$으로 구성되는 쌍 1\n",
    "- $a_2, b_2$으로 구성되는 쌍 2\n",
    "- $a_3, b_3$으로 구성되는 쌍 3\n",
    "- $a_4, b_4$으로 구성되는 쌍 4"
   ]
  },
  {
   "cell_type": "markdown",
   "metadata": {},
   "source": [
    "### Requirement\n",
    "임의의 세 쌍에 대해, 대응하는 6개의 벡터들은 일차독립이다."
   ]
  },
  {
   "cell_type": "markdown",
   "metadata": {},
   "source": [
    "___\n",
    "이 기법에서 두 비트 s와 t를 공유하도록 하기 위해, $a_0\\cdot u=s, b_0\\cdot u=t$를 만족하는 비밀 6-벡터 u를 선택한다. 그 다음에 $\\beta, \\gamma$를 각 벡터들로 계산하여 TA들에게 주어진다."
   ]
  },
  {
   "cell_type": "markdown",
   "metadata": {},
   "source": [
    "### 복원 가능성(Recoverability)\n",
    "임의의 세 TA가 함께 6x6 행렬을 가진 행렬-벡터 방정식을 풀어 u를 얻을 수 있다.\n",
    "\n",
    "$\\begin{bmatrix} a_1 \\\\ b_1 \\\\  a_2  \\\\ b_2 \\\\  a_3 \\\\ b_3  \\end{bmatrix} * \\begin{bmatrix}  \\\\ \\\\ \\\\ x \\\\ \\\\  \\\\  \\end{bmatrix} = \\begin{bmatrix} \\beta_1 \\\\ \\gamma_1 \\\\ \\beta_2 \\\\ \\gamma_2 \\\\ \\beta_3 \\\\ \\gamma_3  \\end{bmatrix}$  \n",
    "\n",
    "벡터 $a_1, b_1, a_2, b_2, a_3, b_3$은 일차독립이므로, 행렬을 가역적이고, 그래서 이 방정식에 대한 유일한 해가 존재한다."
   ]
  },
  {
   "cell_type": "markdown",
   "metadata": {},
   "source": [
    "### 비밀유지\n",
    "임의의 두 TA에 대해, 6x6 행렬-벡터 방정식을 만들기에는 오른쪽의 $\\beta, \\gamma$의 한 쌍을 알지 못하기 때문에 유일한 해를 가지지 않는다."
   ]
  },
  {
   "cell_type": "markdown",
   "metadata": {},
   "source": [
    "## 8.7.3 구현하기"
   ]
  },
  {
   "cell_type": "code",
   "execution_count": 12,
   "metadata": {},
   "outputs": [],
   "source": [
    "from vecutil import list2vec\n",
    "from GF2 import one\n",
    "\n",
    "a0 = list2vec([one, one, 0, one, 0, one])\n",
    "b0 = list2vec([one, one, 0, 0, 0, one])"
   ]
  },
  {
   "cell_type": "markdown",
   "metadata": {},
   "source": [
    "## 8.7.4 u 생성하기"
   ]
  },
  {
   "cell_type": "markdown",
   "metadata": {},
   "source": [
    "### Task 8.7.1\n",
    "다음 스펙을 가지는 프로시저, choose_secret_vector(s, t)를 작성해 보자.\n",
    "- input\n",
    " - GF(2)필드 원소 s\n",
    " - GF(2)필드 원소 t\n",
    "- output\n",
    " - $a_0\\cdot u=s$와 $b_0\\cdot u =t$를 만족하는 랜덤 6-벡터 u"
   ]
  },
  {
   "cell_type": "code",
   "execution_count": 13,
   "metadata": {},
   "outputs": [
    {
     "name": "stdout",
     "output_type": "stream",
     "text": [
      "u: \n",
      " 0 1 2 3   4   5\n",
      "----------------\n",
      " 0 0 0 0 one one\n",
      "a0*u: one\n",
      "b0*u: one\n"
     ]
    }
   ],
   "source": [
    "import random\n",
    "\n",
    "def randGF2(): return random.randint(0, 1)*one\n",
    "\n",
    "def choose_secret_vector(s, t):\n",
    "    u = list2vec([randGF2() for i in range(len(a0.D))])\n",
    "    while a0*u != s or b0*u != t:\n",
    "        u = list2vec([randGF2() for i in range(len(a0.D))])\n",
    "    return u\n",
    "\n",
    "u = choose_secret_vector(one, one)\n",
    "print('u:', u)\n",
    "print('a0*u:', a0*u)\n",
    "print('b0*u:', b0*u)"
   ]
  },
  {
   "cell_type": "markdown",
   "metadata": {},
   "source": [
    "## 8.7.5 요구조건을 만족하는 벡터 찾기"
   ]
  },
  {
   "cell_type": "markdown",
   "metadata": {},
   "source": [
    "### Task 8.7.2\n",
    "아래 요구조건이 만족되는 GF(2)상의 벡터들 $a_1, b_1, a_2, b_2, a_3, b_3, a_4, b_4$를 선택해 보자.\n",
    "- 임의의 세 쌍에 대해, 대응하는 여섯 개의 벡터들은 일차독립니다."
   ]
  },
  {
   "cell_type": "code",
   "execution_count": 48,
   "metadata": {},
   "outputs": [
    {
     "name": "stdout",
     "output_type": "stream",
     "text": [
      "L \n",
      "         0   1   2   3   4   5\n",
      "     -------------------------\n",
      " 0  |  one one   0 one   0 one\n",
      " 1  |  one one   0   0   0 one\n",
      " 2  |    0 one   0 one   0 one\n",
      " 3  |  one one one   0 one one\n",
      " 4  |    0 one   0   0 one one\n",
      " 5  |    0   0 one one   0 one\n",
      " 6  |    0   0   0   0 one one\n",
      " 7  |    0   0   0   0   0 one\n",
      "\n"
     ]
    }
   ],
   "source": [
    "from independence import rank\n",
    "import itertools\n",
    "from matutil import rowdict2mat\n",
    "\n",
    "while True:\n",
    "    L = [(a0, b0)]\n",
    "    for _ in range(3):\n",
    "        a = list2vec([randGF2() for i in range(len(a0.D))])\n",
    "        b = list2vec([randGF2() for i in range(len(a0.D))])\n",
    "        L.append((a, b))\n",
    "    \n",
    "    independence = True\n",
    "    for Ls in itertools.combinations(L, 3):\n",
    "        _L = [v for L in Ls for v in L]\n",
    "        if rank(_L) != len(_L):\n",
    "            independence = False\n",
    "\n",
    "    if independence:\n",
    "        break\n",
    "L = [vec for pair in L for vec in pair]     \n",
    "L = rowdict2mat(L)\n",
    "print('L', L)"
   ]
  },
  {
   "cell_type": "markdown",
   "metadata": {},
   "source": [
    "## 8.7.6 문자열 공유하기"
   ]
  },
  {
   "cell_type": "code",
   "execution_count": 49,
   "metadata": {},
   "outputs": [
    {
     "name": "stdout",
     "output_type": "stream",
     "text": [
      "bit2mat \n",
      "         0 1  10  11  12  13  14  15  16 17  18  19   2  20  21  22  23 24  25  26  27   3   4   5   6   7   8 9\n",
      "     -----------------------------------------------------------------------------------------------------------\n",
      " 0  |    0 0 one one one one   0 one   0  0   0 one one one one one one  0 one   0 one one one one   0 one one 0\n",
      " 1  |  one 0 one   0   0   0 one   0 one  0 one   0   0   0   0 one   0  0   0 one   0   0 one one one   0 one 0\n",
      "\n",
      "\n",
      "U \n",
      "         0   1  10  11  12  13  14  15  16  17  18  19   2  20  21  22  23  24  25  26  27   3   4   5   6   7   8   9\n",
      "     -----------------------------------------------------------------------------------------------------------------\n",
      " 0  |  one one   0 one one   0   0 one   0 one one   0 one   0 one   0   0 one   0   0 one   0 one   0 one   0 one   0\n",
      " 1  |    0 one   0   0 one   0   0   0 one   0 one   0   0   0 one   0   0   0 one   0 one one   0   0 one   0   0 one\n",
      " 2  |    0 one one   0 one one one one one one   0   0 one   0   0 one one   0   0   0   0 one   0   0 one   0   0   0\n",
      " 3  |  one   0   0 one one one one one one   0 one one one one one   0 one   0 one one one one   0   0 one one   0   0\n",
      " 4  |  one one one one one   0 one   0 one   0 one one one one   0   0 one one one   0 one   0   0 one   0   0 one one\n",
      " 5  |    0   0 one one   0   0 one one   0 one one   0 one   0   0 one   0 one one one   0 one   0 one one   0   0 one\n",
      "\n",
      "\n",
      "share \n",
      "         0   1  10  11  12  13  14  15  16  17  18  19   2  20  21  22  23  24  25  26  27   3   4   5   6   7   8   9\n",
      "     -----------------------------------------------------------------------------------------------------------------\n",
      " 0  |    0   0 one one one one   0 one   0   0   0 one one one one one one   0 one   0 one one one one   0 one one   0\n",
      " 1  |  one   0 one   0   0   0 one   0 one   0 one   0   0   0   0 one   0   0   0 one   0   0 one one one   0 one   0\n",
      " 2  |  one one one   0   0 one   0   0   0 one one one   0 one   0 one one one one   0   0 one   0 one one one   0   0\n",
      " 3  |    0   0 one one   0 one one one one one   0 one   0 one   0   0   0 one one one one one one   0   0   0   0 one\n",
      " 4  |  one   0   0   0   0   0   0 one   0 one one one   0 one one one one   0 one one   0   0   0   0   0   0 one one\n",
      " 5  |  one one   0   0   0   0 one one   0   0   0 one one one one   0   0 one   0   0 one one   0 one one one   0 one\n",
      " 6  |  one one   0   0 one   0   0 one one one   0 one   0 one   0 one one   0   0 one one one   0   0 one   0 one   0\n",
      " 7  |    0   0 one one   0   0 one one   0 one one   0 one   0   0 one   0 one one one   0 one   0 one one   0   0 one\n",
      "\n"
     ]
    }
   ],
   "source": [
    "from matutil import coldict2mat\n",
    "from bitutil import str2bits\n",
    "from bitutil import bits2str\n",
    "from bitutil import bits2mat\n",
    "from bitutil import mat2bits\n",
    "\n",
    "bits = str2bits('Rosebud')\n",
    "bitmat = bits2mat(bits, 2)\n",
    "print('bit2mat', bitmat)\n",
    "\n",
    "u_list = []\n",
    "for col in bitmat.D[1]:\n",
    "    u_list.append(choose_secret_vector(bitmat[0, col], bitmat[1, col]))\n",
    "    \n",
    "U = coldict2mat(u_list)\n",
    "print('\\nU', U)\n",
    "\n",
    "share = L*U\n",
    "print('\\nshare', share)"
   ]
  },
  {
   "cell_type": "markdown",
   "metadata": {},
   "source": [
    "# 8.8 Lab: 정수를 인수분해하기"
   ]
  },
  {
   "cell_type": "markdown",
   "metadata": {},
   "source": [
    "## 8.8.1 제곱근을 사용한 첫 번째 시도"
   ]
  },
  {
   "cell_type": "markdown",
   "metadata": {},
   "source": [
    "현대적인 인수분해 알고리즘을 향한 첫 단계에서, 다음을 만족하는 정수 a와 b를 찾는다고 해 보자.\n",
    "\n",
    "$a^2-b^2=N$\n",
    "\n",
    "그러면, 다음이 얻어진다.\n",
    "\n",
    "$(a-b)(a+b)=N$\n",
    "\n",
    "그래서, a-b와 a+b는 N의 약수(인수)이다. 우리가 기대하는 것은 이들이 자명하지 않는 약수이길 원한다(즉, a-b는 1도 아니고 N도 아니다)"
   ]
  },
  {
   "cell_type": "markdown",
   "metadata": {},
   "source": [
    "### Task 8.8.1\n",
    "$a^2-b^2=N$을 만족하는 정수 a와 b를 찾기 위해, 다음 알고리즘을 구현하는 프로시저, root_method(N)을 작성해 보자."
   ]
  },
  {
   "cell_type": "code",
   "execution_count": 89,
   "metadata": {},
   "outputs": [
    {
     "name": "stdout",
     "output_type": "stream",
     "text": [
      "55: 5\n",
      "77: 1\n",
      "146771: 317\n",
      "118: 1\n"
     ]
    }
   ],
   "source": [
    "from factoring_support import intsqrt\n",
    "\n",
    "def root_method(N):\n",
    "    a = intsqrt(N)+1\n",
    "    while a < N:\n",
    "        divisor = intsqrt(a**2-N)\n",
    "        if divisor**2 == a**2-N:\n",
    "            return a - divisor\n",
    "        else:\n",
    "            a += 1\n",
    "    return 1\n",
    "            \n",
    "print('55:', root_method(55))\n",
    "print('77:', root_method(77))\n",
    "print('146771:', root_method(146771))\n",
    "print('118:', root_method(118))"
   ]
  },
  {
   "cell_type": "markdown",
   "metadata": {},
   "source": [
    "## 8.8.2 최대 공약수에 대한 유클리드 알고리즘"
   ]
  },
  {
   "cell_type": "markdown",
   "metadata": {},
   "source": [
    "### Task 8.8.2\n",
    "gcd에 대한 코드를 시험해 보자. 정수 r,s,t가 있고, a=r*s, b=t*s로 설정하고 a와 b의 최대공약수 d를 찾는다. d는 다음 성질을 가지는 것을 확인해 보자.\n",
    "- a는 d에 의해 나누어질 수 있다.\n",
    "- b는 d에 의해 나누어질 수 있다.\n",
    "- $d\\geq s$"
   ]
  },
  {
   "cell_type": "code",
   "execution_count": 93,
   "metadata": {},
   "outputs": [
    {
     "name": "stdout",
     "output_type": "stream",
     "text": [
      "a: 221610\n",
      "b: 312301\n",
      "d: 89\n",
      "a % d: 0\n",
      "b % d: 0\n",
      "d, s: 89 89\n"
     ]
    }
   ],
   "source": [
    "def gcd(x, y): return x if y==0 else gcd(y, x%y)\n",
    "\n",
    "r = 2490\n",
    "s = 89\n",
    "t = 3509\n",
    "\n",
    "a = r*s\n",
    "b = t*s\n",
    "\n",
    "d = gcd(a, b)\n",
    "\n",
    "print('a:', a)\n",
    "print('b:', b)\n",
    "print('d:', d)\n",
    "print('a % d:', a % d)\n",
    "print('b % d:', b % d)\n",
    "print('d, s:', d, s)"
   ]
  },
  {
   "cell_type": "markdown",
   "metadata": {},
   "source": [
    "## 8.8.3 제곱근 사용하기 - 다시 보기"
   ]
  },
  {
   "cell_type": "markdown",
   "metadata": {},
   "source": [
    "$a^2-b^2=N$을 만족하는 그런 정수 a, b를 찾는 것은 너무 어렵다. 조건을 완화하야 $a^2-b^2$이 N에 의해 나누어질 수 있는 나누어질 수 있는 그런 정수 a와 b를 찾아볼 것이다. 그러면, 다음을 만족하는 또 다른 정수 k가 있다.\n",
    "\n",
    "$a^2-b^2=kN$\n",
    "\n",
    "위 식은 다음과 같이 쓸 수 있다.  \n",
    "\n",
    "\n",
    "$(a-b)(a+b)=kN$\n",
    "\n",
    "곱이 kN인 소수들의 그룹(bag of primes) 내 모든 소수는 아래를 만족한다.\n",
    "- 곱이 k인 소수들의 그룹 또는 곱이 N인 소수들의 그룹 둘 중 어느 하나에 속하고,\n",
    "- 곱이 a-b인 소수들의 그룹 또는 곱이 a+b인 소수들의 그룹 둘 중 어느 하나에 속한다."
   ]
  },
  {
   "cell_type": "markdown",
   "metadata": {},
   "source": [
    "### Task 8.8.3\n",
    "$a*a-b*b$ 는 N에 의해 나누어짐을 입증해 보자. 이것은 a-b와 N의 최대공약수는 N의 자명하지 않는 약수일 가능성이 있음을 의미한다."
   ]
  },
  {
   "cell_type": "code",
   "execution_count": 96,
   "metadata": {},
   "outputs": [
    {
     "name": "stdout",
     "output_type": "stream",
     "text": [
      "a^2-b^2 % N: 0\n",
      "gcd(a-b, N): 19117318483477\n"
     ]
    }
   ],
   "source": [
    "N = 367160330145890434494322103\n",
    "a = 67469780066325164\n",
    "b = 9429601150488992\n",
    "\n",
    "print('a^2-b^2 % N:', (a**2-b**2)%N)\n",
    "print('gcd(a-b, N):', gcd(a-b, N))"
   ]
  },
  {
   "cell_type": "markdown",
   "metadata": {},
   "source": [
    "### Task 8.8.4\n",
    "dumb_factor(x, primeset)을 시험해 보자."
   ]
  },
  {
   "cell_type": "code",
   "execution_count": 100,
   "metadata": {},
   "outputs": [
    {
     "name": "stdout",
     "output_type": "stream",
     "text": [
      "12: [(2, 2), (3, 1)]\n",
      "154: [(2, 1), (7, 1), (11, 1)]\n",
      "2*3*3*3*11*11*13: [(2, 1), (3, 3), (11, 2), (13, 1)]\n",
      "2*17: []\n",
      "2*3*5*6*19: []\n"
     ]
    }
   ],
   "source": [
    "from factoring_support import dumb_factor\n",
    "\n",
    "primeset = {2,3,5,7,11,13}\n",
    "\n",
    "print('12:', dumb_factor(12, primeset))\n",
    "print('154:', dumb_factor(154, primeset))\n",
    "print('2*3*3*3*11*11*13:', dumb_factor(2*3*3*3*11*11*13, primeset))\n",
    "print('2*17:', dumb_factor(2*17, primeset))\n",
    "print('2*3*5*6*19:', dumb_factor(2*3*5*6*19, primeset))"
   ]
  },
  {
   "cell_type": "markdown",
   "metadata": {},
   "source": [
    "### Task 8.8.5\n",
    "주어진 정주 i에 대해 만약 i가 홀수이면 one을, 만약 i가 짝수이면 0을 리턴하는 프로시저, int2GF2(i)를 작성해 보자."
   ]
  },
  {
   "cell_type": "code",
   "execution_count": 103,
   "metadata": {},
   "outputs": [
    {
     "name": "stdout",
     "output_type": "stream",
     "text": [
      "3: one\n",
      "4: 0\n"
     ]
    }
   ],
   "source": [
    "from GF2 import one\n",
    "\n",
    "def int2GF2(i):\n",
    "    return 0 if i%2==0 else one\n",
    "\n",
    "print('3:', int2GF2(3))\n",
    "print('4:', int2GF2(4))"
   ]
  },
  {
   "cell_type": "markdown",
   "metadata": {},
   "source": [
    "### Task 8.8.6\n",
    "make_Vec(primeset, factors)을 작성해 보자.\n",
    "- input\n",
    " - 소수들의 집합 primeset\n",
    " - 리스트 $factors=[(p_1,a_1),(p_2,a_2),...,(p_s,a_s)]$ $p_i$는 primeset에 속한다.\n",
    "- output\n",
    " - 정의역 primeset을 가지는 GF(2)상의 primeset-벡터 v. 이때, i=1,...s에 대해, $v[p_i]$=int2GF2($a_i$)을 만족한다."
   ]
  },
  {
   "cell_type": "code",
   "execution_count": 124,
   "metadata": {},
   "outputs": [
    {
     "name": "stdout",
     "output_type": "stream",
     "text": [
      "{2,3,5,7,11}, [(3,1)]: \n",
      " 11 2   3 5 7\n",
      "-------------\n",
      "  0 0 one 0 0\n",
      "{2,3,5,7,11}, [(2,17),(3,0),(5,1),(11,3)]: \n",
      "  11   2 3   5 7\n",
      "----------------\n",
      " one one 0 one 0\n"
     ]
    }
   ],
   "source": [
    "from vec import Vec\n",
    "\n",
    "def make_Vec(primeset, factors):\n",
    "    v = Vec(primeset, {})\n",
    "    for f in factors:\n",
    "        v[f[0]] = int2GF2(f[1])\n",
    "    return v\n",
    "\n",
    "print('{2,3,5,7,11}, [(3,1)]:', make_Vec({2,3,5,7,11}, [(3,1)]))\n",
    "print('{2,3,5,7,11}, [(2,17),(3,0),(5,1),(11,3)]:', make_Vec({2,3,5,7,11}, [(2,17),(3,0),(5,1),(11,3)]))"
   ]
  },
  {
   "cell_type": "markdown",
   "metadata": {},
   "source": [
    "### Task 8.8.7\n",
    "프로시저 find_candidates(N, primeset)을 작성해 보자.\n",
    "- input\n",
    " - 인수분해할 N\n",
    " - 소수들의 집합 primeset\n",
    "- ouput\n",
    " - $a_0,a_1,a_2,...$ 로 구성되는 리스트 roots. 이때, $a_i\\cdot a_i - N$은 primeset상에서 완전히 인수분해 될 수 있다.\n",
    " - 리스트 rowlist. 이 리스트이 원소 i는 $a_i$에 대응하는 GF(2)상의 primeset-벡터이다."
   ]
  },
  {
   "cell_type": "code",
   "execution_count": 209,
   "metadata": {},
   "outputs": [
    {
     "name": "stdout",
     "output_type": "stream",
     "text": [
      "roots: [51, 52, 53, 58, 61, 62, 63, 67, 68, 71, 77, 79]\n",
      "rowlist:\n"
     ]
    },
    {
     "data": {
      "text/plain": [
       "[Vec({2, 3, 5, 7, 11, 13, 17, 19, 23, 29, 31},{2: one, 7: one, 13: one}),\n",
       " Vec({2, 3, 5, 7, 11, 13, 17, 19, 23, 29, 31},{3: one, 5: one, 19: one}),\n",
       " Vec({2, 3, 5, 7, 11, 13, 17, 19, 23, 29, 31},{2: one, 3: one, 5: one, 13: one}),\n",
       " Vec({2, 3, 5, 7, 11, 13, 17, 19, 23, 29, 31},{3: one, 5: one, 7: one}),\n",
       " Vec({2, 3, 5, 7, 11, 13, 17, 19, 23, 29, 31},{2: one, 3: one, 7: one, 31: one}),\n",
       " Vec({2, 3, 5, 7, 11, 13, 17, 19, 23, 29, 31},{3: one, 5: 0, 19: one}),\n",
       " Vec({2, 3, 5, 7, 11, 13, 17, 19, 23, 29, 31},{2: one, 5: 0, 31: one}),\n",
       " Vec({2, 3, 5, 7, 11, 13, 17, 19, 23, 29, 31},{2: one, 3: 0, 5: one, 23: one}),\n",
       " Vec({2, 3, 5, 7, 11, 13, 17, 19, 23, 29, 31},{3: 0, 5: one, 7: 0}),\n",
       " Vec({2, 3, 5, 7, 11, 13, 17, 19, 23, 29, 31},{2: one, 3: one, 19: one, 23: one}),\n",
       " Vec({2, 3, 5, 7, 11, 13, 17, 19, 23, 29, 31},{2: one, 3: one, 5: one, 13: one}),\n",
       " Vec({2, 3, 5, 7, 11, 13, 17, 19, 23, 29, 31},{2: one, 3: one, 7: 0, 13: one})]"
      ]
     },
     "execution_count": 209,
     "metadata": {},
     "output_type": "execute_result"
    }
   ],
   "source": [
    "from factoring_support import primes\n",
    "\n",
    "def find_candidates(N, primeset):\n",
    "    roots = []\n",
    "    rowlist = []\n",
    "    x = intsqrt(N)+2\n",
    "    while len(roots) < len(primeset)+1:\n",
    "        factors = dumb_factor(x*x - N, primeset)\n",
    "        if factors:\n",
    "            roots.append(x)\n",
    "            rowlist.append(make_Vec(primeset, factors))\n",
    "        x += 1\n",
    "    return roots, rowlist\n",
    "\n",
    "N = 2419\n",
    "roots, rowlist = find_candidates(N, primes(32)) \n",
    "print('roots:', roots)\n",
    "print('rowlist:') \n",
    "rowlist"
   ]
  },
  {
   "cell_type": "markdown",
   "metadata": {},
   "source": [
    "### Task 8.8.8 \n",
    "약수를 찾기 위해, a=$53\\cdot 77$, b=$2\\cdot 3^3\\cdot 5 \\cdot 13$이라 하고 gcd(a-b, N)을 계산해 보자. 적합한 N의 약수를 찾았는가?"
   ]
  },
  {
   "cell_type": "code",
   "execution_count": 140,
   "metadata": {},
   "outputs": [
    {
     "data": {
      "text/plain": [
       "41"
      ]
     },
     "execution_count": 140,
     "metadata": {},
     "output_type": "execute_result"
    }
   ],
   "source": [
    "a = 53*77\n",
    "b = 2*3*3*5*13\n",
    "N = 2419\n",
    "gcd(a-b, N)"
   ]
  },
  {
   "cell_type": "markdown",
   "metadata": {},
   "source": [
    "### Task 8.8.9\n",
    "다시, $a=52\\cdot67\\cdot71, b=2\\cdot3^2\\cdot5\\cdot19\\cdot23$이라 하고 gcd(a-b,N)을 계산해 보자. 적합한 N의 약수를 찾았는가?"
   ]
  },
  {
   "cell_type": "code",
   "execution_count": 143,
   "metadata": {},
   "outputs": [
    {
     "data": {
      "text/plain": [
       "2419"
      ]
     },
     "execution_count": 143,
     "metadata": {},
     "output_type": "execute_result"
    }
   ],
   "source": [
    "a = 52*67*71\n",
    "b = 2*3*3*5*19*23\n",
    "gcd(a-b, N)"
   ]
  },
  {
   "cell_type": "markdown",
   "metadata": {},
   "source": [
    "___\n",
    "완전 제곱이 되는 행들의 결합을 어떻게 알았는가? 여기에 선형대수가 사용된다. 이러한 행들에 있는 벡터들의 합은 영벡터이다. 이는 $v*A$의 영벡터가 되는 그러한 영이 아닌 벡터 v를 찾는 것과 같다.  \n",
    "이러한 벡터가 존재하는지 어덯게 아는가? rowlist 내의 각 벡터는 preimeset-벡터이고 그래서 차원이 K=len(primelist)이다. 그러므로, 이러한 벡터들의 랭크는 최대 K이지만 rowlist는 적어도 K+1벡터들로 구성된다. 따라서, 행들은 일차종속이다. 이러한 벡터는 가우스 소거법을 사용하여 행렬을 사다리꼴로 변형할 때 적어도 하나 이상은 반드시 영이 된다."
   ]
  },
  {
   "cell_type": "markdown",
   "metadata": {},
   "source": [
    "### Task 8.8.10\n",
    "프로시저, find_a_and_b(v, roots, N)을 작성해 보자.\n",
    "- input\n",
    " - 벡터 v(M의 행들 중 하나)\n",
    " - 리스트 roots\n",
    " - 인수분해할 정수 N\n",
    "- ouput\n",
    " - a: 벡터 v의 영이 아닌 엔트리들에 대응하는 roots의 원소들로 이루어진 리스트 alist의 원소들의 곱\n",
    " - b: intsqrt($x\\cdot x-N:x\\in alist$)"
   ]
  },
  {
   "cell_type": "code",
   "execution_count": 210,
   "metadata": {},
   "outputs": [
    {
     "name": "stdout",
     "output_type": "stream",
     "text": [
      "M[-1]*A: \n",
      " 11 13 17 19 2 23 29 3 31 5 7\n",
      "-----------------------------\n",
      "  0  0  0  0 0  0  0 0  0 0 0\n",
      "a, b: 13498888 778050\n",
      "diviosr: 1\n",
      "\n",
      "\n",
      "M[-1]*A: \n",
      " 11 13 17 19 2 23 29 3 31 5 7\n",
      "-----------------------------\n",
      "  0  0  0  0 0  0  0 0  0 0 0\n",
      "a, b: 4081 1170\n",
      "diviosr: 41\n"
     ]
    }
   ],
   "source": [
    "from echelon import transformation_rows\n",
    "from factoring_support import prod\n",
    "\n",
    "def find_a_and_b(v, roots, N):\n",
    "    alist = [roots[i] for i, d in enumerate(v.D) if v[d] is not 0]\n",
    "    a = prod(alist)\n",
    "    c = prod([a*a-N for a in alist])\n",
    "    b = intsqrt(c)\n",
    "    \n",
    "    assert b*b == c\n",
    "    return a, b\n",
    "\n",
    "A = rowdict2mat(rowlist)\n",
    "M = transformation_rows(rowlist)\n",
    "\n",
    "a, b = find_a_and_b(M[-1], roots, N)\n",
    "divisor = gcd(a-b, N)\n",
    "print('M[-1]*A:', M[-1]*A)\n",
    "print('a, b:', a, b)\n",
    "print('diviosr:', divisor)\n",
    "\n",
    "print('\\n')\n",
    "a, b = find_a_and_b(M[-2], roots, N)\n",
    "divisor = gcd(a-b, N)\n",
    "print('M[-1]*A:', M[-2]*A)\n",
    "print('a, b:', a, b)\n",
    "print('diviosr:', divisor)"
   ]
  },
  {
   "cell_type": "markdown",
   "metadata": {},
   "source": [
    "### Task 8.8.11\n",
    "N=2461799993978700679이라 하고 N을 인수분해 해 보자."
   ]
  },
  {
   "cell_type": "code",
   "execution_count": 222,
   "metadata": {},
   "outputs": [
    {
     "name": "stdout",
     "output_type": "stream",
     "text": [
      "idx: 1\n",
      "divisor: 1230926561\n",
      "CPU times: user 1min 58s, sys: 226 ms, total: 1min 58s\n",
      "Wall time: 1min 58s\n"
     ]
    }
   ],
   "source": [
    "%%time\n",
    "N = 2461799993978700679\n",
    "roots, rowlist = find_candidates(N, primes(10000))\n",
    "\n",
    "M = transformation_rows(rowlist)\n",
    "for idx, v in enumerate(reversed(M)):\n",
    "    a, b = find_a_and_b(v, roots, N)\n",
    "    divisor = gcd(a-b, N)\n",
    "\n",
    "    if divisor != 1 and divisor != N:\n",
    "        print('idx:', idx)\n",
    "        print('divisor:', divisor)\n",
    "        break"
   ]
  },
  {
   "cell_type": "markdown",
   "metadata": {},
   "source": [
    "### Task 8.8.12\n",
    "더 큰 수인 N=20672783502493917028427이라 하고 N을 인수분해 해 보자."
   ]
  },
  {
   "cell_type": "code",
   "execution_count": 228,
   "metadata": {},
   "outputs": [
    {
     "name": "stdout",
     "output_type": "stream",
     "text": [
      "idx, v: 5\n",
      "divisor: 1230926561\n",
      "CPU times: user 8min 7s, sys: 581 ms, total: 8min 8s\n",
      "Wall time: 8min 8s\n"
     ]
    }
   ],
   "source": [
    "%%time\n",
    "N = 20672783502493917028427\n",
    "roots, rowlist = find_candidates(N, primes(10000))\n",
    "\n",
    "A = rowdict2mat(rowlist)\n",
    "M = transformation_rows(rowlist)\n",
    "for idx, v in enumerate(reversed(M)):\n",
    "    a, b = find_a_and_b(v, roots, N)\n",
    "    divisor = gcd(a-b, N)\n",
    "    \n",
    "    if divisor != 1 and divisor != N:\n",
    "        print('idx, v:', idx)\n",
    "        print('divisor:', divisor)\n",
    "        break"
   ]
  },
  {
   "cell_type": "markdown",
   "metadata": {},
   "source": [
    "### Task 8.8.13\n",
    "큰 소수는 작은 소수보다 정수의 인수분해에 포함될 가능성이 더 낮다라는 힌트를 이용하여 M을 찾는 데 걸리는 시간을 줄여보자."
   ]
  },
  {
   "cell_type": "code",
   "execution_count": 229,
   "metadata": {},
   "outputs": [
    {
     "name": "stdout",
     "output_type": "stream",
     "text": [
      "idx, v: 5\n",
      "divisor: 1230926561\n",
      "CPU times: user 5min 29s, sys: 307 ms, total: 5min 29s\n",
      "Wall time: 5min 29s\n"
     ]
    }
   ],
   "source": [
    "%%time\n",
    "N = 20672783502493917028427\n",
    "roots, rowlist = find_candidates(N, primes(10000))\n",
    "\n",
    "A = rowdict2mat(rowlist)\n",
    "M = transformation_rows(rowlist, sorted(primes(10000), reverse=True))\n",
    "for idx, v in enumerate(reversed(M)):\n",
    "    a, b = find_a_and_b(v, roots, N)\n",
    "    divisor = gcd(a-b, N)\n",
    "    \n",
    "    if divisor != 1 and divisor != N:\n",
    "        print('idx, v:', idx)\n",
    "        print('divisor:', divisor)\n",
    "        break"
   ]
  },
  {
   "cell_type": "markdown",
   "metadata": {},
   "source": [
    "# 8.9 Review questions"
   ]
  },
  {
   "cell_type": "markdown",
   "metadata": {},
   "source": [
    "### Q) 사다리꼴(echelon form)은 무엇인가?\n",
    "- m x n행렬 A는 만약 다음 조건을 만족하면 *사다리꼴*이다. 즉, 임의의 행에 대해, 만약 그 행의 첫 번째 영이 아닌 엔트리가 위치 k에 있으면 그 행 이전의 모든 행의 첫 번째 영이 아닌 엔트리는 k보다 작은 어떤 위치에 있다."
   ]
  },
  {
   "cell_type": "markdown",
   "metadata": {},
   "source": [
    "### Q) 사다리꼴로 된 행렬의 랭크에 대해 무엇을 알 수 있는가?\n",
    "- 사다리꼴로 된 행렬의 랭크는 모든 엔트리가 0인 행을 제외한 행의 수가 랭크이다. 이 사다리꼴로 된 행렬은 원래 행렬의 랭크와 같다\n",
    "- 행렬 A와 M에 대해, 만약 M이 가역적이면 Row MA=Row A이다."
   ]
  },
  {
   "cell_type": "markdown",
   "metadata": {},
   "source": [
    "### Q) 행렬은 어떻게 가역행렬의 곱셈에 의해 사다리꼴로 변환되는가?\n",
    "- 기본행 덧셈 연산 원리로 사다리꼴로 변환된다."
   ]
  },
  {
   "cell_type": "markdown",
   "metadata": {},
   "source": [
    "### Q) 가우스 소거법은 행렬의 영공간에 대한 기저를 찾는 데 어떻게 사용될 수 있는가?\n",
    "- 가우스 소거법을 이용하면 행렬 A를 사다리꼴 행렬로 만든는 가역 행렬 M을 구할 수 있다. 사다리꼴로 된 행렬에서 모든 엔트리가 0인 행에 대응하는 M의 행은 영공간에 대한 기저를 생성한다."
   ]
  },
  {
   "cell_type": "markdown",
   "metadata": {},
   "source": [
    "### Q) 가우스 소거법은 행렬이 가역적일 때 행렬-벡터 방정식을 푸는데 어떻게 사용될 수 있는가?\n",
    "- 가우스 소거법을 이용하면 행렬 A를 사다리꼴 행렬로 만들 수 있고 사다리꼴 행렬은 후진대입법을 이용하여 쉽게 방정식을 풀 수 있다."
   ]
  },
  {
   "cell_type": "markdown",
   "metadata": {},
   "source": [
    "# Problems"
   ]
  },
  {
   "cell_type": "markdown",
   "metadata": {},
   "source": [
    "### Problem 8.9.1\n",
    "GF(2)상의 다음 행렬에 대해 가우스 소거법을 손으로 실행해 보자."
   ]
  },
  {
   "cell_type": "code",
   "execution_count": 1,
   "metadata": {},
   "outputs": [],
   "source": [
    "###### 주어진 행렬 #####\n",
    "#    A   B   C   D\n",
    "# 0 one one  0   0\n",
    "# 1 one  0  one  0\n",
    "# 2  0  one one one\n",
    "# 3 one  0   0   0\n",
    "#####################\n",
    "\n",
    "# iter=0, pivot=0, 기본행 덧셈: 0+1, 0+3\n",
    "###################\n",
    "#    A   B   C   D\n",
    "# 0 one one  0   0\n",
    "# 1  0  one one  0\n",
    "# 2  0  one one one\n",
    "# 3  0  one  0   0\n",
    "###################\n",
    "\n",
    "# iter=1, pivot=1, 기본행 덧셈: 1+2, 1+3\n",
    "###################\n",
    "#    A   B   C   D\n",
    "# 0 one one  0   0\n",
    "# 1  0  one one  0\n",
    "# 2  0   0   0 one\n",
    "# 3  0   0  one  0\n",
    "###################\n",
    "\n",
    "# iter=2, 행 교환: 2,3 \n",
    "###################\n",
    "#    A   B   C   D\n",
    "# 0 one one  0   0\n",
    "# 1  0  one one  0\n",
    "# 2  0   0  one  0\n",
    "# 3  0   0   0 one\n",
    "###################"
   ]
  },
  {
   "cell_type": "markdown",
   "metadata": {},
   "source": [
    "### Problem 8.9.2\n",
    "주어진 각 행렬은 거의 사다리꼴 형태이다. MINIMUM 숫자의 원소들의 값을 0으로 바꾸어 사다리꼴 행렬을 얻는다. 행렬의 행 또는 열들의 순서를 바꾸는 것은 허용되지 않는다."
   ]
  },
  {
   "cell_type": "code",
   "execution_count": 2,
   "metadata": {},
   "outputs": [],
   "source": [
    "#1. \n",
    "# 1    2    0    2    0\n",
    "# 0    1    0    3    4\n",
    "# 0    0    2    3    4 \n",
    "# 1->0 0    0    2    0\n",
    "# 0    3->0 0    0    4\n",
    "\n",
    "#2. \n",
    "# 0    4    3    4    4\n",
    "# 6->0 5->0 4    2    0\n",
    "# 0    0    0    0    1 \n",
    "# 0    0    0    0    2->0\n",
    "\n",
    "#3. \n",
    "# 1    0    0    1    \n",
    "# 1->0 0    0    1\n",
    "# 0    0    0    1->0\n",
    "\n",
    "#3. \n",
    "# 1    0    0    0    \n",
    "# 0    1    0    0\n",
    "# 1->0 1->0 0    0\n",
    "# 0    0    0    1->0"
   ]
  },
  {
   "cell_type": "markdown",
   "metadata": {},
   "source": [
    "### Problem 8.9.3\n",
    "프로시저 is_echelon(A)를 작성해 보자.\n",
    "- input\n",
    " - 행렬 A\n",
    "- ouput\n",
    " - 행렬 A가 사다리꼴이면 True, 그렇지 않으면 False"
   ]
  },
  {
   "cell_type": "code",
   "execution_count": 6,
   "metadata": {},
   "outputs": [
    {
     "name": "stdout",
     "output_type": "stream",
     "text": [
      "is echelon: True \n",
      "       0  1 2\n",
      "     --------\n",
      " 0  |  2  1 0\n",
      " 1  |  0 -4 0\n",
      " 2  |  0  0 1\n",
      "\n",
      "is echelon: False \n",
      "        0 1 2\n",
      "     --------\n",
      " 0  |   2 1 0\n",
      " 1  |  -4 0 0\n",
      " 2  |   0 0 1\n",
      "\n",
      "is echelon: False \n",
      "       0 1 2\n",
      "     -------\n",
      " 0  |  2 1 0\n",
      " 1  |  0 3 0\n",
      " 2  |  1 0 1\n",
      "\n",
      "is echelon: True \n",
      "       0 1 2 3 4\n",
      "     -----------\n",
      " 0  |  1 1 1 1 1\n",
      " 1  |  0 2 0 1 3\n",
      " 2  |  0 0 0 5 3\n",
      "\n"
     ]
    }
   ],
   "source": [
    "from matutil import listlist2mat\n",
    "\n",
    "def is_echelon(A):\n",
    "    echelon = True\n",
    "    nonzero = -1\n",
    "    for r in range(len(A.D[0])):\n",
    "        for c in range(len(A.D[1])):\n",
    "            if A[r,c] != 0:\n",
    "                break\n",
    "        if c <= nonzero:\n",
    "            echelon = False\n",
    "            break\n",
    "        else:\n",
    "            nonzero = c\n",
    "    return echelon\n",
    "\n",
    "A = listlist2mat([[2,1,0],[0,-4,0],[0,0,1]])\n",
    "print('is echelon:', is_echelon(A), A)\n",
    "\n",
    "A = listlist2mat([[2,1,0],[-4,0,0],[0,0,1]])\n",
    "print('is echelon:', is_echelon(A), A)\n",
    "\n",
    "A = listlist2mat([[2,1,0],[0,3,0],[1,0,1]])\n",
    "print('is echelon:', is_echelon(A), A)\n",
    "\n",
    "A = listlist2mat([[1,1,1,1,1],[0,2,0,1,3],[0,0,0,5,3]])\n",
    "print('is echelon:', is_echelon(A), A)"
   ]
  },
  {
   "cell_type": "markdown",
   "metadata": {},
   "source": [
    "### Problem 8.9.4\n",
    "다음의 각 행렬-벡터 방정식에 대한 해를 구하여라."
   ]
  },
  {
   "cell_type": "code",
   "execution_count": 7,
   "metadata": {},
   "outputs": [
    {
     "name": "stdout",
     "output_type": "stream",
     "text": [
      "A \n",
      "        0 1  2        3\n",
      "     ------------------\n",
      " 0  |  10 2 -3       53\n",
      " 1  |   0 0  1 2.01E+03\n",
      "\n",
      "b \n",
      " 0 1\n",
      "----\n",
      " 1 3\n",
      "x \n",
      " 0 1 2 3\n",
      "--------\n",
      " 1 0 3 0\n",
      "A \n",
      "       0 1 2 3\n",
      "     ---------\n",
      " 0  |  2 0 1 3\n",
      " 1  |  0 0 5 3\n",
      " 2  |  0 0 0 1\n",
      "\n",
      "b \n",
      " 0  1 2\n",
      "-------\n",
      " 1 -1 3\n",
      "x \n",
      "  0 1  2 3\n",
      "----------\n",
      " -3 0 -2 3\n",
      "A \n",
      "       0 1  2  3 4\n",
      "     -------------\n",
      " 0  |  2 2  4  3 2\n",
      " 1  |  0 0 -1 11 1\n",
      " 2  |  0 0  0  0 5\n",
      "\n",
      "b \n",
      " 0 1  2\n",
      "-------\n",
      " 2 0 10\n",
      "x \n",
      "  0 1 2 3 4\n",
      "-----------\n",
      " -5 0 2 0 2\n"
     ]
    }
   ],
   "source": [
    "from vecutil import zero_vec\n",
    "from vecutil import list2vec\n",
    "from matutil import mat2rowdict\n",
    "\n",
    "def echelon_solve1(A, b):\n",
    "    rowlist = mat2rowdict(A)\n",
    "    D = rowlist[0].D\n",
    "    n = len(D)\n",
    "    x = zero_vec(D)\n",
    "    for r in reversed(range(len(rowlist))):\n",
    "        c = next((c for c in range(n) if rowlist[r][c]), None)\n",
    "        if c is not None:\n",
    "            x[c] = (b[r] - rowlist[r] * x)/rowlist[r][c]            \n",
    "    return x\n",
    "\n",
    "A = listlist2mat([[10,2,-3,53],[0,0,1,2013]])\n",
    "b = list2vec([1,3])\n",
    "x = echelon_solve1(A, b)\n",
    "print('A', A)\n",
    "print('b', b)\n",
    "print('x', x)\n",
    "\n",
    "A = listlist2mat([[2,0,1,3],[0,0,5,3],[0,0,0,1]])\n",
    "b = list2vec([1,-1,3])\n",
    "x = echelon_solve1(A, b)\n",
    "print('A', A)\n",
    "print('b', b)\n",
    "print('x', x)\n",
    "\n",
    "A = listlist2mat([[2,2,4,3,2,],[0,0,-1,11,1],[0,0,0,0,5]])\n",
    "b = list2vec([2,0,10])\n",
    "x = echelon_solve1(A, b)\n",
    "print('A', A)\n",
    "print('b', b)\n",
    "print('x', x)"
   ]
  },
  {
   "cell_type": "markdown",
   "metadata": {},
   "source": [
    "### Problem 8.9.5\n",
    "다음의 각 행렬-벡터 방정식에 대해, 방정식이 해를 가지는지 알아보자. 만약 해를 가지는 경우, 그 해를 계산하여라."
   ]
  },
  {
   "cell_type": "code",
   "execution_count": 8,
   "metadata": {},
   "outputs": [
    {
     "name": "stdout",
     "output_type": "stream",
     "text": [
      "A \n",
      "       0 1  2  3 4\n",
      "     -------------\n",
      " 0  |  1 3 -2  1 0\n",
      " 1  |  0 0  2 -3 0\n",
      " 2  |  0 0  0  0 0\n",
      "\n",
      "b \n",
      " 0 1 2\n",
      "------\n",
      " 5 3 2\n",
      "x Don`t have the solution\n",
      "A \n",
      "       0 1  2  3 4\n",
      "     -------------\n",
      " 0  |  1 2 -8 -4 0\n",
      " 1  |  0 0  2 12 0\n",
      " 2  |  0 0  0  0 0\n",
      " 3  |  0 0  0  0 0\n",
      "\n",
      "b \n",
      " 0 1 2 3\n",
      "--------\n",
      " 5 4 0 0\n",
      "x \n",
      "  0 1 2 3 4\n",
      "-----------\n",
      " 21 0 2 0 0\n"
     ]
    }
   ],
   "source": [
    "def echelon_solve2(A, b):\n",
    "    rowlist = mat2rowdict(A)\n",
    "    D = rowlist[0].D\n",
    "    n = len(D)\n",
    "    x = zero_vec(D)\n",
    "    for r in reversed(range(len(rowlist))):\n",
    "        c = next((c for c in range(n) if rowlist[r][c]), None)\n",
    "        if c is not None:\n",
    "            x[c] = (b[r] - rowlist[r] * x)/rowlist[r][c]\n",
    "        elif rowlist[r] == zero_vec(D) and b[r] is not 0:\n",
    "            return 'Don`t have the solution'\n",
    "            \n",
    "    return x\n",
    "\n",
    "\n",
    "A = listlist2mat([[1,3,-2,1,0],[0,0,2,-3,0],[0,0,0,0,0]])\n",
    "b = list2vec([5,3,2])\n",
    "x = echelon_solve2(A, b)\n",
    "print('A', A)\n",
    "print('b', b)\n",
    "print('x', x)\n",
    "\n",
    "A = listlist2mat([[1,2,-8,-4,0],[0,0,2,12,0],[0,0,0,0,0],[0,0,0,0,0]])\n",
    "b = list2vec([5,4,0,0])\n",
    "x = echelon_solve2(A, b)\n",
    "print('A', A)\n",
    "print('b', b)\n",
    "print('x', x)"
   ]
  },
  {
   "cell_type": "markdown",
   "metadata": {},
   "source": [
    "### Problem 8.9.6\n",
    "다음 스펙을 가지는 프로시저, echelon_solver(rowlist, label_list, b)을 제시하여라.\n",
    "- input\n",
    " - rowlist: 정수 n에 대해, n 벡터들의 리스트 rowlist에 의해 표현된 사다리꼴 형태의 행렬\n",
    " - label_list: 행렬의 열들의 순서를 제공하는 열-라벨들의 리스트\n",
    " - b: 필드 원소들로 구성된 길이가 n인 리스트 b\n",
    "- output\n",
    " - 벡터 x. i=0,1,...,n-1에 대해, rowlist[i]와 x의 도트곱은 만약 rowlist[i]가 영벡터가 아니면 b[i]와 동일하다."
   ]
  },
  {
   "cell_type": "code",
   "execution_count": 22,
   "metadata": {},
   "outputs": [
    {
     "name": "stdout",
     "output_type": "stream",
     "text": [
      "rowlist \n",
      "         A   B   C   D   E\n",
      "     ---------------------\n",
      " 0  |  one   0 one one   0\n",
      " 1  |    0 one   0   0 one\n",
      " 2  |    0   0 one   0 one\n",
      " 3  |    0   0   0   0 one\n",
      "\n",
      "b [one, 0, one, one]\n",
      "x \n",
      "   A   B C D   E\n",
      "----------------\n",
      " one one 0 0 one\n",
      "rowlist \n",
      "         A   B   C   D   E\n",
      "     ---------------------\n",
      " 0  |  one one   0 one   0\n",
      " 1  |    0 one   0 one one\n",
      " 2  |    0   0 one   0 one\n",
      " 3  |    0   0   0   0   0\n",
      "\n",
      "b [one, 0, one, 0]\n",
      "x \n",
      "   A B   C D E\n",
      "--------------\n",
      " one 0 one 0 0\n"
     ]
    }
   ],
   "source": [
    "from vec import Vec\n",
    "from GF2 import one\n",
    "from matutil import rowdict2mat\n",
    "\n",
    "def echelon_solve(rowlist, label_list, b):\n",
    "    D = rowlist[0].D\n",
    "    x = zero_vec(set(label_list))\n",
    "    for r in reversed(range(len(rowlist))):\n",
    "        c = next((c for c in label_list if rowlist[r][c]), None)\n",
    "        if c is not None:\n",
    "            x[c] = (b[r] - rowlist[r] * x)/rowlist[r][c]\n",
    "        elif rowlist[r] == zero_vec(D) and b[r] is not 0:\n",
    "            return 'Don`t have the solution'\n",
    "    return x\n",
    "\n",
    "label_list = ['A', 'B', 'C', 'D', 'E']\n",
    "rowlist = [Vec(set(label_list), {'A':one, 'B':0, 'C':one, 'D':one, 'E': 0}),\n",
    "           Vec(set(label_list), {'A':0, 'B':one, 'C':0, 'D':0, 'E': one}),\n",
    "           Vec(set(label_list), {'A':0, 'B':0, 'C':one, 'D':0, 'E': one}),\n",
    "           Vec(set(label_list), {'A':0, 'B':0, 'C':0, 'D':0, 'E': one})]\n",
    "b = [one, 0, one, one]\n",
    "x = echelon_solve(rowlist, label_list, b)\n",
    "print('rowlist', rowdict2mat(rowlist))\n",
    "print('b', b)\n",
    "print('x', x)\n",
    "\n",
    "rowlist = [Vec(set(label_list), {'A':one, 'B':one, 'C':0, 'D':one, 'E': 0}),\n",
    "           Vec(set(label_list), {'A':0, 'B':one, 'C':0, 'D':one, 'E': one}),\n",
    "           Vec(set(label_list), {'A':0, 'B':0, 'C':one, 'D':0, 'E': one}),\n",
    "           Vec(set(label_list), {'A':0, 'B':0, 'C':0, 'D':0, 'E': 0})]\n",
    "b = [one, 0, one, 0]\n",
    "x = echelon_solve(rowlist, label_list, b)\n",
    "print('rowlist', rowdict2mat(rowlist))\n",
    "print('b', b)\n",
    "print('x', x)"
   ]
  },
  {
   "cell_type": "markdown",
   "metadata": {},
   "source": [
    "### Problem 8.9.7\n",
    "일반적인 행렬-벡터 방정식을 푸는 프로시저에 대해 알아보자."
   ]
  },
  {
   "cell_type": "code",
   "execution_count": 35,
   "metadata": {},
   "outputs": [
    {
     "name": "stdout",
     "output_type": "stream",
     "text": [
      "A \n",
      "         A   B   C   D\n",
      "     -----------------\n",
      " a  |  one one   0 one\n",
      " b  |  one   0   0 one\n",
      " c  |  one one one one\n",
      " d  |    0   0 one one\n",
      "\n",
      "g \n",
      "   a b   c d\n",
      "------------\n",
      " one 0 one 0\n",
      "x \n",
      " A   B C D\n",
      "----------\n",
      " 0 one 0 0\n",
      "A*x \n",
      "   a b   c d\n",
      "------------\n",
      " one 0 one 0\n"
     ]
    }
   ],
   "source": [
    "from mat import Mat\n",
    "import echelon\n",
    "\n",
    "\n",
    "def solve(A, b):\n",
    "    M = echelon.transformation(A)\n",
    "    U = M*A\n",
    "    col_label_list = sorted(A.D[1])\n",
    "    U_row_dict = mat2rowdict(U)\n",
    "    rowdict = [U_row_dict[i] for i in U_row_dict]\n",
    "    return echelon_solve(rowdict, col_label_list, M*b)\n",
    "\n",
    "\n",
    "A = Mat(({'a','b','c','d'},{'A','B','C','D'}), {('a','A'):one, ('a','B'):one, ('a','C'):0, ('a','D'):one,\n",
    "                                                ('b','A'):one, ('b','B'):0, ('b','C'):0, ('b','D'):one,\n",
    "                                                ('c','A'):one, ('c','B'):one, ('c','C'):one, ('c','D'):one,\n",
    "                                                ('d','A'):0, ('d','B'):0, ('d','C'):one, ('d','D'):one})\n",
    "g = Vec({'a','b','c','d'}, {'a':one, 'b':0, 'c': one, 'd': 0})\n",
    "x = solve(A, g)\n",
    "\n",
    "print('A', A)\n",
    "print('g', g)\n",
    "print('x', x)\n",
    "print('A*x', A*x)"
   ]
  },
  {
   "cell_type": "markdown",
   "metadata": {},
   "source": [
    "### Problem 8.9.8\n",
    "GF(2)상의 행렬들에서 $\\{u:u*A=0\\}=A^T$에 대한 기저를 찾아보자."
   ]
  },
  {
   "cell_type": "code",
   "execution_count": 51,
   "metadata": {},
   "outputs": [
    {
     "name": "stdout",
     "output_type": "stream",
     "text": [
      "A \n",
      "         A B C   D   E\n",
      "     -----------------\n",
      " a  |    0 0 0 one   0\n",
      " b  |    0 0 0 one one\n",
      " c  |  one 0 0 one   0\n",
      " d  |  one 0 0   0 one\n",
      " e  |  one 0 0   0   0\n",
      "\n",
      "u [Vec({'d', 'c', 'e', 'b', 'a'},{'d': one, 'c': one, 'e': 0, 'b': one, 'a': 0}), Vec({'d', 'c', 'e', 'b', 'a'},{'d': 0, 'c': one, 'e': one, 'b': 0, 'a': one})]\n"
     ]
    }
   ],
   "source": [
    "def find_null_space_basis(A):\n",
    "    M = echelon.transformation(A)\n",
    "    MA = M*A\n",
    "    MA_dict = mat2rowdict(MA)\n",
    "    M_dict = mat2rowdict(M)\n",
    "    u_list = [M_dict[k] for k, v in MA_dict.items() if v == zero_vec(A.D[1])]\n",
    "    return u_list\n",
    "    \n",
    "\n",
    "A = Mat(({'a','b','c','d','e'},{'A','B','C','D','E'}), {('a','A'):0, ('a','B'):0, ('a','C'):0, ('a','D'):one, ('a','E'):0,\n",
    "                                                        ('b','A'):0, ('b','B'):0, ('b','C'):0, ('b','D'):one, ('b','E'):one, \n",
    "                                                        ('c','A'):one, ('c','B'):0, ('c','C'):0, ('c','D'):one, ('c','E'):0,\n",
    "                                                        ('d','A'):one, ('d','B'):0, ('d','C'):0, ('d','D'):0, ('d','E'):one,\n",
    "                                                        ('e','A'):one, ('e','B'):0, ('e','C'):0, ('e','D'):0, ('e','E'):0,}) \n",
    "\n",
    "u_list = find_null_space_basis(A)\n",
    "print('A', A)\n",
    "print('u', u_list)"
   ]
  },
  {
   "cell_type": "markdown",
   "metadata": {},
   "source": [
    "### Problem 8.9.9\n",
    "GF(2)상의 행렬들에서 $\\{u:u*A=0\\}=A^T$에 대한 기저를 찾아보자."
   ]
  },
  {
   "cell_type": "code",
   "execution_count": 52,
   "metadata": {},
   "outputs": [
    {
     "name": "stdout",
     "output_type": "stream",
     "text": [
      "A \n",
      "         A   B   C   D   E\n",
      "     ---------------------\n",
      " a  |    0   0   0 one   0\n",
      " b  |    0   0   0 one one\n",
      " c  |  one   0   0 one   0\n",
      " d  |  one one one   0 one\n",
      " e  |  one   0   0 one   0\n",
      "\n",
      "u [Vec({'d', 'c', 'e', 'b', 'a'},{'d': 0, 'c': one, 'e': one, 'b': 0, 'a': 0})]\n"
     ]
    }
   ],
   "source": [
    "A = Mat(({'a','b','c','d','e'},{'A','B','C','D','E'}), {('a','A'):0, ('a','B'):0, ('a','C'):0, ('a','D'):one, ('a','E'):0,\n",
    "                                                        ('b','A'):0, ('b','B'):0, ('b','C'):0, ('b','D'):one, ('b','E'):one, \n",
    "                                                        ('c','A'):one, ('c','B'):0, ('c','C'):0, ('c','D'):one, ('c','E'):0,\n",
    "                                                        ('d','A'):one, ('d','B'):one, ('d','C'):one, ('d','D'):0, ('d','E'):one,\n",
    "                                                        ('e','A'):one, ('e','B'):0, ('e','C'):0, ('e','D'):one, ('e','E'):0,}) \n",
    "\n",
    "u_list = find_null_space_basis(A)\n",
    "print('A', A)\n",
    "print('u', u_list)"
   ]
  }
 ],
 "metadata": {
  "kernelspec": {
   "display_name": "Python 3",
   "language": "python",
   "name": "python3"
  },
  "language_info": {
   "codemirror_mode": {
    "name": "ipython",
    "version": 3
   },
   "file_extension": ".py",
   "mimetype": "text/x-python",
   "name": "python",
   "nbconvert_exporter": "python",
   "pygments_lexer": "ipython3",
   "version": "3.6.0"
  }
 },
 "nbformat": 4,
 "nbformat_minor": 2
}
