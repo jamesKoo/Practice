{
 "cells": [
  {
   "cell_type": "markdown",
   "metadata": {},
   "source": [
    "## 3.12 Lab 도트곱을 사용하여 투표기록 비교하기"
   ]
  },
  {
   "cell_type": "markdown",
   "metadata": {},
   "source": [
    "### 3.12.1 파일 읽어 들이기"
   ]
  },
  {
   "cell_type": "code",
   "execution_count": 5,
   "metadata": {},
   "outputs": [],
   "source": [
    "f = open('voting_record_dump109.txt')\n",
    "mylist = list(f)"
   ]
  },
  {
   "cell_type": "markdown",
   "metadata": {},
   "source": [
    "##### Task 3.12.1"
   ]
  },
  {
   "cell_type": "code",
   "execution_count": 37,
   "metadata": {},
   "outputs": [],
   "source": [
    "def create_voting_dict(strlist):\n",
    "    dic = {}\n",
    "    \n",
    "    for str in strlist:\n",
    "        word = str.split()\n",
    "        dic[word[0]] = [int(word[i]) for i in range(3,len(word))]       \n",
    "    \n",
    "    return dic"
   ]
  },
  {
   "cell_type": "code",
   "execution_count": 106,
   "metadata": {},
   "outputs": [],
   "source": [
    "voting_dict = create_voting_dict(mylist)"
   ]
  },
  {
   "cell_type": "code",
   "execution_count": 46,
   "metadata": {
    "collapsed": true
   },
   "outputs": [],
   "source": [
    "def policy_compare(sen_a, sen_b, voting_dict):\n",
    "    voting_a = voting_dict[sen_a]\n",
    "    voting_b = voting_dict[sen_b]\n",
    "    return sum([a*b for (a,b) in zip(voting_a, voting_b)])"
   ]
  },
  {
   "cell_type": "code",
   "execution_count": 50,
   "metadata": {},
   "outputs": [
    {
     "data": {
      "text/plain": [
       "13"
      ]
     },
     "execution_count": 50,
     "metadata": {},
     "output_type": "execute_result"
    }
   ],
   "source": [
    "policy_compare('Akaka', 'Crapo', voting_dict)"
   ]
  },
  {
   "cell_type": "code",
   "execution_count": 67,
   "metadata": {
    "collapsed": true
   },
   "outputs": [],
   "source": [
    "def most_similar(sen, voting_dict):\n",
    "    max = -float('infinity')\n",
    "    most_name = ''\n",
    "    \n",
    "    for name in voting_dict.keys():\n",
    "        if(name != sen):\n",
    "            similar = policy_compare(sen, name, voting_dict) \n",
    "            if similar > max:\n",
    "                max = similar\n",
    "                most_name = name\n",
    "    \n",
    "    return most_name"
   ]
  },
  {
   "cell_type": "code",
   "execution_count": 139,
   "metadata": {},
   "outputs": [],
   "source": [
    "def least_similar(sen, voting_dict):\n",
    "    min = float('infinity')\n",
    "    least_name = ''\n",
    "    \n",
    "    for name in voting_dict.keys():\n",
    "        if(name != sen):\n",
    "            similar = policy_compare(sen, name, voting_dict)\n",
    "            if(similar < min):\n",
    "                min = similar\n",
    "                least_name = name\n",
    "    \n",
    "    return least_name, min"
   ]
  },
  {
   "cell_type": "code",
   "execution_count": 71,
   "metadata": {},
   "outputs": [
    {
     "data": {
      "text/plain": [
       "'Carper'"
      ]
     },
     "execution_count": 71,
     "metadata": {},
     "output_type": "execute_result"
    }
   ],
   "source": [
    "most_similar('Lincoln', voting_dict)"
   ]
  },
  {
   "cell_type": "code",
   "execution_count": 140,
   "metadata": {},
   "outputs": [
    {
     "data": {
      "text/plain": [
       "('Feingold', 3)"
      ]
     },
     "execution_count": 140,
     "metadata": {},
     "output_type": "execute_result"
    }
   ],
   "source": [
    "least_similar('Santorum', voting_dict)"
   ]
  },
  {
   "cell_type": "markdown",
   "metadata": {},
   "source": [
    "### 3.12.4 평균직 민주당원과의 비교"
   ]
  },
  {
   "cell_type": "markdown",
   "metadata": {},
   "source": [
    "##### Task 3.12.7"
   ]
  },
  {
   "cell_type": "code",
   "execution_count": 87,
   "metadata": {},
   "outputs": [],
   "source": [
    "def find_average_similarity(sen, sen_set, voting_dict):\n",
    "    sum = 0\n",
    "    for sen_other in sen_set:\n",
    "        sum += policy_compare(sen, sen_other, voting_dict)\n",
    "    \n",
    "    return sum / len(sen_set)"
   ]
  },
  {
   "cell_type": "code",
   "execution_count": 100,
   "metadata": {
    "collapsed": true
   },
   "outputs": [],
   "source": [
    "def create_party_set(party, strlist):\n",
    "    party_set = set()\n",
    "    \n",
    "    for str in strlist:\n",
    "        word = str.split()\n",
    "        if word[1] == party:\n",
    "            party_set.add(word[0])\n",
    "            \n",
    "    return party_set            "
   ]
  },
  {
   "cell_type": "code",
   "execution_count": 103,
   "metadata": {
    "scrolled": true
   },
   "outputs": [
    {
     "name": "stdout",
     "output_type": "stream",
     "text": [
      "{'Conrad', 'Leahy', 'Harkin', 'Byrd', 'Mikulski', 'Reed', 'Stabenow', 'Feingold', 'Salazar', 'Akaka', 'Kennedy', 'Kerry', 'Inouye', 'Dorgan', 'Carper', 'Johnson', 'Biden', 'Nelson2', 'Dodd', 'Durbin', 'Cantwell', 'Bingaman', 'Rockefeller', 'Pryor', 'Reid', 'Baucus', 'Clinton', 'Boxer', 'Nelson1', 'Sarbanes', 'Lautenberg', 'Lincoln', 'Wyden', 'Kohl', 'Bayh', 'Schumer', 'Lieberman', 'Obama', 'Murray', 'Landrieu', 'Levin', 'Feinstein', 'Dayton'}\n"
     ]
    }
   ],
   "source": [
    "sen_D = create_party_set('D', mylist)\n",
    "print(sen_D)"
   ]
  },
  {
   "cell_type": "code",
   "execution_count": 104,
   "metadata": {
    "collapsed": true
   },
   "outputs": [],
   "source": [
    "def most_average_similar(sen_set, voting_dict):\n",
    "    max = -float('infinity')\n",
    "    most_name = ''\n",
    "    \n",
    "    for name in voting_dict.keys():\n",
    "        avg_similar = find_average_similarity(name, sen_set, voting_dict)\n",
    "        if avg_similar > max:\n",
    "            max = avg_similar\n",
    "            most_name = name\n",
    "            \n",
    "    return most_name"
   ]
  },
  {
   "cell_type": "code",
   "execution_count": 108,
   "metadata": {},
   "outputs": [
    {
     "data": {
      "text/plain": [
       "'Biden'"
      ]
     },
     "execution_count": 108,
     "metadata": {},
     "output_type": "execute_result"
    }
   ],
   "source": [
    "most_average_similar(sen_D, voting_dict)"
   ]
  },
  {
   "cell_type": "markdown",
   "metadata": {},
   "source": [
    "##### Task 3.12.8"
   ]
  },
  {
   "cell_type": "code",
   "execution_count": 129,
   "metadata": {},
   "outputs": [],
   "source": [
    "def find_average_record(sen_set, voting_dict):\n",
    "    avg_record = [ 0 for x in range(len(voting_dict[list(sen_set)[0]]))]\n",
    "    \n",
    "    for sen in sen_set:\n",
    "        avg_record = [ sum(x) for x in zip(voting_dict[sen], avg_record)]\n",
    "    \n",
    "    return [x/len(sen_set) for x in avg_record]"
   ]
  },
  {
   "cell_type": "code",
   "execution_count": 130,
   "metadata": {},
   "outputs": [],
   "source": [
    "average_Democrat_record = find_average_record(sen_D, voting_dict)"
   ]
  },
  {
   "cell_type": "code",
   "execution_count": 136,
   "metadata": {
    "collapsed": true
   },
   "outputs": [],
   "source": [
    "def most_average_similar(average_record, voting_dict):\n",
    "    max = -float('infinity')\n",
    "    most_name = ''\n",
    "    \n",
    "    for name in voting_dict.keys():\n",
    "        similar = sum([u*v for (u,v) in zip(voting_dict[name], average_record)])\n",
    "        if similar > max:\n",
    "            max = similar\n",
    "            most_name = name\n",
    "    \n",
    "    return most_name"
   ]
  },
  {
   "cell_type": "code",
   "execution_count": 138,
   "metadata": {},
   "outputs": [
    {
     "data": {
      "text/plain": [
       "'Biden'"
      ]
     },
     "execution_count": 138,
     "metadata": {},
     "output_type": "execute_result"
    }
   ],
   "source": [
    "most_average_similar(average_Democrat_record, voting_dict)"
   ]
  },
  {
   "cell_type": "markdown",
   "metadata": {},
   "source": [
    "### 3.12.5 최대 경쟁자"
   ]
  },
  {
   "cell_type": "markdown",
   "metadata": {},
   "source": [
    "#### Task 3.12.9"
   ]
  },
  {
   "cell_type": "code",
   "execution_count": 142,
   "metadata": {
    "collapsed": true
   },
   "outputs": [],
   "source": [
    "def bitter_rivals(voting_dict):\n",
    "    min = float('infinity')\n",
    "    rival = []\n",
    "    \n",
    "    for name in voting_dict.keys():\n",
    "        rival_name, similar = least_similar(name, voting_dict)\n",
    "        if similar < min:\n",
    "            min = similar\n",
    "            rival = [name, rival_name]\n",
    "    \n",
    "    return rival"
   ]
  },
  {
   "cell_type": "code",
   "execution_count": 145,
   "metadata": {},
   "outputs": [
    {
     "data": {
      "text/plain": [
       "['Inhofe', 'Feingold']"
      ]
     },
     "execution_count": 145,
     "metadata": {},
     "output_type": "execute_result"
    }
   ],
   "source": [
    "bitter_rivals(voting_dict)"
   ]
  }
 ],
 "metadata": {
  "kernelspec": {
   "display_name": "Python 3",
   "language": "python",
   "name": "python3"
  },
  "language_info": {
   "codemirror_mode": {
    "name": "ipython",
    "version": 3
   },
   "file_extension": ".py",
   "mimetype": "text/x-python",
   "name": "python",
   "nbconvert_exporter": "python",
   "pygments_lexer": "ipython3",
   "version": "3.6.0"
  }
 },
 "nbformat": 4,
 "nbformat_minor": 1
}
