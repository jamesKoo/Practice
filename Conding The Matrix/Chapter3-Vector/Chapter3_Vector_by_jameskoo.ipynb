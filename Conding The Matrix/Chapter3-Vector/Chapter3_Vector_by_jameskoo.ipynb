{
 "cells": [
  {
   "cell_type": "markdown",
   "metadata": {},
   "source": [
    "# Chapter 3. 벡터"
   ]
  },
  {
   "cell_type": "markdown",
   "metadata": {},
   "source": [
    "# 3.1 벡터란 무엇인가?"
   ]
  },
  {
   "cell_type": "markdown",
   "metadata": {},
   "source": [
    "- 벡터란 단어는 \"운반하다\"라는 뜻의 라틴어에서 유래되었다. 이 용어는 어떤 것을 한 장소에서 다른 곳으로 이동하는 벡터의 방향성에 비롯된다."
   ]
  },
  {
   "cell_type": "markdown",
   "metadata": {},
   "source": [
    "### Definition 3.1.1\n",
    "- 4개의 실수를 원소로 가지는 벡터를 $\\mathbb{R}$상의 4-벡터라고 한다."
   ]
  },
  {
   "cell_type": "markdown",
   "metadata": {},
   "source": [
    "### Definitino 3.1.2\n",
    "- 필드 F와 양의 정수 n에 대해, F에 속하는 n개의 원소를 가지는 벡터를 **F상의 n-벡터**라고 한다. F상의 n-벡터들의 집합은 $F^n$으로 나타낸다.\n",
    "- 예를 들어, $\\mathbb{R}$상의 4-벡터들의 집합을 $\\mathbb{R}^4$라고 쓴다."
   ]
  },
  {
   "cell_type": "markdown",
   "metadata": {},
   "source": [
    "# 3.2 벡터는 함수이다"
   ]
  },
  {
   "cell_type": "markdown",
   "metadata": {},
   "source": [
    "- 일단 벡터는 함수란 해것을 받아들이게 되면 많은 응용 분야가 보일 것이다."
   ]
  },
  {
   "cell_type": "markdown",
   "metadata": {},
   "source": [
    "### Definition 3.1.3\n",
    "- 유한 집합 D와 필드 F에 대해, F상의 D-벡터는 D에서 F로의 함수이다."
   ]
  },
  {
   "cell_type": "markdown",
   "metadata": {},
   "source": [
    "## 3.2.1 파이썬의 딕셔너리를 이용한 벡터 표현"
   ]
  },
  {
   "cell_type": "markdown",
   "metadata": {},
   "source": [
    "- 파이썬의 딕셔너리는 유한한 정의역을 가지는 함수를 표현하는데 편리하다.\n",
    "- 스파스(sparse)표현은 0인 키-값 쌍을 생략하는 방식이다."
   ]
  },
  {
   "cell_type": "markdown",
   "metadata": {},
   "source": [
    "## 3.2.2 Sparsity"
   ]
  },
  {
   "cell_type": "markdown",
   "metadata": {},
   "source": [
    "- 대부분의 원소값이 영인 벡터를 스파스(sparse)벡터라고 한다.\n",
    "- 만약 영이 아닌 원소의 수가 최대 k개인 벡터는 k-스파스라고 한다.\n",
    "- 주어진 벡터와 파라미터 k에 대해 \"가장 가까운(closet)\" k-스파스 벡터를 찾는 계산 문제를 다룰 것이다.\n",
    "- 행렬이 스파스함을 나타내는 또 다른 형태인 로우 랭크(낮은 랭크)(low-rank)에 대해 알아볼 것이다. 로우-랭크 행렬은 데이터를 설명하는 요인을 찾기 위해 데이터를 분석하는 데 사용된다."
   ]
  },
  {
   "cell_type": "markdown",
   "metadata": {},
   "source": [
    "## 3.3 벡터로 무엇을 표현할 수 있는가?"
   ]
  },
  {
   "cell_type": "markdown",
   "metadata": {},
   "source": [
    "### 이진 문자열(binary string)\n",
    "- 어떤 암호 체계의 비밀키는 GF(2)상의 n-벡터, [1,0,1,1,1,0,1]에 의해 표현될 수 있다."
   ]
  },
  {
   "cell_type": "markdown",
   "metadata": {},
   "source": [
    "### 속성(attribute)\n",
    "- 학습 이론에서 각 항목이 속성 이름과 속성값의 컬렉션으로 표현되는 데이터 집합에 대해 고려해 볼 것이다. 이 컬렉션은 속성 이름을 대응하는 값에 매핑하는 함수로 표현된다.\n",
    "- Ex) Jane = {'age':30, 'education level':16, 'income':85000}"
   ]
  },
  {
   "cell_type": "markdown",
   "metadata": {},
   "source": [
    "### 시스템 상태\n",
    "- 진화하는 시스템의 다른 상태를 나타내는 함수/벡터에 대해 알아볼 것이다."
   ]
  },
  {
   "cell_type": "markdown",
   "metadata": {},
   "source": [
    "### 확률 분포\n",
    "- 유한한 확률 분포는 유한한 정의역에서 실수로의 함수이다. 따라서 확률분포는 벡터로 간주할 수 있다.\n",
    "- Ex) {1:1/6, 2:1/6, 3:1/6, 4:1/6, 5:1/6, 6:1/6}"
   ]
  },
  {
   "cell_type": "markdown",
   "metadata": {},
   "source": [
    "### 이미지\n",
    "- 흑배 이미지는 쌍들의 집합{i,j}에서 실수로의 함수로 볼 수 있고, 따라서 벡터로 볼 수 있다."
   ]
  },
  {
   "cell_type": "markdown",
   "metadata": {},
   "source": [
    "### 공간상의 점\n",
    "- 벡터를 사용하여 평면, 3차원, 그리고 더 높은 차원의 공간에 있는 점들을 나타낸다."
   ]
  },
  {
   "cell_type": "markdown",
   "metadata": {},
   "source": [
    "### Task 3.3.2\n",
    "여기서는 파이썬의 리스트를 사용하여 벡터를 표현해 볼 것이다. 파이썬에서, 변수 L에 2-원소 리스트들로 구성된 리스트를 할당해 보자. Task2.4.1에서 설명된 plot모듈을 사용하여 이 2-벡터들을 그래프로 그려보자.\n",
    "="
   ]
  },
  {
   "cell_type": "code",
   "execution_count": 46,
   "metadata": {},
   "outputs": [
    {
     "data": {
      "image/png": "[encoded data removed]",
      "text/plain": [
       "<matplotlib.figure.Figure at 0x10abe0da0>"
      ]
     },
     "metadata": {},
     "output_type": "display_data"
    }
   ],
   "source": [
    "from plotting_matplotlib import plot\n",
    "\n",
    "L = [[2, 2], [3, 2], [1.75, 1], [2, 1], [2.25, 1], [2.5, 1], [2.75, 1], [3, 1], [3.25, 1]]\n",
    "plot(L, 4)"
   ]
  },
  {
   "cell_type": "markdown",
   "metadata": {},
   "source": [
    "# 3.4 벡터 덧셈"
   ]
  },
  {
   "cell_type": "markdown",
   "metadata": {},
   "source": [
    "- 벡터의 개념은 기학학에서 유래되었고, 기본적인 벡터 연산들은 기하학적 관점에서 대부분 쉽게 이유를 설명할 수 있다."
   ]
  },
  {
   "cell_type": "markdown",
   "metadata": {},
   "source": [
    "## 3.4.1 평행이동과 벡터 덧셈\n",
    "- 어떤 벡터를 입력 벡터에 더하는 함수 $f(v)=v_0+v$에 의해 평행이동을 이룰 수 있다.\n",
    "- $v_0$와 같은 벡터는 평행이동에 대응하므로, 무엇인가를 \"운반하는\" 것으로 생각할 수 있다.\n",
    "- 모든 필드 F는 영을 원소로 가진다. 따라서 F상의 D-벡터들로 구성된 집합 $F^D$는 필연적으로 영벡터를 가진다. 영벡터는 모든 원소의 값이 0인 벡터를 말한다."
   ]
  },
  {
   "cell_type": "markdown",
   "metadata": {},
   "source": [
    "### Definition 3.4.1\n",
    "- n-벡터들의 덧셈은 대응하는 원솓ㄹ의 덧셈으로 정의된다.\n",
    "\n",
    "$[u_1, u_2, ..., u_n]+[v_1, v_2, ..., v_n]=[u_1+v_1, u_2+v_2, ..., u_n+v_n]$"
   ]
  },
  {
   "cell_type": "code",
   "execution_count": 48,
   "metadata": {
    "collapsed": true
   },
   "outputs": [],
   "source": [
    "def add(v, w):\n",
    "    return [v[0]+w[0], v[1]+w[1]]"
   ]
  },
  {
   "cell_type": "markdown",
   "metadata": {},
   "source": [
    "### Quiz 3.4.2\n",
    "\"동쪽으로 1마일, 북쪽으로 2마일 이동하라\"는 것을 벡터 덧셈을 사용하여 2-벡터에서 2-벡터로의 함수로 나타내는 평행이동을 작성해 보자. 그 다음에 이 함수를 벡터 [4,4]와 [-4, -4]에 적용한 결과를 보여주자."
   ]
  },
  {
   "cell_type": "markdown",
   "metadata": {},
   "source": [
    "A) \n",
    "- $f(v)=[1,2]+v$\n",
    "- $f(4,4)=[5,7]$\n",
    "- $f(-4,-4)=[-3,-2]$"
   ]
  },
  {
   "cell_type": "markdown",
   "metadata": {},
   "source": [
    "### Task 3.4.3\n",
    "Task 3.3.2에서 정의된 리스트 L을 생각해 보자. 2-벡터 덧셈을 정의하는 프로시저를 작성하고, 컴프리헨션을 사용하여 [1,2]를 L의 각각에 더하여 얻어진 점들을 그래프로 그려보자."
   ]
  },
  {
   "cell_type": "code",
   "execution_count": 3,
   "metadata": {},
   "outputs": [
    {
     "data": {
      "image/png": "[encoded data removed]",
      "text/plain": [
       "<matplotlib.figure.Figure at 0x1102c7240>"
      ]
     },
     "metadata": {},
     "output_type": "display_data"
    }
   ],
   "source": [
    "plot([add([1,2], v) for v in L], 4)"
   ]
  },
  {
   "cell_type": "markdown",
   "metadata": {},
   "source": [
    "### Quiz 3.4.4\n",
    "n-벡터들을 n-원소 리스트들로 나타낸다고 가정해 보자. 이렇게 나타낸 두 개의 벡터들의 합을 계산하는 프로시저, addn을 작성해 보자."
   ]
  },
  {
   "cell_type": "code",
   "execution_count": 144,
   "metadata": {
    "collapsed": true
   },
   "outputs": [],
   "source": [
    "def addn(v, w): return [v0+w0 for v0, w0 in zip(v, w)]"
   ]
  },
  {
   "cell_type": "markdown",
   "metadata": {},
   "source": [
    "### 3.4.2 벡터 덧셈의 결합성(associativity)과 교환성(commutativity)"
   ]
  },
  {
   "cell_type": "markdown",
   "metadata": {},
   "source": [
    "### Proposition 3.4.5 (벡터 덧셈의 결합성과 교환성)\n",
    "- 임의의 벡터 u, v, w에 대해 다음이 성립한다.\n",
    "- $(u+v)+w=u+(v+w)$\n",
    "- $u+v=v+u$"
   ]
  },
  {
   "cell_type": "markdown",
   "metadata": {},
   "source": [
    "### 3.4.3 벡터를 화살표로 표현하기\n",
    "- $\\mathbb{R}$상의 n-벡터들은 $\\mathbb{R}^n$의 화살표로 보여줄 수 있다.\n",
    "- $u+v$는 u에 대응하는 평행이동과 v에 대응하는 평행이동이 합쳐진 것이다."
   ]
  },
  {
   "cell_type": "markdown",
   "metadata": {},
   "source": [
    "### Exersice 3.4.6\n",
    "두 개의 서로 다른 화살표를 사용하여 벡터 [-2,4]를 나타내는 그림을 그려 보자."
   ]
  },
  {
   "cell_type": "code",
   "execution_count": 5,
   "metadata": {},
   "outputs": [
    {
     "data": {
      "image/png": "[encoded data removed]",
      "text/plain": [
       "<matplotlib.figure.Figure at 0x108e40ef0>"
      ]
     },
     "metadata": {},
     "output_type": "display_data"
    }
   ],
   "source": [
    "from plotting_matplotlib import plot_vec\n",
    "\n",
    "plot_vec([-2,4], scale=8, show=False)\n",
    "plot_vec([-2,4],tail=[-1, -1], scale=8)"
   ]
  },
  {
   "cell_type": "markdown",
   "metadata": {},
   "source": [
    "### Exersice 3.4.7\n",
    "[-2,4]+[1,2]을 보여주는 그림을 그려 보자."
   ]
  },
  {
   "cell_type": "code",
   "execution_count": 6,
   "metadata": {},
   "outputs": [
    {
     "data": {
      "image/png": "[encoded data removed]",
      "text/plain": [
       "<matplotlib.figure.Figure at 0x11052b8d0>"
      ]
     },
     "metadata": {},
     "output_type": "display_data"
    }
   ],
   "source": [
    "plot_vec([-2,4], scale=8, show=False)\n",
    "plot_vec([1,2],tail=[-2,4], scale=8)"
   ]
  },
  {
   "cell_type": "markdown",
   "metadata": {},
   "source": [
    "# 3.5 스칼라-벡터 곱셈"
   ]
  },
  {
   "cell_type": "markdown",
   "metadata": {},
   "source": [
    "- 스칼라-벡터 곱(scalar-vector multiplication)은 벡터를 스켈링한다.\n",
    "- 벡터에서 필드 원소(예를 들어, 숫자)는 스칼라라고 불리며, 그 이유는 곱셈을 통해 벡터를 스켈링하는 데 사용될 수 있기 때문이다."
   ]
  },
  {
   "cell_type": "markdown",
   "metadata": {},
   "source": [
    "### Definition 3.5.1\n",
    "- 벡터 $v$와 스칼라 $\\alpha$의 곱셈은 $v$의 원소 각각을 $\\alpha$와 곱하는 것으로 정의된다.\n",
    "\n",
    "$\\quad \\quad \\quad \\alpha [v_1, v_2, ..., v_n] = [\\alpha v_1, \\alpha v_2, ..., \\alpha v_n]$\n",
    "\n",
    "- 스칼라-벡터 곱셈은 벡터 덧셈보다 우선순위가 높다."
   ]
  },
  {
   "cell_type": "markdown",
   "metadata": {},
   "source": [
    "### Quiz 3.5.3\n",
    "n-벡터들을 n-원소 리스트들로 나타낸다고 해 보자. 벡터 v를 스칼라 alpha와 곱하는 프로시저, scalar_vector_mult(alpha, v)를 작성해 보자."
   ]
  },
  {
   "cell_type": "code",
   "execution_count": 50,
   "metadata": {
    "collapsed": true
   },
   "outputs": [],
   "source": [
    "def scalar_vector_mult(alpha, v): return [alpha*v0 for v0 in v]"
   ]
  },
  {
   "cell_type": "markdown",
   "metadata": {},
   "source": [
    "### Task 3.5.4\n",
    "L 내의 벡터들을 0.5만큼 스케일링한 결과와 -0.5만틈 스케일링한 결과를 그래프로 그려보자"
   ]
  },
  {
   "cell_type": "code",
   "execution_count": 9,
   "metadata": {},
   "outputs": [
    {
     "data": {
      "image/png": "[encoded data removed]",
      "text/plain": [
       "<matplotlib.figure.Figure at 0x11037e080>"
      ]
     },
     "metadata": {},
     "output_type": "display_data"
    }
   ],
   "source": [
    "plot([scalar_vector_mult(0.5, l) for l in L])"
   ]
  },
  {
   "cell_type": "code",
   "execution_count": 12,
   "metadata": {},
   "outputs": [
    {
     "data": {
      "image/png": "[encoded data removed]",
      "text/plain": [
       "<matplotlib.figure.Figure at 0x110724f28>"
      ]
     },
     "metadata": {},
     "output_type": "display_data"
    }
   ],
   "source": [
    "plot([scalar_vector_mult(-0.5, l) for l in L])"
   ]
  },
  {
   "cell_type": "markdown",
   "metadata": {},
   "source": [
    "## 3.5.1 화살표 스케일링하기"
   ]
  },
  {
   "cell_type": "markdown",
   "metadata": {},
   "source": [
    "- $\\mathbb R$상의 벡터를 양의 실수로 스케일링하는 것은 벡터의 방향을 바꾸지 않고 대응하는 화살표의 길이를 변경한다.\n",
    "- 벡터를 음의 실수로 곱하는 것은 그 벡터의 모든 원소값의 부호를 바꾸는 것으로 화살표의 방향을 반대로 하는 것이다."
   ]
  },
  {
   "cell_type": "markdown",
   "metadata": {},
   "source": [
    "## 3.5.2 스칼라-벡터 곱셈의 결합성"
   ]
  },
  {
   "cell_type": "markdown",
   "metadata": {},
   "source": [
    "### Proposition 3.5.5 (스칼라-벡터 곱셈의 결합성)\n",
    "- $\\alpha (\\beta v) = (\\alpha \\beta)v$"
   ]
  },
  {
   "cell_type": "markdown",
   "metadata": {},
   "source": [
    "## 3.5.3 원점을 지나는 선분"
   ]
  },
  {
   "cell_type": "markdown",
   "metadata": {},
   "source": [
    "- 아래 점들의 집합은 원점과 $v$사이의 선분을 형성한다.\n",
    "\n",
    "$\\quad \\quad \\quad \\{ \\alpha v : \\alpha \\in \\mathbb R, 0 \\le \\alpha \\le 1 \\}$"
   ]
  },
  {
   "cell_type": "code",
   "execution_count": 14,
   "metadata": {},
   "outputs": [
    {
     "data": {
      "image/png": "[encoded data removed]",
      "text/plain": [
       "<matplotlib.figure.Figure at 0x110761cf8>"
      ]
     },
     "metadata": {},
     "output_type": "display_data"
    }
   ],
   "source": [
    "v = [3, 2]\n",
    "plot([scalar_vector_mult(i/10, v) for i in range(11)], 5)"
   ]
  },
  {
   "cell_type": "code",
   "execution_count": 15,
   "metadata": {},
   "outputs": [
    {
     "data": {
      "image/png": "[encoded data removed]",
      "text/plain": [
       "<matplotlib.figure.Figure at 0x110761978>"
      ]
     },
     "metadata": {},
     "output_type": "display_data"
    }
   ],
   "source": [
    "plot([scalar_vector_mult(i/100, v) for i in range(101)], 5)"
   ]
  },
  {
   "cell_type": "markdown",
   "metadata": {},
   "source": [
    "## 3.5.4 원점을 지나는 직선"
   ]
  },
  {
   "cell_type": "markdown",
   "metadata": {},
   "source": [
    "- 아래 점들의 집합은 원점과 $v$를 지나는 직선을 형성한다\n",
    "\n",
    "$\\quad \\quad \\quad \\{ \\alpha v : \\alpha \\in \\mathbb R\\}$"
   ]
  },
  {
   "cell_type": "markdown",
   "metadata": {},
   "source": [
    "# 3.6 벡터 덧셈과 스칼라 곱셈 결합하기"
   ]
  },
  {
   "cell_type": "markdown",
   "metadata": {},
   "source": [
    "## 3.6.1 원점을 지나지 않는 선분과 직선"
   ]
  },
  {
   "cell_type": "markdown",
   "metadata": {},
   "source": [
    "- 아래의 점들의 집합은 원점을 지나지 않는 선분을 형성한다.\n",
    "\n",
    "$\\quad \\quad \\quad \\{ \\alpha v + v_0: \\alpha \\in \\mathbb R, 0 \\le \\alpha \\le 1 \\}$"
   ]
  },
  {
   "cell_type": "code",
   "execution_count": 17,
   "metadata": {},
   "outputs": [
    {
     "data": {
      "image/png": "[encoded data removed]",
      "text/plain": [
       "<matplotlib.figure.Figure at 0x1108fe898>"
      ]
     },
     "metadata": {},
     "output_type": "display_data"
    }
   ],
   "source": [
    "plot([add(scalar_vector_mult(i/100, v), [0.5, 1]) for i in range(101)])"
   ]
  },
  {
   "cell_type": "markdown",
   "metadata": {},
   "source": [
    "- 아래의 점들의 집합은 원점을 지나지 않는 직선을 형성한다.\n",
    "\n",
    "$\\quad \\quad \\quad \\{ \\alpha v + v_0: \\alpha \\in \\mathbb R\\}$"
   ]
  },
  {
   "cell_type": "markdown",
   "metadata": {},
   "source": [
    "### Exercise 3.6.1\n",
    "주어진 $\\mathbb R^2$상의 한 쌍의 점 u=[2,3], v=[5,7]에 대해, 원점에서 어떤 점 w까지의 선분을 평행이동하여 u-v선분을 얻을 수 있는 그런 점 w는 무엇인가? 양쪽 끝점에 적용되는 평행이동 벡터는 무엇인가?"
   ]
  },
  {
   "cell_type": "markdown",
   "metadata": {},
   "source": [
    "A) \n",
    "- w = v-u = [3, 4]\n",
    "- 평행이동 벡터 = u = [2, 3]"
   ]
  },
  {
   "cell_type": "markdown",
   "metadata": {},
   "source": [
    "### Exercise 3.6.2\n",
    "주어진 $\\mathbb R^2$상의 한 쌍의 점 u=[1,4], v=[6,3]에 대해, 이 두 점 사이의 선분을 형성하는 점들의 집합을 구하는 수학적 표현식을 작성해 보자."
   ]
  },
  {
   "cell_type": "markdown",
   "metadata": {},
   "source": [
    "A) $\\{ \\alpha w + u: \\alpha \\in \\mathbb R, w=[5,-1]\\}$"
   ]
  },
  {
   "cell_type": "markdown",
   "metadata": {},
   "source": [
    "## 3.6.2 스칼라-벡터 곱셈과 벡터 덧셈의 분배 법칙"
   ]
  },
  {
   "cell_type": "markdown",
   "metadata": {},
   "source": [
    "### Proposition 3.6.3 (벡터 덧셈에 대한 스칼라-벡터 곱의 분배)\n",
    "- $\\alpha(u+v)=\\alpha u + \\alpha v$"
   ]
  },
  {
   "cell_type": "markdown",
   "metadata": {},
   "source": [
    "### Proposition 3.6.5 (스칼라 덧셈에 대한 스칼라-벡터 곱의 분배)\n",
    "- $(\\alpha + \\beta)u = \\alpha u + \\beta u$"
   ]
  },
  {
   "cell_type": "markdown",
   "metadata": {},
   "source": [
    "### Problem 3.6.3\n",
    "Proposition 3.6.5를 증명하여라."
   ]
  },
  {
   "cell_type": "markdown",
   "metadata": {},
   "source": [
    "A) 정의역 D의 각 원소 k에 대해 (a+b)u의 엔트리는 (a+b)u[k]이다. au+bu의 엔트리는 au[k]+bu[k]이다. 필드의 분배 법칙에 의해, (a+b)u[k]=au[k]+bu[k] 이다."
   ]
  },
  {
   "cell_type": "markdown",
   "metadata": {},
   "source": [
    "### 3.6.3 블록겹합(Convex combination) 들여다 보기\n",
    "- $\\alpha u+\\beta v$ 성분은 $v$와 $u$의 블록겹합들의 집합으로 구성된다.\n",
    "\n",
    "$\\quad \\quad \\quad \\{\\alpha u+\\beta v: \\alpha, \\beta \\in \\mathbb R, \\alpha,\\beta\\ge 0, \\alpha + \\beta = 1 \\}$"
   ]
  },
  {
   "cell_type": "markdown",
   "metadata": {},
   "source": [
    "### Proposition 3.6.7\n",
    "- $u-v$ 선분은 $u$와 $v$의 블록결합들의 집합으로 구성된다."
   ]
  },
  {
   "cell_type": "markdown",
   "metadata": {},
   "source": [
    "### Task 3.6.9\n",
    "파이썬 프로시저, segment(pt1, pt2)를 작성해 보자. 이 프로시저는 2-원소 리스트들로 표현된 주어진 점들에 대해 이 점들을 양 끝점으로 하는 선분을 따라 일정한 간격으로 배치된 100개의 점으로 구성된 리스트를 리턴한다."
   ]
  },
  {
   "cell_type": "code",
   "execution_count": 19,
   "metadata": {},
   "outputs": [
    {
     "data": {
      "image/png": "[encoded data removed]",
      "text/plain": [
       "<matplotlib.figure.Figure at 0x110880fd0>"
      ]
     },
     "metadata": {},
     "output_type": "display_data"
    }
   ],
   "source": [
    "def segment(pt1, pt2): return [add(scalar_vector_mult(a/100, pt1), scalar_vector_mult(1-a/100, pt2)) for a in range(101)]\n",
    "\n",
    "pt1 = [3.5, 3]\n",
    "pt2 = [0.5, 1]\n",
    "plot(segment(pt1, pt2))"
   ]
  },
  {
   "cell_type": "markdown",
   "metadata": {},
   "source": [
    "### 3.6.4 아핀 결합(Affine combination) 들여다 보기\n",
    "- $\\alpha u+\\beta v$ 직선은 $v$와 $u$의 아핀겹합들의 집합으로 구성된다.\n",
    "\n",
    "$\\quad \\quad \\quad \\{\\alpha u+\\beta v: \\alpha, \\in \\mathbb R, \\beta \\in R, \\alpha + \\beta = 1 \\}$"
   ]
  },
  {
   "cell_type": "code",
   "execution_count": 147,
   "metadata": {},
   "outputs": [
    {
     "data": {
      "image/png": "[encoded data removed]",
      "text/plain": [
       "<matplotlib.figure.Figure at 0x1085456d8>"
      ]
     },
     "metadata": {},
     "output_type": "display_data"
    }
   ],
   "source": [
    "def line(pt1, pt2): return [add(scalar_vector_mult(a/100, pt1), scalar_vector_mult(1-a/100, pt2)) for a in range(-200, 200)]\n",
    "\n",
    "pt1 = [3.5, 3]\n",
    "pt2 = [0.5, 1]\n",
    "plot(line(pt1, pt2))"
   ]
  },
  {
   "cell_type": "markdown",
   "metadata": {},
   "source": [
    "### Hypothesis 3.6.11\n",
    "- $u$와 $v$를 지나는 직선은 $u$와 $v$의 아핀결합들으 집합으로 구성된다."
   ]
  },
  {
   "cell_type": "markdown",
   "metadata": {},
   "source": [
    "# 3.7 딕셔너리에 기반을 둔 벡터 표현"
   ]
  },
  {
   "cell_type": "markdown",
   "metadata": {},
   "source": [
    "- 파이썬 클래스, Vec을 정의하여 하나의 인스턴스가 두 개의 필드(인스턴스 변수(instance variable)와 속성(attributes)를 가지게 하면 편리하다.\n",
    "  - f, 파이썬의 딕셔너리에 의해 표현되는 함수\n",
    "  - D, 파이썬의 집합에 의해 표현되는 함수의 정의역"
   ]
  },
  {
   "cell_type": "code",
   "execution_count": 4,
   "metadata": {},
   "outputs": [
    {
     "name": "stdout",
     "output_type": "stream",
     "text": [
      "1.0\n"
     ]
    }
   ],
   "source": [
    "class Vec:\n",
    "    def __init__(self, labels, function):\n",
    "        self.D = labels\n",
    "        self.f = function\n",
    "\n",
    "v = Vec({'A', 'B', 'C'}, {'A': 1.})\n",
    "for d in v.D:\n",
    "    if d in v.f:\n",
    "        print(v.f[d])"
   ]
  },
  {
   "cell_type": "markdown",
   "metadata": {},
   "source": [
    "### Quiz 3.7.1\n",
    "다음 스펙을 가지는 프로시저, zero_vec(D)을 작성해 보자.\n",
    "- input: 집합 D\n",
    "- output: D-벡터를 나타내는 Vec의 인스턴스. 이때, D-벡터의 모든 엔트리 값은 영이다."
   ]
  },
  {
   "cell_type": "code",
   "execution_count": 62,
   "metadata": {
    "collapsed": true
   },
   "outputs": [],
   "source": [
    "def zero_vec(D): return Vec(D, {})"
   ]
  },
  {
   "cell_type": "markdown",
   "metadata": {},
   "source": [
    "## 3.7.1 세터(Setter)와 게터(Getter)"
   ]
  },
  {
   "cell_type": "code",
   "execution_count": 6,
   "metadata": {
    "collapsed": true
   },
   "outputs": [],
   "source": [
    "def setitem(v, d, val): v.f[d] = val\n",
    "\n",
    "setitem(v, 'B', 2.)"
   ]
  },
  {
   "cell_type": "markdown",
   "metadata": {},
   "source": [
    "### Quiz 3.7.2\n",
    "다음 스펙을 가지는 프로시저, getitem(v, d)을 작성해 보자.\n",
    "- input: Vec의 인스턴스 v, 집합 v.D의 한 원소 d\n",
    "- output: v의 엔트리 d의 값\n",
    "\n",
    "스파스-표현 관례를 고려한 방식으로 프로시저를 작성해 보자. 힌트: 프로시저는 조건 표현식을 사용하여 한 줄로 쓸수 있다."
   ]
  },
  {
   "cell_type": "code",
   "execution_count": 7,
   "metadata": {},
   "outputs": [
    {
     "data": {
      "text/plain": [
       "1.0"
      ]
     },
     "execution_count": 7,
     "metadata": {},
     "output_type": "execute_result"
    }
   ],
   "source": [
    "def getitem(v, d): return v.f[d] if d in v.f else 0\n",
    "\n",
    "getitem(v, 'A')"
   ]
  },
  {
   "cell_type": "markdown",
   "metadata": {},
   "source": [
    "## 3.7.2 스칼라-벡터 곱셈"
   ]
  },
  {
   "cell_type": "markdown",
   "metadata": {},
   "source": [
    "### Quiz 3.7.3\n",
    "다음 스펙을 가지는 프로시저, scalar_mul(v, alpha)을 작성해 보자.\n",
    "- input: Vec의 인스턴스와 스칼라 alpha\n",
    "- output: 스칼라-벡터 곱 alpah x v를 나타내는 Vec의 새로운 인스턴스\n",
    "\n",
    "출력 벡터가 입력 벡터만큼이나 스파스하게 되도록 하는 방법이 있지만, 꼭 그렇게 할 필요는 없다. 작성하는 프로시저에 getitem(v, d)을 사용할 수 있지만, 반드시 그렇게 해야하는 것은 아니다. 작성한 프로시저가 인수로 전달된 벡터를 수정하지 않게 주의하도록 하자. 작성한 프로시저는 Vec의 새로운 인스턴스를 생성한다. 하지만, 이렇게 생성된 새로운 인스턴스는 이전 인스턴스와 동일한 D를 포인트해야 한다."
   ]
  },
  {
   "cell_type": "code",
   "execution_count": 8,
   "metadata": {},
   "outputs": [
    {
     "data": {
      "text/plain": [
       "{'A': 2.0, 'B': 4.0, 'C': 0}"
      ]
     },
     "execution_count": 8,
     "metadata": {},
     "output_type": "execute_result"
    }
   ],
   "source": [
    "def scalar_mul(v, alpha): return Vec(v.D, {d:alpha*getitem(v, d) for d in v.D })\n",
    "\n",
    "scalar_mul(v, 2).f"
   ]
  },
  {
   "cell_type": "markdown",
   "metadata": {},
   "source": [
    "## 3.7.3 덧셈"
   ]
  },
  {
   "cell_type": "markdown",
   "metadata": {},
   "source": [
    "### Quiz 3.7.4\n",
    "다음 스펙을 가지는 프로시저, add(u, v)을 작성해 보자.\n",
    "- input: Vec의 인스턴스 u와 v\n",
    "- output: u와 v의 벡터 합인 Vec의 인스턴스\n",
    "\n",
    "스파스 표현이 용인되도록 getitem(v, d)을 사용할 것을 권장한다. 출력 벡터를 스파스하게 만들려고 노력하지 말 것을 권장하다. 마미작으로, 딕셔너리 컴프리헨션을 사용하여 Vec의 새로운 인스턴스에 대한 딕셔너리를 정희할 것을 권장한다."
   ]
  },
  {
   "cell_type": "code",
   "execution_count": 35,
   "metadata": {},
   "outputs": [
    {
     "data": {
      "text/plain": [
       "{'A': 6.0, 'B': 2.0, 'C': 10.0}"
      ]
     },
     "execution_count": 35,
     "metadata": {},
     "output_type": "execute_result"
    }
   ],
   "source": [
    "def add(u, v): return Vec(u.D, {d:getitem(u, d)+getitem(v, d) for d in u.D})\n",
    "\n",
    "u = Vec(v.D, {'A':5., 'C':10.})\n",
    "add(u, v).f"
   ]
  },
  {
   "cell_type": "markdown",
   "metadata": {},
   "source": [
    "## 3.7.4 음의 벡터, 벡터 덧셈의 가역성, 벡터 뺄셈"
   ]
  },
  {
   "cell_type": "markdown",
   "metadata": {},
   "source": [
    "- 벡터 v에 대한 음의 벡터는 -v이면 v의 각 원소값의 부호를 바꾸어 얻는다.\n",
    "- 벡터 뺄셈은 음의 벡터의 덧셈으로 정의된다. $u-v$는 $u+(-v)$로 정의된다. 이 정의는 벡터 뺄셈의 정의, 즉 대응하는 원소들을 빼는 것과 동등하다.\n",
    "- 벡터 뺄셈은 벡터 덧셈의 역이다.\n",
    "\n",
    "$\\quad \\quad \\quad f(v)=v+w$\n",
    "\n",
    "$\\quad \\quad \\quad g(v)=v-w$\n",
    "\n",
    "$\\quad \\quad \\quad (g\\circ f)(v)=g(f(v))$\n",
    "\n",
    "$\\quad \\quad \\quad \\quad \\quad \\quad =g(v+w)$\n",
    "\n",
    "$\\quad \\quad \\quad \\quad \\quad \\quad =v+w-w$\n",
    "\n",
    "$\\quad \\quad \\quad \\quad \\quad \\quad =v$"
   ]
  },
  {
   "cell_type": "markdown",
   "metadata": {},
   "source": [
    "### Quiz 3.7.5\n",
    "다음 스펙을 가지는 파이썬 프로시저, neg(v)을 작성해 보자.\n",
    "- input: Vec의 인스턴스 v\n",
    "- output: 음의 v를 나타내는 딕셔너리\n",
    "\n",
    "위의 프로시저를 작성하는 방법은 두 가지가 있다. 하나는 컴프리헨션을 사용하여 출력 벡터의 .f 필드를 분명하게 계산하는 것이다. 다른 하나는 Quiz 3.7.3에서 정의한 프로시저, scalar_mul을 적절하게 호출하는 것이다."
   ]
  },
  {
   "cell_type": "code",
   "execution_count": 37,
   "metadata": {},
   "outputs": [
    {
     "data": {
      "text/plain": [
       "{'A': -1.0, 'B': -2.0, 'C': 0}"
      ]
     },
     "execution_count": 37,
     "metadata": {},
     "output_type": "execute_result"
    }
   ],
   "source": [
    "def neg(v): return scalar_mul(v, -1)\n",
    "\n",
    "neg(v).f"
   ]
  },
  {
   "cell_type": "markdown",
   "metadata": {},
   "source": [
    "# 3.8 GF(2)상의 벡터"
   ]
  },
  {
   "cell_type": "markdown",
   "metadata": {},
   "source": [
    "### Quiz 3.8.1\n",
    "GF(2) 벡터 덧셈 연습: 1101+0111의 값은 무엇인가?(Note: 이것은 1101-0111와 동일하다. GF(2)에서 덧셈과 뺄셈은 동일하다)"
   ]
  },
  {
   "cell_type": "markdown",
   "metadata": {},
   "source": [
    "A) 1010"
   ]
  },
  {
   "cell_type": "markdown",
   "metadata": {},
   "source": [
    "## 3.8.1 완벽한 비밀 유지 - 다시보기"
   ]
  },
  {
   "cell_type": "markdown",
   "metadata": {},
   "source": [
    "- 한 비트의 평문을 암호화하는 것은 GF(2) 덧셈을 사용하여 그 비트를 한 비트의 키에 더하는 것으로 구성된다.\n",
    "- GF(2)상의 벡터들에 대한 덧셈을 사용하면 더 간결하게 표현할 수 있다.\n",
    "- 다음 식에 따라 암호문 c를 계산한다.\n",
    " - $c=p+k$ (이 식세서 덧셈은 벡터의 덧셈이다.)\n",
    "- 다음 식을 이용하여 해독할 수 있다.\n",
    " - $p=c-k$\n",
    "- 이 암호체계로 완벽한 비밀 유지가 가능한지 체크해 보자.\n",
    " - 의도된 수신자는 암호화된 메세지를 해독 가능(가역함수): 각 평문 $p$에 대해, 함수 $k\\mapsto k+p$는 전단사 함수이며 따라서 가역적이다.\n",
    " - 의도되지 않은 수신자는 암호화딘 메세지 해독 불가능: 키 k는 균등하고 랜덤하게 선택된다. 그러므로, 암호문 c도 또한 균등 분포를 따른다."
   ]
  },
  {
   "cell_type": "markdown",
   "metadata": {},
   "source": [
    "### Example 3.8.2\n",
    "예를 들어, 앨릿와 밥은 다음 10-벡터를 키로 사용하기로 결정한다.$$k=[0,1,1,0,1,0,0,0,0,1]$$\n",
    "앨리스는 아래 메시지를 밥에게 전송하고자 한다. $$p=[0,0,0,1,1,1,0,1,0,1]$$\n",
    "그녀는 p를 k에 더하여 위 메시지를 암화화한다. $$c=k+p=k=[0,1,1,0,1,0,0,0,0,1]+[0,0,0,1,1,1,0,1,0,1]=[0,1,1,1,0,1,0,1,0,0]$$\n",
    "밥은 c를 수신하면, k를 더하여 암호문을 해독한다. $$c+k=[0,1,1,1,0,1,0,1,0,0]+[0,1,1,0,1,0,0,0,0,1]=[0,0,0,1,1,1,0,1,0,1]$$"
   ]
  },
  {
   "cell_type": "markdown",
   "metadata": {},
   "source": [
    "## 3.8.2 GF(2)를 사용한 전부가 아니면 아무것도 공유하지 않는 비밀 고유"
   ]
  },
  {
   "cell_type": "markdown",
   "metadata": {},
   "source": [
    "- 혼자서는 어떤한 정보도 얻울 수 업게 하려면 어떻게 하면 될까?\n",
    "- GF(2)상의 n-벡터 $v_A$를 균등 분포에 따라 랜덤하게 선택한다. 그 다음에, 또 다른 n-벡터 $v_B$를 아래와 같이 계산한다.\n",
    "$$v_B=v-v_A$$\n",
    "- 주어진 $v_A$로부터 시험 $v$에 대해 무엇을 알 수 있을까? 앨리스에게 주어진 정보는 균등하고 랜덤하게 선택 되었으므로 앨리스는 주어진 정보로부터 아무것도 얻지 못한다.\n",
    "- 정보 $v_B$로 부터 시험 $v$에 대한 무엇을 얻을 수 있을까? 함수 $f:GF(2)^n\\longrightarrow GF(2)^n$에 대해 아래와 같이 정의해 보자\n",
    "$$f(x)=v-x$$\n",
    "함수 $g(y)=v+x$는 f의 역삼수이다. 따라서 f는 가역함수이다. 그러므로 $v_B=f(v_A)이고 $v_A$는 균등분포에 따라 선택되므로, $v_B$의 분포 역시 균등 분포이다. 이것은 주어진 정보로부터 시험에 대해 아무것도 얻을 수 없음을 보여준다.\n",
    "- 주요 개념은 각 패스워드를 두 부분으로 쪼개어 서로 다른 서버에 저장하는 것이다. 하나의 서버만 공격해서는 패스워드를 탈취할 수 없다."
   ]
  },
  {
   "cell_type": "markdown",
   "metadata": {},
   "source": [
    "### Problem 3.8.3\n",
    "3명의 조교에게 n-비트 비밀을 제공하는 방법에 대해 설명해 보자. 3명 중 임의의 두 명이 함계 공모해도 비밀에 대해 아무것도 얻을 수 없도록 해야한다."
   ]
  },
  {
   "cell_type": "markdown",
   "metadata": {},
   "source": [
    "A) GF(2)사의 n-벡터 $v_A, v_B$를 균등분포에 따라 랜덤하게 선택한다. 그 다음에 아래와 같이 $v_C$를 계산하여 3명에게 제공한다.\n",
    "$$v_C=v-v_A-v_B$$"
   ]
  },
  {
   "cell_type": "markdown",
   "metadata": {},
   "source": [
    "## 3.8.3 Lights Out"
   ]
  },
  {
   "cell_type": "markdown",
   "metadata": {},
   "source": [
    "- GF(2)상의 벡터들은 Lights Out이라 불리는 퍼즐을 분석하는데 사용될 수 있다.\n",
    "- 정의역은 터플의 집합 (0,0), (0,1), ..., (4,3), (4,4)이다. 불이 켜진 상태는 1, 꺼진 상태는 0으로 나타내자.\n",
    "- 퍼즐의 처음 상태를 s벡터라고 하자.\n",
    "- *상태이동* 하나의 버튼을 누르는 것으로 구성되며 퍼즐의 상태를 변경하다.\n",
    "- 그러므로, 변화는 *버튼벡터(button vector)*로 나타낼 수 있다.\n",
    "- (0,0) 버튼 벡터 $v_{0,0}$는 {(0,0):one, (0,1):one, (1,0):one}으로 나타낼 수 있다.\n",
    "- s에서 시작하여 버튼(0,0)을 누른 결과인 새로운 상태는 벡터 $s+v_{0,0}$에 의해 표현된다. 이유는 뭇엇일까?\n",
    " - $v_{0,0}$가 0이 되게 하는 각 엔트리(i,j)에 대해, s와 $s+v_{0,0}$이 엔트리 (i,j)는 동일하다.\n",
    " - $v_{0,0}$가 1이 되게 하는 각 엔트리(i,j)에 대해, s와 $s+v_{0,0}$이 엔트리 (i,j)는 서로 다르다.\n",
    " \n",
    " \n",
    "- 버튼을 누르는 것을 실행하는 것은 퍼즐의 상캐를 다음과 갘이 업데이크 하는 것을 의미한다.\n",
    " - 새로운 상태 := 이전 상태 + 버튼벡터 (덧셈은 GF(2)상의 벡터들의 덧셈을 의미하고 버튼벡터는 평행이동으로 볼 수 있다)\n",
    "- 주어진 초기 상태에 대해 모든 버튼의 불이 꺼지도록 눌러야 하는 버튼의 시퀀스를 찾는 문제는 벡터를 사용하여 표현하면 초기 상태를 나타내는 주어진 벡터 s에 대해 다음을 만족하는 버튼벡터들의 시퀀스 $v_1,...,v_m$를 선택하는 것이다.\n",
    " - $(...(((s+v_1)+v_2)...)+v_m=원소가 모두 영인 벡터$\n",
    " - $s+v_1+v_2+...+v_m=원소가 모두 영인 벡커$ (벡터 덧셈의 결합성에 의해 괄호는 없어도 된다)\n",
    " - $v_1+v_2+...+v_m=s$ (양변에 벡터 s를 더한다)\n",
    " - 만일 특정 버튼의 벡터가 좌변에 두 번 나타나면, 두 벡터는 상쇄되어 없어진다. 따라서 각 벡터가 많아야 한 번 나타나는 경우에 대해서만 생각해도 된다.\n",
    " - 벡터 덧셈은 교환법칙이 성립하므로 덧셈의 순서는 상관없다. 따라서 주어진 초기 상태에서 모든 버튼의 불이 꺼지게 하는 방법을 찾는 것은 합이 주어진 초기 상태에 대응하는 벡터 s가 되는 그런 버튼벡터들의 부분집합을 선택하는 것과 같다."
   ]
  },
  {
   "cell_type": "markdown",
   "metadata": {},
   "source": [
    "### Computational Problem 3.8.4\n",
    "주어진 초기 상태에서, 모든 버튼의 불을 꺼지도록 하기 위해 눌러야 하는 버튼의 시퀀스를 찾아보자. 또는 그런 시퀀스는 존재하지 않는다고 보고하자."
   ]
  },
  {
   "cell_type": "markdown",
   "metadata": {},
   "source": [
    "A) (0,0), (1,0), (1,1), (1,4), (2,0), (2,2), (2,4), (3,1), (3,2), (3,3), (4,1), (4,2), (4,3)"
   ]
  },
  {
   "cell_type": "markdown",
   "metadata": {},
   "source": [
    "### Question 3.8.5\n",
    "가능한 모든 시작 상태에 대해 이 퍼즐을 풀수 있는 방법이 있는가?"
   ]
  },
  {
   "cell_type": "markdown",
   "metadata": {},
   "source": [
    "A) 지금은 모르겠지만 책을 더 보다 보면 알수 있겠지... 느낌으로는 모든 시작 상태에 풀수 있을 것 같다."
   ]
  },
  {
   "cell_type": "markdown",
   "metadata": {},
   "source": [
    "### Computational Problem \n",
    "어떤 주어진 벡터를 GF(2)상의 다른 주어진 벡터들의 합 부분집합의 합으로 표현하기\n",
    "- input: GF(2)상의 벡터 s와 벡터들의 리스트 L\n",
    "- output: L내의 벡터들의 부분집합(이 부분집합의 합은 s가 됨). 또는 이러한 부분집합은 없다고 리포트"
   ]
  },
  {
   "cell_type": "code",
   "execution_count": 50,
   "metadata": {
    "scrolled": false
   },
   "outputs": [
    {
     "name": "stdout",
     "output_type": "stream",
     "text": [
      "22 {(4, 2): one, (4, 1): one, (4, 3): one, (3, 2): one}\n",
      "19 {(3, 4): one, (3, 3): one, (2, 4): one, (4, 4): one}\n",
      "17 {(3, 2): one, (3, 1): one, (3, 3): one, (2, 2): one, (4, 2): one}\n",
      "15 {(3, 0): one, (3, 1): one, (2, 0): one, (4, 0): one}\n",
      "13 {(2, 3): one, (2, 2): one, (2, 4): one, (1, 3): one, (3, 3): one}\n",
      "10 {(2, 0): one, (2, 1): one, (1, 0): one, (3, 0): one}\n",
      "9 {(1, 4): one, (1, 3): one, (0, 4): one, (2, 4): one}\n",
      "8 {(1, 3): one, (1, 2): one, (1, 4): one, (0, 3): one, (2, 3): one}\n",
      "7 {(1, 2): one, (1, 1): one, (1, 3): one, (0, 2): one, (2, 2): one}\n",
      "5 {(1, 0): one, (1, 1): one, (0, 0): one, (2, 0): one}\n",
      "4 {(0, 4): one, (0, 3): one, (1, 4): one}\n",
      "2 {(0, 2): one, (0, 1): one, (0, 3): one, (1, 2): one}\n",
      "1 {(0, 1): one, (0, 0): one, (0, 2): one, (1, 1): one}\n",
      "0 {(0, 0): one, (0, 1): one, (1, 0): one}\n"
     ]
    },
    {
     "data": {
      "text/plain": [
       "{(0, 0): 0,\n",
       " (0, 1): 0,\n",
       " (0, 2): 0,\n",
       " (0, 3): 0,\n",
       " (0, 4): 0,\n",
       " (1, 0): 0,\n",
       " (1, 1): 0,\n",
       " (1, 2): 0,\n",
       " (1, 3): 0,\n",
       " (1, 4): 0,\n",
       " (2, 0): 0,\n",
       " (2, 1): 0,\n",
       " (2, 2): 0,\n",
       " (2, 3): 0,\n",
       " (2, 4): 0,\n",
       " (3, 0): 0,\n",
       " (3, 1): 0,\n",
       " (3, 2): 0,\n",
       " (3, 3): 0,\n",
       " (3, 4): 0,\n",
       " (4, 0): 0,\n",
       " (4, 1): 0,\n",
       " (4, 2): 0,\n",
       " (4, 3): 0,\n",
       " (4, 4): 0}"
      ]
     },
     "execution_count": 50,
     "metadata": {},
     "output_type": "execute_result"
    }
   ],
   "source": [
    "# brute force로 한번 풀어보기\n",
    "\n",
    "from GF2 import one\n",
    "\n",
    "def is_zero(s):\n",
    "    zero = True\n",
    "\n",
    "    for val in s.values():\n",
    "        if val is one:\n",
    "            zero = False\n",
    "    return zero\n",
    "\n",
    "def sum_vector(s, v):\n",
    "    for key, val in v.items():\n",
    "        s[key] = s[key] + val\n",
    "    return s\n",
    "\n",
    "def find_solution(s, L, idx):\n",
    "    if is_zero(s) or idx == len(L):\n",
    "        return s\n",
    "\n",
    "    for i in range(idx, idx+len(L[idx:])):\n",
    "        _s = find_solution(sum_vector(s.copy(), L[i]), L, i+1)\n",
    "        if is_zero(_s):\n",
    "            print(i, L[i])\n",
    "            return _s\n",
    "        \n",
    "    return s    \n",
    "    \n",
    "s = {(0,0):one, (0,1):one, (0,2):one, (0,3):one, (0,4):0,\n",
    "     (1,0):one, (1,1):one, (1,2):one, (1,3):0,   (1,4):one,\n",
    "     (2,0):one, (2,1):one, (2,2):one, (2,3):0,   (2,4):one,\n",
    "     (3,0):0,   (3,1):0,   (3,2):0,   (3,3):one, (3,4):one,\n",
    "     (4,0):one, (4,1):one, (4,2):0,   (4,3):one, (4,4):one}\n",
    "\n",
    "L = [{(0,0):one, (0,1):one, (1,0):one},\n",
    "     {(0,1):one, (0,0):one, (0,2):one, (1,1):one},\n",
    "     {(0,2):one, (0,1):one, (0,3):one, (1,2):one},\n",
    "     {(0,3):one, (0,2):one, (0,4):one, (1,3):one},\n",
    "     {(0,4):one, (0,3):one, (1,4):one},   \n",
    "     {(1,0):one, (1,1):one, (0,0):one, (2,0):one},\n",
    "     {(1,1):one, (1,0):one, (1,2):one, (0,1):one, (2,1):one},\n",
    "     {(1,2):one, (1,1):one, (1,3):one, (0,2):one, (2,2):one},\n",
    "     {(1,3):one, (1,2):one, (1,4):one, (0,3):one, (2,3):one},\n",
    "     {(1,4):one, (1,3):one, (0,4):one, (2,4):one},\n",
    "     {(2,0):one, (2,1):one, (1,0):one, (3,0):one},\n",
    "     {(2,1):one, (2,0):one, (2,2):one, (1,1):one, (3,1):one},\n",
    "     {(2,2):one, (2,1):one, (2,3):one, (1,2):one, (3,2):one},\n",
    "     {(2,3):one, (2,2):one, (2,4):one, (1,3):one, (3,3):one},\n",
    "     {(2,4):one, (2,3):one, (1,4):one, (3,4):one},\n",
    "     {(3,0):one, (3,1):one, (2,0):one, (4,0):one},\n",
    "     {(3,1):one, (3,0):one, (3,2):one, (2,1):one, (4,1):one},\n",
    "     {(3,2):one, (3,1):one, (3,3):one, (2,2):one, (4,2):one},\n",
    "     {(3,3):one, (3,2):one, (3,4):one, (2,3):one, (4,3):one},\n",
    "     {(3,4):one, (3,3):one, (2,4):one, (4,4):one},\n",
    "     {(4,0):one, (4,1):one, (3,0):one},\n",
    "     {(4,1):one, (4,0):one, (4,2):one, (3,1):one},\n",
    "     {(4,2):one, (4,1):one, (4,3):one, (3,2):one},\n",
    "     {(4,3):one, (4,2):one, (4,4):one, (3,3):one},\n",
    "     {(4,4):one, (4,3):one, (3,4):one}]   \n",
    "\n",
    "find_solution(s, L, 0)"
   ]
  },
  {
   "cell_type": "markdown",
   "metadata": {},
   "source": [
    "# 3.9 도트곱(dot product)"
   ]
  },
  {
   "cell_type": "markdown",
   "metadata": {},
   "source": [
    "- 두 개의 D-벡터들 u와 v에 대해, 도트곱은 대응하는 엔트리들의 곱의 합이다.\n",
    "$$u\\cdot v=\\sum_{k\\in D}{u[k]v[k]}$$\n",
    "- 위 연산의 결과는 벡터가 아니라 스칼라임에 주이하자. 이러한 이유 때문에 도트곱은 때로는 벡터들의 스칼라 곱(scalar product)이라 불린다."
   ]
  },
  {
   "cell_type": "markdown",
   "metadata": {},
   "source": [
    "### Example 3.9.1\n",
    "[1,1,1,1,1]과 [10,20,0,40,-100]의 도트곱을 고려해 보자. 도트곱을 구하기 위해, 두 벡터의 대응하는 엔트리들을 정렬하여 쓰고 대응하는 엔트리들의 쌍을 곱하여 그 결과 값들을 더할 수 있다."
   ]
  },
  {
   "cell_type": "markdown",
   "metadata": {},
   "source": [
    "A) $1\\cdot10 + 1\\cdot20 + 1\\cdot0 + 1\\cdot40 + 1\\cdot-100 = -30 $"
   ]
  },
  {
   "cell_type": "markdown",
   "metadata": {},
   "source": [
    "일반적으로, 원소가 모두 1인 한 벡터와 다른 벡터 v의 도트곱은 v의 원소들의 합과 같다.\n",
    "\n",
    "$[1,1,...,1]\\cdot [v_1,v_2,...,v_n]=1\\cdot v_1+1\\cdot v_2+...+1\\cdot v_n = v_1+v_2+...+v_n$ "
   ]
  },
  {
   "cell_type": "markdown",
   "metadata": {},
   "source": [
    "### Example 3.9.2\n",
    "[0,0,0,1]과 [10,20,40,0,-100]의 도트곱을 고려해 보자."
   ]
  },
  {
   "cell_type": "markdown",
   "metadata": {},
   "source": [
    "A) $0\\cdot10 + 0\\cdot20 + 0\\cdot0 + 0\\cdot40 + 1\\cdot-100 = -100 $"
   ]
  },
  {
   "cell_type": "markdown",
   "metadata": {},
   "source": [
    "일반적으로, u의 오직 한 원소, 예를 들어, i번째 원소가 1이고, 나머지 다른 원소들은 0이면, $u\\cdot v$는 v의 i번째 원소이다.\n",
    "\n",
    "$[0,0,..., 1,...,0]\\cdot [v_1,v_2,...v_{i-1}, v_i, v_{i+1},...,v_n]=0\\cdot v_1+0\\cdot v_2+...+1\\cdot v_i + ...+ 0\\cdot v_n = 1\\cdot v_i = v_i$ "
   ]
  },
  {
   "cell_type": "markdown",
   "metadata": {},
   "source": [
    "### Quiz 3.9.3\n",
    "n-벡터 v의 원소들의 평균을 도트곱으로 표현해 보자."
   ]
  },
  {
   "cell_type": "markdown",
   "metadata": {},
   "source": [
    "A) u를 모든 원소값이 1/n인 벡터라고 하자. 그러면, $u\\cdot v$는 v의 원소들의 평균값이 된다."
   ]
  },
  {
   "cell_type": "markdown",
   "metadata": {},
   "source": [
    "### Quiz 3.9.4\n",
    "다음 스펙을 가지는 프로시저, list_dot(u, v)을 작성해보자.\n",
    "- input: 필드 요소들로 구성된 동일한 길이를 가지는 리스트 u와 v\n",
    "- output: 벡터로 간주되는 u와 v의 도트곱\n",
    "\n",
    "sum()프로시저를 리스트 컴프리헨션과 함께 사용해 보자."
   ]
  },
  {
   "cell_type": "code",
   "execution_count": 26,
   "metadata": {},
   "outputs": [
    {
     "data": {
      "text/plain": [
       "-30"
      ]
     },
     "execution_count": 26,
     "metadata": {},
     "output_type": "execute_result"
    }
   ],
   "source": [
    "def list_dot(u, v): return sum([_u*_v for _u, _v in zip(u, v)])\n",
    "\n",
    "u = [1, 1, 1, 1, 1]\n",
    "v = [10, 20, 0, 40, -100]\n",
    "list_dot(u, v)"
   ]
  },
  {
   "cell_type": "markdown",
   "metadata": {},
   "source": [
    "## 3.9.1 총 비용 또는 잇점"
   ]
  },
  {
   "cell_type": "markdown",
   "metadata": {},
   "source": [
    "### Example 3.9.5\n",
    "식품들의 집합 D={hops, malt, water, yeast}\n",
    "\n",
    "단위량당 가격 벡터 cost=Vec(D, {hops:$2.50/ounce, malt:$1.50/pound, water:$0.006, yeast:$0.45/gran})\n",
    "\n",
    "스카우트를 만들수 있는 각 재로 quantity = Vec({hops:6 ounces, malt:14 pounds, water:7 gallons, yeast:11 grams})\n",
    "\n",
    "이때, 총 비용은 cost와 quantity의 도트곱이다.\n",
    "\n",
    "$cost\\cdot quantity=\\$2.50\\cdot 6 + \\$1.50\\cdot 14+ \\$0.006\\cdot 7 + \\$0.45\\cdot 11 = \\$40.992$"
   ]
  },
  {
   "cell_type": "markdown",
   "metadata": {},
   "source": [
    "## 3.9.2 선형방정식"
   ]
  },
  {
   "cell_type": "markdown",
   "metadata": {},
   "source": [
    "### Definition 3.9.6\n",
    "선형방정식(일차 방정식)은 $a\\cdot x=\\beta$의 형태를 가지는 식으로, a는 벡터, $\\beta$는 스칼라이며, x는 벡터 변수이다."
   ]
  },
  {
   "cell_type": "markdown",
   "metadata": {},
   "source": [
    "- 선형방정식들을 만족하는 벡터를 찾는 알고리즘이 있는가?\n",
    "- 선형방정식들을 만족하는 정확히 하나의 해, 즉 벡터가 있는가?"
   ]
  },
  {
   "cell_type": "markdown",
   "metadata": {},
   "source": [
    "### Example 3.9.7\n",
    "센서 노드의 에너지 사용률: 테스트 기간 동안 센서 노드에 의해 소모된 총 에너지는 rate와 duration의 도트곱이다."
   ]
  },
  {
   "cell_type": "code",
   "execution_count": 10,
   "metadata": {},
   "outputs": [
    {
     "data": {
      "text/plain": [
       "0.0845"
      ]
     },
     "execution_count": 10,
     "metadata": {},
     "output_type": "execute_result"
    }
   ],
   "source": [
    "D = {'memory', 'radio', 'sensor', 'CPU'}\n",
    "rate = Vec(D, {'memory':0.06, 'radio':0.1, 'sensor':0.004, 'CPU':0.0025})\n",
    "duration = Vec(D, {'memory':1.0, 'radio':0.2, 'sensor':0.5, 'CPU':1.0})\n",
    "\n",
    "sum([getitem(rate, d)*getitem(duration, d) for d in D])"
   ]
  },
  {
   "cell_type": "markdown",
   "metadata": {},
   "source": [
    "### Example 3.9.8\n",
    "아래 선형방정식을 만족하는 rate를 찾을 수 있는가? 이러한 벡터가 오직 하나밖에 없는가?"
   ]
  },
  {
   "cell_type": "code",
   "execution_count": 17,
   "metadata": {
    "collapsed": true
   },
   "outputs": [],
   "source": [
    "duration1 = Vec(D, {'memory':1.0, 'radio':0.2, 'sensor':0.5, 'CPU':1.0})\n",
    "duration2 = Vec(D, {'sensor':0.2, 'CPU':0.4})\n",
    "duration3 = Vec(D, {'memory':0.3, 'CPU':0.1})\n",
    "\n",
    "beta1 = 0.11195\n",
    "beta2 = 0.00158\n",
    "brta3 = 0.02422\n",
    "\n",
    "# 식을 정리하면,\n",
    "# a*radio + b*cpu = 0.11195의 형태로 정히할 수 있고, 일반적인 표현법으로 표시하면,\n",
    "# ax+b=c이고 이는 직선을 나나태며,해는 무수히 많다."
   ]
  },
  {
   "cell_type": "markdown",
   "metadata": {},
   "source": [
    "### Example 3.8.10\n",
    "다음 표에 있는 데이터를 사용하여 각 하드웨어 구성요소의 소모율을 계산해 보자."
   ]
  },
  {
   "cell_type": "code",
   "execution_count": 18,
   "metadata": {
    "collapsed": true
   },
   "outputs": [],
   "source": [
    "duration1 = Vec(D, {'radio':1.0, 'sensor':1.0, 'memory':0.0, 'CPU':0.0})\n",
    "duration2 = Vec(D, {'radio':2.0, 'sensor':1.0, 'memory':0.0, 'CPU':0.0})\n",
    "duration3 = Vec(D, {'radio':0.0, 'sensor':0.0, 'memory':1.0, 'CPU':1.0})\n",
    "duration4 = Vec(D, {'radio':0.0, 'sensor':0.0, 'memory':0.0, 'CPU':1.0})\n",
    "\n",
    "beta1 = 1.5\n",
    "beta2 = 2.5\n",
    "beta3 = 1.5\n",
    "beta4 = 1.\n",
    "\n",
    "# 간단히 연립 방정식으로 풀면 아래와 같다.\n",
    "cpu = 1.\n",
    "memory = 0.5\n",
    "sensor = 0.5\n",
    "radio = 1."
   ]
  },
  {
   "cell_type": "markdown",
   "metadata": {},
   "source": [
    "### Definition 3.9.10\n",
    "일반적으로, *선형방정식들의 시스템(줄여서 선형시스템은)* 방정식들의 컬렉션이다.\n",
    "$$a_1\\cdot x = \\beta_1$$\n",
    "$$a_2\\cdot x = \\beta_2$$\n",
    "$$...$$\n",
    "$$a_m\\cdot x = \\beta_m$$\n",
    "여기서, x는 벡터 변수이다. 해는 모든 방정식들을 만족하는 벡터 $\\hat{x}$이다."
   ]
  },
  {
   "cell_type": "markdown",
   "metadata": {},
   "source": [
    "### Question 3.9.11 선형시스템에 대한 해의 유일성\n",
    "주어진 선형시스템에 대해, 어떻게 해가 오직 하나밖에 없는지 말할 수 있을까?"
   ]
  },
  {
   "cell_type": "markdown",
   "metadata": {},
   "source": [
    "A) 선형시스템을 행렬로 표현했을 때, 역행렬이 존재(또는 singular인 경우)하는 경우에만 오직 유일한 해가 존재한다."
   ]
  },
  {
   "cell_type": "markdown",
   "metadata": {},
   "source": [
    "### Question 3.9.12 선형 시스템 풀기\n",
    "- input: 벡터들이 리스트 $a_1, ..., a_m$, 그래고 대응하는 스칼라 $\\beta_1, \\beta_m$(우변)\n",
    "- ouput: 선형시스템을 만족하는 벡터 $\\hat x$ 또는 해가 없음이라고 리포트"
   ]
  },
  {
   "cell_type": "code",
   "execution_count": 27,
   "metadata": {},
   "outputs": [
    {
     "name": "stdout",
     "output_type": "stream",
     "text": [
      "[ 1.   0.5  0.5  1. ]\n"
     ]
    }
   ],
   "source": [
    "# least sqaure 라이러브러리를 이용하여 풀이\n",
    "import numpy as np\n",
    "\n",
    "a = np.array([[1., 1., 0., 0.],\n",
    "             [2., 1., 0., 0.],\n",
    "             [0., 0., 1., 1.],\n",
    "             [0., 0., 0., 1.]])\n",
    "beta = np.array([1.5, 2.5, 1.5, 1.])\n",
    "\n",
    "hat_x = np.linalg.lstsq(a, beta)[0]\n",
    "print(hat_x)"
   ]
  },
  {
   "cell_type": "markdown",
   "metadata": {},
   "source": [
    "## 3.9.3 유사성(Similarity)"
   ]
  },
  {
   "cell_type": "markdown",
   "metadata": {},
   "source": [
    "- 도트곱은 $\\mathbb R$상의 벡터들 사잉의 유사성을 측정하는데 사용할 수 있다."
   ]
  },
  {
   "cell_type": "markdown",
   "metadata": {},
   "source": [
    "### 오디오 세그먼트 비교하기\n",
    "- 수학적으로 오디오 세그먼트는 파형(waveform)의 시간에 대한 연속함수이다.\n",
    "- 함수의 값은 진폭(amplitude)이다.\n",
    "- 컴퓨터에서 오디오 세그먼트는 일련의 숫자들로 표현되며, 이 숫자들은 일정한 시간 간격, 예를 들어, 1초에 44,100번 생플링된 연속함수의 값이다.\n",
    "- 두 오디오 세그먼트는 각각 n 개읨 샘츨을 가지며, n-벡터 u, v로 표현된다.\n",
    "- 두 세그먼트를 비교하는 한 가지 단순한 방법은 도트곱을 사용하는 것이다. 서로 일치하는 정도가 크면 도트곱의 값도 더 크게 된다."
   ]
  },
  {
   "cell_type": "markdown",
   "metadata": {},
   "source": [
    "### 오디오 클립 찾기\n",
    "- 긴 세그먼트를 짧은 오디오 클립과 길이가 같은 크기로 구성된 벡터를 형성하여 짧은 클립의 샘플로 구성된 벡터와 도트곱을 계산할 수 있다."
   ]
  },
  {
   "cell_type": "markdown",
   "metadata": {},
   "source": [
    "### Quiz 3.9.13\n",
    "긴 세그먼트는 [1, -1, 1, 1, 1, -1, 1, 1, 1]이고, 짧은 클립은 [1, -1, 1, 1, -1, 1]라고 해보자. 도트곱을 계산하여 어느 위치에서 가장 잘 매치되는지 나타내어 보자."
   ]
  },
  {
   "cell_type": "code",
   "execution_count": 39,
   "metadata": {},
   "outputs": [
    {
     "name": "stdout",
     "output_type": "stream",
     "text": [
      "도트곱: [2, 2, 0, 0] 가장 큰 위치: 0\n"
     ]
    }
   ],
   "source": [
    "segment = [1, -1, 1, 1, 1, -1, 1, 1, 1]\n",
    "clip = [1, -1, 1, 1, -1, 1]\n",
    "\n",
    "dot_product = [list_dot(segment[idx:idx+len(clip)], clip) for idx in range(len(segment) - len(clip)+1)]\n",
    "print('도트곱:', dot_product, '가장 큰 위치:', np.argmax(dot_product))"
   ]
  },
  {
   "cell_type": "markdown",
   "metadata": {},
   "source": [
    "### Quiz 3.9.14\n",
    "이런 방식의 검색은 보편적으로 적용할 수 있는 것은 아니다. 예를 들어, 긴 세그먼트 [1,2,3,4,5,6]에서 짤은 클립 [1,2,3]을 찾아 보자. 도트곱을 사용하는 방법으로 찾을 수 있는 가장 매치가 잘되는 것은 무엇인가? "
   ]
  },
  {
   "cell_type": "code",
   "execution_count": 41,
   "metadata": {},
   "outputs": [
    {
     "name": "stdout",
     "output_type": "stream",
     "text": [
      "도트곱: [14, 20, 26, 32] 가장 큰 위치: 3\n"
     ]
    }
   ],
   "source": [
    "segment = [1, 2, 3, 4, 5, 6]\n",
    "clip = [1, 2, 3]\n",
    "\n",
    "dot_product = [list_dot(segment[idx:idx+len(clip)], clip) for idx in range(len(segment) - len(clip)+1)]\n",
    "print('도트곱:', dot_product, '가장 큰 위치:', np.argmax(dot_product))\n",
    "\n",
    "#가장 잘 매치되는 시작 위치는 4번째 위치지만, 이것은 명백히 잘못 선택된 위치이다."
   ]
  },
  {
   "cell_type": "markdown",
   "metadata": {},
   "source": [
    "### Quiz 3.9.15\n",
    "dot_product_list(needle, haystack)을 작성해 보자.\n",
    "- input: 짧은 리스트 needle과 긴 리스트 haystack. 두 리스트 모두 숫자들을 포함한다.\n",
    "- output: len(haystatck)-len(needle)의 길이로 구성된 리스트. 출력 리스트의 엔트리 i는 needle과 haystackdㅢ 어떤 서브리스트와의 도트곱과 동일하며, 이때, 이 서브리스트는 haystack의 위치 i에서 시작하며 needle과 동일한 길이를 가진다."
   ]
  },
  {
   "cell_type": "code",
   "execution_count": 43,
   "metadata": {},
   "outputs": [
    {
     "data": {
      "text/plain": [
       "[14, 20, 26]"
      ]
     },
     "execution_count": 43,
     "metadata": {},
     "output_type": "execute_result"
    }
   ],
   "source": [
    "def dot_product_list(needle, haystack): \n",
    "    s = len(needle)\n",
    "    return [list_dot(needle, haystack[idx:idx+s]) for idx in range(len(haystack)-s)]\n",
    "\n",
    "dot_product_list(clip, segment)"
   ]
  },
  {
   "cell_type": "markdown",
   "metadata": {},
   "source": [
    "## 3.9.4 GF(2) 상의 벡터들에 대한 도트곱"
   ]
  },
  {
   "cell_type": "markdown",
   "metadata": {},
   "source": [
    "### Example 3.9.16\n",
    "11111와 10101의 도트곱을 고려해보자.\n",
    "$$1\\cdot1+1\\cdot0+1\\cdot1+1\\cdot0+1\\cdot1=1+0+1+0+1=1$$\n",
    "다음에, 11111와 00101의 도트곱을 고려해보자.\n",
    "$$1\\cdot0+1\\cdot0+1\\cdot1+1\\cdot0+1\\cdot1=0+0+1+0+1=0$$\n",
    "일반적으로, 원소가 모두 1인 벡터와 어떤 다른 벡터의 도듵곱을 구하면 그 값은 곱해진 다른 벡터의 *패리티(parity)*이다. 즉 1의 개수가 짝수이면 0, 홀수이면 1이다."
   ]
  },
  {
   "cell_type": "markdown",
   "metadata": {},
   "source": [
    "## 3.9.5 패리티 비트(Parity bit)"
   ]
  },
  {
   "cell_type": "markdown",
   "metadata": {},
   "source": [
    "- 데이터를 전송할때 에러 검출에 사용될 수 있는 기본적인 방법은 패리티 검사 비트이다. \n",
    "- n-비트 시퀀스를 신뢰할 수 있게 전송하기 위해 하나나의 추가적인 비트, n-qㅣ트 시퀀스이 패리티 비트를 계산하여 그것을 n-비트 시퀀스와 함께 전송한다.\n",
    " - 만약 정확하게 짝수개의 에러가 있을 경우, 패리티 검사는 에러를 검출할수 없을 것이다. 이를 해결할 체크섬 함수(checksum function)에 대해 4.6.4에서 다룬다.\n",
    " - 만약 한 비트 에러가가 있을 경우에, 패리티 검사로는 어느 비트 위치에 에러가 발생했는지 알 수 없다. 이를 해결할 error-correctin codes를 5.7.3에서 다룬다."
   ]
  },
  {
   "cell_type": "markdown",
   "metadata": {},
   "source": [
    "## 3.9.6 단순한 인증 기법"
   ]
  },
  {
   "cell_type": "markdown",
   "metadata": {},
   "source": [
    "- 인전하지 못한 네트워크상의 컴퓨터에 사용자가 로그온할 수 있게 하는 기법은 인증 기법이라 불리는데, 그 이유는 사용자가 본인이 누구라고 주장하는 것에 대한 증명을 제공해 주는 방법이기 때문이다.\n",
    "- 시도 응답(challenge-response)기법은 컴퓨터가 사용자에게 질문 몇개를 하고 모두 맞게 대답한 경우 로그인을 허용한다\n",
    "- 간단한 시도 응답 기법의 예를 들어보자.\n",
    " - 패스워트는 n-비트 문자열, 즉 GF(2)상의 n-벡터 $\\hat x$라 하고 이것은 균등하고 랜덤하게 선택되었다고 가정해 보자.\n",
    " - i번째 시도에서 캐롤은 영이 아닌 n-벡터, $a_i$ 시도 벡터를 선택하여 그것을 사용자에게 전송한다. 사용자는 $a_i$와 $\\hat x$의 도트곱이 되어야하는 하는 $\\beta_i$를 다시 전송하고, 캐롤은 $\\beta_i=a_i\\cdot \\hat x$인지 검사한다.\n",
    " - 만약 사용자가 몇 번의 시도를 통과하면, 캐롤은 사용자가 패스워드를 가지고 있다고 간주하여 로그온하게 허용한다."
   ]
  },
  {
   "cell_type": "markdown",
   "metadata": {},
   "source": [
    "### Example 3.9.17\n",
    "패스워드는 $\\hat x=10111$이다. 해리는 로그인을 시작한다. 응답으로 캐롤은 시도 벡터 $a_1=01011$d를 선택하여 해리에게 전송한다. 해리는 도트곱 $a_i\\cdot\\hat x$을 계산한다. \n",
    "$$1\\cdot0+0\\cdot1+1\\cdot0+1\\cdot1+1\\cdot1=0+0+0+1+1=0$$\n",
    "그리고 결과 비트 $\\beta_1=0$을 캐롤에게 전송한다.\n",
    "\n",
    "그 다음에, 캐롤은 시도 벡터 $a_2=11110$을 해리에게 전송한다. 해리는 도트곱 $a_2\\cdot\\hat x$을 계산한다.\n",
    "$$1\\cdot1+0\\cdot1+1\\cdot1+1\\cdot1+1\\cdot0=1+0+1+1+0=1$$\n",
    "그리고 결과 비트 $\\beta_2=1$를 캐롤에게 다시 보낸다.\n",
    "\n",
    "이 과정은 k번 반보된다. 캐롤은 만약 $\\beta_1=a_1\\cdot\\hat x, \\beta_2=a_2\\cdot\\hat x, ..., \\beta_3=a_3\\cdot\\hat x$이면 해리를 로그리인하게 허용한다."
   ]
  },
  {
   "cell_type": "markdown",
   "metadata": {},
   "source": [
    "## 3.9.7 단순한 인증 기법 공격하기"
   ]
  },
  {
   "cell_type": "markdown",
   "metadata": {},
   "source": [
    "- 이브는 해리가 맞게 응답하는 m번의 시도를 엿듣는다고 가정해 보자. 그럼 아래와 같이 선형방정식들을 만들 수 있다.\n",
    "$$a_1\\cdot x = \\beta_1$$\n",
    "$$a_2\\cdot x = \\beta_2$$\n",
    "$$...$$\n",
    "$$a_m\\cdot x = \\beta_m$$\n",
    "- 위의 선형시스템에 대해 해를 구할 수 있는가? 이 선형 시스템은 유일한 해를 가지는가?의 질문은 아래 Question으로 일반화할 수 있다."
   ]
  },
  {
   "cell_type": "markdown",
   "metadata": {},
   "source": [
    "### Question 3.9.18 GF(2)상의 선형시스템에 대한 해의 개수\n",
    "주어진 GF(2)상의 선형시스템에 대해 얼마나 많은 해가 있는가?"
   ]
  },
  {
   "cell_type": "markdown",
   "metadata": {},
   "source": [
    "A) 음..."
   ]
  },
  {
   "cell_type": "markdown",
   "metadata": {},
   "source": [
    "### Computational Problem 3.9.19 GF(2)상의 선형시스템에 대한 모든 해 계산하기\n",
    "주어진 GF(2)사의 선형시스템에 대한 모든 해를 찾아보자."
   ]
  },
  {
   "cell_type": "code",
   "execution_count": 44,
   "metadata": {
    "collapsed": true
   },
   "outputs": [],
   "source": [
    "#음..."
   ]
  },
  {
   "cell_type": "markdown",
   "metadata": {},
   "source": [
    "### Questions 3.9.20\n",
    "선형방정식들의 시슽메은 어떤 다른 선형방정식들을 나타내는가(암시가는가)? 만약 그렇다면, 이러한 다른 선형방정식들은 무엇인가?"
   ]
  },
  {
   "cell_type": "markdown",
   "metadata": {},
   "source": [
    "A) 벡터의 덧셈에 대한 도트곱의 분배 법칙에 의해 다음과 같은 선형방정식들을 합으로 표현할 수 있다.\n",
    "$$a_1\\cdot x = \\beta_1$$\n",
    "$$a_2\\cdot x = \\beta_2$$\n",
    "$$...$$\n",
    "$$a_k\\cdot x = \\beta_k$$\n",
    "의 부분집합의 합으로 표현된 선형 방정식\n",
    "$$(a_1+a_2+...+a_k)\\cdot x = (\\beta_1+\\beta_2+...+\\beta_k)$$"
   ]
  },
  {
   "cell_type": "markdown",
   "metadata": {},
   "source": [
    "### 3.9.8 도트곱의 대수적 성질"
   ]
  },
  {
   "cell_type": "markdown",
   "metadata": {},
   "source": [
    "- 도트곱의 대수적 성질을 소개한다. 이 성질들은 어떤 필드에서든 상관없이(예를 들어, $\\mathbb R, GF(2)$) 성립한다."
   ]
  },
  {
   "cell_type": "markdown",
   "metadata": {},
   "source": [
    "### Proposition 3.9.21(도트곱의 교환성(Commutativity))\n",
    "- $u\\cdot v = v\\cdot u$"
   ]
  },
  {
   "cell_type": "markdown",
   "metadata": {},
   "source": [
    "### Proposition 3.9.22(도트곱의 동질성(Homogeneity))\n",
    "- $(\\alpha u)\\cdot v = \\alpha(u\\cdot v)$"
   ]
  },
  {
   "cell_type": "markdown",
   "metadata": {},
   "source": [
    "### Problem 3.9.23\n",
    "Propoistion 3.9.22를 증명해보자."
   ]
  },
  {
   "cell_type": "markdown",
   "metadata": {},
   "source": [
    "A)\n",
    "$(\\alpha u)\\cdot v= [\\alpha u_1, \\alpha u_2, ..., \\alpha u_n]\\cdot [v_1, v_2, ..., v_n]$\n",
    "\n",
    "$\\quad \\quad \\quad \\quad = \\alpha u_1v_1+ \\alpha u_2v_2+ ...+ \\alpha u_nv_n$\n",
    "\n",
    "$\\quad \\quad \\quad \\quad = \\alpha (u_1v_1+ u_2v_2+ ...+ u_nv_n)$\n",
    "\n",
    "$\\quad \\quad \\quad \\quad = \\alpha (u\\cdot v)$"
   ]
  },
  {
   "cell_type": "markdown",
   "metadata": {},
   "source": [
    "### Problem 3.9.24\n",
    "$(\\alpha u)\\cdot(\\alpha v)=\\alpha(u\\cdot v)$은 항상 참이 되는 것은 아님을 반례를 들어보자"
   ]
  },
  {
   "cell_type": "markdown",
   "metadata": {},
   "source": [
    "A) $(\\alpha u)\\cdot(\\alpha v)= [\\alpha u_1, \\alpha u_2, ..., \\alpha u_n]\\cdot [\\alpha v_1, \\alpha v_2, ..., \\alpha v_n]$\n",
    "\n",
    "$\\quad \\quad \\quad \\quad \\quad = \\alpha^2 u_1v_1+ \\alpha^2 u_2v_2+ ...+ \\alpha^2 u_nv_n$\n",
    "\n",
    "$\\quad \\quad \\quad \\quad \\quad = \\alpha^2 (u_1v_1+ u_2v_2+ ...+ u_nv_n)$\n",
    "\n",
    "$\\quad \\quad \\quad \\quad \\quad = \\alpha^2 (u\\cdot v)$"
   ]
  },
  {
   "cell_type": "markdown",
   "metadata": {},
   "source": [
    "### Proposition 3.9.25(벡터 덧셈에 대한 도트곱의 분배법칙(Distributivity))\n",
    "- $(u+v)\\cdot w= u\\cdot w+v\\cdot w$"
   ]
  },
  {
   "cell_type": "markdown",
   "metadata": {},
   "source": [
    "### Problem 3.9.26\n",
    "$(u+v)\\cdot(w+x)=u\\cdot w+ v\\cdot x$는 참이 아님을 반례를 들어보자."
   ]
  },
  {
   "cell_type": "markdown",
   "metadata": {},
   "source": [
    "A) $(u+v)\\cdot(w+x)= [u_1+v_1,u_2+v_2, ...,u_n+v_n]\\cdot [w_1+x_1, x_2+x_2, ..., w_n+x_n]$\n",
    "\n",
    "$\\quad \\quad \\quad \\quad \\quad \\quad \\quad = (u_1+v_1)(w_1+x_1)+(u_2+v_2)(w_2+x_2)+...+(u_n+v_n)(w_n+x_n)$\n",
    "\n",
    "$\\quad \\quad \\quad \\quad \\quad \\quad \\quad = u_1w_1+ u_1x_1+v_1w_1+v_1x_1+...+u_nw_n+ u_nx_n+v_nw_n+v_1x_n$\n",
    "\n",
    "$\\quad \\quad \\quad \\quad \\quad \\quad \\quad = u\\cdot w+ u\\cdot x+ v\\cdot w + v\\cdot x$\n"
   ]
  },
  {
   "cell_type": "markdown",
   "metadata": {},
   "source": [
    "### Example 3.9.27\n",
    "실수상의 벡터들에 대한 분배성의 예를 들어보자."
   ]
  },
  {
   "cell_type": "code",
   "execution_count": 48,
   "metadata": {},
   "outputs": [
    {
     "name": "stdout",
     "output_type": "stream",
     "text": [
      "(u+v)w: 138\n",
      "uv+vw: 138\n"
     ]
    }
   ],
   "source": [
    "u = [20, 30, 40]\n",
    "v = [7, 7, 7]\n",
    "w = [2, 1, 1]\n",
    "\n",
    "print('(u+v)w:', list_dot([u+v for u,v in zip(u,v)], w))\n",
    "print('uv+vw:', list_dot(u,w)+list_dot(v,w))"
   ]
  },
  {
   "cell_type": "markdown",
   "metadata": {},
   "source": [
    "## 3.9.9 단순한 인증 기법 공격하기 - 다시 보기"
   ]
  },
  {
   "cell_type": "markdown",
   "metadata": {},
   "source": [
    "### Example 3.9.28\n",
    "만약 이브가 해리로서 로그인하려 하고 캐롤은 01011는 11110의 합을 시도 벡터로서 전송한다고 가정해 보자. 이브는 분배성을 이용하여 시도 벡터와 패스워드 x의 도트곱을 계산할 수 있다. 이브는 비록 패스워드는 알지 못하지만 다음을 계산할 수 있다.\n",
    "$$(01011+11110)\\cdot x=01011\\cdot x + 11110\\cdot x=0+1=1$$"
   ]
  },
  {
   "cell_type": "markdown",
   "metadata": {},
   "source": [
    "### Problem 3.9.29\n",
    "이브는 몇 가지의 시도 및 응답을 알고 있다. 어떻게 시도 011101과 000100에 대해 맞는 응답들을 구할 수 있는지 보여 주자."
   ]
  },
  {
   "cell_type": "code",
   "execution_count": 137,
   "metadata": {
    "scrolled": false
   },
   "outputs": [
    {
     "name": "stdout",
     "output_type": "stream",
     "text": [
      "Q: [0, one, one, one, 0, one]\n",
      "3 [0, 0, one, one, 0, 0]\n",
      "2 [one, one, one, 0, one, one]\n",
      "1 [one, 0, one, 0, one, 0]\n",
      "True\n",
      "A: 2\n",
      "\n",
      "Q: [0, 0, 0, one, 0, 0]\n",
      "3 [0, 0, one, one, 0, 0]\n",
      "2 [one, one, one, 0, one, one]\n",
      "0 [one, one, 0, 0, one, one]\n",
      "True\n",
      "A: 2\n"
     ]
    }
   ],
   "source": [
    "def find_solution(tried, q, ans, idx, ans_list):\n",
    "    if idx == len(L):\n",
    "        return False\n",
    "    if ans == q:\n",
    "        return True\n",
    "    \n",
    "    for i in range(idx, idx+len(tried[idx:])):\n",
    "        rst = find_solution(tried, q, [a+tri for a, tri in zip(ans, tried[i])], i+1, ans_list)\n",
    "        if rst:\n",
    "            print(i, tried[i])\n",
    "            ans_list.append(i)\n",
    "            return rst\n",
    "\n",
    "    return False\n",
    "\n",
    "tried = [[one, one, 0, 0, one, one],\n",
    "         [one, 0, one, 0, one, 0],\n",
    "         [one, one, one, 0, one, one],\n",
    "         [0, 0, one, one, 0, 0]]\n",
    "responsed = [0, 0, 1, 1]\n",
    "\n",
    "q = [[0, one, one, one, 0, one],\n",
    "     [0, 0, 0, one, 0, 0]]\n",
    "\n",
    "\n",
    "print('Q:', q[0])\n",
    "ans_list = []\n",
    "print(find_solution(tried, q[0], [0, 0, 0, 0, 0, 0], 0, ans_list))\n",
    "print('A:', sum([responsed[idx] for idx in ans_list]))\n",
    "\n",
    "print('\\nQ:', q[1])\n",
    "ans_list = []\n",
    "print(find_solution(tried, q[1], [0, 0, 0, 0, 0, 0], 0, ans_list))\n",
    "print('A:', sum([responsed[idx] for idx in ans_list]))"
   ]
  },
  {
   "cell_type": "markdown",
   "metadata": {},
   "source": [
    "# 3.10 Vec 구현"
   ]
  },
  {
   "cell_type": "markdown",
   "metadata": {},
   "source": [
    "## 3.10.1 Vec을 다루기 위한 구문"
   ]
  },
  {
   "cell_type": "markdown",
   "metadata": {},
   "source": [
    "|동작|구문|\n",
    "|---|---|\n",
    "|벡터 덧셈|u+v|\n",
    "|벡터의 음수|-u|\n",
    "|벡터 뺄셈|u-v|\n",
    "|스칼라-벡터 곱|alpha\\*v|\n",
    "|스칼라에 의한 벡터의 나눗셈|v/alpha|\n",
    "|도트곱|u\\*v|\n",
    "|엔트리 값 얻기|v[d]|\n",
    "|엔트리 값 설정|v[d]=...|\n",
    "|벡터의 등호 테스트|u == v|\n",
    "|벡터 출력하기|print(v)|\n",
    "|벡터 복사하기|v.copy()|"
   ]
  },
  {
   "cell_type": "markdown",
   "metadata": {},
   "source": [
    "## 3.10.2 구현"
   ]
  },
  {
   "cell_type": "markdown",
   "metadata": {},
   "source": [
    "- vec.py에서 pass로 되어 있는 부분을 구현"
   ]
  },
  {
   "cell_type": "code",
   "execution_count": 61,
   "metadata": {
    "collapsed": true
   },
   "outputs": [],
   "source": [
    "# Copyright 2013 Philip N. Klein\n",
    "\n",
    "def getitem(v,k):\n",
    "    \"\"\"\n",
    "    Return the value of entry k in v.\n",
    "    Be sure getitem(v,k) returns 0 if k is not represented in v.f.\n",
    "\n",
    "    >>> v = Vec({'a','b','c', 'd'},{'a':2,'c':1,'d':3})\n",
    "    >>> v['d']\n",
    "    3\n",
    "    >>> v['b']\n",
    "    0\n",
    "    \"\"\"\n",
    "    assert k in v.D\n",
    "    #pass\n",
    "    return v.f[k] if k in v.f else 0\n",
    "\n",
    "def setitem(v,k,val):\n",
    "    \"\"\"\n",
    "    Set the element of v with label d to be val.\n",
    "    setitem(v,d,val) should set the value for key d even if d\n",
    "    is not previously represented in v.f, and even if val is 0.\n",
    "\n",
    "    >>> v = Vec({'a', 'b', 'c'}, {'b':0})\n",
    "    >>> v['b'] = 5\n",
    "    >>> v['b']\n",
    "    5\n",
    "    >>> v['a'] = 1\n",
    "    >>> v['a']\n",
    "    1\n",
    "    >>> v['a'] = 0\n",
    "    >>> v['a']\n",
    "    0\n",
    "    \"\"\"\n",
    "    assert k in v.D\n",
    "    #pass\n",
    "    v.f[k] = val\n",
    "\n",
    "def equal(u,v):\n",
    "    \"\"\"\n",
    "    Return true iff u is equal to v.\n",
    "    Because of sparse representation, it is not enough to compare dictionaries\n",
    "\n",
    "    Consider using brackets notation u[...] and v[...] in your procedure\n",
    "    to access entries of the input vectors.  This avoids some sparsity bugs.\n",
    "\n",
    "    >>> Vec({'a', 'b', 'c'}, {'a':0}) == Vec({'a', 'b', 'c'}, {'b':0})\n",
    "    True\n",
    "    >>> Vec({'a', 'b', 'c'}, {'a': 0}) == Vec({'a', 'b', 'c'}, {})\n",
    "    True\n",
    "    >>> Vec({'a', 'b', 'c'}, {}) == Vec({'a', 'b', 'c'}, {'a': 0})\n",
    "    True\n",
    "\n",
    "    Be sure that equal(u, v) checks equalities for all keys from u.f and v.f even if\n",
    "    some keys in u.f do not exist in v.f (or vice versa)\n",
    "\n",
    "    >>> Vec({'x','y','z'},{'y':1,'x':2}) == Vec({'x','y','z'},{'y':1,'z':0})\n",
    "    False\n",
    "    >>> Vec({'a','b','c'}, {'a':0,'c':1}) == Vec({'a','b','c'}, {'a':0,'c':1,'b':4})\n",
    "    False\n",
    "    >>> Vec({'a','b','c'}, {'a':0,'c':1,'b':4}) == Vec({'a','b','c'}, {'a':0,'c':1})\n",
    "    False\n",
    "\n",
    "    The keys matter:\n",
    "    >>> Vec({'a','b'},{'a':1}) == Vec({'a','b'},{'b':1})\n",
    "    False\n",
    "\n",
    "    The values matter:\n",
    "    >>> Vec({'a','b'},{'a':1}) == Vec({'a','b'},{'a':2})\n",
    "    False\n",
    "    \"\"\"\n",
    "    assert u.D == v.D\n",
    "    #pass\n",
    "    is_equal = True\n",
    "    for k in u.D:\n",
    "        if u[k] != v[k]:\n",
    "            is_equal = False\n",
    "            break\n",
    "    return is_equal\n",
    "\n",
    "def add(u,v):\n",
    "    \"\"\"\n",
    "    Returns the sum of the two vectors.\n",
    "    \n",
    "    Consider using brackets notation u[...] and v[...] in your procedure\n",
    "    to access entries of the input vectors.  This avoids some sparsity bugs.\n",
    "\n",
    "    Do not seek to create more sparsity than exists in the two input vectors.\n",
    "    Doing so will unnecessarily complicate your code and will hurt performance.\n",
    "\n",
    "    Make sure to add together values for all keys from u.f and v.f even if some keys in u.f do not\n",
    "    exist in v.f (or vice versa)\n",
    "\n",
    "    >>> a = Vec({'a','e','i','o','u'}, {'a':0,'e':1,'i':2})\n",
    "    >>> b = Vec({'a','e','i','o','u'}, {'o':4,'u':7})\n",
    "    >>> c = Vec({'a','e','i','o','u'}, {'a':0,'e':1,'i':2,'o':4,'u':7})\n",
    "    >>> a + b == c\n",
    "    True\n",
    "    >>> a == Vec({'a','e','i','o','u'}, {'a':0,'e':1,'i':2})\n",
    "    True\n",
    "    >>> b == Vec({'a','e','i','o','u'}, {'o':4,'u':7})\n",
    "    True\n",
    "    >>> d = Vec({'x','y','z'}, {'x':2,'y':1})\n",
    "    >>> e = Vec({'x','y','z'}, {'z':4,'y':-1})\n",
    "    >>> f = Vec({'x','y','z'}, {'x':2,'y':0,'z':4})\n",
    "    >>> d + e == f\n",
    "    True\n",
    "    >>> d == Vec({'x','y','z'}, {'x':2,'y':1})\n",
    "    True\n",
    "    >>> e == Vec({'x','y','z'}, {'z':4,'y':-1})\n",
    "    True\n",
    "    >>> b + Vec({'a','e','i','o','u'}, {}) == b\n",
    "    True\n",
    "    \"\"\"\n",
    "    assert u.D == v.D\n",
    "    #pass\n",
    "    return Vec(u.D, {k:u[k]+v[k] for k in u.D})\n",
    "\n",
    "def dot(u,v):\n",
    "    \"\"\"\n",
    "    Returns the dot product of the two vectors.\n",
    "\n",
    "    Consider using brackets notation u[...] and v[...] in your procedure\n",
    "    to access entries of the input vectors.  This avoids some sparsity bugs.\n",
    "\n",
    "    >>> u1 = Vec({'a','b'}, {'a':1, 'b':2})\n",
    "    >>> u2 = Vec({'a','b'}, {'b':2, 'a':1})\n",
    "    >>> u1*u2\n",
    "    5\n",
    "    >>> u1 == Vec({'a','b'}, {'a':1, 'b':2})\n",
    "    True\n",
    "    >>> u2 == Vec({'a','b'}, {'b':2, 'a':1})\n",
    "    True\n",
    "    >>> v1 = Vec({'p','q','r','s'}, {'p':2,'s':3,'q':-1,'r':0})\n",
    "    >>> v2 = Vec({'p','q','r','s'}, {'p':-2,'r':5})\n",
    "    >>> v1*v2\n",
    "    -4\n",
    "    >>> w1 = Vec({'a','b','c'}, {'a':2,'b':3,'c':4})\n",
    "    >>> w2 = Vec({'a','b','c'}, {'a':12,'b':8,'c':6})\n",
    "    >>> w1*w2\n",
    "    72\n",
    "\n",
    "    The pairwise products should not be collected in a set before summing\n",
    "    because a set eliminates duplicates\n",
    "    >>> v1 = Vec({1, 2}, {1 : 3, 2 : 6})\n",
    "    >>> v2 = Vec({1, 2}, {1 : 2, 2 : 1})\n",
    "    >>> v1 * v2\n",
    "    12\n",
    "    \"\"\"\n",
    "    assert u.D == v.D\n",
    "    #pass\n",
    "    return sum([u[k]*v[k] for k in u.D])\n",
    "\n",
    "def scalar_mul(v, alpha):\n",
    "    \"\"\"\n",
    "    Returns the scalar-vector product alpha times v.\n",
    "\n",
    "    Consider using brackets notation v[...] in your procedure\n",
    "    to access entries of the input vector.  This avoids some sparsity bugs.\n",
    "\n",
    "    >>> zero = Vec({'x','y','z','w'}, {})\n",
    "    >>> u = Vec({'x','y','z','w'},{'x':1,'y':2,'z':3,'w':4})\n",
    "    >>> 0*u == zero\n",
    "    True\n",
    "    >>> 1*u == u\n",
    "    True\n",
    "    >>> 0.5*u == Vec({'x','y','z','w'},{'x':0.5,'y':1,'z':1.5,'w':2})\n",
    "    True\n",
    "    >>> u == Vec({'x','y','z','w'},{'x':1,'y':2,'z':3,'w':4})\n",
    "    True\n",
    "    \"\"\"\n",
    "    #pass\n",
    "    return Vec(v.D, {k:val*alpha for k, val in v.f.items()})\n",
    "\n",
    "def neg(v):\n",
    "    \"\"\"\n",
    "    Returns the negation of a vector.\n",
    "\n",
    "    Consider using brackets notation v[...] in your procedure\n",
    "    to access entries of the input vector.  This avoids some sparsity bugs.\n",
    "\n",
    "    >>> u = Vec({1,3,5,7},{1:1,3:2,5:3,7:4})\n",
    "    >>> -u\n",
    "    Vec({1, 3, 5, 7},{1: -1, 3: -2, 5: -3, 7: -4})\n",
    "    >>> u == Vec({1,3,5,7},{1:1,3:2,5:3,7:4})\n",
    "    True\n",
    "    >>> -Vec({'a','b','c'}, {'a':1}) == Vec({'a','b','c'}, {'a':-1})\n",
    "    True\n",
    "    \"\"\"\n",
    "    #pass\n",
    "    return scalar_mul(v, -1)\n",
    "\n",
    "###############################################################################################################################\n",
    "\n",
    "class Vec:\n",
    "    \"\"\"\n",
    "    A vector has two fields:\n",
    "    D - the domain (a set)\n",
    "    f - a dictionary mapping (some) domain elements to field elements\n",
    "        elements of D not appearing in f are implicitly mapped to zero\n",
    "    \"\"\"\n",
    "    def __init__(self, labels, function):\n",
    "        assert isinstance(labels, set)\n",
    "        assert isinstance(function, dict)\n",
    "        self.D = labels\n",
    "        self.f = function\n",
    "\n",
    "    __getitem__ = getitem\n",
    "    __setitem__ = setitem\n",
    "    __neg__ = neg\n",
    "    __rmul__ = scalar_mul #if left arg of * is primitive, assume it's a scalar\n",
    "\n",
    "    def __mul__(self,other):\n",
    "        #If other is a vector, returns the dot product of self and other\n",
    "        if isinstance(other, Vec):\n",
    "            return dot(self,other)\n",
    "        else:\n",
    "            return NotImplemented  #  Will cause other.__rmul__(self) to be invoked\n",
    "\n",
    "    def __truediv__(self,other):  # Scalar division\n",
    "        return (1/other)*self\n",
    "\n",
    "    __add__ = add\n",
    "\n",
    "    def __radd__(self, other):\n",
    "        \"Hack to allow sum(...) to work with vectors\"\n",
    "        if other == 0:\n",
    "            return self\n",
    "\n",
    "    def __sub__(a,b):\n",
    "        \"Returns a vector which is the difference of a and b.\"\n",
    "        return a+(-b)\n",
    "\n",
    "    __eq__ = equal\n",
    "\n",
    "    def is_almost_zero(self):\n",
    "        s = 0\n",
    "        for x in self.f.values():\n",
    "            if isinstance(x, int) or isinstance(x, float):\n",
    "                s += x*x\n",
    "            elif isinstance(x, complex):\n",
    "                y = abs(x)\n",
    "                s += y*y\n",
    "            else: return False\n",
    "        return s < 1e-20\n",
    "\n",
    "    def __str__(v):\n",
    "        \"pretty-printing\"\n",
    "        D_list = sorted(v.D, key=repr)\n",
    "        numdec = 3\n",
    "        wd = dict([(k,(1+max(len(str(k)), len('{0:.{1}G}'.format(v[k], numdec))))) if isinstance(v[k], int) or isinstance(v[k], float) else (k,(1+max(len(str(k)), len(str(v[k]))))) for k in D_list])\n",
    "        s1 = ''.join(['{0:>{1}}'.format(str(k),wd[k]) for k in D_list])\n",
    "        s2 = ''.join(['{0:>{1}.{2}G}'.format(v[k],wd[k],numdec) if isinstance(v[k], int) or isinstance(v[k], float) else '{0:>{1}}'.format(v[k], wd[k]) for k in D_list])\n",
    "        return \"\\n\" + s1 + \"\\n\" + '-'*sum(wd.values()) +\"\\n\" + s2\n",
    "\n",
    "    def __hash__(self):\n",
    "        \"Here we pretend Vecs are immutable so we can form sets of them\"\n",
    "        h = hash(frozenset(self.D))\n",
    "        for k,v in sorted(self.f.items(), key = lambda x:repr(x[0])):\n",
    "            if v != 0:\n",
    "                h = hash((h, hash(v)))\n",
    "        return h\n",
    "\n",
    "    def __repr__(self):\n",
    "        return \"Vec(\" + str(self.D) + \",\" + str(self.f) + \")\"\n",
    "\n",
    "    def copy(self):\n",
    "        \"Don't make a new copy of the domain D\"\n",
    "        return Vec(self.D, self.f.copy())\n",
    "\n",
    "    def __iter__(self):\n",
    "        raise TypeError('%r object is not iterable' % self.__class__.__name__)"
   ]
  },
  {
   "cell_type": "code",
   "execution_count": 28,
   "metadata": {
    "collapsed": true
   },
   "outputs": [],
   "source": [
    "!python -m doctest vec.py"
   ]
  },
  {
   "cell_type": "markdown",
   "metadata": {},
   "source": [
    "## 3.10.3 Vec 사용하기"
   ]
  },
  {
   "cell_type": "code",
   "execution_count": 30,
   "metadata": {},
   "outputs": [
    {
     "name": "stdout",
     "output_type": "stream",
     "text": [
      "1\n"
     ]
    }
   ],
   "source": [
    "v = Vec({'a','b','c', 'd'},{'a':2,'c':1,'d':3})\n",
    "v['a'] = 1\n",
    "print(v['a'])"
   ]
  },
  {
   "cell_type": "code",
   "execution_count": 42,
   "metadata": {},
   "outputs": [
    {
     "data": {
      "text/plain": [
       "Vec({'a', 'b', 'd', 'c'},{'a': 0, 'b': 1, 'd': -6, 'c': -2})"
      ]
     },
     "execution_count": 42,
     "metadata": {},
     "output_type": "execute_result"
    }
   ],
   "source": [
    "b = Vec({'a','b','c', 'd'},{'a':2,'b':1})\n",
    "b = b - (b*v)*v\n",
    "b"
   ]
  },
  {
   "cell_type": "markdown",
   "metadata": {},
   "source": [
    "## 3.10.4 Vec 출력하기"
   ]
  },
  {
   "cell_type": "code",
   "execution_count": 43,
   "metadata": {},
   "outputs": [
    {
     "name": "stdout",
     "output_type": "stream",
     "text": [
      "\n",
      " a b c d\n",
      "--------\n",
      " 1 0 1 3\n"
     ]
    }
   ],
   "source": [
    "print(v)"
   ]
  },
  {
   "cell_type": "markdown",
   "metadata": {},
   "source": [
    "## 3.10.5 Vec 복사하기"
   ]
  },
  {
   "cell_type": "code",
   "execution_count": 49,
   "metadata": {},
   "outputs": [
    {
     "name": "stdout",
     "output_type": "stream",
     "text": [
      "u \n",
      " a b c d\n",
      "--------\n",
      " 9 0 1 3\n",
      "v \n",
      " a b c d\n",
      "--------\n",
      " 1 0 1 3\n"
     ]
    }
   ],
   "source": [
    "u = v.copy()\n",
    "u['a'] = 9\n",
    "print('u', u)\n",
    "print('v', v)"
   ]
  },
  {
   "cell_type": "markdown",
   "metadata": {},
   "source": [
    "## 3.10.6 리스트에서 Vec으로"
   ]
  },
  {
   "cell_type": "markdown",
   "metadata": {},
   "source": [
    "- 벡터를 리스트로 나타내기도 할 것이다. 리스트 L은 {0, 1, 2, ..., len(L)-1}로부터의 함수로 볼 수 있고, 따라서 리스트 기반의 표현에서 딕셔너리 기반의 표현으로 변경할 수 있다."
   ]
  },
  {
   "cell_type": "markdown",
   "metadata": {},
   "source": [
    "### Quiz 3.10.1\n",
    "list2vec(L)을 작성해 보자.\n",
    "- input: 필드 원소들의 리스트 L\n",
    "- output: 정의역 {0, 1, 2, ..., len(L)-1}을 가지는 Vec의 인스턴스 v. 이때 정의역의 각 정수 i에 대해 v[i]=L[i]이다."
   ]
  },
  {
   "cell_type": "code",
   "execution_count": 63,
   "metadata": {},
   "outputs": [
    {
     "data": {
      "text/plain": [
       "Vec({0, 1, 2},{0: 3, 1: 2, 2: 1})"
      ]
     },
     "execution_count": 63,
     "metadata": {},
     "output_type": "execute_result"
    }
   ],
   "source": [
    "def list2vec(L):\n",
    "    return Vec(set(range(len(L))), {i:L[i] for i in range(len(L))})\n",
    "\n",
    "L = [3, 2, 1]\n",
    "v = list2vec(L)\n",
    "v"
   ]
  },
  {
   "cell_type": "markdown",
   "metadata": {},
   "source": [
    "# 3.11 선형방정식들의 삼각시스템에 대한 해 구하기"
   ]
  },
  {
   "cell_type": "markdown",
   "metadata": {},
   "source": [
    "## 3.11.1 상삼각시스템(Upper-triangular system)"
   ]
  },
  {
   "cell_type": "markdown",
   "metadata": {},
   "source": [
    "- 선형 방정식들의 *상삼각시스템*은 다음 형태를 가진다.\n",
    "\n",
    "$\\quad [a_{11}, a_{12}, a_{13}, a_{14}, ..., a_{1,n-1}, a_{1,n} ]\\cdot x=\\beta_1$\n",
    "\n",
    "$\\quad [0, a_{22}, a_{23}, a_{24}, ..., a_{2,n-1}, a_{2,n} ]\\cdot x=\\beta_2$\n",
    "\n",
    "$\\quad [0, 0, a_{33}, a_{34}, ..., a_{3,n-1}, a_{3,n} ]\\cdot x=\\beta_3$\n",
    "\n",
    "$\\quad ...$\n",
    "\n",
    "$\\quad [0, 0, 0, 0, ..., a_{n-1,n-1}, a_{n-1,n} ]\\cdot x=\\beta_{n-1}$\n",
    "\n",
    "$\\quad [0, 0, 0, 0, ..., 0, a_{n,n} ]\\cdot x=\\beta_n$\n"
   ]
  },
  {
   "cell_type": "markdown",
   "metadata": {},
   "source": [
    "### Example 3.11.1 \n",
    "- 다음은 4-벡터들을 사용한 예이다.\n",
    "\n",
    "$\\quad [1, 0.5, -2, 4]\\cdot x=-8$\n",
    "\n",
    "$\\quad [0, 3, 3, 2]\\cdot x=3$\n",
    "\n",
    "$\\quad [0, 0, 1, 5]\\cdot x=-4$\n",
    "\n",
    "$\\quad [0, 0, 0, 2]\\cdot x=6$\n",
    "\n",
    "- 4개의 일반적인 방정식으로 나타낼 수 있다.\n",
    "\n",
    "$\\quad 1x_1 + 0.5x_2  -2x_3 + 4x_4=-8$\n",
    "\n",
    "$\\quad \\quad \\quad 3x_2  3x_3 + 2x_4=3$\n",
    "\n",
    "$\\quad \\quad \\quad \\quad \\quad 1x_3 + 5x_4=-4$\n",
    "\n",
    "$\\quad \\quad \\quad \\quad \\quad \\quad \\quad 2x_4=6$\n"
   ]
  },
  {
   "cell_type": "markdown",
   "metadata": {},
   "source": [
    "## 3.11.2 후진대입법(Backward substitution)"
   ]
  },
  {
   "cell_type": "markdown",
   "metadata": {},
   "source": [
    "- 후진 대입법은 마지막 식에서 시작하여 첫 번째 식까지 반대 방향으로 진행하며 풀어간다.\n",
    "- 후진 대입법은 각 단계에서 오직 하나의 변수에 대한 값을 구하면 된다."
   ]
  },
  {
   "cell_type": "markdown",
   "metadata": {},
   "source": [
    "### Quiz 3.11.2\n",
    "위 기법을 사용하여 다음 시스템에 대한 해를 손으로 풀어보자.\n",
    "\n",
    "$\\quad 2x_1+3x_2-4x_3=10$\n",
    "\n",
    "$\\quad \\quad \\quad 1x_2+2x_3=3$\n",
    "\n",
    "$\\quad \\quad \\quad \\quad \\quad 5x_3=15$"
   ]
  },
  {
   "cell_type": "markdown",
   "metadata": {},
   "source": [
    "A)\n",
    "\n",
    "$\\quad x_3=3$\n",
    "\n",
    "$\\quad 1x_2+2*3=3, x_2=-3$\n",
    "\n",
    "$\\quad 2x_1+3*(-3)-4*3=10, x_1=25.5$"
   ]
  },
  {
   "cell_type": "markdown",
   "metadata": {},
   "source": [
    "### Exercise 3.11.3\n",
    "다음 시스템에 대한 해를 구해보자.\n",
    "\n",
    "$\\quad 1x_1 - 3x_2 - 2x_3=7$\n",
    "\n",
    "$\\quad \\quad \\quad 2x_2 + 4x_3=4$\n",
    "\n",
    "$\\quad \\quad \\quad \\quad -10x_3=12$"
   ]
  },
  {
   "cell_type": "code",
   "execution_count": 59,
   "metadata": {},
   "outputs": [
    {
     "name": "stdout",
     "output_type": "stream",
     "text": [
      "x1:17.80, x2:4.40, x3:-1.20\n"
     ]
    }
   ],
   "source": [
    "x3 = 12/(-10)\n",
    "x2 = (4-4*x3)/2\n",
    "x1 = 7+3*x2+2*x3\n",
    "\n",
    "print('x1:%.2f, x2:%.2f, x3:%.2f' % (x1, x2, x3))"
   ]
  },
  {
   "cell_type": "markdown",
   "metadata": {},
   "source": [
    "## 3.11.3 후진대이법의 첫 번째 구현"
   ]
  },
  {
   "cell_type": "markdown",
   "metadata": {},
   "source": [
    "- 후진대이법의 알고리즘을 벡터와 도트곱을 사용하여 표현하는데 편리한 방법이 있다.\n",
    "\n",
    "\n",
    "1. 해 벡터(solution vector) x를 원소가 모두 0인 벡터로 초기화한다.\n",
    "2. 마지막 엔트리에서 시작하여 x의 각 엔트리를 채워 나간다.\n",
    "3. $x_i$엔트리를 채워야 하는 시점에서 보면, 엔트리 $x_{i+1}, x_{i+2}, ..., x_n$의 값은 이미 채워져 있고 나머지 엔트리들은 모두 영이다.\n",
    "\n",
    "$\\quad \\quad 엔트리 a_ii\\cdot x_i의 값 = \\beta_i-(값을 알고 있는 변수들이 표함된 표현식) $\n",
    "\n",
    "$\\quad \\quad 엔트리 x_i의 값 = \\frac{\\beta_i-(값을 알고 있는 변수들이 표함된 표현식)}{a_ii} $\n",
    "\n",
    "- traiangular_solve_n(rowlist, b)을 작성해 보자 \n",
    " - input: 어떤 정수 n에 대해, n-벡터들의 리스트 rowlist로 구성된 삼각시스템과 길이가 n인 숫자들의 리스트 b\n",
    " - output: i=0,1,...n-1에 대해 rowlist[i]와 x의 도트곱이 b[i]가 되게하는 그러한 벡터 x"
   ]
  },
  {
   "cell_type": "code",
   "execution_count": 68,
   "metadata": {
    "collapsed": true
   },
   "outputs": [],
   "source": [
    "def triangular_solve_n(rowlist, b):\n",
    "    D = rowlist[0].D\n",
    "    n = len(D)\n",
    "    assert D == set(range(n))\n",
    "    x = zero_vec(D)\n",
    "    for i in reversed(range(n)):\n",
    "        x[i] = (b[i]-rowlist[i]*x)/rowlist[i][i]\n",
    "    return x"
   ]
  },
  {
   "cell_type": "markdown",
   "metadata": {},
   "source": [
    "### Exercise 3.11.4\n",
    "triangular_solve_n을 파있너에 입력하여 위에서 예로 든 시스템에 적용해 보자."
   ]
  },
  {
   "cell_type": "code",
   "execution_count": 70,
   "metadata": {},
   "outputs": [
    {
     "data": {
      "text/plain": [
       "Vec({0, 1, 2},{2: -1.2, 1: 4.4, 0: 17.8})"
      ]
     },
     "execution_count": 70,
     "metadata": {},
     "output_type": "execute_result"
    }
   ],
   "source": [
    "rowlist = [list2vec([1, -3, -2]),\n",
    "           list2vec([0,  2,  4]),\n",
    "           list2vec([0,  0,-10])]\n",
    "b = [7, 4, 12]\n",
    "\n",
    "triangular_solve_n(rowlist, b)"
   ]
  },
  {
   "cell_type": "markdown",
   "metadata": {},
   "source": [
    "## 3.11.4 언제 알고리즘이 동작할까?"
   ]
  },
  {
   "cell_type": "markdown",
   "metadata": {},
   "source": [
    "- 후진 대입 알로기름은 모든 상삼각시스템에 대해 동작하는 것은 아니다.\n",
    "- 만약 rowlist[i][i] 값이 어떤 i에 대해 영이면, 알고리즘은 해를 구하지 못할 것이다."
   ]
  },
  {
   "cell_type": "markdown",
   "metadata": {},
   "source": [
    "### Proposition 3.11.5\n",
    "- 길이가 n인 n-벡터들의 리스트 rowlist와 n-벡터 b에 의해 명시되는 삼각시스템에서, 만약 i=0, 1, ..., n-1에 대해 rowlist[i][i]$\\neq$0이면, triangular_solve_n(rowlist, b)로 찾은 해는 시스템의 유일한 해이다."
   ]
  },
  {
   "cell_type": "markdown",
   "metadata": {},
   "source": [
    "### Proposition 3.11.6\n",
    "- 길이가 n인 n-벡터들의 리스트 rowlist에서, 만약 어떤 정수 i에 대해 rowlist[i][i]=0이면, 삼각시스템이 해를 가지지 않는 벡터 b가 있다.\n",
    "- 예) b[i]는 0이 아니고, 그 이외의 엔트리들은 모두 0인 경우"
   ]
  },
  {
   "cell_type": "markdown",
   "metadata": {},
   "source": [
    "## 3.11.5 임의의 정의역을 가진 벡터들에 대한 후진대입법"
   ]
  },
  {
   "cell_type": "markdown",
   "metadata": {},
   "source": [
    "- triangular_solve(rowlist, label_list, b)를 작성하자\n",
    " - input: 양의 정수 n에 대해, 모두 동일한 n-원소 정의역 D를 가지는 n개 Vec의 rowlist, D의 원소들로 구성된 리스트 label_list, 그리고 n개의 숫자들로 구성된 리스트 b\n",
    "   - rowlist[i][label_list[j]은 j=0,1,2,...,i-1이면 영이고, j=i이면 영이 아닌 값이다. \n",
    " - output: Vec x. i=0,1,...,n-1에 대해 rowlist[i]와 x의 도트곱은 b[i]와 같다."
   ]
  },
  {
   "cell_type": "code",
   "execution_count": 71,
   "metadata": {
    "collapsed": true
   },
   "outputs": [],
   "source": [
    "def triangular_solve(rowlist, label_list, b):\n",
    "    D = rowlist[0].D\n",
    "    x = zero_vec(D)\n",
    "    for j in reversed(range(len(D))):\n",
    "        c = label_list[j]\n",
    "        row = rowlist[j]\n",
    "        x[c] = (b[j] - row*x) / row[c]\n",
    "    return x"
   ]
  },
  {
   "cell_type": "code",
   "execution_count": 73,
   "metadata": {},
   "outputs": [
    {
     "data": {
      "text/plain": [
       "Vec({'a', 'b', 'd', 'c'},{'d': -4.0, 'c': 1.4, 'b': 1.9000000000000004, 'a': 3.2750000000000004})"
      ]
     },
     "execution_count": 73,
     "metadata": {},
     "output_type": "execute_result"
    }
   ],
   "source": [
    "label_list=['a', 'b', 'c', 'd']\n",
    "D = set(label_list)\n",
    "rowlist=[Vec(D, {'a':4, 'b':-2, 'c':0.5, 'd':1}),\n",
    "         Vec(D, {'b':2, 'c':3, 'd':3}),\n",
    "         Vec(D, {'c':5, 'd':1}),\n",
    "         Vec(D, {'d':2})]\n",
    "b = [6, -4, 3, -8]\n",
    "\n",
    "triangular_solve(rowlist, label_list, b)"
   ]
  },
  {
   "cell_type": "markdown",
   "metadata": {},
   "source": [
    "# 3.12 Lab: 도트곱을 사용하여 투표기록 비교하기"
   ]
  },
  {
   "cell_type": "markdown",
   "metadata": {},
   "source": [
    "## 3.12.1 파일 읽어들이기"
   ]
  },
  {
   "cell_type": "code",
   "execution_count": 7,
   "metadata": {},
   "outputs": [
    {
     "data": {
      "text/plain": [
       "99"
      ]
     },
     "execution_count": 7,
     "metadata": {},
     "output_type": "execute_result"
    }
   ],
   "source": [
    "f = open('./voting_record_dump109.txt')\n",
    "myfile = list(f)\n",
    "len(myfile)"
   ]
  },
  {
   "cell_type": "markdown",
   "metadata": {},
   "source": [
    "### Task 3.12.1 \n",
    "create_voting_dict(strlist)을 작성해 보자. 이 프로시저는 주어진 문자열의 리스트(소스 파일에서 읽어 들인 투표기록)에 대해 상원 의원의 성을 그 의원의 투표기록을 나타내는 리스트에 매핑하는 딕셔너리를 리턴한다."
   ]
  },
  {
   "cell_type": "code",
   "execution_count": 25,
   "metadata": {
    "scrolled": true
   },
   "outputs": [
    {
     "name": "stdout",
     "output_type": "stream",
     "text": [
      "[-1, -1, 1, 1, 1, -1, -1, 1, 1, 1, 1, 1, 1, 1, -1, 1, 1, 1, -1, 1, 1, 1, 1, 1, -1, 1, -1, -1, 1, 1, 1, 1, 1, 1, 0, 0, 1, -1, -1, 1, -1, 1, -1, 1, 1, -1]\n"
     ]
    }
   ],
   "source": [
    "def create_voting_dict(strlist):\n",
    "    voting_dict = {}\n",
    "    for s in strlist:\n",
    "        s = s.split()\n",
    "        voting_dict[s[0]] = [int(_s) for _s in s[3:]]\n",
    "    return voting_dict\n",
    "        \n",
    "voting_dict = create_voting_dict(myfile)\n",
    "print(voting_dict['Akaka'])"
   ]
  },
  {
   "cell_type": "markdown",
   "metadata": {},
   "source": [
    "## 3.12.2 도트곱을 사용하여 투포를 비교하기 위한 두가지 방법"
   ]
  },
  {
   "cell_type": "markdown",
   "metadata": {},
   "source": [
    "- 벡터의 엔트리들이 모두 1, 0, -1인 간단한 경우을 생각해 보자.\n",
    "- 도트 곱은 다음과 같이 정의된다. $u\\cdot v = \\sum_{k}{u[k]v[k]}$\n",
    "- 만약 엔트리 값이 두 벡터 모두 1 또는 -1이면 대응하는 항은 또한 1이고, 이는 의견일치를 나타낸다.\n",
    "- 만약 엔트리 값이 1, -1로 서로 다르면 대응하는 항은 -1로, 이는 의견 불일치를 나타낸다.\n",
    "- 만약 엔트리 값에 0이 있으면 대응하는 항은 0으로, 이는 의견 일치, 불일치에 대한 정보를 제공하지 않는다는 것을 의미한다."
   ]
  },
  {
   "cell_type": "markdown",
   "metadata": {},
   "source": [
    "## 3.12.3 정책 비교"
   ]
  },
  {
   "cell_type": "markdown",
   "metadata": {},
   "source": [
    "### Task 3.12.2\n",
    "프로시저, policy_compare(sen_a, sen_b, voting_dict)을 작성해 보자. 이 프로시저는 주어진 두 상원 의원의 이름과 투표기록을 나타내는 리스트에 이름을 매핑하는 딕셔너리에 대해 두 의원의 투표정책 사이의 유사도를 나타내는 도트곱을 리턴한다."
   ]
  },
  {
   "cell_type": "code",
   "execution_count": 46,
   "metadata": {},
   "outputs": [
    {
     "data": {
      "text/plain": [
       "29"
      ]
     },
     "execution_count": 46,
     "metadata": {},
     "output_type": "execute_result"
    }
   ],
   "source": [
    "def policy_compare(sen_a, sen_b, voting_dict): \n",
    "    return sum([a*b for a, b in zip(voting_dict[sen_a], voting_dict[sen_b])])\n",
    "\n",
    "policy_compare('Lincoln', 'Alexander', voting_dict)"
   ]
  },
  {
   "cell_type": "markdown",
   "metadata": {},
   "source": [
    "### Task 3.12.3\n",
    "프로시저, most_similar(sen, voting_dict)을 작성해 보자. 이 프로시저는 주어진 상원 의원의 이름과 투표기록을 나타내는 리스트에 이름을 매핑하는 딕셔너리에 대해 정치적 성향이 입력한 의원과 가장 유사한 의원의 이름을 리턴한다."
   ]
  },
  {
   "cell_type": "code",
   "execution_count": 50,
   "metadata": {},
   "outputs": [
    {
     "data": {
      "text/plain": [
       "('Kennedy', 43)"
      ]
     },
     "execution_count": 50,
     "metadata": {},
     "output_type": "execute_result"
    }
   ],
   "source": [
    "def most_similar(sen, voting_dict):\n",
    "    similar = {other:policy_compare(sen, other, voting_dict) for other in voting_dict.keys() if other != sen}\n",
    "    name = max(similar, key=similar.get)\n",
    "    return name, similar[name]\n",
    "    \n",
    "most_similar('Akaka', voting_dict)"
   ]
  },
  {
   "cell_type": "markdown",
   "metadata": {},
   "source": [
    "### Task 3.12.4\n",
    "프로시저, least_similar(sen, voting_dict)을 작성해 보자. 이 프로시저는 이름이 sen인 의원과 투표기록이 가장 일치하지 않는 의원의 이름을 리턴한다."
   ]
  },
  {
   "cell_type": "code",
   "execution_count": 49,
   "metadata": {},
   "outputs": [
    {
     "data": {
      "text/plain": [
       "('Sununu', 1)"
      ]
     },
     "execution_count": 49,
     "metadata": {},
     "output_type": "execute_result"
    }
   ],
   "source": [
    "def least_similar(sen, voting_dict):\n",
    "    similar = {other:policy_compare(sen, other, voting_dict) for other in voting_dict.keys() if other != sen}\n",
    "    name = min(similar, key=similar.get)\n",
    "    return name, similar[name]\n",
    "    \n",
    "least_similar('Akaka', voting_dict)"
   ]
  },
  {
   "cell_type": "markdown",
   "metadata": {},
   "source": [
    "### Task 3.12.5\n",
    "이 프로시저들을 사용하여 어느 상원 의원이 링컨 채피와 가장 비슷한지 알아보자. 그 다음에, 릭 샌토럼과 가장 일치하지 않는지 찾아보자. 이들의 이름을 리턴한다."
   ]
  },
  {
   "cell_type": "code",
   "execution_count": 56,
   "metadata": {},
   "outputs": [
    {
     "name": "stdout",
     "output_type": "stream",
     "text": [
      "('Carper', 42)\n",
      "('Feingold', 3)\n"
     ]
    }
   ],
   "source": [
    "print(most_similar('Lincoln', voting_dict))\n",
    "print(least_similar('Santorum', voting_dict))"
   ]
  },
  {
   "cell_type": "markdown",
   "metadata": {},
   "source": [
    "### Task 3.12.6\n",
    "가장 좋아하는 주 출신의 두 상원의원들의 투표기록이 얼마나 유사한가?"
   ]
  },
  {
   "cell_type": "code",
   "execution_count": 58,
   "metadata": {},
   "outputs": [
    {
     "data": {
      "text/plain": [
       "40"
      ]
     },
     "execution_count": 58,
     "metadata": {},
     "output_type": "execute_result"
    }
   ],
   "source": [
    "# LA\n",
    "policy_compare('Landrieu', 'Vitter', voting_dict)"
   ]
  },
  {
   "cell_type": "markdown",
   "metadata": {},
   "source": [
    "## 3.12.4 평균적 민주당원과의 비교"
   ]
  },
  {
   "cell_type": "markdown",
   "metadata": {},
   "source": [
    "### Task 3.12.7\n",
    "프로시저, find_average_similarity(sen, sen_set, voting_dict)을 작성해 보자. 이 프로시저는 주어진 상원 의원의 이름 sen에 대해 이 의원의 투표기록을 sen_set에 있는 모든 의원들의 투표기록과 비교하여 각각에 대해 도트곱을 계산하여 평균 도트곱을 리턴한다."
   ]
  },
  {
   "cell_type": "code",
   "execution_count": 77,
   "metadata": {},
   "outputs": [
    {
     "name": "stdout",
     "output_type": "stream",
     "text": [
      "D: ('Biden', 34.86046511627907)\n",
      "R: ('Allen', 39.6)\n"
     ]
    }
   ],
   "source": [
    "def find_average_similarity(sen, sen_set, voting_dict):\n",
    "    return sum([policy_compare(sen, other, voting_dict) for other in sen_set]) / len(sen_set)\n",
    "\n",
    "def most_similar_party(sen_set, voting_dict):\n",
    "    similarity = {name:find_average_similarity(name, sen_set, voting_dict) for name in voting_dict.keys()}\n",
    "    name = max(similarity, key=similarity.get)\n",
    "    return name, similarity[name]\n",
    "\n",
    "def create_party_set(party, strlist):\n",
    "    party_set = set()\n",
    "    for s in strlist:\n",
    "        s = s.split()\n",
    "        if s[1] == party:\n",
    "            party_set.add(s[0])\n",
    "    return party_set\n",
    "\n",
    "D = create_party_set('D', myfile)\n",
    "R = create_party_set('R', myfile)\n",
    "\n",
    "print('D:', most_similar_party(D, voting_dict))\n",
    "print('R:', most_similar_party(R, voting_dict))"
   ]
  },
  {
   "cell_type": "markdown",
   "metadata": {},
   "source": [
    "### Task 3.12.8\n",
    "find_average_record(sen_set, voting_dict)을 작성해 보자. 이 프로시저는 상원 의원들의 이름으로 구성된 주어진 집합에 대해 평균 투표기록을 찾는다. 이 프로시저를 사용하여 민주당의 집합에 대한 평균 투표기록을 계산하고 어느 의원의 투표기록이 평균 민주당의 투표 기록과 가장 유사한지 찾아보자. Task 3.12.7와 동일한 결과를 얻었는가? 이유를 설명할 수 있는가?"
   ]
  },
  {
   "cell_type": "code",
   "execution_count": 105,
   "metadata": {
    "scrolled": true
   },
   "outputs": [
    {
     "data": {
      "text/plain": [
       "('Biden', 34.860465116279066)"
      ]
     },
     "execution_count": 105,
     "metadata": {},
     "output_type": "execute_result"
    }
   ],
   "source": [
    "def find_average_record(sen_set, voting_dict):\n",
    "    avg_record = [0]*len(voting_dict[(list(sen_set)[0])])\n",
    "    for sen in sen_set:\n",
    "        avg_record = addn(avg_record, voting_dict[sen])        \n",
    "    return scalar_vector_mult(1/len(sen_set), avg_record)\n",
    "\n",
    "def policy_compare_record(record, sen_b, voting_dict): \n",
    "    return sum([a*b for a, b in zip(record, voting_dict[sen_b])])\n",
    "\n",
    "def most_similar_record(record, voting_dict):\n",
    "    similar = {other:policy_compare_record(record, other, voting_dict) for other in voting_dict.keys()}\n",
    "    name = max(similar, key=similar.get)\n",
    "    return name, similar[name]\n",
    "\n",
    "average_Democrat_record = find_average_record(D, voting_dict)\n",
    "most_similar_record(average_Democrat_record, voting_dict)"
   ]
  },
  {
   "cell_type": "markdown",
   "metadata": {},
   "source": [
    "A) Task 3.12.7과 3.12.8의 결과는 동일한다. 그 이유는 도트곱의 분배성 때문이다.\n",
    "$$(sen\\cdot d_1+sen\\cdot d_2+...sen\\cdot d_n)/n = (sen\\cdot(d_1+d_2+...+d_n))/n$$"
   ]
  },
  {
   "cell_type": "markdown",
   "metadata": {},
   "source": [
    "## 3.12.5 최대 경쟁자"
   ]
  },
  {
   "cell_type": "markdown",
   "metadata": {},
   "source": [
    "### Task 3.12.9\n",
    "의견 일치가 가장 안 되는 두 상원 의원이 누구인지 찾는 프로시저 bitter_rivals(voting_dict)을 작성해 보자."
   ]
  },
  {
   "cell_type": "code",
   "execution_count": 112,
   "metadata": {},
   "outputs": [
    {
     "data": {
      "text/plain": [
       "('Feingold', ('Inhofe', -3))"
      ]
     },
     "execution_count": 112,
     "metadata": {},
     "output_type": "execute_result"
    }
   ],
   "source": [
    "def bitter_rivals(voting_dict):\n",
    "    rivals = {name:least_similar(name, voting_dict) for name in voting_dict.keys()}\n",
    "    name = min(rivals, key=lambda k:rivals[k][1])\n",
    "    return name, rivals[name] \n",
    "    \n",
    "bitter_rivals(voting_dict)"
   ]
  },
  {
   "cell_type": "markdown",
   "metadata": {},
   "source": [
    "## 3.12.6 개방형 인구"
   ]
  },
  {
   "cell_type": "markdown",
   "metadata": {},
   "source": [
    "- Q) 누가/어느 주가 가장 공화당/민주당다운 상원 의원/주인가?"
   ]
  },
  {
   "cell_type": "code",
   "execution_count": 129,
   "metadata": {},
   "outputs": [
    {
     "name": "stdout",
     "output_type": "stream",
     "text": [
      "Most D(Name): ('Biden', 34.86046511627907)\n",
      "Most R(Name): ('Allen', 39.6)\n"
     ]
    }
   ],
   "source": [
    "print('Most D(Name):', most_similar_party(D, voting_dict))\n",
    "print('Most R(Name):', most_similar_party(R, voting_dict))"
   ]
  },
  {
   "cell_type": "code",
   "execution_count": 130,
   "metadata": {
    "scrolled": false
   },
   "outputs": [
    {
     "name": "stdout",
     "output_type": "stream",
     "text": [
      "Most D(State): ('MD', 33.95348837209302)\n",
      "Most R(State): ('MO', 39.6)\n"
     ]
    }
   ],
   "source": [
    "def create_state(strlist):\n",
    "    state = {}\n",
    "    for s in strlist:\n",
    "        s = s.split()\n",
    "        if not s[2] in state:\n",
    "            state[s[2]] = set() \n",
    "            \n",
    "        state[s[2]].add(s[0])\n",
    "    return state\n",
    "\n",
    "states = create_state(myfile)\n",
    "\n",
    "average_D_record = find_average_record(D, voting_dict)\n",
    "average_R_record = find_average_record(R, voting_dict)\n",
    "avg_state_records = {state:find_average_record(states[state], voting_dict) for state in states.keys()}\n",
    "\n",
    "print('Most D(State):', most_similar_record(average_D_record, avg_state_records))\n",
    "print('Most R(State):', most_similar_record(average_R_record, avg_state_records))"
   ]
  },
  {
   "cell_type": "markdown",
   "metadata": {},
   "source": [
    "- Q) 존 맥케인은 진짜로 독립적인(개성이 강한) 사람인가?"
   ]
  },
  {
   "cell_type": "code",
   "execution_count": 136,
   "metadata": {},
   "outputs": [
    {
     "name": "stdout",
     "output_type": "stream",
     "text": [
      "McCain: 22.959595959595966\n"
     ]
    }
   ],
   "source": [
    "avg = find_average_record(voting_dict.keys(), voting_dict)\n",
    "McCain = policy_compare_record(avg, 'McCain', voting_dict)\n",
    "print('McCain:', McCain)"
   ]
  },
  {
   "cell_type": "markdown",
   "metadata": {},
   "source": [
    "A) 평균 투표결과와 유사성이 높은 것으로 봐서 투개성이 강하지는 않는다."
   ]
  },
  {
   "cell_type": "markdown",
   "metadata": {},
   "source": [
    "- Q) 버락 오바마는 정말로 극단주의적인 사람인가?"
   ]
  },
  {
   "cell_type": "code",
   "execution_count": 139,
   "metadata": {},
   "outputs": [
    {
     "name": "stdout",
     "output_type": "stream",
     "text": [
      "Obama D: 31.69767441860464\n",
      "Obama R: 20.61818181818182\n"
     ]
    }
   ],
   "source": [
    "obama_D = policy_compare_record(average_D_record, 'Obama', voting_dict)\n",
    "obama_R = policy_compare_record(average_R_record, 'Obama', voting_dict)\n",
    "print('Obama D:', obama_D)\n",
    "print('Obama R:', obama_R)"
   ]
  },
  {
   "cell_type": "markdown",
   "metadata": {},
   "source": [
    "A) 오바바의 경우 민주당과 공산당의 유사도가 10정도 차이로 극단주의로 보기는 어렵다"
   ]
  },
  {
   "cell_type": "markdown",
   "metadata": {},
   "source": [
    "- Q) 어느 두 상원 의원이 가장 격렬한 경쟁자인가?"
   ]
  },
  {
   "cell_type": "markdown",
   "metadata": {},
   "source": [
    "A) Task 3.12.9와 같은 질문으로 Feingold, Inhofe가 가장 의견차이가 심해서 격렬한 경쟁자로 보인다."
   ]
  },
  {
   "cell_type": "markdown",
   "metadata": {},
   "source": [
    "- Q) 어느 상원 의원이 가장 큰 정적을 가지고 있는가?(만약 도트곱의 값이 아주 부정적인 경우, 즉 어떤 음수의 임계값보다 작을 경우, 두 의원은 정적이라고 가정한다)"
   ]
  },
  {
   "cell_type": "code",
   "execution_count": 140,
   "metadata": {},
   "outputs": [
    {
     "data": {
      "text/plain": [
       "('Feingold', 14.101010101010104)"
      ]
     },
     "execution_count": 140,
     "metadata": {},
     "output_type": "execute_result"
    }
   ],
   "source": [
    "def least_similar_record(record, voting_dict):\n",
    "    similar = {other:policy_compare_record(record, other, voting_dict) for other in voting_dict.keys()}\n",
    "    name = min(similar, key=similar.get)\n",
    "    return name, similar[name]\n",
    "\n",
    "least_similar_record(avg, voting_dict)"
   ]
  },
  {
   "cell_type": "markdown",
   "metadata": {},
   "source": [
    "A) 투표 평균 벡터와의 도트곱이 가장 작은 Feingold가 정적이다(?)"
   ]
  },
  {
   "cell_type": "markdown",
   "metadata": {},
   "source": [
    "# 3.13 Review Questions"
   ]
  },
  {
   "cell_type": "markdown",
   "metadata": {},
   "source": [
    "### Q) 벡터 뎃셈은 무엇인가?"
   ]
  },
  {
   "cell_type": "markdown",
   "metadata": {},
   "source": [
    "n-벡터들의 덧셈은 대응하는 원소들의 덧셈으로 정의된다.\n",
    "\n",
    "$[u_1, u_2, ..., u_n]+[v_1, v_2, ..., v_n]=[u_1+v_1, u_2+v_2, ..., u_n+v_n]$"
   ]
  },
  {
   "cell_type": "markdown",
   "metadata": {},
   "source": [
    "### Q) 벡터 덧셈의 기하하적 해석은 무엇인가?"
   ]
  },
  {
   "cell_type": "markdown",
   "metadata": {},
   "source": [
    "평행이동"
   ]
  },
  {
   "cell_type": "markdown",
   "metadata": {},
   "source": [
    "### Q) 스칼라-벡터 곱은 무엇인가?"
   ]
  },
  {
   "cell_type": "markdown",
   "metadata": {},
   "source": [
    "벡터 $v$와 스칼라 $\\alpha$의 곱셈은 $v$의 원소 각각을 $\\alpha$와 곱하는 것으로 정의된다.\n",
    "\n",
    "$\\quad \\quad \\quad \\alpha [v_1, v_2, ..., v_n] = [\\alpha v_1, \\alpha v_2, ..., \\alpha v_n]$\n"
   ]
  },
  {
   "cell_type": "markdown",
   "metadata": {},
   "source": [
    "### Q) 스칼라-벡터 곱은 관련되지만 벡터 덧셈은 연관되지 않는 분배적 성질(distributive property)은 무엇인가?"
   ]
  },
  {
   "cell_type": "markdown",
   "metadata": {},
   "source": [
    "$(\\alpha + \\beta)u = \\alpha u + \\beta u$"
   ]
  },
  {
   "cell_type": "markdown",
   "metadata": {},
   "source": [
    "### Q) 스칼라-벡터 곱과 벡터 덧셈 둘 다 연관된 분배적 성질은 무엇인가?"
   ]
  },
  {
   "cell_type": "markdown",
   "metadata": {},
   "source": [
    "$\\alpha(u+v)=\\alpha u + \\alpha v$"
   ]
  },
  {
   "cell_type": "markdown",
   "metadata": {},
   "source": [
    "### Q) 스칼라-벡터 곱은 원점과 주어진 한점을 지나는 직선을 나타내는 데 어떻게 사용되는가?"
   ]
  },
  {
   "cell_type": "markdown",
   "metadata": {},
   "source": [
    "$\\{ \\alpha v + v_0: \\alpha \\in \\mathbb R, 0 \\le \\alpha \\le 1 \\}$"
   ]
  },
  {
   "cell_type": "markdown",
   "metadata": {},
   "source": [
    "### Q) 스칼라-벡터 곱과 벡터 덧셈은 주어진 한 쌍의 점을 지나는 직선을 나타내는 데 어떻게 사용되는가?"
   ]
  },
  {
   "cell_type": "markdown",
   "metadata": {},
   "source": [
    "$\\alpha u+\\beta v$ 직선은 $v$와 $u$의 아핀겹합들의 집합으로 구성된다.\n",
    "\n",
    "$\\quad \\quad \\quad \\{\\alpha u+\\beta v: \\alpha, \\in \\mathbb R, \\beta \\in R, \\alpha + \\beta = 1 \\}$"
   ]
  },
  {
   "cell_type": "markdown",
   "metadata": {},
   "source": [
    "### Q) 도트곱은 무엇인가?"
   ]
  },
  {
   "cell_type": "markdown",
   "metadata": {},
   "source": [
    "두 개의 D-벡터들 u와 v에 대해, 도트곱은 대응하는 엔트리들의 곱의 합이다.\n",
    "$$u\\cdot v=\\sum_{k\\in D}{u[k]v[k]}$$"
   ]
  },
  {
   "cell_type": "markdown",
   "metadata": {},
   "source": [
    "### Q) 도트곱을 스칼라-벡터곱에 연관시키는 동질성은 무엇인가?"
   ]
  },
  {
   "cell_type": "markdown",
   "metadata": {},
   "source": [
    "$(\\alpha u)\\cdot v = \\alpha(u\\cdot v)$"
   ]
  },
  {
   "cell_type": "markdown",
   "metadata": {},
   "source": [
    "### Q) 도트곱을 벡터 덧셈에 연관시키는 분배적 성질은 무엇인가?"
   ]
  },
  {
   "cell_type": "markdown",
   "metadata": {},
   "source": [
    "$(u+v)\\cdot w= u\\cdot w+v\\cdot w$"
   ]
  },
  {
   "cell_type": "markdown",
   "metadata": {},
   "source": [
    "### Q) 도트곱을 사용하여 표현되는 선형방정식은 무엇인가?"
   ]
  },
  {
   "cell_type": "markdown",
   "metadata": {},
   "source": [
    "선형방정식(일차 방정식)은 $a\\cdot x=\\beta$의 형태를 가지는 식으로, a는 벡터, $\\beta$는 스칼라이며, x는 벡터 변수이다."
   ]
  },
  {
   "cell_type": "markdown",
   "metadata": {},
   "source": [
    "### Q) 선형시스템은 무엇인가?"
   ]
  },
  {
   "cell_type": "markdown",
   "metadata": {},
   "source": [
    "일반적으로, *선형방정식들의 시스템(줄여서 선형시스템은)* 방정식들의 컬렉션이다.\n",
    "$$a_1\\cdot x = \\beta_1$$\n",
    "$$a_2\\cdot x = \\beta_2$$\n",
    "$$...$$\n",
    "$$a_m\\cdot x = \\beta_m$$\n",
    "여기서, x는 벡터 변수이다. 해는 모든 방정식들을 만족하는 벡터 $\\hat{x}$이다."
   ]
  },
  {
   "cell_type": "markdown",
   "metadata": {},
   "source": [
    "### Q) 상삼각 선형시스템은 무엇인가?"
   ]
  },
  {
   "cell_type": "markdown",
   "metadata": {},
   "source": [
    "선형 방정식들의 *상삼각시스템*은 다음 형태를 가진다.\n",
    "\n",
    "$\\quad [a_{11}, a_{12}, a_{13}, a_{14}, ..., a_{1,n-1}, a_{1,n} ]\\cdot x=\\beta_1$\n",
    "\n",
    "$\\quad [0, a_{22}, a_{23}, a_{24}, ..., a_{2,n-1}, a_{2,n} ]\\cdot x=\\beta_2$\n",
    "\n",
    "$\\quad [0, 0, a_{33}, a_{34}, ..., a_{3,n-1}, a_{3,n} ]\\cdot x=\\beta_3$\n",
    "\n",
    "$\\quad ...$\n",
    "\n",
    "$\\quad [0, 0, 0, 0, ..., a_{n-1,n-1}, a_{n-1,n} ]\\cdot x=\\beta_{n-1}$\n",
    "\n",
    "$\\quad [0, 0, 0, 0, ..., 0, a_{n,n} ]\\cdot x=\\beta_n$"
   ]
  },
  {
   "cell_type": "markdown",
   "metadata": {},
   "source": [
    "### Q) 상삼각 선형시스템의 해는 어떻게 구하는가?"
   ]
  },
  {
   "cell_type": "markdown",
   "metadata": {},
   "source": [
    "- 후진대입법으로 계산한다.\n",
    " - 후진 대입법은 마지막 식에서 시작하여 첫 번째 식까지 반대 방향으로 진행하며 풀어간다.\n",
    " - 후진 대입법은 각 단계에서 오직 하나의 변수에 대한 값을 구하면 된다."
   ]
  },
  {
   "cell_type": "markdown",
   "metadata": {},
   "source": [
    "# 3.14 Problems"
   ]
  },
  {
   "cell_type": "markdown",
   "metadata": {},
   "source": [
    "### Problem 3.14.1\n",
    "벡터 v=[-1,3]과 u=[0,4]에 대해, 벡터 v+u, v-u, 그리고 3v-2u를 구하여라. 이 벡터들을 동일한 그래프상에 화살표로 그려보자."
   ]
  },
  {
   "cell_type": "code",
   "execution_count": 10,
   "metadata": {},
   "outputs": [
    {
     "name": "stdout",
     "output_type": "stream",
     "text": [
      "v+u: [-1, 7]\n",
      "v-u: [-1, -1]\n",
      "3v-2u: [-3, 1]\n"
     ]
    },
    {
     "data": {
      "image/png": "[encoded data removed]",
      "text/plain": [
       "<matplotlib.figure.Figure at 0x10a872748>"
      ]
     },
     "metadata": {},
     "output_type": "display_data"
    }
   ],
   "source": [
    "v=[-1, 3]\n",
    "u=[0, 4]\n",
    "\n",
    "v_p_u = [_v+_u for _v,_u in zip(v,u)]\n",
    "v_m_u = [_v-_u for _v,_u in zip(v,u)]\n",
    "_3v_m_2u = [3*_v-2*_u for _v,_u in zip(v,u)]\n",
    "\n",
    "print('v+u:', v_p_u)\n",
    "print('v-u:', v_m_u)\n",
    "print('3v-2u:', _3v_m_2u)\n",
    "\n",
    "plot_vec(v_p_u, show=False)\n",
    "plot_vec(v_m_u, show=False)\n",
    "plot_vec(_3v_m_2u, scale=8)"
   ]
  },
  {
   "cell_type": "markdown",
   "metadata": {},
   "source": [
    "### Problem 3.14.2\n",
    "주어진 벡터 v=[-2,-1,5]와 u=[-1,1,1]에 대해, 벡터 v+u, v-u, 2v-u, 그리고 v+2u를 구하여라."
   ]
  },
  {
   "cell_type": "code",
   "execution_count": 12,
   "metadata": {},
   "outputs": [
    {
     "name": "stdout",
     "output_type": "stream",
     "text": [
      "v+u: [-3, 0, 6]\n",
      "v-u: [-1, -2, 4]\n",
      "2v-u: [-3, -3, 9]\n",
      "v+2u: [-4, 1, 7]\n"
     ]
    }
   ],
   "source": [
    "v = [-2, -1, 5]\n",
    "u = [-1, 1, 1]\n",
    "\n",
    "v_p_u = [_v+_u for _v,_u in zip(v,u)]\n",
    "v_m_u = [_v-_u for _v,_u in zip(v,u)]\n",
    "_2v_m_u =[2*_v-_u for _v,_u in zip(v,u)]\n",
    "v_p_2u = [_v+2*_u for _v,_u in zip(v,u)]\n",
    "\n",
    "print('v+u:', v_p_u)\n",
    "print('v-u:', v_m_u)\n",
    "print('2v-u:', _2v_m_u)\n",
    "print('v+2u:', v_p_2u)"
   ]
  },
  {
   "cell_type": "markdown",
   "metadata": {},
   "source": [
    "### Problem 3.14.3\n",
    "GF(2)상의 벡터 v=[0, one, one]와 u=[one, one, one]에 대해 v+u와 v+u+u를 구하여라."
   ]
  },
  {
   "cell_type": "code",
   "execution_count": 14,
   "metadata": {},
   "outputs": [
    {
     "name": "stdout",
     "output_type": "stream",
     "text": [
      "v+u: [one, 0, 0]\n",
      "v-u: [one, 0, 0]\n",
      "v+u+u: [0, one, one]\n"
     ]
    }
   ],
   "source": [
    "from GF2 import one\n",
    "\n",
    "v = [0, one, one]\n",
    "u = [one, one, one]\n",
    "\n",
    "v_p_u = [_v+_u for _v,_u in zip(v,u)]\n",
    "v_m_u = [_v+_u for _v,_u in zip(v,u)]\n",
    "v_p_u_u = [_v+_u+_u for _v,_u in zip(v,u)]\n",
    "\n",
    "print('v+u:', v_p_u)\n",
    "print('v-u:', v_m_u)\n",
    "print('v+u+u:', v_p_u_u)"
   ]
  },
  {
   "cell_type": "markdown",
   "metadata": {},
   "source": [
    "### Problem 3.14.4\n",
    "GF(2)상의 7-벡터들이 주어져 있다. 다음 벡터 u각각에 대해, 합이 u인 위 벡터들의 부분집합을 찾아라. 만약 그런 부분집합이 존재하지 않으면 존재하지 않음을 리포트하라."
   ]
  },
  {
   "cell_type": "code",
   "execution_count": 30,
   "metadata": {},
   "outputs": [
    {
     "name": "stdout",
     "output_type": "stream",
     "text": [
      "u: [0, 0, one, 0, 0, one, 0]\n",
      "[0, 0, 0, 0, one, one, 0]\n",
      "[0, 0, 0, one, one, 0, 0]\n",
      "[0, 0, one, one, 0, 0, 0]\n",
      "\n",
      "u: [0, one, 0, 0, 0, one, 0]\n",
      "[0, 0, 0, 0, one, one, 0]\n",
      "[0, 0, 0, one, one, 0, 0]\n",
      "[0, 0, one, one, 0, 0, 0]\n",
      "[0, one, one, 0, 0, 0, 0]\n"
     ]
    },
    {
     "data": {
      "text/plain": [
       "True"
      ]
     },
     "execution_count": 30,
     "metadata": {},
     "output_type": "execute_result"
    }
   ],
   "source": [
    "def find_solution(vecs, u, ans):\n",
    "    if len(vecs) == 0:\n",
    "        return False\n",
    "    if ans == u:\n",
    "        return True\n",
    "    \n",
    "    for idx in range(len(vecs)-1):\n",
    "        _ans = [_a+_u for _a,_u in zip(ans,vecs[idx])]\n",
    "        rst = find_solution(vecs[idx+1:], u, _ans)\n",
    "        if rst:\n",
    "            print(vecs[idx])\n",
    "            return rst\n",
    "    return False\n",
    "\n",
    "vecs = [[one, one, 0, 0, 0, 0, 0],\n",
    "        [0, one, one, 0, 0, 0, 0],\n",
    "        [0, 0, one, one, 0, 0, 0],\n",
    "        [0, 0, 0, one, one, 0, 0],\n",
    "        [0, 0, 0, 0, one, one, 0],\n",
    "        [0, 0, 0, 0, 0, one, one]]\n",
    "\n",
    "u = [0, 0, one, 0, 0, one, 0]\n",
    "print('u:', u)\n",
    "find_solution(vecs, u, [0, 0, 0, 0, 0, 0, 0])\n",
    "\n",
    "print('')\n",
    "u = [0, one, 0, 0, 0, one, 0]\n",
    "print('u:', u)\n",
    "find_solution(vecs, u, [0, 0, 0, 0, 0, 0, 0])"
   ]
  },
  {
   "cell_type": "markdown",
   "metadata": {},
   "source": [
    "### Problem 3.14.5\n",
    "GF(2)상의 7-벡터들이 주어져 있다. 다음 벡터 u각각에 대해, 합이 u인 위 벡터들의 부분집합을 찾아라. 만약 그런 부분집합이 존재하지 않으면 존재하지 않음을 리포트하라."
   ]
  },
  {
   "cell_type": "code",
   "execution_count": 31,
   "metadata": {},
   "outputs": [
    {
     "name": "stdout",
     "output_type": "stream",
     "text": [
      "u: [0, 0, one, 0, 0, one, 0]\n",
      "[0, 0, 0, one, one, one, 0]\n",
      "[0, 0, one, one, one, 0, 0]\n",
      "\n",
      "u: [0, one, 0, 0, 0, one, 0]\n"
     ]
    },
    {
     "data": {
      "text/plain": [
       "False"
      ]
     },
     "execution_count": 31,
     "metadata": {},
     "output_type": "execute_result"
    }
   ],
   "source": [
    "vecs = [[one, one, one, 0, 0, 0, 0],\n",
    "        [0, one, one, one, 0, 0, 0],\n",
    "        [0, 0, one, one, one, 0, 0],\n",
    "        [0, 0, 0, one, one, one, 0],\n",
    "        [0, 0, 0, 0, one, one, one],\n",
    "        [0, 0, 0, 0, 0, one, one]]\n",
    "\n",
    "u = [0, 0, one, 0, 0, one, 0]\n",
    "print('u:', u)\n",
    "find_solution(vecs, u, [0, 0, 0, 0, 0, 0, 0])\n",
    "\n",
    "print('')\n",
    "u = [0, one, 0, 0, 0, one, 0]\n",
    "print('u:', u)\n",
    "find_solution(vecs, u, [0, 0, 0, 0, 0, 0, 0])"
   ]
  },
  {
   "cell_type": "markdown",
   "metadata": {},
   "source": [
    "### 3.14.6\n",
    "다음 선형방정식들을 만족하는 GF(2)상의 벡터 $x=[x_1, x_2, x_3, x_4]$를 구하여라.\n",
    "\n",
    "$1100\\cdot x = 1$\n",
    "\n",
    "$1010\\cdot x = 1$\n",
    "\n",
    "$1111\\cdot x = 1$\n",
    "\n",
    "x+1111도 또한 위 식들을 만족함을 보여라."
   ]
  },
  {
   "cell_type": "code",
   "execution_count": 43,
   "metadata": {},
   "outputs": [
    {
     "name": "stdout",
     "output_type": "stream",
     "text": [
      "x: [0, one, one, one]\n",
      "1100x: one\n",
      "1100x: one\n",
      "1100x: one\n",
      "\n",
      "x: [one, 0, 0, 0]\n",
      "1100x: one\n",
      "1100x: one\n",
      "1100x: one\n",
      "\n"
     ]
    }
   ],
   "source": [
    "for x1 in [0, one]:\n",
    "    x2 = one+x1\n",
    "    x3 = x2\n",
    "    x4 = x2\n",
    "\n",
    "    x = [x1, x2, x3, x4]\n",
    "    print('x:', x)\n",
    "    print('1100x:', sum([a+b for a,b in zip([one, one, 0, 0], x)]))\n",
    "    print('1100x:', sum([a+b for a,b in zip([one, 0, one, 0], x)]))\n",
    "    print('1100x:', sum([a+b for a,b in zip([one, one, one, one], x)]))\n",
    "    print()"
   ]
  },
  {
   "cell_type": "markdown",
   "metadata": {},
   "source": [
    "### Problem 3.14.7\n",
    "아래 방정식들을 고려해보자.\n",
    "\n",
    "$2x_0+3x_1-4x_2+x_3=10$\n",
    "\n",
    "$x_0-5x_1+2x_2+0x_3=35$\n",
    "\n",
    "$4x_0+x_1-x_2-x_3=8$\n",
    "\n",
    "도트곱을 사용하여 위 방정식들을 만들어라. 특히, 위 식들이 다음식과 같이 되게하는 리스트로 표현되는 세 개의 벡터 $v_1, v_2, v_3$를 찾아라.\n",
    "\n",
    "$v1\\cdot x= 10$\n",
    "\n",
    "$v2\\cdot x= 35$\n",
    "\n",
    "$v3\\cdot x= 8$\n",
    "\n",
    "여기서, x는 $\\mathbb R$상의 4-벡터이다."
   ]
  },
  {
   "cell_type": "code",
   "execution_count": 44,
   "metadata": {
    "collapsed": true
   },
   "outputs": [],
   "source": [
    "v1 = [2, 3, -4, 1]\n",
    "v2 = [1, -5, 2, 0]\n",
    "v3 = [4, 1, -1, -1]"
   ]
  },
  {
   "cell_type": "markdown",
   "metadata": {},
   "source": [
    "### Problem 3.14.8 \n",
    "모듈 plot을 사용하여 다음을 그려보자.\n",
    "- (a) [-1.5,2]와 [3,0]을 지나는 직선의 일부분\n",
    "- (b) [2,1]와 [-2,2] 사이의 선분"
   ]
  },
  {
   "cell_type": "code",
   "execution_count": 51,
   "metadata": {},
   "outputs": [
    {
     "data": {
      "image/png": "[encoded data removed]",
      "text/plain": [
       "<matplotlib.figure.Figure at 0x10aa1acc0>"
      ]
     },
     "metadata": {},
     "output_type": "display_data"
    }
   ],
   "source": [
    "#a\n",
    "def line(pt1, pt2): return [add(scalar_vector_mult(a/100, pt1), scalar_vector_mult(1-a/100, pt2)) for a in range(-200, 200)]\n",
    "\n",
    "pt1 = [-1.5, 2]\n",
    "pt2 = [3, 0]\n",
    "plot(line(pt1, pt2))"
   ]
  },
  {
   "cell_type": "code",
   "execution_count": 52,
   "metadata": {},
   "outputs": [
    {
     "data": {
      "image/png": "[encoded data removed]",
      "text/plain": [
       "<matplotlib.figure.Figure at 0x10ad4cf60>"
      ]
     },
     "metadata": {},
     "output_type": "display_data"
    }
   ],
   "source": [
    "#b\n",
    "def segment(pt1, pt2): return [add(scalar_vector_mult(a/100, pt1), scalar_vector_mult(1-a/100, pt2)) for a in range(101)]\n",
    "\n",
    "pt1 = [2, 1]\n",
    "pt2 = [-2, 2]\n",
    "plot(segment(pt1, pt2))"
   ]
  },
  {
   "cell_type": "markdown",
   "metadata": {},
   "source": [
    "### Problem 3.14.9\n",
    "$\\mathbb R$상의 벡터 u와 v의 각 쌍에 대해, 표현식 $u\\cdot v$를 계산하여라."
   ]
  },
  {
   "cell_type": "code",
   "execution_count": 61,
   "metadata": {},
   "outputs": [
    {
     "name": "stdout",
     "output_type": "stream",
     "text": [
      "a: 5\n",
      "b: 6\n",
      "c: 16\n",
      "d: -1.0000000000000002\n"
     ]
    }
   ],
   "source": [
    "from math import sqrt\n",
    "\n",
    "#a\n",
    "u = [1, 0]\n",
    "v = [5, 4321]\n",
    "print('a:', sum([_u*_v for _u,_v in zip(u,v)]))\n",
    "\n",
    "#b\n",
    "u = [0, 1]\n",
    "v = [12345, 6]\n",
    "print('b:', sum([_u*_v for _u,_v in zip(u,v)]))\n",
    "\n",
    "#c\n",
    "u = [-1, 3]\n",
    "v = [5, 7]\n",
    "print('c:', sum([_u*_v for _u,_v in zip(u,v)]))\n",
    "\n",
    "#d\n",
    "u = [-sqrt(2)/2, sqrt(2)/2]\n",
    "v = [sqrt(2)/2, -sqrt(2)/2]\n",
    "print('d:', sum([_u*_v for _u,_v in zip(u,v)]))"
   ]
  },
  {
   "cell_type": "markdown",
   "metadata": {},
   "source": [
    "### Problem 3.14.10\n",
    "vec.py를 컴퓨터에 다운로드하여 편집해 보자."
   ]
  },
  {
   "cell_type": "code",
   "execution_count": 62,
   "metadata": {
    "collapsed": true
   },
   "outputs": [],
   "source": [
    "# 3.10 Vec에서 이미 구현"
   ]
  }
 ],
 "metadata": {
  "kernelspec": {
   "display_name": "Python 3",
   "language": "python",
   "name": "python3"
  },
  "language_info": {
   "codemirror_mode": {
    "name": "ipython",
    "version": 3
   },
   "file_extension": ".py",
   "mimetype": "text/x-python",
   "name": "python",
   "nbconvert_exporter": "python",
   "pygments_lexer": "ipython3",
   "version": "3.6.0"
  }
 },
 "nbformat": 4,
 "nbformat_minor": 2
}
