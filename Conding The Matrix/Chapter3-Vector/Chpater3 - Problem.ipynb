{
 "cells": [
  {
   "cell_type": "markdown",
   "metadata": {},
   "source": [
    "## Chapter3 - Problem"
   ]
  },
  {
   "cell_type": "code",
   "execution_count": 4,
   "metadata": {
    "collapsed": true
   },
   "outputs": [],
   "source": [
    "import matplotlib.pyplot as plt\n",
    "%matplotlib inline  \n",
    "\n",
    "def plot(Z):\n",
    "    plt.xlim([-5, 5])\n",
    "    plt.ylim([-5, 5])\n",
    "    plt.gca().set_aspect('equal', adjustable='box')\n",
    "    plt.axhline(0)\n",
    "    plt.axvline(0)\n",
    "    plt.scatter([x[0] for x in Z], [x[1] for x in Z], color='red')\n",
    "\n",
    "def plotV(v, sv=[0,0]):\n",
    "    plt.xlim([-10, 10])\n",
    "    plt.ylim([-10, 10])\n",
    "    plt.gca().set_aspect('equal', adjustable='box')\n",
    "    plt.axhline(0)\n",
    "    plt.axvline(0)\n",
    "    plt.arrow(sv[0], sv[1], v[0], v[1], head_width=0.5, head_length=0.2, fc='k', ec='k')"
   ]
  },
  {
   "cell_type": "markdown",
   "metadata": {},
   "source": [
    "##### Problem 3.14.1"
   ]
  },
  {
   "cell_type": "code",
   "execution_count": 21,
   "metadata": {},
   "outputs": [
    {
     "data": {
      "image/png": "[encoded data removed]",
      "text/plain": [
       "<matplotlib.figure.Figure at 0x1c9304adfd0>"
      ]
     },
     "metadata": {},
     "output_type": "display_data"
    }
   ],
   "source": [
    "v = [-1, 3]\n",
    "u = [0, 4]\n",
    "v_plus_u = [v1+u1 for v1,u1 in zip(v,u)]\n",
    "v_minus_y = [v1-u1 for v1,u1 in zip(v,u)]\n",
    "v3_minus_u2 = [3*v1 - 2*u1 for v1,u1 in zip(v,u)]\n",
    "\n",
    "plotV(v)\n",
    "plotV(u)\n",
    "plotV(u_plus_v)\n",
    "plotV(u_minus_v)\n",
    "plotV(v3_minus_u2)"
   ]
  },
  {
   "cell_type": "markdown",
   "metadata": {},
   "source": [
    "##### Problem 3.14.2"
   ]
  },
  {
   "cell_type": "code",
   "execution_count": 1,
   "metadata": {},
   "outputs": [
    {
     "name": "stdout",
     "output_type": "stream",
     "text": [
      "[1, 0, 6]\n",
      "[3, -2, 4]\n",
      "[5, -3, 9]\n",
      "[0, 1, 7]\n"
     ]
    }
   ],
   "source": [
    "v = [2, -1, 5]\n",
    "u = [-1, 1, 1]\n",
    "v_plus_u = [v1+u1 for v1,u1 in zip(v,u)]\n",
    "v_minus_u = [v1-u1 for v1,u1 in zip(v,u)]\n",
    "v2_minus_u = [2*v1 - u1 for v1,u1 in zip(v,u)]\n",
    "v_plus_2u = [v1 + 2*u1 for v1,u1 in zip(v,u)]\n",
    "\n",
    "print(v_plus_u)\n",
    "print(v_minus_u)\n",
    "print(v2_minus_u)\n",
    "print(v_plus_2u)"
   ]
  },
  {
   "cell_type": "markdown",
   "metadata": {},
   "source": [
    "##### Problem 3.14.3"
   ]
  },
  {
   "cell_type": "code",
   "execution_count": 4,
   "metadata": {},
   "outputs": [],
   "source": [
    "from GF2 import one"
   ]
  },
  {
   "cell_type": "code",
   "execution_count": 9,
   "metadata": {},
   "outputs": [
    {
     "data": {
      "text/plain": [
       "[0, one, one]"
      ]
     },
     "execution_count": 9,
     "metadata": {},
     "output_type": "execute_result"
    }
   ],
   "source": [
    "v = [0, one, one]\n",
    "u = [one, one, one]\n",
    "\n",
    "v_u_u = [v1+u1+u2 for (v1,u1,u2) in zip(v, u, u)]\n",
    "v_u_u"
   ]
  },
  {
   "cell_type": "markdown",
   "metadata": {},
   "source": [
    "##### Problem 3.14.4"
   ]
  },
  {
   "cell_type": "code",
   "execution_count": 36,
   "metadata": {},
   "outputs": [],
   "source": [
    "def find_parts(answer, part_sum, vectors, n):\n",
    "    if answer == part_sum:\n",
    "        return True\n",
    "    \n",
    "    for i in range(n, len(vectors)):\n",
    "        if find_parts(answer, [p+v for (p,v) in zip(part_sum, vectors[i])], vectors, i+1):\n",
    "            print(vectors[i])\n",
    "            return True\n",
    "        \n",
    "    return False\n",
    "            \n",
    "a = [one, one, 0, 0, 0, 0, 0]\n",
    "b = [0, one, one, 0, 0, 0, 0]\n",
    "c = [0, 0, one, one, 0, 0, 0]\n",
    "d = [0, 0, 0, one, one, 0, 0]\n",
    "e = [0, 0, 0, 0, one, one, 0]\n",
    "f = [0, 0, 0, 0, 0, one, one]\n",
    "vectors = [a, b, c, d, e, f]"
   ]
  },
  {
   "cell_type": "code",
   "execution_count": 32,
   "metadata": {},
   "outputs": [
    {
     "name": "stdout",
     "output_type": "stream",
     "text": [
      "[0, 0, 0, 0, one, one, 0]\n",
      "[0, 0, 0, one, one, 0, 0]\n",
      "[0, 0, one, one, 0, 0, 0]\n"
     ]
    },
    {
     "data": {
      "text/plain": [
       "True"
      ]
     },
     "execution_count": 32,
     "metadata": {},
     "output_type": "execute_result"
    }
   ],
   "source": [
    "u = [0, 0, one, 0, 0, one, 0]\n",
    "find_parts(u, [0, 0, 0, 0, 0, 0, 0], vectors, 0)"
   ]
  },
  {
   "cell_type": "code",
   "execution_count": 35,
   "metadata": {},
   "outputs": [
    {
     "name": "stdout",
     "output_type": "stream",
     "text": [
      "[0, 0, 0, 0, one, one, 0]\n",
      "[0, 0, 0, one, one, 0, 0]\n",
      "[0, 0, one, one, 0, 0, 0]\n",
      "[0, one, one, 0, 0, 0, 0]\n"
     ]
    },
    {
     "data": {
      "text/plain": [
       "True"
      ]
     },
     "execution_count": 35,
     "metadata": {},
     "output_type": "execute_result"
    }
   ],
   "source": [
    "u = [0, one, 0, 0, 0, one, 0]\n",
    "find_parts(u, [0, 0, 0, 0, 0, 0, 0], vectors, 0)"
   ]
  },
  {
   "cell_type": "markdown",
   "metadata": {},
   "source": [
    "##### Problem 3.14.5"
   ]
  },
  {
   "cell_type": "code",
   "execution_count": 37,
   "metadata": {
    "collapsed": true
   },
   "outputs": [],
   "source": [
    "a = [one, one, one, 0, 0, 0, 0]\n",
    "b = [0, one, one, one, 0, 0, 0]\n",
    "c = [0, 0, one, one, one, 0, 0]\n",
    "d = [0, 0, 0, one, one, one, 0]\n",
    "e = [0, 0, 0, 0, one, one, one]\n",
    "f = [0, 0, 0, 0, 0, one, one]\n",
    "vectors = [a, b, c, d, e, f]"
   ]
  },
  {
   "cell_type": "code",
   "execution_count": 38,
   "metadata": {},
   "outputs": [
    {
     "name": "stdout",
     "output_type": "stream",
     "text": [
      "[0, 0, 0, one, one, one, 0]\n",
      "[0, 0, one, one, one, 0, 0]\n"
     ]
    },
    {
     "data": {
      "text/plain": [
       "True"
      ]
     },
     "execution_count": 38,
     "metadata": {},
     "output_type": "execute_result"
    }
   ],
   "source": [
    "u = [0, 0, one, 0, 0, one, 0]\n",
    "find_parts(u, [0, 0, 0, 0, 0, 0, 0], vectors, 0)"
   ]
  },
  {
   "cell_type": "code",
   "execution_count": 40,
   "metadata": {},
   "outputs": [
    {
     "data": {
      "text/plain": [
       "False"
      ]
     },
     "execution_count": 40,
     "metadata": {},
     "output_type": "execute_result"
    }
   ],
   "source": [
    "u = [0, one, 0, 0, 0, one, 0]\n",
    "find_parts(u, [0, 0, 0, 0, 0, 0, 0], vectors, 0)"
   ]
  },
  {
   "cell_type": "markdown",
   "metadata": {},
   "source": [
    "##### 3.14.6"
   ]
  },
  {
   "cell_type": "code",
   "execution_count": 49,
   "metadata": {},
   "outputs": [],
   "source": [
    "answer1 = [one, 0, 0, 0]\n",
    "answer2 = [0, one, one, one]"
   ]
  },
  {
   "cell_type": "code",
   "execution_count": 50,
   "metadata": {},
   "outputs": [
    {
     "data": {
      "text/plain": [
       "one"
      ]
     },
     "execution_count": 50,
     "metadata": {},
     "output_type": "execute_result"
    }
   ],
   "source": [
    "answer1[0]*one + answer1[1]*one + answer1[2]*0 + answer1[3]*0"
   ]
  },
  {
   "cell_type": "code",
   "execution_count": 51,
   "metadata": {},
   "outputs": [
    {
     "data": {
      "text/plain": [
       "one"
      ]
     },
     "execution_count": 51,
     "metadata": {},
     "output_type": "execute_result"
    }
   ],
   "source": [
    "answer1[0]*one + answer1[1]*0 + answer1[2]*one + answer1[3]*0"
   ]
  },
  {
   "cell_type": "code",
   "execution_count": 1,
   "metadata": {},
   "outputs": [
    {
     "ename": "NameError",
     "evalue": "name 'answer1' is not defined",
     "output_type": "error",
     "traceback": [
      "\u001b[1;31m---------------------------------------------------------------------------\u001b[0m",
      "\u001b[1;31mNameError\u001b[0m                                 Traceback (most recent call last)",
      "\u001b[1;32m<ipython-input-1-530340c89729>\u001b[0m in \u001b[0;36m<module>\u001b[1;34m()\u001b[0m\n\u001b[1;32m----> 1\u001b[1;33m \u001b[0manswer1\u001b[0m\u001b[1;33m[\u001b[0m\u001b[1;36m0\u001b[0m\u001b[1;33m]\u001b[0m\u001b[1;33m*\u001b[0m\u001b[0mone\u001b[0m \u001b[1;33m+\u001b[0m \u001b[0manswer1\u001b[0m\u001b[1;33m[\u001b[0m\u001b[1;36m1\u001b[0m\u001b[1;33m]\u001b[0m\u001b[1;33m*\u001b[0m\u001b[0mone\u001b[0m \u001b[1;33m+\u001b[0m \u001b[0manswer1\u001b[0m\u001b[1;33m[\u001b[0m\u001b[1;36m2\u001b[0m\u001b[1;33m]\u001b[0m\u001b[1;33m*\u001b[0m\u001b[0mone\u001b[0m \u001b[1;33m+\u001b[0m \u001b[0manswer1\u001b[0m\u001b[1;33m[\u001b[0m\u001b[1;36m3\u001b[0m\u001b[1;33m]\u001b[0m\u001b[1;33m*\u001b[0m\u001b[0mone\u001b[0m\u001b[1;33m\u001b[0m\u001b[0m\n\u001b[0m",
      "\u001b[1;31mNameError\u001b[0m: name 'answer1' is not defined"
     ]
    }
   ],
   "source": [
    "answer1[0]*one + answer1[1]*one + answer1[2]*one + answer1[3]*one"
   ]
  },
  {
   "cell_type": "markdown",
   "metadata": {},
   "source": [
    "##### Problem 3.14.7"
   ]
  },
  {
   "cell_type": "code",
   "execution_count": 2,
   "metadata": {
    "collapsed": true
   },
   "outputs": [],
   "source": [
    "v1 = [2, 3, -4, 1]\n",
    "v2 = [1, -5, 2, 0]\n",
    "v3 = [4, 1, -1, -1]"
   ]
  },
  {
   "cell_type": "markdown",
   "metadata": {},
   "source": [
    "##### Problem 3.14.8"
   ]
  },
  {
   "cell_type": "code",
   "execution_count": 7,
   "metadata": {
    "collapsed": true
   },
   "outputs": [],
   "source": [
    "def addn(v, w): return [v1+w1 for (v1,w1) in zip(v,w)]"
   ]
  },
  {
   "cell_type": "code",
   "execution_count": 10,
   "metadata": {
    "collapsed": true
   },
   "outputs": [],
   "source": [
    "def scalar_vector_mult(alpha, v): return [alpha*x for x in v]"
   ]
  },
  {
   "cell_type": "code",
   "execution_count": 15,
   "metadata": {},
   "outputs": [
    {
     "data": {
      "image/png": "[encoded data removed]",
      "text/plain": [
       "<matplotlib.figure.Figure at 0x1b1cb1e8c18>"
      ]
     },
     "metadata": {},
     "output_type": "display_data"
    }
   ],
   "source": [
    "u = [-1.5, 2]\n",
    "v = [3, 0]\n",
    "\n",
    "line_list = [addn(scalar_vector_mult(a/100, u), scalar_vector_mult(1-a/100, v))for a in range(-200, 200)]\n",
    "plot(line_list)"
   ]
  },
  {
   "cell_type": "code",
   "execution_count": 19,
   "metadata": {
    "scrolled": true
   },
   "outputs": [
    {
     "data": {
      "image/png": "[encoded data removed]",
      "text/plain": [
       "<matplotlib.figure.Figure at 0x1b1cb2cb780>"
      ]
     },
     "metadata": {},
     "output_type": "display_data"
    }
   ],
   "source": [
    "u = [2, 1]\n",
    "v = [-2, 2]\n",
    "\n",
    "segment_list = [addn(scalar_vector_mult(a/100, u), scalar_vector_mult(1-a/100, v)) for a in range(100)]\n",
    "plot(segment_list)"
   ]
  },
  {
   "cell_type": "markdown",
   "metadata": {},
   "source": [
    "##### Problem 3.14.9"
   ]
  },
  {
   "cell_type": "code",
   "execution_count": 21,
   "metadata": {},
   "outputs": [],
   "source": [
    "def list_dot(u, v): return sum([u1*v1 for (u1, v1) in zip(u, v)])"
   ]
  },
  {
   "cell_type": "code",
   "execution_count": 24,
   "metadata": {},
   "outputs": [
    {
     "data": {
      "text/plain": [
       "5"
      ]
     },
     "execution_count": 24,
     "metadata": {},
     "output_type": "execute_result"
    }
   ],
   "source": [
    "u = [1, 0]\n",
    "v = [5, 4321]\n",
    "list_dot(u,v)"
   ]
  },
  {
   "cell_type": "code",
   "execution_count": 26,
   "metadata": {},
   "outputs": [
    {
     "data": {
      "text/plain": [
       "6"
      ]
     },
     "execution_count": 26,
     "metadata": {},
     "output_type": "execute_result"
    }
   ],
   "source": [
    "u = [0, 1]\n",
    "v = [12345, 6]\n",
    "list_dot(u,v)"
   ]
  },
  {
   "cell_type": "code",
   "execution_count": 28,
   "metadata": {},
   "outputs": [
    {
     "data": {
      "text/plain": [
       "16"
      ]
     },
     "execution_count": 28,
     "metadata": {},
     "output_type": "execute_result"
    }
   ],
   "source": [
    "u = [-1, 3]\n",
    "v = [5, 7]\n",
    "list_dot(u,v)"
   ]
  },
  {
   "cell_type": "code",
   "execution_count": 29,
   "metadata": {},
   "outputs": [
    {
     "data": {
      "text/plain": [
       "-1.0000000000000002"
      ]
     },
     "execution_count": 29,
     "metadata": {},
     "output_type": "execute_result"
    }
   ],
   "source": [
    "from math import sqrt\n",
    "\n",
    "u = [-sqrt(2)/2, sqrt(2)/2]\n",
    "v = [sqrt(2)/2, -sqrt(2)/2]\n",
    "list_dot(u,v)"
   ]
  }
 ],
 "metadata": {
  "anaconda-cloud": {},
  "kernelspec": {
   "display_name": "Python 3",
   "language": "python",
   "name": "python3"
  },
  "language_info": {
   "codemirror_mode": {
    "name": "ipython",
    "version": 3
   },
   "file_extension": ".py",
   "mimetype": "text/x-python",
   "name": "python",
   "nbconvert_exporter": "python",
   "pygments_lexer": "ipython3",
   "version": "3.6.0"
  }
 },
 "nbformat": 4,
 "nbformat_minor": 1
}
