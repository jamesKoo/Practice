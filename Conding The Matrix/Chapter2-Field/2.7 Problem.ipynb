{
 "cells": [
  {
   "cell_type": "markdown",
   "metadata": {},
   "source": [
    "## 2.7 Problem"
   ]
  },
  {
   "cell_type": "markdown",
   "metadata": {},
   "source": [
    "##### Problem 2.7.1"
   ]
  },
  {
   "cell_type": "code",
   "execution_count": 2,
   "metadata": {
    "collapsed": false
   },
   "outputs": [
    {
     "data": {
      "text/plain": [
       "[1, 5, 7]"
      ]
     },
     "execution_count": 2,
     "metadata": {},
     "output_type": "execute_result"
    }
   ],
   "source": [
    "def my_filter(L, num): return [x for x in L if x%num != 0]\n",
    "\n",
    "L = [1,2,4,5,7]\n",
    "num = 2\n",
    "my_filter(L, num)"
   ]
  },
  {
   "cell_type": "markdown",
   "metadata": {},
   "source": [
    "##### Problem 2.7.2"
   ]
  },
  {
   "cell_type": "code",
   "execution_count": 5,
   "metadata": {
    "collapsed": false
   },
   "outputs": [
    {
     "name": "stdout",
     "output_type": "stream",
     "text": [
      "[[1], [1, 2], [1, 2, 3]]\n",
      "[[]]\n"
     ]
    }
   ],
   "source": [
    "def my_lists(L): return [[y+1 for y in range(x)] for x in L]\n",
    "\n",
    "L = [1,2,3]\n",
    "print(my_lists(L))\n",
    "\n",
    "L = [0]\n",
    "print(my_lists(L))"
   ]
  },
  {
   "cell_type": "markdown",
   "metadata": {},
   "source": [
    "##### Problem 2.7.3"
   ]
  },
  {
   "cell_type": "code",
   "execution_count": 38,
   "metadata": {
    "collapsed": false
   },
   "outputs": [
    {
     "data": {
      "text/plain": [
       "{0: 'apple', 1: 'banana'}"
      ]
     },
     "execution_count": 38,
     "metadata": {},
     "output_type": "execute_result"
    }
   ],
   "source": [
    "def my_function_composition(f, g): return {k:g[v] for (k, v) in f.items() if f[k] in g}\n",
    "\n",
    "f = {0:'a', 1:'b'}\n",
    "g = {'a':'apple', 'b':'banana'}\n",
    "\n",
    "my_function_composition(f, g)"
   ]
  },
  {
   "cell_type": "markdown",
   "metadata": {},
   "source": [
    "### 파이썬의 루프 문제"
   ]
  },
  {
   "cell_type": "markdown",
   "metadata": {},
   "source": [
    "##### Problem 2.7.4"
   ]
  },
  {
   "cell_type": "code",
   "execution_count": 21,
   "metadata": {
    "collapsed": false
   },
   "outputs": [
    {
     "name": "stdout",
     "output_type": "stream",
     "text": [
      "55\n",
      "0\n"
     ]
    }
   ],
   "source": [
    "def mySum(L):\n",
    "    current = 0\n",
    "    for x in L:\n",
    "        current += x\n",
    "    return current\n",
    "\n",
    "empty = []\n",
    "list = [1,2,3,4,5,6,7,8,9,10]\n",
    "\n",
    "print(mySum(list))\n",
    "print(mySum(empty))"
   ]
  },
  {
   "cell_type": "markdown",
   "metadata": {},
   "source": [
    "##### Proble 2.7.5"
   ]
  },
  {
   "cell_type": "code",
   "execution_count": 22,
   "metadata": {
    "collapsed": false
   },
   "outputs": [
    {
     "name": "stdout",
     "output_type": "stream",
     "text": [
      "3628800\n",
      "1\n"
     ]
    }
   ],
   "source": [
    "def myProduct(L):\n",
    "    current = 1\n",
    "    for x in L:\n",
    "        current *= x\n",
    "    return current\n",
    "\n",
    "print(myProduct(list))\n",
    "print(myProduct(empty))"
   ]
  },
  {
   "cell_type": "markdown",
   "metadata": {},
   "source": [
    "##### Problem 2.7.6"
   ]
  },
  {
   "cell_type": "code",
   "execution_count": 24,
   "metadata": {
    "collapsed": false
   },
   "outputs": [
    {
     "name": "stdout",
     "output_type": "stream",
     "text": [
      "1\n",
      "Infinity\n"
     ]
    }
   ],
   "source": [
    "from decimal import Decimal\n",
    "\n",
    "def myMin(L):\n",
    "    current = Decimal('inf')\n",
    "    for x in L:\n",
    "        current = x if x < current else current\n",
    "    return current\n",
    "\n",
    "print(myMin(list))\n",
    "print(myMin(empty))"
   ]
  },
  {
   "cell_type": "markdown",
   "metadata": {},
   "source": [
    "##### Problem 2.7.7"
   ]
  },
  {
   "cell_type": "code",
   "execution_count": 29,
   "metadata": {
    "collapsed": false
   },
   "outputs": [
    {
     "name": "stdout",
     "output_type": "stream",
     "text": [
      "coding the matrix\n",
      "\n"
     ]
    }
   ],
   "source": [
    "def myConcat(L):\n",
    "    current = ''\n",
    "    for x in L:\n",
    "        current += x\n",
    "    return current\n",
    "\n",
    "L = ['coding ', 'the ', 'matrix']\n",
    "\n",
    "print(myConcat(L))\n",
    "print(myConcat(empty))"
   ]
  },
  {
   "cell_type": "markdown",
   "metadata": {},
   "source": [
    "##### Problem 2.7.8"
   ]
  },
  {
   "cell_type": "code",
   "execution_count": 31,
   "metadata": {
    "collapsed": false
   },
   "outputs": [
    {
     "name": "stdout",
     "output_type": "stream",
     "text": [
      "{1, 2, 3, 4, 5, 6, 7}\n",
      "set()\n"
     ]
    }
   ],
   "source": [
    "def myUnion(L):\n",
    "    current = set()\n",
    "    for x in L:\n",
    "        current |= x\n",
    "    return current\n",
    "\n",
    "L = [{1, 2, 3}, {3, 4, 5}, {5, 6, 7}]\n",
    "\n",
    "print(myUnion(L))\n",
    "print(myUnion(empty))"
   ]
  },
  {
   "cell_type": "markdown",
   "metadata": {},
   "source": [
    "### 복소수 덧셈 연습"
   ]
  },
  {
   "cell_type": "markdown",
   "metadata": {},
   "source": [
    "##### Problem 2.7.10"
   ]
  },
  {
   "cell_type": "code",
   "execution_count": 36,
   "metadata": {
    "collapsed": false
   },
   "outputs": [
    {
     "name": "stdout",
     "output_type": "stream",
     "text": [
      "(5+3j)\n",
      "1j\n",
      "(-1+0.001j)\n",
      "(0.001+9j)\n"
     ]
    }
   ],
   "source": [
    "print((3+1j) + (2+ 2j))\n",
    "print((-1+2j) + (1-1j))\n",
    "print((2+0j) + (-3+0.001j))\n",
    "print(4*(0+2j) + (0.001+1j))"
   ]
  },
  {
   "cell_type": "markdown",
   "metadata": {},
   "source": [
    "##### Problem 2.7.12"
   ]
  },
  {
   "cell_type": "code",
   "execution_count": 61,
   "metadata": {
    "collapsed": true
   },
   "outputs": [],
   "source": [
    "from math import e\n",
    "from math import pi\n",
    "\n",
    "import matplotlib.pyplot as plt\n",
    "%matplotlib inline  \n",
    "\n",
    "def plot(Z, color = 'red'):\n",
    "    plt.xlim([-10, 10])\n",
    "    plt.ylim([-10, 10])\n",
    "    plt.gca().set_aspect('equal', adjustable='box')\n",
    "    plt.axhline(0)\n",
    "    plt.axvline(0)\n",
    "\n",
    "    plt.scatter([x.real for x in Z], [x.imag for x in Z], color = color)"
   ]
  },
  {
   "cell_type": "code",
   "execution_count": 47,
   "metadata": {
    "collapsed": true
   },
   "outputs": [],
   "source": [
    "def transform(a, b, L): return [a*z + b for z in L]"
   ]
  },
  {
   "cell_type": "code",
   "execution_count": 62,
   "metadata": {
    "collapsed": false
   },
   "outputs": [
    {
     "data": {
      "image/png": "[encoded data removed]",
      "text/plain": [
       "<matplotlib.figure.Figure at 0x1fbcec92cf8>"
      ]
     },
     "metadata": {},
     "output_type": "display_data"
    }
   ],
   "source": [
    "L = [2+2j, 3+2j, 1.75+1j, 2+1j, 2.25+1j, 2.5+1j, 2.75+1j, 3+1j, 3.25+1j]\n",
    "\n",
    "#a\n",
    "L_t = transform(2*e**(2/pi*1j), (1+1j), L)\n",
    "\n",
    "#b\n",
    "#실수보와 허수부를 각각 개별적으로 스케일링이 불가능\n",
    "\n",
    "plot(L, color = 'red')\n",
    "plot(L_t, color = 'blue')"
   ]
  },
  {
   "cell_type": "markdown",
   "metadata": {},
   "source": [
    "### GF(2)"
   ]
  },
  {
   "cell_type": "markdown",
   "metadata": {},
   "source": [
    "##### Problem 2.7.13"
   ]
  },
  {
   "cell_type": "code",
   "execution_count": 68,
   "metadata": {
    "collapsed": false
   },
   "outputs": [
    {
     "data": {
      "text/plain": [
       "one"
      ]
     },
     "execution_count": 68,
     "metadata": {},
     "output_type": "execute_result"
    }
   ],
   "source": [
    "from GF2 import one\n",
    "\n",
    "one+one+one+0"
   ]
  },
  {
   "cell_type": "code",
   "execution_count": 69,
   "metadata": {
    "collapsed": false
   },
   "outputs": [
    {
     "data": {
      "text/plain": [
       "0"
      ]
     },
     "execution_count": 69,
     "metadata": {},
     "output_type": "execute_result"
    }
   ],
   "source": [
    "one*one + 0*one + 0*0 + one*one"
   ]
  },
  {
   "cell_type": "code",
   "execution_count": 70,
   "metadata": {
    "collapsed": false
   },
   "outputs": [
    {
     "data": {
      "text/plain": [
       "0"
      ]
     },
     "execution_count": 70,
     "metadata": {},
     "output_type": "execute_result"
    }
   ],
   "source": [
    "(one+one+one)*(one+one+one+one)"
   ]
  }
 ],
 "metadata": {
  "anaconda-cloud": {},
  "kernelspec": {
   "display_name": "Python [Root]",
   "language": "python",
   "name": "Python [Root]"
  },
  "language_info": {
   "codemirror_mode": {
    "name": "ipython",
    "version": 3
   },
   "file_extension": ".py",
   "mimetype": "text/x-python",
   "name": "python",
   "nbconvert_exporter": "python",
   "pygments_lexer": "ipython3",
   "version": "3.5.2"
  }
 },
 "nbformat": 4,
 "nbformat_minor": 0
}
