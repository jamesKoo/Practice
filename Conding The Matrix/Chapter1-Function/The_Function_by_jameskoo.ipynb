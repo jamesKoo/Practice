{
 "cells": [
  {
   "cell_type": "markdown",
   "metadata": {},
   "source": [
    "# Chaper 1. 함수"
   ]
  },
  {
   "cell_type": "markdown",
   "metadata": {},
   "source": [
    "# 1.1 집합에 대한 용어와 표기법 "
   ]
  },
  {
   "cell_type": "markdown",
   "metadata": {},
   "source": [
    "- 기호 $\\in$는 객체가 집합에 속하는 것을 나타내기 위해 사용된다.\n",
    "- 만약 어떤 집합 $S_1$의 모든 원소가 다른 집합 $S_2$에 속하면, $S_1$은 $S_2$에 포함된다($S_1 \\subseteq S_2$).\n",
    "- 모든 실수의 집합 $\\mathbb{R}$, 모든 복소수의 집합 $\\mathbb{C}$\n",
    "- 만약 집합 S가 유한집합이라면, |S|를 사용하여 집합의 크기(cardinality), 즉 집합이 포함하는 원소의 개수를 나타낸다."
   ]
  },
  {
   "cell_type": "markdown",
   "metadata": {},
   "source": [
    "# 1.2 카테시안 곱(Cartesian product)"
   ]
  },
  {
   "cell_type": "markdown",
   "metadata": {},
   "source": [
    "- 두 집합 A와 B의 카테시안 곱(데카르트 곱)은 $a\\in A와 b\\in B$의 모든 쌍 (a, b)으로 이루어진 집합이다.\n",
    "- Proposition 1.2.3: 유한 집합 A와 B에 대해, |A X B| = |A|$\\cdot$|B|이다. "
   ]
  },
  {
   "cell_type": "markdown",
   "metadata": {},
   "source": [
    "# 1.3 함수"
   ]
  },
  {
   "cell_type": "markdown",
   "metadata": {},
   "source": [
    "- 출력은 함수에 의한 입력의 상(image)이고, 입력은 출력의 원상(pre-image)이다. 가능한 입력 집합 D는 함수의 정의역(domain)이다.\n",
    "- 공식적으로 말하면, 함수는 쌍 (a,b)들의 집합(무한 집합도 가능)이며, 이때 각 쌍의 첫 번째 원소는 모두 다르다.\n",
    "- 함수를 나타낼 때 함수의 공역(co-domain)을 명시하는 것이 편리하다. 공역은 함수값이 선택되는 집합이다. 공역의 모든 원소가 함수값이 되어야 하는 것은 아니다.\n",
    "- $f:D \\longrightarrow F$, 여기서, f는 함수를 의미하며, 집합 D는 함수의 정의역, 집합 F는 공역(가능한 출력의 집합)을 의미한다.\n",
    "- 함수 f의 치역(range)은 모든 정의역 원소들에 대한 함수값들의 집합이다. 다시 말하면, 함수 f의 치역은 공영긔 원소들 중 실제로 함수값이 되는 공역 원소들의 집합이다."
   ]
  },
  {
   "cell_type": "markdown",
   "metadata": {},
   "source": [
    "### Example 1.3.5\n",
    "함수 prod를 고려해 보자. 이 함수는 1보다 큰 정수 쌍을 입력으로 받아 두 정수의 곱을 출력한다. 정의역(입력 집합)은 1보다 큰 정수 쌍이다. 공역은 1보다 큰 모든 정수들의 집합이라 정의하자. 하지만 정의역의 어떤 원소도 소수(prime number)로 매핑되지 않기 때문에 함수의 치역은 합성수(composite number)들의 집합이다."
   ]
  },
  {
   "cell_type": "markdown",
   "metadata": {},
   "source": [
    "## 1.3.1 함수, 프로시저, 계산 문제"
   ]
  },
  {
   "cell_type": "markdown",
   "metadata": {},
   "source": [
    "- 프로시저는 계산 절차에 대한 정확한 기술이다. 이것은 입력(매개변수)을 받아들여 출력(리턴 값)을 생성한다.\n",
    "- 일반적으로 프로시저를 \"함수\"로 흔히 언급하지만, 여기서는 혼란을 방지하기 위해 그렇게 언급하지 않는다.\n",
    "- 계산 문제(computational problem)는 프로시저가 필요할 수도 있는 입력-출력에 대한 사양(스페)(input-output specifiacation)이다."
   ]
  },
  {
   "cell_type": "markdown",
   "metadata": {},
   "source": [
    "## 1.3.2 함수와 연관된 두 가지 계산 문제"
   ]
  },
  {
   "cell_type": "markdown",
   "metadata": {},
   "source": [
    "- Forward problem: 함수 f의 정의역에 속하는 원소 a에 대해 f(a), 즉 a의 함수값을 계산하여라.\n",
    "- Backward problem: 함수의 공역의 원소 r에 대해 임의의 원상을 계산하여라(원상이 존재하지 않을 경우, 존재하지 않음을 리포트)."
   ]
  },
  {
   "cell_type": "markdown",
   "metadata": {},
   "source": [
    "## 1.3.3 주어진 정의역과 공역을 가지는 함수들의 집합에 대한 표기법"
   ]
  },
  {
   "cell_type": "markdown",
   "metadata": {},
   "source": [
    "- 집합 D와 F에 대해, D에서 F로의 모든 함수를 $F^D$로 나타낸다.\n",
    "- 예를 들어, 단어의 집합 W에서 실수의 집합 $\\mathbb{R}$로의 함수들에 대한 집합은 $\\mathbb{R}^W$로 표현한다.\n",
    "- **Fact 1.3.9:** 임의의 유한 집합 D와 F에 대해, $|D^F| = |D|^{|F|}4$이다."
   ]
  },
  {
   "cell_type": "markdown",
   "metadata": {},
   "source": [
    "## 1.3.4 항등함수\n",
    "- 임의의 정역에 D에 대해, 함수 $id_d: D \\longrightarrow D$를 D에 대한 항등함수라 한다.\n",
    "- 모든 $d\\in D$에 대해, 항등함수는 다음과 같이 정의된다.\n",
    "\n",
    "\n",
    "$\\quad\\quad\\quad\\quad id_D(d)=d$"
   ]
  },
  {
   "cell_type": "markdown",
   "metadata": {},
   "source": [
    "## 1.3.5 함수의 합성 "
   ]
  },
  {
   "cell_type": "markdown",
   "metadata": {},
   "source": [
    "- 함수의 합성은 두 개의 함수를 결합하여 하나의 새로운 함수를 얻는 것이다.\n",
    "- 주어진 두 함수 $f:A \\longrightarrow B$와 $g:B \\longrightarrow C$에 대해, 함수 $g\\circ f$는 g와 f의 합성함수라 하며, 정의역은 A, 공역은 C이다.\n",
    "- 이 합성 함수는 모든 $x \\in A$에 대해 다음 규칙에 대해 정의된다.\n",
    "\n",
    "$\\quad\\quad\\quad\\quad (g\\circ f)(x)=g(f(x))$"
   ]
  },
  {
   "cell_type": "markdown",
   "metadata": {},
   "source": [
    "## 1.3.6 함수 합성의 결합법칙"
   ]
  },
  {
   "cell_type": "markdown",
   "metadata": {},
   "source": [
    "- **Proposition 1.3.12(Associativity of composition):** 함수 f,g,h에 대해, 만약 합성함수가 존재한다면 다음과 성립한다.\n",
    "\n",
    "$\\quad\\quad\\quad\\quad h\\circ (g\\circ f)=(h\\circ g)\\circ f$"
   ]
  },
  {
   "cell_type": "markdown",
   "metadata": {},
   "source": [
    "## 1.3.7 역함수"
   ]
  },
  {
   "cell_type": "markdown",
   "metadata": {},
   "source": [
    "### Definition 1.3.13\n",
    "\n",
    "다음 조건이 만족하면 함수 f와 g는 서로의 역함수이다.\n",
    "\n",
    " - $f\\circ g$가 정의되고, g의 정의역에 대해 항등함수이다.\n",
    " - $g\\circ f$가 정의되고, f의 정의역에 대해 항등함수이다."
   ]
  },
  {
   "cell_type": "markdown",
   "metadata": {},
   "source": [
    "### Definition 1.3.14\n",
    "함수 $f: D \\longrightarrow F$를 고려해 보자. 모든 $x,y\\in D$에 대해 $f(x)=f(y)$는 $x=y$임을 의미하면, f는 *단사함수(one-to-one)*라 한다. 만약 모든 $z\\in F$에 대해, $f(x)=z$을 만족하는 $x\\in D$가 존재하면, f는 *전사함수(onto)*라 한다."
   ]
  },
  {
   "cell_type": "markdown",
   "metadata": {},
   "source": [
    "### Lemma 1.3.16\n",
    "가역함수(역함수가 존재하는 함수)는 단사함수이다."
   ]
  },
  {
   "cell_type": "markdown",
   "metadata": {},
   "source": [
    "### Lemma 1.3.17\n",
    "가역함수는 전시함수이다."
   ]
  },
  {
   "cell_type": "markdown",
   "metadata": {},
   "source": [
    "### Theorem 1.3.18 (Funciton Invertibility Theorem)\n",
    "함수가 가역적이 될 필요충분조건은 그 함수가 단사함수이며 동시에 전사함수(즉, 전단사함수)인 경우이다."
   ]
  },
  {
   "cell_type": "markdown",
   "metadata": {},
   "source": [
    "### Lemma 1.3.19\n",
    "모든 함수는 많아야 하나의 역함수를 가진다."
   ]
  },
  {
   "cell_type": "markdown",
   "metadata": {},
   "source": [
    "## 1.3.8 가역함수를 합성한 함수의 가역성"
   ]
  },
  {
   "cell_type": "markdown",
   "metadata": {},
   "source": [
    "### Lemma 1.3.20\n",
    "만약 f와 g가 가역함수이고 $f\\circ g$가 존재하면, $f\\circ g$는 가역함수이고, $(f\\circ g)^{-1}=g^{-1}\\circ f^{-1}$이다."
   ]
  },
  {
   "cell_type": "markdown",
   "metadata": {},
   "source": [
    "### Problem 1.3.21\n",
    "Lemma 1.3.20을 증명하여라."
   ]
  },
  {
   "cell_type": "code",
   "execution_count": 5,
   "metadata": {
    "collapsed": true
   },
   "outputs": [],
   "source": [
    "# f(g(x)) = z\n",
    "# f^(-1)(z) = g(x)\n",
    "# g^(-1)(f^(-1)(z)) = x"
   ]
  },
  {
   "cell_type": "markdown",
   "metadata": {},
   "source": [
    "### Problem 1.3.22\n",
    "그림 1.1., 1.2, 1.3에서 보여준 것과 같은 다이어그램을 사용하여 다음 내용에 반례(counterexample)가 되는 함수 g와 f를 명시하여라.\n",
    "\n",
    "**False Assertion 1.3.23: f와 g는 함수이고 $f\\circ g$는 가역적이라고 가정하자. 그러면, f와 g는 가역적이다.**"
   ]
  },
  {
   "cell_type": "code",
   "execution_count": 6,
   "metadata": {
    "collapsed": true
   },
   "outputs": [],
   "source": [
    "# g        f           fog\n",
    "# 1->A    A->p         1->p\n",
    "# 2->B    B->q         2->q\n",
    "#            r"
   ]
  },
  {
   "cell_type": "markdown",
   "metadata": {},
   "source": [
    "# 1.4 확률"
   ]
  },
  {
   "cell_type": "markdown",
   "metadata": {},
   "source": [
    "확률이론은 확률에 대한 계산법(calculs)이며, 가상적 실험에 대해 예측하는데 사용된다."
   ]
  },
  {
   "cell_type": "markdown",
   "metadata": {},
   "source": [
    "## 1.4.1 확률분포"
   ]
  },
  {
   "cell_type": "markdown",
   "metadata": {},
   "source": [
    "- 유하한 정의역 $\\Omega$에서 음수가 아닌 실수의 집합 $\\mathbb{R^+}$로의 함수 Pr($\\cdot$)는 만약 $\\sum_{\\omega\\in\\Omega}{Pr(\\omega)}=1$이면 (이산)화귤본포이다.\n",
    "- 확률은 실험결과의 상대적인 가능도(ralateive likehoods)에 비례한다고 가정한다.\n",
    "- 여기서, 가능도(likehood)란 용어는 상직적인 개념을 의미하기 위해 사용하고, 확률은 가능도의 수학적인 개념을 의미하기 위해 사용한다."
   ]
  },
  {
   "cell_type": "markdown",
   "metadata": {},
   "source": [
    "**균등분포**\n",
    "\n",
    "모든 실험결과가 동일한 가능성을 가지며 동일한 활귤이 할당되는 경우의 확률분포를 *균등(uniform)*이라고 한다.\n",
    "\n",
    "**비균등 분포**"
   ]
  },
  {
   "cell_type": "markdown",
   "metadata": {},
   "source": [
    "### Example 1.4.1\n",
    "하나의 동전을 던지는 경우를 모델링하면, $\\Omega=\\{ heads, tails\\}$이다. 두 실험결과가 동일한 가능성을 가지므로 두 결과에 동일한 확률을 할당한다. 즉, Pr(heads)=Pr(tails)이다. 확률의 합은 1이 되어야 하므로, Pr(heads)=1/2, Pr(tails)=1/2이다. 파이썬에서, 이러한 확률분포는 다음과 같이 나타낸다."
   ]
  },
  {
   "cell_type": "code",
   "execution_count": 7,
   "metadata": {
    "collapsed": true
   },
   "outputs": [],
   "source": [
    "Pr = {'heads':1/2, 'tails':1/2}"
   ]
  },
  {
   "cell_type": "markdown",
   "metadata": {},
   "source": [
    "### Example 1.4.3\n",
    "\n",
    "두 개의 동전을 던지는 경우를 모델링하면, $\\Omega=\\{ HH, HT, TH, TT \\}이고, 각각의 실험결과는 동일한 확률 1/4을 가진다. 파이썬으로 나타내면 다음과 같아."
   ]
  },
  {
   "cell_type": "code",
   "execution_count": 8,
   "metadata": {
    "collapsed": true
   },
   "outputs": [],
   "source": [
    "Pr = {('H', 'H'):1/4, ('H', 'T'):1/4, ('T', 'H'):1/4, ('T', 'T'):1/4}"
   ]
  },
  {
   "cell_type": "markdown",
   "metadata": {},
   "source": [
    "## 1.4.2 사건과 확률의 합\n",
    "\n",
    "- 실험결과들에 대한 집합을 사건(event)이라 부른다."
   ]
  },
  {
   "cell_type": "markdown",
   "metadata": {},
   "source": [
    "### Principle 1.4.5(확률이론의 기본 원칙)\n",
    "- 어떤 사건에 대한 확률은 그 사건을 구성하는 실험결과들에 대한 확률의 합이다."
   ]
  },
  {
   "cell_type": "markdown",
   "metadata": {},
   "source": [
    "## 1.4.3 랜덤 입력에 함수 적용\n",
    "- 함수에 대한 입력이 랜덤이므로, 출력도 랜덤하다고 간주하여야 한다.\n",
    "- 만약 함수가 가역함수이면 확률이 보존되다는 것을 나타낸다."
   ]
  },
  {
   "cell_type": "markdown",
   "metadata": {},
   "source": [
    "## 1.4.4 완벽한 비밀 유지\n",
    "- 원래 의도된 수신자는 암호화된 메시지를 해독할 수 있어야 한다.\n",
    "- 의도되지 않은 수신자는 암호화된 메시지를 해독할 수 없어야 한다."
   ]
  },
  {
   "cell_type": "markdown",
   "metadata": {},
   "source": [
    "## 1.4.5 완벽한 비밀 유지와 가역함수\n",
    "- 가역함수이면, 입력 x가 균등하고 랜덤하게 선택되면 출력도 또한 균등 분포에 따라 분포하게 될 것이다."
   ]
  },
  {
   "cell_type": "markdown",
   "metadata": {},
   "source": [
    "# 1.5 Lab: 파이썬 소개-집합, 리스트, 딕셔너리, 컴프리헨션"
   ]
  },
  {
   "cell_type": "markdown",
   "metadata": {},
   "source": [
    "- REPL(Read-Eval-Pring-Loop): 입력을 읽어 들여 평가하고, 결과가 있으면 출력한다."
   ]
  },
  {
   "cell_type": "markdown",
   "metadata": {},
   "source": [
    "## 1.5.1 간단한 표현식"
   ]
  },
  {
   "cell_type": "markdown",
   "metadata": {},
   "source": [
    "### 산술 연산과 숫자"
   ]
  },
  {
   "cell_type": "code",
   "execution_count": 9,
   "metadata": {},
   "outputs": [
    {
     "data": {
      "text/plain": [
       "87.45454545454545"
      ]
     },
     "execution_count": 9,
     "metadata": {},
     "output_type": "execute_result"
    }
   ],
   "source": [
    "44+11*4-6/11"
   ]
  },
  {
   "cell_type": "code",
   "execution_count": 14,
   "metadata": {},
   "outputs": [
    {
     "data": {
      "text/plain": [
       "1e+16"
      ]
     },
     "execution_count": 14,
     "metadata": {},
     "output_type": "execute_result"
    }
   ],
   "source": [
    "1e16 + 1 "
   ]
  },
  {
   "cell_type": "markdown",
   "metadata": {},
   "source": [
    "### Task 1.5.1\n",
    "파이썬을 사용하여 1주는 몇 분인지 계산하여라"
   ]
  },
  {
   "cell_type": "code",
   "execution_count": 10,
   "metadata": {},
   "outputs": [
    {
     "data": {
      "text/plain": [
       "10080"
      ]
     },
     "execution_count": 10,
     "metadata": {},
     "output_type": "execute_result"
    }
   ],
   "source": [
    "60*24*7"
   ]
  },
  {
   "cell_type": "markdown",
   "metadata": {},
   "source": [
    "### Task 1.5.2\n",
    "파이썬을 사용하여 모듈로(modulo)연산자 %를 사용하지 않고 2304811을 47로 나눈 나머지를 찾아라(힌트: //사용)"
   ]
  },
  {
   "cell_type": "code",
   "execution_count": 13,
   "metadata": {},
   "outputs": [
    {
     "data": {
      "text/plain": [
       "25"
      ]
     },
     "execution_count": 13,
     "metadata": {},
     "output_type": "execute_result"
    }
   ],
   "source": [
    "2304811 - 47*(2304811//47)"
   ]
  },
  {
   "cell_type": "markdown",
   "metadata": {},
   "source": [
    "### 문자열(String)"
   ]
  },
  {
   "cell_type": "code",
   "execution_count": 15,
   "metadata": {},
   "outputs": [
    {
     "data": {
      "text/plain": [
       "'This sentence is false.'"
      ]
     },
     "execution_count": 15,
     "metadata": {},
     "output_type": "execute_result"
    }
   ],
   "source": [
    "'This sentence is false.'"
   ]
  },
  {
   "cell_type": "code",
   "execution_count": 16,
   "metadata": {},
   "outputs": [
    {
     "data": {
      "text/plain": [
       "\"So's this one.\""
      ]
     },
     "execution_count": 16,
     "metadata": {},
     "output_type": "execute_result"
    }
   ],
   "source": [
    "\"So's this one.\""
   ]
  },
  {
   "cell_type": "markdown",
   "metadata": {},
   "source": [
    "### 비교, 조건, 불리언(Boolean)"
   ]
  },
  {
   "cell_type": "code",
   "execution_count": 17,
   "metadata": {},
   "outputs": [
    {
     "data": {
      "text/plain": [
       "False"
      ]
     },
     "execution_count": 17,
     "metadata": {},
     "output_type": "execute_result"
    }
   ],
   "source": [
    "5 == 4"
   ]
  },
  {
   "cell_type": "code",
   "execution_count": 18,
   "metadata": {},
   "outputs": [
    {
     "data": {
      "text/plain": [
       "True"
      ]
     },
     "execution_count": 18,
     "metadata": {},
     "output_type": "execute_result"
    }
   ],
   "source": [
    "4 == 4"
   ]
  },
  {
   "cell_type": "code",
   "execution_count": 19,
   "metadata": {},
   "outputs": [
    {
     "data": {
      "text/plain": [
       "False"
      ]
     },
     "execution_count": 19,
     "metadata": {},
     "output_type": "execute_result"
    }
   ],
   "source": [
    "True and False"
   ]
  },
  {
   "cell_type": "code",
   "execution_count": 20,
   "metadata": {},
   "outputs": [
    {
     "data": {
      "text/plain": [
       "True"
      ]
     },
     "execution_count": 20,
     "metadata": {},
     "output_type": "execute_result"
    }
   ],
   "source": [
    "True and not (5 == 4)"
   ]
  },
  {
   "cell_type": "markdown",
   "metadata": {},
   "source": [
    "### Task 1.5.3\n",
    "673과 909의 합이 3으로 나누어지는지 알아보는 불리언 표현식을 입력하여라."
   ]
  },
  {
   "cell_type": "code",
   "execution_count": 21,
   "metadata": {},
   "outputs": [
    {
     "data": {
      "text/plain": [
       "False"
      ]
     },
     "execution_count": 21,
     "metadata": {},
     "output_type": "execute_result"
    }
   ],
   "source": [
    "(673 + 909) % 3 == 0"
   ]
  },
  {
   "cell_type": "markdown",
   "metadata": {},
   "source": [
    "## 1.5.2 할당문(Assigment statement)"
   ]
  },
  {
   "cell_type": "markdown",
   "metadata": {},
   "source": [
    "- top-level 바인딩: 다시 새로운 어떤 값이 할당되거나 파이썬이 종료될 때까지 유지된다.\n",
    "- 할당문에서 변수와 바인딩하는 것은 표현식의 값이지 표현식 자체가 아님을 명시하자."
   ]
  },
  {
   "cell_type": "code",
   "execution_count": 22,
   "metadata": {},
   "outputs": [
    {
     "data": {
      "text/plain": [
       "18"
      ]
     },
     "execution_count": 22,
     "metadata": {},
     "output_type": "execute_result"
    }
   ],
   "source": [
    "x = 5+4\n",
    "y = 2*x\n",
    "y"
   ]
  },
  {
   "cell_type": "code",
   "execution_count": 24,
   "metadata": {},
   "outputs": [
    {
     "data": {
      "text/plain": [
       "18"
      ]
     },
     "execution_count": 24,
     "metadata": {},
     "output_type": "execute_result"
    }
   ],
   "source": [
    "x =12\n",
    "y"
   ]
  },
  {
   "cell_type": "markdown",
   "metadata": {},
   "source": [
    "## 1.5.2 조건(condition) 표현식"
   ]
  },
  {
   "cell_type": "markdown",
   "metadata": {},
   "source": [
    "- <표현식1> if <조건> else <표현식2>: <조건>이 참이면 <표현식1>을 그렇지 않다면 <표현식2>을 평가한다."
   ]
  },
  {
   "cell_type": "code",
   "execution_count": 25,
   "metadata": {},
   "outputs": [
    {
     "data": {
      "text/plain": [
       "1.0"
      ]
     },
     "execution_count": 25,
     "metadata": {},
     "output_type": "execute_result"
    }
   ],
   "source": [
    "x = -9\n",
    "y = 1/2\n",
    "\n",
    "2**(y+1/2) if x+10<0 else 2**(y-1/2)"
   ]
  },
  {
   "cell_type": "markdown",
   "metadata": {},
   "source": [
    "## 1.5.3 집합(Set)"
   ]
  },
  {
   "cell_type": "markdown",
   "metadata": {},
   "source": [
    "- 집합은 순서가 없는 컬렉션이다.\n",
    "- 각 원소는 집합 내에 오직 한 번만 표시된다.\n",
    "- {}(중괄호)를 사용할 수 있다.\n",
    "- 중복된 원소는 제거된다.\n",
    "- 입력 원소와 출력 원소들의 순서는 반드시 일치하는 것은 아니다."
   ]
  },
  {
   "cell_type": "code",
   "execution_count": 26,
   "metadata": {},
   "outputs": [
    {
     "data": {
      "text/plain": [
       "{'a', 3}"
      ]
     },
     "execution_count": 26,
     "metadata": {},
     "output_type": "execute_result"
    }
   ],
   "source": [
    "{1+2, 3, 'a'}"
   ]
  },
  {
   "cell_type": "code",
   "execution_count": 27,
   "metadata": {},
   "outputs": [
    {
     "data": {
      "text/plain": [
       "{1, 2, 3}"
      ]
     },
     "execution_count": 27,
     "metadata": {},
     "output_type": "execute_result"
    }
   ],
   "source": [
    "{2, 1, 3}"
   ]
  },
  {
   "cell_type": "markdown",
   "metadata": {},
   "source": [
    "- 집합의 S크기(cardinality)는 그 집합 내 원소의 수를 의미하며, 수학적 표현을 사용하면 |S|라고 쓴다.\n",
    "- 파이썬에서 집합의 크기는 $len(\\cdot)$이란 프로시저를 사용하여 얻는다."
   ]
  },
  {
   "cell_type": "code",
   "execution_count": 28,
   "metadata": {},
   "outputs": [
    {
     "data": {
      "text/plain": [
       "3"
      ]
     },
     "execution_count": 28,
     "metadata": {},
     "output_type": "execute_result"
    }
   ],
   "source": [
    "len({'a', 'b', 'c', 'a', 'a'})"
   ]
  },
  {
   "cell_type": "markdown",
   "metadata": {},
   "source": [
    "### 합산하기(Summing)"
   ]
  },
  {
   "cell_type": "code",
   "execution_count": 29,
   "metadata": {},
   "outputs": [
    {
     "data": {
      "text/plain": [
       "6"
      ]
     },
     "execution_count": 29,
     "metadata": {},
     "output_type": "execute_result"
    }
   ],
   "source": [
    "sum({1, 2, 3})"
   ]
  },
  {
   "cell_type": "markdown",
   "metadata": {},
   "source": [
    "- 합산의 시작을 영이 아닌 어떤 다른 값에서 하고자 할 경우, $sum(\\cdot)$의 두 번째 인수로 그 값을 제공하면 된다."
   ]
  },
  {
   "cell_type": "code",
   "execution_count": 30,
   "metadata": {},
   "outputs": [
    {
     "data": {
      "text/plain": [
       "16"
      ]
     },
     "execution_count": 30,
     "metadata": {},
     "output_type": "execute_result"
    }
   ],
   "source": [
    "sum({1, 2, 3}, 10)"
   ]
  },
  {
   "cell_type": "markdown",
   "metadata": {},
   "source": [
    "### 집합의 멤버쉽 테스트\n",
    "- 만일 S가 집합이면, *x in S*는 x의 값이 S의 원소이면 True로 평가되고 그렇지 않으면 False로 평가되는 불리언 표현식이다.\n",
    "- 표현식 not in의 값은 이와 반대이다."
   ]
  },
  {
   "cell_type": "code",
   "execution_count": 31,
   "metadata": {},
   "outputs": [
    {
     "data": {
      "text/plain": [
       "True"
      ]
     },
     "execution_count": 31,
     "metadata": {},
     "output_type": "execute_result"
    }
   ],
   "source": [
    "S={1, 2, 3}\n",
    "2 in S"
   ]
  },
  {
   "cell_type": "code",
   "execution_count": 32,
   "metadata": {},
   "outputs": [
    {
     "data": {
      "text/plain": [
       "False"
      ]
     },
     "execution_count": 32,
     "metadata": {},
     "output_type": "execute_result"
    }
   ],
   "source": [
    "4 in S"
   ]
  },
  {
   "cell_type": "code",
   "execution_count": 33,
   "metadata": {},
   "outputs": [
    {
     "data": {
      "text/plain": [
       "True"
      ]
     },
     "execution_count": 33,
     "metadata": {},
     "output_type": "execute_result"
    }
   ],
   "source": [
    "4 not in S"
   ]
  },
  {
   "cell_type": "markdown",
   "metadata": {},
   "source": [
    "### 합집합과 교집합\n",
    "- 합집합(union): 파이썬은 |을 합집합 연산자로 사용한다.\n",
    "- 교집합(intersection): 파이썬은 &을 교집합 연산자로 사용한다."
   ]
  },
  {
   "cell_type": "code",
   "execution_count": 34,
   "metadata": {},
   "outputs": [
    {
     "data": {
      "text/plain": [
       "{1, 2, 3, 4}"
      ]
     },
     "execution_count": 34,
     "metadata": {},
     "output_type": "execute_result"
    }
   ],
   "source": [
    "{1, 2, 3} | {2, 3, 4}"
   ]
  },
  {
   "cell_type": "code",
   "execution_count": 37,
   "metadata": {},
   "outputs": [
    {
     "data": {
      "text/plain": [
       "{2, 3}"
      ]
     },
     "execution_count": 37,
     "metadata": {},
     "output_type": "execute_result"
    }
   ],
   "source": [
    "{1, 2, 3} & {2, 3, 4}"
   ]
  },
  {
   "cell_type": "markdown",
   "metadata": {},
   "source": [
    "### 집합을 변경하기\n",
    "- 변경이 가능한 값을 mutable 값이라고 한다.\n",
    "- 집합은 변경이 가능하다.\n",
    "- 집합의 원소는 add와 remove메소드를 사용하여 추가하거나 삭제할 수 있다."
   ]
  },
  {
   "cell_type": "code",
   "execution_count": 39,
   "metadata": {},
   "outputs": [
    {
     "data": {
      "text/plain": [
       "{1, 3, 4}"
      ]
     },
     "execution_count": 39,
     "metadata": {},
     "output_type": "execute_result"
    }
   ],
   "source": [
    "S = {1, 2, 3}\n",
    "S.add(4)\n",
    "S.remove(2)\n",
    "S"
   ]
  },
  {
   "cell_type": "markdown",
   "metadata": {},
   "source": [
    "- 파이썬은 어떤 집합에 또 다른 컬렉션(예를 들어, 집합 또는 리스트)의 모든 원소를 추가하기 위해 update(...)메소드를 제공한다."
   ]
  },
  {
   "cell_type": "code",
   "execution_count": 41,
   "metadata": {},
   "outputs": [
    {
     "data": {
      "text/plain": [
       "{1, 3, 4, 5, 6}"
      ]
     },
     "execution_count": 41,
     "metadata": {},
     "output_type": "execute_result"
    }
   ],
   "source": [
    "S.update({4, 5, 6})\n",
    "S"
   ]
  },
  {
   "cell_type": "code",
   "execution_count": 43,
   "metadata": {},
   "outputs": [
    {
     "data": {
      "text/plain": [
       "{5, 6}"
      ]
     },
     "execution_count": 43,
     "metadata": {},
     "output_type": "execute_result"
    }
   ],
   "source": [
    "S.intersection_update({5, 6, 7, 8, 9})\n",
    "S"
   ]
  },
  {
   "cell_type": "markdown",
   "metadata": {},
   "source": [
    "- 두 개의 변수가 동일한 어떤 값에 바이드되어 있다고 가정해 보자. 이때 한 변수를 통해 바인드되어 있는 값을 변경하면 다른 변수도 변경된 값을 참조하게 된다.\n",
    "- 이것은 파이썬이 자료구조의 사본은 하나만 저장한다는 사실을 나타낸다."
   ]
  },
  {
   "cell_type": "code",
   "execution_count": 45,
   "metadata": {},
   "outputs": [
    {
     "data": {
      "text/plain": [
       "{6}"
      ]
     },
     "execution_count": 45,
     "metadata": {},
     "output_type": "execute_result"
    }
   ],
   "source": [
    "T = S\n",
    "T.remove(5)\n",
    "S"
   ]
  },
  {
   "cell_type": "markdown",
   "metadata": {},
   "source": [
    "- 파이썬은 집합과 같은 컬렉션을 복사하는 메서드를 제공한다."
   ]
  },
  {
   "cell_type": "code",
   "execution_count": 46,
   "metadata": {},
   "outputs": [
    {
     "data": {
      "text/plain": [
       "{6}"
      ]
     },
     "execution_count": 46,
     "metadata": {},
     "output_type": "execute_result"
    }
   ],
   "source": [
    "U = S.copy()\n",
    "U.add(5)\n",
    "S"
   ]
  },
  {
   "cell_type": "markdown",
   "metadata": {},
   "source": [
    "### 집합 컴프리헨션\n",
    "- 파이썬은 *컴프리헨션*이라고 하는 표현식을 제공하는데, 이것은 다른 컬렉션을 사용하여 새로운 컬렉션을 만드는 데 사용된다."
   ]
  },
  {
   "cell_type": "code",
   "execution_count": 47,
   "metadata": {},
   "outputs": [
    {
     "data": {
      "text/plain": [
       "{2, 4, 6}"
      ]
     },
     "execution_count": 47,
     "metadata": {},
     "output_type": "execute_result"
    }
   ],
   "source": [
    "{2*x for x in {1, 2, 3}}"
   ]
  },
  {
   "cell_type": "markdown",
   "metadata": {},
   "source": [
    "### Task 1.5.5\n",
    "집합 {1, 2, 3, 4, 5}에 대한 컴프리헨션을 작성해 보자. 이 컴프리헨션의 값은 처음 다섯 개 양의 정수의 제곱값으로 이루어진 집합이다."
   ]
  },
  {
   "cell_type": "code",
   "execution_count": 48,
   "metadata": {},
   "outputs": [
    {
     "data": {
      "text/plain": [
       "{1, 4, 9, 16, 25}"
      ]
     },
     "execution_count": 48,
     "metadata": {},
     "output_type": "execute_result"
    }
   ],
   "source": [
    "{x**2 for x in {1, 2, 3, 4, 5}}"
   ]
  },
  {
   "cell_type": "markdown",
   "metadata": {},
   "source": [
    "### Task 1.5.6\n",
    "집합 {0, 1, 2, 3, 4}에 대한 컴프리헨션을 작성해 보자. 이 컴프리헨션의 값은 $2^0$부터 시작하여 처음 다섯 개 2의 거듭제곱으로 구성된 집합이다."
   ]
  },
  {
   "cell_type": "code",
   "execution_count": 49,
   "metadata": {},
   "outputs": [
    {
     "data": {
      "text/plain": [
       "{1, 2, 4, 8, 16}"
      ]
     },
     "execution_count": 49,
     "metadata": {},
     "output_type": "execute_result"
    }
   ],
   "source": [
    "{2**x for x in {0, 1, 2, 3, 4}}"
   ]
  },
  {
   "cell_type": "markdown",
   "metadata": {},
   "source": [
    "- 합집합 연사자 | 또는 교집합 연산자 &를 사용하여 두 집합의 합집합 또는 교집합에 대한 표현식을 작성할 수 있다."
   ]
  },
  {
   "cell_type": "code",
   "execution_count": 52,
   "metadata": {},
   "outputs": [
    {
     "data": {
      "text/plain": [
       "{1, 9, 25, 49}"
      ]
     },
     "execution_count": 52,
     "metadata": {},
     "output_type": "execute_result"
    }
   ],
   "source": [
    "S = {1, 3}\n",
    "{x*x for x in S | {5, 7}}"
   ]
  },
  {
   "cell_type": "markdown",
   "metadata": {},
   "source": [
    "- if <조건>을 컴프리헨션의 마지막에 추가하여 집합 내의 몇몇 값들을 건더뛸 수 있다.\n",
    "- 이러한 조건을 나타내는 구문을 *필터(filter)*라고 한다."
   ]
  },
  {
   "cell_type": "code",
   "execution_count": 53,
   "metadata": {},
   "outputs": [
    {
     "data": {
      "text/plain": [
       "{9, 25, 49}"
      ]
     },
     "execution_count": 53,
     "metadata": {},
     "output_type": "execute_result"
    }
   ],
   "source": [
    "{x*x for x in S | {5, 7} if x > 2}"
   ]
  },
  {
   "cell_type": "markdown",
   "metadata": {},
   "source": [
    "- 두 집합의 카테시안 곱에 대해 컴프리헨션을 작성할 수도 있다."
   ]
  },
  {
   "cell_type": "code",
   "execution_count": 54,
   "metadata": {},
   "outputs": [
    {
     "data": {
      "text/plain": [
       "{2, 3, 4, 6, 8, 9, 12}"
      ]
     },
     "execution_count": 54,
     "metadata": {},
     "output_type": "execute_result"
    }
   ],
   "source": [
    "{x*y for x in {1, 2, 3} for y in {2, 3, 4}}"
   ]
  },
  {
   "cell_type": "markdown",
   "metadata": {},
   "source": [
    "### Task 1.5.7\n",
    "위의 컴프리헨션, {x$*$y for x in {1, 2, 3} for y in {2, 3, 4}}의 값은 7개 원소로 구성된 집합이다. {1, 2, 3}과 {2, 3, 4}를 원소가 3개인 다른 두 개의 집합으로 바꾸어 컴프리헨션 결과가 9개 원소로 이루어진 집합이 되게 해 보자."
   ]
  },
  {
   "cell_type": "code",
   "execution_count": 55,
   "metadata": {},
   "outputs": [
    {
     "data": {
      "text/plain": [
       "{5, 7, 10, 11, 14, 15, 21, 22, 33}"
      ]
     },
     "execution_count": 55,
     "metadata": {},
     "output_type": "execute_result"
    }
   ],
   "source": [
    "{x*y for x in {1, 2, 3} for y in {5, 7, 11}}"
   ]
  },
  {
   "cell_type": "markdown",
   "metadata": {},
   "source": [
    "### Task 1.5.8\n",
    "앞의 컴프리헨션에서 {1, 2, 3}과 {2, 3, 4}을 두 개의 서로 겹치지 않는(disjoint) 3개의 원소로 구성된 집합으로 대체하여 결과가 5개 원소로 이루어진 집합이 되게 해 보자."
   ]
  },
  {
   "cell_type": "code",
   "execution_count": 63,
   "metadata": {},
   "outputs": [
    {
     "data": {
      "text/plain": [
       "{0, 4, 8, 16, 32}"
      ]
     },
     "execution_count": 63,
     "metadata": {},
     "output_type": "execute_result"
    }
   ],
   "source": [
    "{x*y for x in {0, 1, 2} for y in {4, 8, 16}}"
   ]
  },
  {
   "cell_type": "markdown",
   "metadata": {},
   "source": [
    "### Task 1.5.9\n",
    "집합 S와 T는 할당된 집합이라고 가정하자. 교집합 연산자 &를 사용하지 않고 S에 대한 컴프리헨션을 작성하여 그 결과 값이 S와 T의 교집합이 되게 해 보자. 힌트: 컴프리헨션의 마지막에 필터를 사용하여 멤버십을 테스트하면된다."
   ]
  },
  {
   "cell_type": "code",
   "execution_count": 64,
   "metadata": {},
   "outputs": [
    {
     "data": {
      "text/plain": [
       "{2, 4}"
      ]
     },
     "execution_count": 64,
     "metadata": {},
     "output_type": "execute_result"
    }
   ],
   "source": [
    "S = {1, 2, 3, 4}\n",
    "T = {2, 4, 5, 6}\n",
    "{s for s in S for t in T if s == t}"
   ]
  },
  {
   "cell_type": "markdown",
   "metadata": {},
   "source": [
    "### Remarks"
   ]
  },
  {
   "cell_type": "markdown",
   "metadata": {},
   "source": [
    "- 빈 집합은 set()에 의해 표현된다({}은 다른 목적으로 사용).\n",
    "- 집합은 또 다른 집을 원소로 가질 수 없다. 파있너에서 집합의 원소는 변경할 수 없고, 집합은 변경 가능하다."
   ]
  },
  {
   "cell_type": "code",
   "execution_count": 65,
   "metadata": {},
   "outputs": [
    {
     "ename": "TypeError",
     "evalue": "unhashable type: 'set'",
     "output_type": "error",
     "traceback": [
      "\u001b[0;31m---------------------------------------------------------------------------\u001b[0m",
      "\u001b[0;31mTypeError\u001b[0m                                 Traceback (most recent call last)",
      "\u001b[0;32m<ipython-input-65-fed73a0ef043>\u001b[0m in \u001b[0;36m<module>\u001b[0;34m()\u001b[0m\n\u001b[0;32m----> 1\u001b[0;31m \u001b[0;34m{\u001b[0m\u001b[0;34m{\u001b[0m\u001b[0;36m1\u001b[0m\u001b[0;34m,\u001b[0m \u001b[0;36m2\u001b[0m\u001b[0;34m}\u001b[0m\u001b[0;34m,\u001b[0m \u001b[0;36m3\u001b[0m\u001b[0;34m}\u001b[0m\u001b[0;34m\u001b[0m\u001b[0m\n\u001b[0m",
      "\u001b[0;31mTypeError\u001b[0m: unhashable type: 'set'"
     ]
    }
   ],
   "source": [
    "{{1, 2}, 3}"
   ]
  },
  {
   "cell_type": "markdown",
   "metadata": {},
   "source": [
    "## 1.5.5 리스트(List)"
   ]
  },
  {
   "cell_type": "markdown",
   "metadata": {},
   "source": [
    "- 리스트에서 순서는 중요하며 원소의 중복도 허용된다.\n",
    "- 리스느튼 중괄호 대신 대괄호([])를 사용한다.\n",
    "- 원소가 없는 빈 리스트느 []로 표현된다.\n",
    "- 리스트의 원소에 제한은 없다."
   ]
  },
  {
   "cell_type": "code",
   "execution_count": 66,
   "metadata": {},
   "outputs": [
    {
     "data": {
      "text/plain": [
       "[1, 2, 3, 2, 3]"
      ]
     },
     "execution_count": 66,
     "metadata": {},
     "output_type": "execute_result"
    }
   ],
   "source": [
    "[1, 1+1, 3, 2, 3]"
   ]
  },
  {
   "cell_type": "code",
   "execution_count": 67,
   "metadata": {},
   "outputs": [
    {
     "data": {
      "text/plain": [
       "[[1, 2, 3], {4, 5, 6}, 'yo']"
      ]
     },
     "execution_count": 67,
     "metadata": {},
     "output_type": "execute_result"
    }
   ],
   "source": [
    "[[1, 1+1, 4-1], {2*2, 5, 6}, 'yo']"
   ]
  },
  {
   "cell_type": "markdown",
   "metadata": {},
   "source": [
    "- 리스트의 길이(length)는 프로시서 $len(\\cdot)$을 사용하여 얻을 수 있다."
   ]
  },
  {
   "cell_type": "code",
   "execution_count": 69,
   "metadata": {},
   "outputs": [
    {
     "data": {
      "text/plain": [
       "4"
      ]
     },
     "execution_count": 69,
     "metadata": {},
     "output_type": "execute_result"
    }
   ],
   "source": [
    "len([[1, 1+1, 4-1], {2*2, 5, 6}, 'yo', 'yo'])"
   ]
  },
  {
   "cell_type": "markdown",
   "metadata": {},
   "source": [
    "- 컬렉션의 원소에 대한 합은 $sum(\\cdot)$을 사용하여 계산할 수 있다."
   ]
  },
  {
   "cell_type": "code",
   "execution_count": 70,
   "metadata": {},
   "outputs": [
    {
     "data": {
      "text/plain": [
       "4"
      ]
     },
     "execution_count": 70,
     "metadata": {},
     "output_type": "execute_result"
    }
   ],
   "source": [
    "sum([1, 1, 0, 1, 0, 1, 0])"
   ]
  },
  {
   "cell_type": "code",
   "execution_count": 71,
   "metadata": {},
   "outputs": [
    {
     "data": {
      "text/plain": [
       "-5"
      ]
     },
     "execution_count": 71,
     "metadata": {},
     "output_type": "execute_result"
    }
   ],
   "source": [
    "sum([1, 1, 0, 1, 0, 1, 0], -9)"
   ]
  },
  {
   "cell_type": "markdown",
   "metadata": {},
   "source": [
    "### Task 1.5.10\n",
    "값이 리스트[20, 10, 15, 75] 내 원소들의 평균이 되는 표현식을 작성하여라."
   ]
  },
  {
   "cell_type": "code",
   "execution_count": 72,
   "metadata": {},
   "outputs": [
    {
     "data": {
      "text/plain": [
       "30.0"
      ]
     },
     "execution_count": 72,
     "metadata": {},
     "output_type": "execute_result"
    }
   ],
   "source": [
    "L = [20, 10, 15, 75]\n",
    "sum(L) / len(L)"
   ]
  },
  {
   "cell_type": "markdown",
   "metadata": {},
   "source": [
    "### 리스트 연결\n",
    "- 연산자 +를 사용하여 하나의 리스트에 있는 원소들을 다른 리스트에 있는 원소들과 결합하여 새로운 리스트를 만들 수 있다.\n",
    "- $sum(\\cdot)$을 이용히여 여러 리스트를 연결할 수 있다. 이때, 두 번째 인자는 빈 리스트 []이다."
   ]
  },
  {
   "cell_type": "code",
   "execution_count": 73,
   "metadata": {},
   "outputs": [
    {
     "data": {
      "text/plain": [
       "[1, 2, 3, 'my', 'word']"
      ]
     },
     "execution_count": 73,
     "metadata": {},
     "output_type": "execute_result"
    }
   ],
   "source": [
    "[1, 2, 3] + ['my', 'word']"
   ]
  },
  {
   "cell_type": "code",
   "execution_count": 74,
   "metadata": {},
   "outputs": [
    {
     "data": {
      "text/plain": [
       "[4, 8, 12, 'my', 'word']"
      ]
     },
     "execution_count": 74,
     "metadata": {},
     "output_type": "execute_result"
    }
   ],
   "source": [
    "mylist = [4, 8, 12]\n",
    "mylist + ['my', 'word']"
   ]
  },
  {
   "cell_type": "code",
   "execution_count": 75,
   "metadata": {},
   "outputs": [
    {
     "data": {
      "text/plain": [
       "[4, 8, 12]"
      ]
     },
     "execution_count": 75,
     "metadata": {},
     "output_type": "execute_result"
    }
   ],
   "source": [
    "mylist"
   ]
  },
  {
   "cell_type": "code",
   "execution_count": 76,
   "metadata": {},
   "outputs": [
    {
     "ename": "TypeError",
     "evalue": "unsupported operand type(s) for +: 'int' and 'list'",
     "output_type": "error",
     "traceback": [
      "\u001b[0;31m---------------------------------------------------------------------------\u001b[0m",
      "\u001b[0;31mTypeError\u001b[0m                                 Traceback (most recent call last)",
      "\u001b[0;32m<ipython-input-76-b2342dddab71>\u001b[0m in \u001b[0;36m<module>\u001b[0;34m()\u001b[0m\n\u001b[0;32m----> 1\u001b[0;31m \u001b[0msum\u001b[0m\u001b[0;34m(\u001b[0m\u001b[0;34m[\u001b[0m \u001b[0;34m[\u001b[0m\u001b[0;36m1\u001b[0m\u001b[0;34m,\u001b[0m \u001b[0;36m2\u001b[0m\u001b[0;34m,\u001b[0m \u001b[0;36m3\u001b[0m\u001b[0;34m]\u001b[0m\u001b[0;34m,\u001b[0m \u001b[0;34m[\u001b[0m\u001b[0;36m4\u001b[0m\u001b[0;34m,\u001b[0m \u001b[0;36m5\u001b[0m\u001b[0;34m,\u001b[0m \u001b[0;36m6\u001b[0m\u001b[0;34m]\u001b[0m\u001b[0;34m,\u001b[0m \u001b[0;34m[\u001b[0m\u001b[0;36m7\u001b[0m\u001b[0;34m,\u001b[0m \u001b[0;36m8\u001b[0m\u001b[0;34m,\u001b[0m \u001b[0;36m9\u001b[0m\u001b[0;34m]\u001b[0m \u001b[0;34m]\u001b[0m\u001b[0;34m)\u001b[0m\u001b[0;34m\u001b[0m\u001b[0m\n\u001b[0m",
      "\u001b[0;31mTypeError\u001b[0m: unsupported operand type(s) for +: 'int' and 'list'"
     ]
    }
   ],
   "source": [
    "sum([ [1, 2, 3], [4, 5, 6], [7, 8, 9] ]) "
   ]
  },
  {
   "cell_type": "code",
   "execution_count": 77,
   "metadata": {},
   "outputs": [
    {
     "data": {
      "text/plain": [
       "[1, 2, 3, 4, 5, 6, 7, 8, 9]"
      ]
     },
     "execution_count": 77,
     "metadata": {},
     "output_type": "execute_result"
    }
   ],
   "source": [
    "sum([ [1, 2, 3], [4, 5, 6], [7, 8, 9] ], [])"
   ]
  },
  {
   "cell_type": "markdown",
   "metadata": {},
   "source": [
    "### 리스트 컴프리헨션"
   ]
  },
  {
   "cell_type": "code",
   "execution_count": 78,
   "metadata": {},
   "outputs": [
    {
     "data": {
      "text/plain": [
       "[2, 4, 6, 8, 10]"
      ]
     },
     "execution_count": 78,
     "metadata": {},
     "output_type": "execute_result"
    }
   ],
   "source": [
    "[2*x for x in {2, 1, 3, 4, 5}]"
   ]
  },
  {
   "cell_type": "code",
   "execution_count": 79,
   "metadata": {},
   "outputs": [
    {
     "data": {
      "text/plain": [
       "[4, 2, 6, 8, 10]"
      ]
     },
     "execution_count": 79,
     "metadata": {},
     "output_type": "execute_result"
    }
   ],
   "source": [
    "[2*x for x in [2, 1, 3, 4, 5]]"
   ]
  },
  {
   "cell_type": "code",
   "execution_count": 80,
   "metadata": {},
   "outputs": [
    {
     "data": {
      "text/plain": [
       "[10, 20, 30, 20, 40, 60, 30, 60, 90]"
      ]
     },
     "execution_count": 80,
     "metadata": {},
     "output_type": "execute_result"
    }
   ],
   "source": [
    "[x*y for x in [1, 2, 3] for y in [10, 20, 30]]"
   ]
  },
  {
   "cell_type": "markdown",
   "metadata": {},
   "source": [
    "### Task 1.5.11\n",
    "리스트 ['A', 'B', 'C']와 [1, 2, 3]에 대해 이중 리스트 컴프리헨션을 작성하라. 이때, 컴프리헨션의 결과 값은 모든 가능한 2-원소 리트스[문자, 숫자]로 구성된 리스트이다."
   ]
  },
  {
   "cell_type": "code",
   "execution_count": 82,
   "metadata": {},
   "outputs": [
    {
     "name": "stdout",
     "output_type": "stream",
     "text": [
      "[['A', 1], ['A', 2], ['A', 3], ['B', 1], ['B', 2], ['B', 3], ['C', 1], ['C', 2], ['C', 3]]\n"
     ]
    }
   ],
   "source": [
    "print([[ch, num] for ch in ['A', 'B', 'C'] for num in [1, 2, 3]])"
   ]
  },
  {
   "cell_type": "markdown",
   "metadata": {},
   "source": [
    "### Task 1.5.12 \n",
    "LofL에 어떤 리스트가 할당된다고 가정해 보자. 이때, 할당되는 리스트의 원소들은 숫자들의 리스트다. 모든 리스트에 있는 숫자들의 합을 평가하는 표현식을 작성하라. 이때, 표현식은 다음 형태를 가지며 'sum([sum(...)' 하나의 컴프리헨션을 포함한다. 작성한 표현식은 임의 길이의 리스트에 대해 동작해야 한다. "
   ]
  },
  {
   "cell_type": "code",
   "execution_count": 83,
   "metadata": {},
   "outputs": [
    {
     "data": {
      "text/plain": [
       "16.1"
      ]
     },
     "execution_count": 83,
     "metadata": {},
     "output_type": "execute_result"
    }
   ],
   "source": [
    "LofL = [ [.25, .75, .1], [-1, 0], [4, 4, 4, 4] ]\n",
    "sum([sum(L) for L in LofL])"
   ]
  },
  {
   "cell_type": "markdown",
   "metadata": {},
   "source": [
    "### 인덱싱(indexing)에 의해 리스트의 원소 얻기"
   ]
  },
  {
   "cell_type": "code",
   "execution_count": 84,
   "metadata": {},
   "outputs": [
    {
     "data": {
      "text/plain": [
       "4"
      ]
     },
     "execution_count": 84,
     "metadata": {},
     "output_type": "execute_result"
    }
   ],
   "source": [
    "mylist[0]"
   ]
  },
  {
   "cell_type": "code",
   "execution_count": 85,
   "metadata": {},
   "outputs": [
    {
     "data": {
      "text/plain": [
       "'the'"
      ]
     },
     "execution_count": 85,
     "metadata": {},
     "output_type": "execute_result"
    }
   ],
   "source": [
    "['in', 'the', 'CIT'][1]"
   ]
  },
  {
   "cell_type": "markdown",
   "metadata": {},
   "source": [
    "### 슬라이스(Slice)\n",
    "- 어떤 리스트의 슬라이스는 그 리스트의 연속된 일부 원소들로 구성된 새로운 리스트이다.\n",
    "- 슬라이스에 포함되는 원소의 범위는 콜론으로 분리된 쌍 i:j를 이용하여 명시한다.\n",
    "- 이때, 인덱스 i는 슬라이스를 구성하는 첫 번째 원소를, 그리고 j는 마지막 원소 바로 다음의 인섹스를 나타낸다.\n",
    "- Prefix, Suffix 표현이 가능하다."
   ]
  },
  {
   "cell_type": "code",
   "execution_count": 86,
   "metadata": {},
   "outputs": [
    {
     "data": {
      "text/plain": [
       "[0, 10, 20, 30, 40]"
      ]
     },
     "execution_count": 86,
     "metadata": {},
     "output_type": "execute_result"
    }
   ],
   "source": [
    "L = [0, 10, 20, 30, 40, 50, 60, 70, 80, 90]\n",
    "L[:5]"
   ]
  },
  {
   "cell_type": "code",
   "execution_count": 87,
   "metadata": {},
   "outputs": [
    {
     "data": {
      "text/plain": [
       "[50, 60, 70, 80, 90]"
      ]
     },
     "execution_count": 87,
     "metadata": {},
     "output_type": "execute_result"
    }
   ],
   "source": [
    "L[5:]"
   ]
  },
  {
   "cell_type": "markdown",
   "metadata": {},
   "source": [
    "### 불연속 슬라이싱\n",
    "콜론으로 분리된 트리플 a:b:c를 상용하여 매 c번째 원소를 포함하도록 슬라이싱할 수 있다."
   ]
  },
  {
   "cell_type": "code",
   "execution_count": 88,
   "metadata": {},
   "outputs": [
    {
     "data": {
      "text/plain": [
       "[0, 20, 40, 60, 80]"
      ]
     },
     "execution_count": 88,
     "metadata": {},
     "output_type": "execute_result"
    }
   ],
   "source": [
    "L[::2]"
   ]
  },
  {
   "cell_type": "code",
   "execution_count": 89,
   "metadata": {},
   "outputs": [
    {
     "data": {
      "text/plain": [
       "[10, 30, 50, 70, 90]"
      ]
     },
     "execution_count": 89,
     "metadata": {},
     "output_type": "execute_result"
    }
   ],
   "source": [
    "L[1::2]"
   ]
  },
  {
   "cell_type": "markdown",
   "metadata": {},
   "source": [
    "### 언패팅(unpacking)으로 리스트 원소 얻기\n",
    "- 리스트에 하나의 변수를 할당하는 대신에 변수들의 리스트를 할당할 수 있다.\n",
    "- 실제로 파이썬에서는 변수들의 리스트인 것을 생성하는 것이 허용되지 않는다. 위의 할당문은 단순히 왼쪽에 있는 변수들의 각각에 할당하는 편리한 방법일 뿐이다.\n",
    "- 언패킹은 컴프리헨션에서도 마찬가지 방식으로 사용될 수 있다."
   ]
  },
  {
   "cell_type": "code",
   "execution_count": 98,
   "metadata": {},
   "outputs": [
    {
     "data": {
      "text/plain": [
       "4"
      ]
     },
     "execution_count": 98,
     "metadata": {},
     "output_type": "execute_result"
    }
   ],
   "source": [
    "[x, y, z] = [4*1, 4*2, 4*3]\n",
    "x"
   ]
  },
  {
   "cell_type": "code",
   "execution_count": 97,
   "metadata": {},
   "outputs": [
    {
     "data": {
      "text/plain": [
       "8"
      ]
     },
     "execution_count": 97,
     "metadata": {},
     "output_type": "execute_result"
    }
   ],
   "source": [
    "y"
   ]
  },
  {
   "cell_type": "code",
   "execution_count": 101,
   "metadata": {},
   "outputs": [
    {
     "data": {
      "text/plain": [
       "[1, 4, 9]"
      ]
     },
     "execution_count": 101,
     "metadata": {},
     "output_type": "execute_result"
    }
   ],
   "source": [
    "LofL = [ [1, 1], [2, 4], [3, 9]]\n",
    "[y for [x, y] in LofL]"
   ]
  },
  {
   "cell_type": "markdown",
   "metadata": {},
   "source": [
    "### Task 1.5.13 할당문 왼쪽에 있는 리스트의 길이가 할당문 오른쪽 리스트의 길이와 일치하지 않을 때 무슨일이 생기는지 확인해 보자."
   ]
  },
  {
   "cell_type": "code",
   "execution_count": 99,
   "metadata": {},
   "outputs": [
    {
     "ename": "ValueError",
     "evalue": "too many values to unpack (expected 2)",
     "output_type": "error",
     "traceback": [
      "\u001b[0;31m---------------------------------------------------------------------------\u001b[0m",
      "\u001b[0;31mValueError\u001b[0m                                Traceback (most recent call last)",
      "\u001b[0;32m<ipython-input-99-9e649ceb3a29>\u001b[0m in \u001b[0;36m<module>\u001b[0;34m()\u001b[0m\n\u001b[0;32m----> 1\u001b[0;31m \u001b[0;34m[\u001b[0m\u001b[0mx\u001b[0m\u001b[0;34m,\u001b[0m \u001b[0my\u001b[0m\u001b[0;34m]\u001b[0m \u001b[0;34m=\u001b[0m \u001b[0;34m[\u001b[0m\u001b[0;36m1\u001b[0m\u001b[0;34m,\u001b[0m \u001b[0;36m2\u001b[0m\u001b[0;34m,\u001b[0m \u001b[0;36m3\u001b[0m\u001b[0;34m]\u001b[0m\u001b[0;34m\u001b[0m\u001b[0m\n\u001b[0m",
      "\u001b[0;31mValueError\u001b[0m: too many values to unpack (expected 2)"
     ]
    }
   ],
   "source": [
    "[x, y] = [1, 2, 3]"
   ]
  },
  {
   "cell_type": "code",
   "execution_count": 100,
   "metadata": {},
   "outputs": [
    {
     "ename": "ValueError",
     "evalue": "not enough values to unpack (expected 3, got 2)",
     "output_type": "error",
     "traceback": [
      "\u001b[0;31m---------------------------------------------------------------------------\u001b[0m",
      "\u001b[0;31mValueError\u001b[0m                                Traceback (most recent call last)",
      "\u001b[0;32m<ipython-input-100-dcb46683e1ec>\u001b[0m in \u001b[0;36m<module>\u001b[0;34m()\u001b[0m\n\u001b[0;32m----> 1\u001b[0;31m \u001b[0;34m[\u001b[0m\u001b[0mx\u001b[0m\u001b[0;34m,\u001b[0m \u001b[0my\u001b[0m\u001b[0;34m,\u001b[0m \u001b[0mz\u001b[0m\u001b[0;34m]\u001b[0m \u001b[0;34m=\u001b[0m \u001b[0;34m[\u001b[0m\u001b[0;36m1\u001b[0m\u001b[0;34m,\u001b[0m \u001b[0;36m2\u001b[0m\u001b[0;34m]\u001b[0m\u001b[0;34m\u001b[0m\u001b[0m\n\u001b[0m",
      "\u001b[0;31mValueError\u001b[0m: not enough values to unpack (expected 3, got 2)"
     ]
    }
   ],
   "source": [
    "[x, y, z] = [1, 2]"
   ]
  },
  {
   "cell_type": "markdown",
   "metadata": {},
   "source": [
    "### 리스트 변경하기 =의 왼쪽에 인덱싱 사용\n",
    "리스트는 변경 가능하며, =의 왼쪽에 인덱싱을 사용하여 i번째 원소를 다른 것으로 빠꿀 수 있다."
   ]
  },
  {
   "cell_type": "code",
   "execution_count": 102,
   "metadata": {},
   "outputs": [
    {
     "data": {
      "text/plain": [
       "[30, 0, 10]"
      ]
     },
     "execution_count": 102,
     "metadata": {},
     "output_type": "execute_result"
    }
   ],
   "source": [
    "mylist = [30, 20, 10]\n",
    "mylist[1] = 0\n",
    "mylist"
   ]
  },
  {
   "cell_type": "markdown",
   "metadata": {},
   "source": [
    "## 1.5.6 터플(Tuple)"
   ]
  },
  {
   "cell_type": "markdown",
   "metadata": {},
   "source": [
    "- 터플은 순서가 있는 일련그이 원소들로 구성된다.\n",
    "- 터플은 변경할 수 없으며, 따라서 집합의 원소가 될 수 있다.\n",
    "- 일반 괄호 ()를 사용한다."
   ]
  },
  {
   "cell_type": "code",
   "execution_count": 103,
   "metadata": {},
   "outputs": [
    {
     "data": {
      "text/plain": [
       "(1, 2, 3)"
      ]
     },
     "execution_count": 103,
     "metadata": {},
     "output_type": "execute_result"
    }
   ],
   "source": [
    "(1, 1+1, 3)"
   ]
  },
  {
   "cell_type": "code",
   "execution_count": 105,
   "metadata": {},
   "outputs": [
    {
     "data": {
      "text/plain": [
       "{0, (3, 4, 5), (1, 2)}"
      ]
     },
     "execution_count": 105,
     "metadata": {},
     "output_type": "execute_result"
    }
   ],
   "source": [
    "{0, (1, 2)} | {(3, 4, 5)}"
   ]
  },
  {
   "cell_type": "markdown",
   "metadata": {},
   "source": [
    "### 인덱싱과 언패킹으로 터플의 원소 얻기"
   ]
  },
  {
   "cell_type": "code",
   "execution_count": 106,
   "metadata": {},
   "outputs": [
    {
     "data": {
      "text/plain": [
       "'my'"
      ]
     },
     "execution_count": 106,
     "metadata": {},
     "output_type": "execute_result"
    }
   ],
   "source": [
    "mytuple = ('all', 'my', 'books')\n",
    "mytuple[1]"
   ]
  },
  {
   "cell_type": "code",
   "execution_count": 107,
   "metadata": {},
   "outputs": [
    {
     "data": {
      "text/plain": [
       "3.14"
      ]
     },
     "execution_count": 107,
     "metadata": {},
     "output_type": "execute_result"
    }
   ],
   "source": [
    "(1, {'A', 'B'}, 3.14)[2]"
   ]
  },
  {
   "cell_type": "code",
   "execution_count": 109,
   "metadata": {},
   "outputs": [
    {
     "data": {
      "text/plain": [
       "1"
      ]
     },
     "execution_count": 109,
     "metadata": {},
     "output_type": "execute_result"
    }
   ],
   "source": [
    "(a, b) = (1, 5-3)\n",
    "a"
   ]
  },
  {
   "cell_type": "code",
   "execution_count": 111,
   "metadata": {},
   "outputs": [
    {
     "data": {
      "text/plain": [
       "1"
      ]
     },
     "execution_count": 111,
     "metadata": {},
     "output_type": "execute_result"
    }
   ],
   "source": [
    "a, b = (1, 5-3)\n",
    "a"
   ]
  },
  {
   "cell_type": "code",
   "execution_count": 112,
   "metadata": {},
   "outputs": [
    {
     "data": {
      "text/plain": [
       "1"
      ]
     },
     "execution_count": 112,
     "metadata": {},
     "output_type": "execute_result"
    }
   ],
   "source": [
    "a, b = 1, 5-3\n",
    "a"
   ]
  },
  {
   "cell_type": "code",
   "execution_count": 113,
   "metadata": {},
   "outputs": [
    {
     "data": {
      "text/plain": [
       "['A', 'B', 'C']"
      ]
     },
     "execution_count": 113,
     "metadata": {},
     "output_type": "execute_result"
    }
   ],
   "source": [
    "[y for (x, y) in [(1, 'A'), (2, 'B'), (3, 'C')]]"
   ]
  },
  {
   "cell_type": "markdown",
   "metadata": {},
   "source": [
    "### Task 1.5.14\n",
    "S를 정수의 집합, 예를 들어, {-4, -2, 1, 2, 5, 0}이라 하자. 결과 값이 3-원소 터플(i,j,k)의 리스트인 3중 컴프리헨션을 작성해 보자. 이때, i,j,k는 그 합이 영이 되는 S의 원소들이다."
   ]
  },
  {
   "cell_type": "code",
   "execution_count": 119,
   "metadata": {},
   "outputs": [
    {
     "data": {
      "text/plain": [
       "[(0, 0, 0),\n",
       " (0, 2, -2),\n",
       " (0, -2, 2),\n",
       " (1, 1, -2),\n",
       " (1, -2, 1),\n",
       " (2, 0, -2),\n",
       " (2, 2, -4),\n",
       " (2, -4, 2),\n",
       " (2, -2, 0),\n",
       " (-4, 2, 2),\n",
       " (-2, 0, 2),\n",
       " (-2, 1, 1),\n",
       " (-2, 2, 0)]"
      ]
     },
     "execution_count": 119,
     "metadata": {},
     "output_type": "execute_result"
    }
   ],
   "source": [
    "S = {-4, -2, 1, 2, 5, 0}\n",
    "[(i, j, k) for i in S for j in S for k in S if i+j+k == 0]"
   ]
  },
  {
   "cell_type": "markdown",
   "metadata": {},
   "source": [
    "### Task 1.5.15\n",
    "앞의 Task의 컴프리헨션을 수정하여 그 결과 리스트가 (0, 0, 0)을 포함하지 않게 해보자. 힌트: 필터 추가"
   ]
  },
  {
   "cell_type": "code",
   "execution_count": 120,
   "metadata": {},
   "outputs": [
    {
     "data": {
      "text/plain": [
       "[(0, 2, -2),\n",
       " (0, -2, 2),\n",
       " (1, 1, -2),\n",
       " (1, -2, 1),\n",
       " (2, 0, -2),\n",
       " (2, 2, -4),\n",
       " (2, -4, 2),\n",
       " (2, -2, 0),\n",
       " (-4, 2, 2),\n",
       " (-2, 0, 2),\n",
       " (-2, 1, 1),\n",
       " (-2, 2, 0)]"
      ]
     },
     "execution_count": 120,
     "metadata": {},
     "output_type": "execute_result"
    }
   ],
   "source": [
    "S = {-4, -2, 1, 2, 5, 0}\n",
    "[(i, j, k) for i in S for j in S for k in S if i+j+k == 0 and (i,j,k) != (0, 0, 0)]"
   ]
  },
  {
   "cell_type": "markdown",
   "metadata": {},
   "source": [
    "### Task 1.5.16\n",
    "표현식을 더 수정하여 그 결과 리스트가 첫 번째 터플을 제외한 모든 다른 터플을 포함하지 않게 해보자."
   ]
  },
  {
   "cell_type": "code",
   "execution_count": 122,
   "metadata": {},
   "outputs": [
    {
     "data": {
      "text/plain": [
       "[(0, 2, -2)]"
      ]
     },
     "execution_count": 122,
     "metadata": {},
     "output_type": "execute_result"
    }
   ],
   "source": [
    "[(i, j, k) for i in S for j in S for k in S if i+j+k == 0 and (i,j,k) != (0, 0, 0)][:1]"
   ]
  },
  {
   "cell_type": "markdown",
   "metadata": {},
   "source": [
    "### 다른 컬렉션으로부터 리스트 또는 집합 얻기\n",
    "- 파이썬은 생정자(constructor)을 사용하여 다른 컬렉션으로부터 다른 컬렉션을 계산할 수 있다.\n",
    "- set(), list(), tuple()"
   ]
  },
  {
   "cell_type": "code",
   "execution_count": 125,
   "metadata": {},
   "outputs": [
    {
     "data": {
      "text/plain": [
       "{0, 1, 2, 3, 4, 5, 6, 7, 8, 9}"
      ]
     },
     "execution_count": 125,
     "metadata": {},
     "output_type": "execute_result"
    }
   ],
   "source": [
    "set(range(10))"
   ]
  },
  {
   "cell_type": "code",
   "execution_count": 126,
   "metadata": {},
   "outputs": [
    {
     "data": {
      "text/plain": [
       "{1, 2, 3}"
      ]
     },
     "execution_count": 126,
     "metadata": {},
     "output_type": "execute_result"
    }
   ],
   "source": [
    "set([1, 2, 3])"
   ]
  },
  {
   "cell_type": "code",
   "execution_count": 127,
   "metadata": {},
   "outputs": [
    {
     "data": {
      "text/plain": [
       "[1, 2, 3]"
      ]
     },
     "execution_count": 127,
     "metadata": {},
     "output_type": "execute_result"
    }
   ],
   "source": [
    "list({1, 2, 3})"
   ]
  },
  {
   "cell_type": "code",
   "execution_count": 128,
   "metadata": {},
   "outputs": [
    {
     "data": {
      "text/plain": [
       "{1, 2, 3}"
      ]
     },
     "execution_count": 128,
     "metadata": {},
     "output_type": "execute_result"
    }
   ],
   "source": [
    "set((1, 2, 3))"
   ]
  },
  {
   "cell_type": "markdown",
   "metadata": {},
   "source": [
    "### Task 1.5.17\n",
    "어떤 리스트 L에 대해, len(L)과 len(list(set(L))이 서로 다른 L의 예를 찾아보자."
   ]
  },
  {
   "cell_type": "code",
   "execution_count": 129,
   "metadata": {},
   "outputs": [
    {
     "name": "stdout",
     "output_type": "stream",
     "text": [
      "len(L): 4\n",
      "len(list(set(L))): 3\n"
     ]
    }
   ],
   "source": [
    "L = [1, 2, 3, 1]\n",
    "print('len(L):', len(L))\n",
    "print('len(list(set(L))):', len(list(set(L))))"
   ]
  },
  {
   "cell_type": "markdown",
   "metadata": {},
   "source": [
    "## 1.5.7 반복 수행이 가능한 다른 형태"
   ]
  },
  {
   "cell_type": "markdown",
   "metadata": {},
   "source": [
    "### 터플 컴프리헨션\n",
    "- 터플 컴프리헨션은 제공되지 않는다.\n",
    "- 대신, ()을 이용한 컴프히헨션 표현방법은 제터레이터(generator)이다.\n",
    "- 제너레이터는 set(), list(), tuple()을 사용하여 집합, 리스트, 또는 터플로 바꿀 수 있다."
   ]
  },
  {
   "cell_type": "markdown",
   "metadata": {},
   "source": [
    "### Range\n",
    "- range는 등차 수열(arithmetic progression)의 원소들로 구성된 리스트이 역할을 한다.\n",
    "- 임이의 정수 n에 대해, rnage(n)은 0에서 n-1까지 정수들의 시퀀스를 나타낸다.\n",
    "- range는 시퀀스를 표현하지만, 이것은 리스트가 아니다.\n",
    "- 일반적으로, range의 원소들에 대해 이터레이션을 수행하거나 set(), list()를 사용하여 range를 집합 또는 리스트로 바꾼다."
   ]
  },
  {
   "cell_type": "code",
   "execution_count": 130,
   "metadata": {},
   "outputs": [
    {
     "data": {
      "text/plain": [
       "[0, 1, 2, 3, 4, 5, 6, 7, 8, 9]"
      ]
     },
     "execution_count": 130,
     "metadata": {},
     "output_type": "execute_result"
    }
   ],
   "source": [
    "list(range(10))"
   ]
  },
  {
   "cell_type": "markdown",
   "metadata": {},
   "source": [
    "### Task 1.5.18 \n",
    "range(n)의 형태인 range에 대해 컴프리헨션을 작성해 보자. 이때 컴프리헨션의 값은 1부터 99까지 홀수들의 집합이다."
   ]
  },
  {
   "cell_type": "code",
   "execution_count": 132,
   "metadata": {},
   "outputs": [
    {
     "name": "stdout",
     "output_type": "stream",
     "text": [
      "{1, 3, 5, 7, 9, 11, 13, 15, 17, 19, 21, 23, 25, 27, 29, 31, 33, 35, 37, 39, 41, 43, 45, 47, 49, 51, 53, 55, 57, 59, 61, 63, 65, 67, 69, 71, 73, 75, 77, 79, 81, 83, 85, 87, 89, 91, 93, 95, 97, 99}\n"
     ]
    }
   ],
   "source": [
    "print({n for n in range(100) if n%2 == 1})"
   ]
  },
  {
   "cell_type": "markdown",
   "metadata": {},
   "source": [
    "- 표현식 range(a, b)는 정수들의 시퀀스, a, a+1, ..., b-1를 나타낸다.\n",
    "- 표현식 range(a, b, c)는 정수들의 시퀀스, a, a+c, a+2c, ...(b바로 앞에서 멈춤)를 나타낸다."
   ]
  },
  {
   "cell_type": "code",
   "execution_count": 133,
   "metadata": {},
   "outputs": [
    {
     "name": "stdout",
     "output_type": "stream",
     "text": [
      "{1, 3, 5, 7, 9, 11, 13, 15, 17, 19, 21, 23, 25, 27, 29, 31, 33, 35, 37, 39, 41, 43, 45, 47, 49, 51, 53, 55, 57, 59, 61, 63, 65, 67, 69, 71, 73, 75, 77, 79, 81, 83, 85, 87, 89, 91, 93, 95, 97, 99}\n"
     ]
    }
   ],
   "source": [
    "print({n for n in range(1,100,2)}) "
   ]
  },
  {
   "cell_type": "markdown",
   "metadata": {},
   "source": [
    "### Zip\n",
    "- zip은 길이가 모두 같은 다른 컬렉션들로 부터 만들어진다.\n",
    "- zip의 각 원소는 각 입력 컬럭션에서 한 원소씩 모아 구성된 터플이다."
   ]
  },
  {
   "cell_type": "markdown",
   "metadata": {},
   "source": [
    "### Task 1.5.19\n",
    "알파벳의 처음 다섯 문자로 구성된 리스트를 L에 할당하자. 다음에, 어떤 표현식에 L을 사용하여 그 값이 다음과 같이 되게 하자. \n",
    "\n",
    "[(0, 'A'), (1,'B'), (2,'C'),(3,'D'),(4,'E')]\n",
    "\n",
    "사용하는 표현식은 range와 zip을 사용해야 하고 컴프리헨션을 사용해서는 안된다."
   ]
  },
  {
   "cell_type": "code",
   "execution_count": 137,
   "metadata": {},
   "outputs": [
    {
     "data": {
      "text/plain": [
       "[(0, 'A'), (1, 'B'), (2, 'C'), (3, 'D'), (4, 'E')]"
      ]
     },
     "execution_count": 137,
     "metadata": {},
     "output_type": "execute_result"
    }
   ],
   "source": [
    "L = ['A', 'B', 'C', 'D', 'E']\n",
    "list(zip(range(5), L))"
   ]
  },
  {
   "cell_type": "markdown",
   "metadata": {},
   "source": [
    "### Task 1.5.20\n",
    "리스트 [10,25,40]와 [1,15,20]를 가지고 3-원소 리스트를 생성하는 컴프리헨션을 작성해 보자. 이때, 3-원소 중 첫 번째는 10과 1의 합이고, 두 번째는 25와 15의 합이며, 세 번째는 40과 20의 합이다. 적성하는 표현식은 리스트가 아리나 zip을 사용해야 한다."
   ]
  },
  {
   "cell_type": "code",
   "execution_count": 138,
   "metadata": {},
   "outputs": [
    {
     "data": {
      "text/plain": [
       "[11, 40, 60]"
      ]
     },
     "execution_count": 138,
     "metadata": {},
     "output_type": "execute_result"
    }
   ],
   "source": [
    "[a+b for (a, b) in zip([10, 25, 40], [1, 15, 20])]"
   ]
  },
  {
   "cell_type": "markdown",
   "metadata": {},
   "source": [
    "### reversed\n",
    "- 리스트 L의 원소들을 역순으로 이터레이션하기 위해 reversed(L)을 사용해 보자.\n",
    "- 이것은 리스트 L을 변경하지 않는다."
   ]
  },
  {
   "cell_type": "code",
   "execution_count": 139,
   "metadata": {},
   "outputs": [
    {
     "data": {
      "text/plain": [
       "[100, 25, 16]"
      ]
     },
     "execution_count": 139,
     "metadata": {},
     "output_type": "execute_result"
    }
   ],
   "source": [
    "[x*x for x in reversed([4, 5, 10])]"
   ]
  },
  {
   "cell_type": "markdown",
   "metadata": {},
   "source": [
    "## 1.5.8 딕셔너리(Dictionary)"
   ]
  },
  {
   "cell_type": "markdown",
   "metadata": {},
   "source": [
    "- 정의역이 유한한 함수를 사용할 경우 적합\n",
    "- 딕셔너리는 키-값(key-value) 쌍들의 집합이다.\n",
    "- 딕셔너리 집합과 동일하게 중과호를 사용하고 키-값 쌍들을 열거한다.\n",
    "- 키에 대한 표현식 뒤에 콜론이 다라오며, 콜론뒤에는 값에 대한 표현식이 사용된다.\n",
    "- 키-값 쌍의 순서는 상관없다.\n",
    "- 키는 변경 불가능해야 한다(집합, 리스트, 딕셔너리는 사용할 수 없음)."
   ]
  },
  {
   "cell_type": "code",
   "execution_count": 140,
   "metadata": {},
   "outputs": [
    {
     "data": {
      "text/plain": [
       "{3: 'three', 4: 'four'}"
      ]
     },
     "execution_count": 140,
     "metadata": {},
     "output_type": "execute_result"
    }
   ],
   "source": [
    "{2+1:'thr'+'ee', 2*2:'fo'+'ur'}"
   ]
  },
  {
   "cell_type": "markdown",
   "metadata": {},
   "source": [
    "- 딕셔너리에서 각 키에 대응하는 값은 오직 하나 있다. 만약 동일한 키에 대해 복수의 값이 주어지면, 오직 하나만 그 키에 결부될 것ㅇ디ㅏ."
   ]
  },
  {
   "cell_type": "code",
   "execution_count": 141,
   "metadata": {},
   "outputs": [
    {
     "data": {
      "text/plain": [
       "{0: 'nothing'}"
      ]
     },
     "execution_count": 141,
     "metadata": {},
     "output_type": "execute_result"
    }
   ],
   "source": [
    "{0:'zero', 0:'nothing'}"
   ]
  },
  {
   "cell_type": "markdown",
   "metadata": {},
   "source": [
    "### 딕셔너리의 인덱싱\n",
    "- 딕셔너리 표현식 바로 오른쪽에 대괄호로 감싼 키를 사용하면 된다."
   ]
  },
  {
   "cell_type": "code",
   "execution_count": 142,
   "metadata": {},
   "outputs": [
    {
     "data": {
      "text/plain": [
       "'four'"
      ]
     },
     "execution_count": 142,
     "metadata": {},
     "output_type": "execute_result"
    }
   ],
   "source": [
    "{4:'four', 3:'three'}[4]"
   ]
  },
  {
   "cell_type": "code",
   "execution_count": 144,
   "metadata": {},
   "outputs": [
    {
     "data": {
      "text/plain": [
       "'Keanu'"
      ]
     },
     "execution_count": 144,
     "metadata": {},
     "output_type": "execute_result"
    }
   ],
   "source": [
    "mydict = {'Neo':'Keanu', 'Morpheus':'Laurence', 'Trinity':'Carrie-Anne'}\n",
    "mydict['Neo']"
   ]
  },
  {
   "cell_type": "code",
   "execution_count": 146,
   "metadata": {},
   "outputs": [
    {
     "ename": "KeyError",
     "evalue": "'Oracle'",
     "output_type": "error",
     "traceback": [
      "\u001b[0;31m---------------------------------------------------------------------------\u001b[0m",
      "\u001b[0;31mKeyError\u001b[0m                                  Traceback (most recent call last)",
      "\u001b[0;32m<ipython-input-146-e351c817a577>\u001b[0m in \u001b[0;36m<module>\u001b[0;34m()\u001b[0m\n\u001b[0;32m----> 1\u001b[0;31m \u001b[0mmydict\u001b[0m\u001b[0;34m[\u001b[0m\u001b[0;34m'Oracle'\u001b[0m\u001b[0;34m]\u001b[0m\u001b[0;34m\u001b[0m\u001b[0m\n\u001b[0m",
      "\u001b[0;31mKeyError\u001b[0m: 'Oracle'"
     ]
    }
   ],
   "source": [
    "mydict['Oracle']"
   ]
  },
  {
   "cell_type": "markdown",
   "metadata": {},
   "source": [
    "### 딕셔너리의 멤버십 테스트"
   ]
  },
  {
   "cell_type": "code",
   "execution_count": 147,
   "metadata": {},
   "outputs": [
    {
     "data": {
      "text/plain": [
       "False"
      ]
     },
     "execution_count": 147,
     "metadata": {},
     "output_type": "execute_result"
    }
   ],
   "source": [
    "'Oracle' in mydict"
   ]
  },
  {
   "cell_type": "code",
   "execution_count": 148,
   "metadata": {},
   "outputs": [
    {
     "data": {
      "text/plain": [
       "'NOT PRESENT'"
      ]
     },
     "execution_count": 148,
     "metadata": {},
     "output_type": "execute_result"
    }
   ],
   "source": [
    "mydict['Oracle'] if 'Oracle' in mydict else 'NOT PRESENT'"
   ]
  },
  {
   "cell_type": "code",
   "execution_count": 149,
   "metadata": {},
   "outputs": [
    {
     "data": {
      "text/plain": [
       "'Keanu'"
      ]
     },
     "execution_count": 149,
     "metadata": {},
     "output_type": "execute_result"
    }
   ],
   "source": [
    "mydict['Neo'] if 'Neo' in mydict else 'NOT PRESENT'"
   ]
  },
  {
   "cell_type": "markdown",
   "metadata": {},
   "source": [
    "### 딕셔너리들의 리스트"
   ]
  },
  {
   "cell_type": "markdown",
   "metadata": {},
   "source": [
    "### Task 1.5.21\n",
    "dlist는 딕셔너리들로 구성된 리스트이고 k는 dlist의 모든 딕셔너리에 나타나는 키라고 하자. dlist에 대한 컴프리헨션을 작성해 보자. 이때, 결과 리스트의 i번째 딕셔너리의 키 k에 대응하는 값이다."
   ]
  },
  {
   "cell_type": "code",
   "execution_count": 153,
   "metadata": {},
   "outputs": [
    {
     "data": {
      "text/plain": [
       "['Sean', 'Roger', 'Pierce']"
      ]
     },
     "execution_count": 153,
     "metadata": {},
     "output_type": "execute_result"
    }
   ],
   "source": [
    "dlist = [{'James':'Sean', 'director':'Terence'}, {'James':'Roger', 'director':'Lewis'}, {'James':'Pierce', 'director':'Roger'}]\n",
    "k = 'James'\n",
    "\n",
    "[d[k] for d in dlist]"
   ]
  },
  {
   "cell_type": "markdown",
   "metadata": {},
   "source": [
    "### Task 1.5.22\n",
    "Task 1.5.21의 컴프리헨션을 수정하여 k가 일부 딕셔너리에 나타나지 않을 수 있는 경우를 처리하게 해 보자. 컴프리헨션결과 리스트의 i번째 원소는 만약 dlist의 i번째 딕셔너리가 키 k를 포함하면 k에 대응하는 그 딕셔너리의 값이고, 그렇지 않으면 'NOT PRESENT'가 된다."
   ]
  },
  {
   "cell_type": "code",
   "execution_count": 157,
   "metadata": {},
   "outputs": [
    {
     "data": {
      "text/plain": [
       "['Ian', 'Martin']"
      ]
     },
     "execution_count": 157,
     "metadata": {},
     "output_type": "execute_result"
    }
   ],
   "source": [
    "dlist = [{'Bilbo':'Ian', 'Frodo':'Elijah'}, {'Bilbo':'Martin', 'Thorin':'Richard'}]\n",
    "k = 'Bilbo'\n",
    "[d[k] if k in d else 'NOT PRESENT' for d in dlist]"
   ]
  },
  {
   "cell_type": "code",
   "execution_count": 158,
   "metadata": {},
   "outputs": [
    {
     "data": {
      "text/plain": [
       "['Elijah', 'NOT PRESENT']"
      ]
     },
     "execution_count": 158,
     "metadata": {},
     "output_type": "execute_result"
    }
   ],
   "source": [
    "k = 'Frodo'\n",
    "[d[k] if k in d else 'NOT PRESENT' for d in dlist]"
   ]
  },
  {
   "cell_type": "markdown",
   "metadata": {},
   "source": [
    "### 딕셔너리 변경하기 =의 왼쪽에 인덱싱 사용\n",
    "- 딕셔너리는 변경 가능하다.\n",
    "- 새로운 또는 예전 키를 주어진 값에 매핑할 수 있다."
   ]
  },
  {
   "cell_type": "code",
   "execution_count": 160,
   "metadata": {},
   "outputs": [
    {
     "name": "stdout",
     "output_type": "stream",
     "text": [
      "{'Neo': 'Philip', 'Morpheus': 'Laurence', 'Trinity': 'Carrie-Anne', 'Agent Smith': 'Hugo'}\n"
     ]
    }
   ],
   "source": [
    "mydict['Agent Smith'] = 'Hugo'\n",
    "mydict['Neo'] = 'Philip'\n",
    "print(mydict)"
   ]
  },
  {
   "cell_type": "markdown",
   "metadata": {},
   "source": [
    "### 딕셔너리 컴프리헨션"
   ]
  },
  {
   "cell_type": "code",
   "execution_count": 161,
   "metadata": {},
   "outputs": [
    {
     "data": {
      "text/plain": [
       "{3: 2, 4: 0, 100: 1}"
      ]
     },
     "execution_count": 161,
     "metadata": {},
     "output_type": "execute_result"
    }
   ],
   "source": [
    "{k:v for (k, v) in [(3,2), (4,0), (100,1)]}"
   ]
  },
  {
   "cell_type": "code",
   "execution_count": 163,
   "metadata": {},
   "outputs": [
    {
     "name": "stdout",
     "output_type": "stream",
     "text": [
      "{(1, 1): 1, (1, 2): 2, (1, 3): 3, (2, 1): 2, (2, 2): 4, (2, 3): 6, (3, 1): 3, (3, 2): 6, (3, 3): 9}\n"
     ]
    }
   ],
   "source": [
    "print({(x,y):x*y for x in [1,2,3] for y in [1,2,3]})"
   ]
  },
  {
   "cell_type": "markdown",
   "metadata": {},
   "source": [
    "### Task 1.5.23\n",
    "range를 사용하여 그 결과 값이 딕셔너리인 컴프리헨션을 작성해 보자. 키는 0에서 99까지의 정수이고 키에 대응하는 값으 그 키의 제곱이 되어야 한다."
   ]
  },
  {
   "cell_type": "code",
   "execution_count": 165,
   "metadata": {},
   "outputs": [
    {
     "name": "stdout",
     "output_type": "stream",
     "text": [
      "{0: 0, 1: 1, 2: 4, 3: 9, 4: 16, 5: 25, 6: 36, 7: 49, 8: 64, 9: 81, 10: 100, 11: 121, 12: 144, 13: 169, 14: 196, 15: 225, 16: 256, 17: 289, 18: 324, 19: 361, 20: 400, 21: 441, 22: 484, 23: 529, 24: 576, 25: 625, 26: 676, 27: 729, 28: 784, 29: 841, 30: 900, 31: 961, 32: 1024, 33: 1089, 34: 1156, 35: 1225, 36: 1296, 37: 1369, 38: 1444, 39: 1521, 40: 1600, 41: 1681, 42: 1764, 43: 1849, 44: 1936, 45: 2025, 46: 2116, 47: 2209, 48: 2304, 49: 2401, 50: 2500, 51: 2601, 52: 2704, 53: 2809, 54: 2916, 55: 3025, 56: 3136, 57: 3249, 58: 3364, 59: 3481, 60: 3600, 61: 3721, 62: 3844, 63: 3969, 64: 4096, 65: 4225, 66: 4356, 67: 4489, 68: 4624, 69: 4761, 70: 4900, 71: 5041, 72: 5184, 73: 5329, 74: 5476, 75: 5625, 76: 5776, 77: 5929, 78: 6084, 79: 6241, 80: 6400, 81: 6561, 82: 6724, 83: 6889, 84: 7056, 85: 7225, 86: 7396, 87: 7569, 88: 7744, 89: 7921, 90: 8100, 91: 8281, 92: 8464, 93: 8649, 94: 8836, 95: 9025, 96: 9216, 97: 9409, 98: 9604, 99: 9801}\n"
     ]
    }
   ],
   "source": [
    "print({n:n*n for n in range(100)})"
   ]
  },
  {
   "cell_type": "markdown",
   "metadata": {},
   "source": [
    "### Task 1.5.24\n",
    "변수 D에 어떤 집합을 할당해 보자 D={'red', 'white', 'blue'}. 그 다음에, D에 대한 항등함수를 나타내는 딕셔너리를 평가하는 컴프리헨션을 작성해 보자."
   ]
  },
  {
   "cell_type": "code",
   "execution_count": 166,
   "metadata": {},
   "outputs": [
    {
     "data": {
      "text/plain": [
       "{'blue': 'blue', 'red': 'red', 'white': 'white'}"
      ]
     },
     "execution_count": 166,
     "metadata": {},
     "output_type": "execute_result"
    }
   ],
   "source": [
    "D = {'red', 'white', 'blue'}\n",
    "{k:k for k in D}"
   ]
  },
  {
   "cell_type": "markdown",
   "metadata": {},
   "source": [
    "### Task 1.5.25\n",
    "변수 base=10, digits=set(range(base))를 사용하여 딕셔너리 컴프리헨션을 작성해 보자. 이 컴프리헨션은 0과 99사이의 각 정수를 10진수로 표시한 정수의 각 자리를 나타내는 세 개의 자릿수로 이루어진 리스트에 매핑한다. 이 컴프리헨션의 결과 값은 다음과 같아야 한다.\n",
    "{0: [0, 0, 0], 1:[0, 0, 1], 2:[0, 0, 2], .... 999:[9, 9, 9]}\n",
    "작성한 표현식은 사용한 수 체게의 기수(base)가 무었이든 상관없이 동작해야 한다. 예를 들어, 변수 bsae에 2를 할당하고 {0, 1}을 digits에 할당할 경우, 컴프리헨션의 결과값은 다음과 같아야 한다.\n",
    "{0: [0, 0, 0], 1:[0, 0, 1], 2:[0, 1, 0], ... 7:[1, 1, 1]}"
   ]
  },
  {
   "cell_type": "code",
   "execution_count": 175,
   "metadata": {},
   "outputs": [
    {
     "name": "stdout",
     "output_type": "stream",
     "text": [
      "base=2: {0: [0, 0, 0], 1: [0, 0, 1], 2: [0, 1, 0], 3: [0, 1, 1], 4: [1, 0, 0], 5: [1, 0, 1], 6: [1, 1, 0], 7: [1, 1, 1]}\n"
     ]
    }
   ],
   "source": [
    "base = 10\n",
    "digits = set(range(base))\n",
    "dict10 = {k:[k//base//base, k//base%base, k%base] for k in range(base**3)}\n",
    "\n",
    "base = 2\n",
    "digits = set(range(base))\n",
    "dict2 = {k:[k//base//base, k//base%base, k%base] for k in range(base**3)}\n",
    "\n",
    "print('base=2:', dict2)"
   ]
  },
  {
   "cell_type": "markdown",
   "metadata": {},
   "source": [
    "### 딕셔너리에 대해 이터레이션 하는 컴프리헨션\n",
    "- keys(), values()를 사용하여 딕셔너리의 키 또는 값에 대해 이터레이션하는 리스트 컴프리헨션을 작성할 수 있다.\n",
    "- keys()에 합집합, 교집합 연산자 사용이 가능하다.\n",
    "- 많은 경우, items()를 사용하여 딕셔너리의 (키, 값) 쌍에 대한 컴프리헨션을 작성하기를 원할 것이다."
   ]
  },
  {
   "cell_type": "code",
   "execution_count": 176,
   "metadata": {},
   "outputs": [
    {
     "data": {
      "text/plain": [
       "[8, 6]"
      ]
     },
     "execution_count": 176,
     "metadata": {},
     "output_type": "execute_result"
    }
   ],
   "source": [
    "[2*x for x in {4:'a', 3:'b'}.keys()]"
   ]
  },
  {
   "cell_type": "code",
   "execution_count": 177,
   "metadata": {},
   "outputs": [
    {
     "data": {
      "text/plain": [
       "['a', 'b']"
      ]
     },
     "execution_count": 177,
     "metadata": {},
     "output_type": "execute_result"
    }
   ],
   "source": [
    "[x for x in {4:'a', 3:'b'}.values()]"
   ]
  },
  {
   "cell_type": "code",
   "execution_count": 178,
   "metadata": {},
   "outputs": [
    {
     "data": {
      "text/plain": [
       "['a', 'c', 'b']"
      ]
     },
     "execution_count": 178,
     "metadata": {},
     "output_type": "execute_result"
    }
   ],
   "source": [
    "[k for k in {'a':1, 'b':2}.keys() | {'b':3, 'c':4}.keys()]"
   ]
  },
  {
   "cell_type": "code",
   "execution_count": 181,
   "metadata": {},
   "outputs": [
    {
     "data": {
      "text/plain": [
       "['b']"
      ]
     },
     "execution_count": 181,
     "metadata": {},
     "output_type": "execute_result"
    }
   ],
   "source": [
    "[k for k in {'a':1, 'b':2}.keys() & {'b':3, 'c':4}.keys()]"
   ]
  },
  {
   "cell_type": "code",
   "execution_count": 183,
   "metadata": {},
   "outputs": [
    {
     "name": "stdout",
     "output_type": "stream",
     "text": [
      "[('Neo', 'Philip'), ('Morpheus', 'Laurence'), ('Trinity', 'Carrie-Anne'), ('Agent Smith', 'Hugo')]\n"
     ]
    }
   ],
   "source": [
    "print([myitem for myitem in mydict.items()])"
   ]
  },
  {
   "cell_type": "code",
   "execution_count": 184,
   "metadata": {},
   "outputs": [
    {
     "data": {
      "text/plain": [
       "['Neo is played by Philip',\n",
       " 'Morpheus is played by Laurence',\n",
       " 'Trinity is played by Carrie-Anne',\n",
       " 'Agent Smith is played by Hugo']"
      ]
     },
     "execution_count": 184,
     "metadata": {},
     "output_type": "execute_result"
    }
   ],
   "source": [
    "[k + ' is played by ' + v for (k,v) in mydict.items()]"
   ]
  },
  {
   "cell_type": "markdown",
   "metadata": {},
   "source": [
    "### Task 1.5.26\n",
    "어떤 직원들의 ID(0에서 n-1까지 정수들의 부분 집합)를 급여에 매핑하는 딕셔너리를 d라고 하자. 그리고 L은 n-원소 리스트이고, 이 중 i번째 원소는 직원 번호 i의 이름이라고 하자. 직원 이름을 급여에 매핑하는 딕셔너리가 되는 컴프리헨션을 작성해 보자. 이때, 직원 이름은 모두 다르다고 가정할 수 있다. 하지만 모든 직원 ID가 d에 있는 것은 아니다. 작성한 컴프리헨션을 다음 데이터를 사용하여 테스트 해보자."
   ]
  },
  {
   "cell_type": "code",
   "execution_count": 188,
   "metadata": {},
   "outputs": [
    {
     "data": {
      "text/plain": [
       "{'Larry': 1000.0, 'More': 990, 'curly': 1200.5}"
      ]
     },
     "execution_count": 188,
     "metadata": {},
     "output_type": "execute_result"
    }
   ],
   "source": [
    "id2salary = {0:1000.0, 3:990, 1:1200.50}\n",
    "names = ['Larry', 'curly', '', 'More']\n",
    "{names[k]:v for (k, v) in id2salary.items()}"
   ]
  },
  {
   "cell_type": "markdown",
   "metadata": {},
   "source": [
    "## 1.5.9 한 줄로 된 프로시저 정의하기"
   ]
  },
  {
   "cell_type": "raw",
   "metadata": {},
   "source": [
    "- 프로시저가 호출될 때 입력 인수는 임시로 실제 입력값에 바인딩되고, 프로시저의 몸체가 실행된다. 마지막에, 실제 입력 값에 대한 바인딩이 제거된다."
   ]
  },
  {
   "cell_type": "markdown",
   "metadata": {},
   "source": [
    "### Task 1.5.27\n",
    "twice(z)의 정의를 타이핑하여 입력하자. 정의가 입력된 후 생략 부호(ellipsis)가 나타날 것이다. 이때, 엔터키를 누르자. 그 다음에, 어떤 실제 입력값을 가지고 프로시저를 호출해 보자. 재미삼아 문자열 또는 리스트를 사용해 보자. 마지막으로 파이썬 변수 z가 포함된 표현식을 평가하게 하여 z가 어느 값에도 바인딩되어 있지 않음을 확인해보자."
   ]
  },
  {
   "cell_type": "code",
   "execution_count": 200,
   "metadata": {},
   "outputs": [
    {
     "data": {
      "text/plain": [
       "4"
      ]
     },
     "execution_count": 200,
     "metadata": {},
     "output_type": "execute_result"
    }
   ],
   "source": [
    "def twice(z): return 2*z\n",
    "twice(2)"
   ]
  },
  {
   "cell_type": "code",
   "execution_count": 201,
   "metadata": {},
   "outputs": [
    {
     "data": {
      "text/plain": [
       "'twotwo'"
      ]
     },
     "execution_count": 201,
     "metadata": {},
     "output_type": "execute_result"
    }
   ],
   "source": [
    "twice('two')"
   ]
  },
  {
   "cell_type": "markdown",
   "metadata": {},
   "source": [
    "### Task 1.5.28\n",
    "다음과 같이 명시된 한 줄로 된 프로시저, nextInts(L)를 정의해 보자.\n",
    "- input: 정수들의 리스트L\n",
    "- output: 정수들의 리스트. 이 리스트의 i번째 원소는L의 i번째 원소보다 1 더 크다.\n",
    "- example: 입력 [1,5,7], 출력[2,6,8]."
   ]
  },
  {
   "cell_type": "code",
   "execution_count": 203,
   "metadata": {},
   "outputs": [
    {
     "data": {
      "text/plain": [
       "[2, 6, 8]"
      ]
     },
     "execution_count": 203,
     "metadata": {},
     "output_type": "execute_result"
    }
   ],
   "source": [
    "def netInts(L): return [l+1 for l in L]\n",
    "\n",
    "L = [1,5,7]\n",
    "netInts(L)"
   ]
  },
  {
   "cell_type": "markdown",
   "metadata": {},
   "source": [
    "### Task 1.5.29\n",
    "다음과 같이 명시도니 한 줄로 된 프로시저, cubes(L)을 정의해 보자.\n",
    "- input: 숫자들의 리스트트 L\n",
    "- output: 숫자들의 리스트, 이 리스트의 i번째 원소는 L의 i번째 원소의 세제곱이다.\n",
    "- example: 입력 [1,2,3], 출력 [1,8,27]"
   ]
  },
  {
   "cell_type": "code",
   "execution_count": 204,
   "metadata": {},
   "outputs": [
    {
     "data": {
      "text/plain": [
       "[1, 8, 27]"
      ]
     },
     "execution_count": 204,
     "metadata": {},
     "output_type": "execute_result"
    }
   ],
   "source": [
    "def cubes(L): return [l**3 for l in L]\n",
    "\n",
    "L = [1, 2, 3]\n",
    "cubes(L)"
   ]
  },
  {
   "cell_type": "markdown",
   "metadata": {},
   "source": [
    "### Task 1.5.30\n",
    "다음 스펙을 가지는 한 줄로 된 프로시저, dict2list(dct, keylist)을 정의해 보자.\n",
    "- input: 딕셔너리 dct의 키들로 구성된 리스트 keylist\n",
    "- output: 리스트 L. 여기서 i=0,1,2,...,len(keylist)-1에 대해 L[i]=dct[keylist[i]]\n",
    "- example: 입력 dct={'a':'A', 'b':'B', 'c':'C'}, keylist=['b', 'c', 'a'], 출력 ['B', 'C', 'A']"
   ]
  },
  {
   "cell_type": "code",
   "execution_count": 205,
   "metadata": {},
   "outputs": [
    {
     "data": {
      "text/plain": [
       "['B', 'C', 'A']"
      ]
     },
     "execution_count": 205,
     "metadata": {},
     "output_type": "execute_result"
    }
   ],
   "source": [
    "def dict2list(dct, keylist): return [dct[key] for key in keylist]\n",
    "\n",
    "dct={'a':'A', 'b':'B', 'c':'C'}\n",
    "keylist=['b', 'c', 'a']\n",
    "dict2list(dct, keylist)"
   ]
  },
  {
   "cell_type": "markdown",
   "metadata": {},
   "source": [
    "### Task 1.5.31\n",
    "다음과 같이 명시된 한 줄로 된 프로시저, list2dict(L, keylist)을 정의해 보자.\n",
    "- input: 리스트 L, 변경 불가능한 원소들의 리스트 keylist\n",
    "- output: i = 0,1,2,...,len(L)-1에 대해, keylist[i]를 L[i]에 매핑하는 딕셔너리\n",
    "- example: 입력 L = ['A', 'B', 'C'], keylist=['a','b','c'], 출력 {'a':'A', 'b':'B', 'c':'C'}\n",
    "\n",
    "힌트 zip 또는 range에 대해 컴프리헨션 적용"
   ]
  },
  {
   "cell_type": "code",
   "execution_count": 207,
   "metadata": {},
   "outputs": [
    {
     "data": {
      "text/plain": [
       "{'a': 'A', 'b': 'B', 'c': 'C'}"
      ]
     },
     "execution_count": 207,
     "metadata": {},
     "output_type": "execute_result"
    }
   ],
   "source": [
    "def list2dict(L, keylist): return {k:v for (k,v) in zip(keylist, L)}\n",
    "\n",
    "L = ['A', 'B', 'C']\n",
    "keylist=['a','b','c']\n",
    "list2dict(L, keylist)"
   ]
  },
  {
   "cell_type": "markdown",
   "metadata": {},
   "source": [
    "### Task 1.5.32\n",
    "다음 스펙을 가지는 프로시저, all_3_digit_numbers(base, digits)을 작성해보자.\n",
    "- input: 양의 정수 base, 원소가 {0,1,2,...,base-1}인 집합 digits\n",
    "- output: 기수가 base 인 3개의 자릿수로 이루어진 모든 숫자들의 집합"
   ]
  },
  {
   "cell_type": "code",
   "execution_count": 212,
   "metadata": {},
   "outputs": [
    {
     "name": "stdout",
     "output_type": "stream",
     "text": [
      "{0, 1, 2, 3, 4, 5, 6, 7}\n",
      "{0, 1, 2, 3, 4, 5, 6, 7, 8, 9, 10, 11, 12, 13, 14, 15, 16, 17, 18, 19, 20, 21, 22, 23, 24, 25, 26}\n"
     ]
    }
   ],
   "source": [
    "def all_3_digit_number(base, digits): return {n for n in range(base**3)}\n",
    "\n",
    "print(all_3_digit_number(2, {0, 1}))\n",
    "print(all_3_digit_number(3, {0, 1, 2}))"
   ]
  },
  {
   "cell_type": "markdown",
   "metadata": {},
   "source": [
    "# 1.6 Lab:파이썬-모듈 및 제어 구조-역 인덱스"
   ]
  },
  {
   "cell_type": "markdown",
   "metadata": {},
   "source": [
    "## 1.6.1 기존 모듈 사용하기"
   ]
  },
  {
   "cell_type": "markdown",
   "metadata": {},
   "source": [
    "### Task 1.6.1\n",
    "다음 명령을 사용하여 math 모듈을 임포트해 보자."
   ]
  },
  {
   "cell_type": "code",
   "execution_count": 213,
   "metadata": {
    "collapsed": true,
    "scrolled": true
   },
   "outputs": [],
   "source": [
    "import math\n",
    "#help(math)"
   ]
  },
  {
   "cell_type": "code",
   "execution_count": 4,
   "metadata": {},
   "outputs": [
    {
     "name": "stdout",
     "output_type": "stream",
     "text": [
      "2.9999999999999996\n",
      "-1.0\n",
      "1.0\n"
     ]
    }
   ],
   "source": [
    "print(math.sqrt(3)**2)\n",
    "print(math.cos(math.pi))\n",
    "print(math.log(math.e))"
   ]
  },
  {
   "cell_type": "markdown",
   "metadata": {},
   "source": [
    "- from <모듈 이름> import <항목 이름>"
   ]
  },
  {
   "cell_type": "markdown",
   "metadata": {},
   "source": [
    "### Task 1.6.2\n",
    "모듈 random은 {a, a+1,...,b} 사이에서 균등하고 랜덤하게 선택된 점수를 리턴하는 프로시저 randint(a,b)를 정의한다. 다음 명령을 사용하여 이 프로시저를 임포트해보자.\n",
    "\n",
    "from random import randint\n",
    "\n",
    "randint를 몇 번 호출해 보자. 그런 다음에 한 줄로 된 프로시저 movie_review(영화 이름)을 작성해 보자. 이 프로시저는 영화 이름을 나타내는 문자열을 입력 인수로 받아 들여 두 개 이상의 가능한 문자열 사이에서 균등하게 선택된 문자열을 리턴한다."
   ]
  },
  {
   "cell_type": "code",
   "execution_count": 222,
   "metadata": {},
   "outputs": [
    {
     "data": {
      "text/plain": [
       "5"
      ]
     },
     "execution_count": 222,
     "metadata": {},
     "output_type": "execute_result"
    }
   ],
   "source": [
    "from random import randint\n",
    "randint(1, 10)"
   ]
  },
  {
   "cell_type": "code",
   "execution_count": 229,
   "metadata": {},
   "outputs": [
    {
     "data": {
      "text/plain": [
       "'A gem!'"
      ]
     },
     "execution_count": 229,
     "metadata": {},
     "output_type": "execute_result"
    }
   ],
   "source": [
    "def movie_review(title): return ['See it!', 'A gem!', 'Ideological claptrap!'][randint(0, 2)]\n",
    "\n",
    "movie_review('matrix')"
   ]
  },
  {
   "cell_type": "markdown",
   "metadata": {},
   "source": [
    "## 1.6.2 모듈 작성하기"
   ]
  },
  {
   "cell_type": "markdown",
   "metadata": {},
   "source": [
    "- 모듈 이름의 파일에 프로시저에 대한 정의와 변수 할당을 텍스트로 작성하고, 파일 이름 뒤에 .py를 붙이면 된다."
   ]
  },
  {
   "cell_type": "markdown",
   "metadata": {},
   "source": [
    "### Task 1.6.3\n",
    "http://resource.condingthematrix.com 에서 제공된 dictutil.py 파일을 편집하여, pass가 나타날 때마다 적절한 서술문으로 대체하자."
   ]
  },
  {
   "cell_type": "code",
   "execution_count": 1,
   "metadata": {},
   "outputs": [
    {
     "name": "stdout",
     "output_type": "stream",
     "text": [
      "['B', 'C', 'A']\n",
      "{'a': 'A', 'c': 'C', 'b': 'B'}\n"
     ]
    }
   ],
   "source": [
    "import dictutil\n",
    "\n",
    "print(dictutil.dict2list({'a':'A', 'b':'B', 'c':'C'}, ['b', 'c', 'a']))\n",
    "print(dictutil.list2dict(['A', 'B', 'C'], ['a', 'b', 'c']))"
   ]
  },
  {
   "cell_type": "markdown",
   "metadata": {},
   "source": [
    "### Task 1.6.4\n",
    "dictutil.py을 편집하자. 다음 스펙을 가지는 프로시저 listrange2dict(L)을 정의해 보자.\n",
    "- input: 리스트 L\n",
    "- output: i=0,1,2,...,len(L)-1에 대해 i를 L[i]에 매핑하는 딕셔너리"
   ]
  },
  {
   "cell_type": "code",
   "execution_count": 5,
   "metadata": {},
   "outputs": [
    {
     "data": {
      "text/plain": [
       "{0: 'A', 1: 'B', 2: 'C'}"
      ]
     },
     "execution_count": 5,
     "metadata": {},
     "output_type": "execute_result"
    }
   ],
   "source": [
    "from imp import reload\n",
    "\n",
    "reload(dictutil)\n",
    "dictutil.listrange2dict(['A', 'B', 'C'])"
   ]
  },
  {
   "cell_type": "markdown",
   "metadata": {},
   "source": [
    "## 1.6.3 루프와 조건문"
   ]
  },
  {
   "cell_type": "markdown",
   "metadata": {},
   "source": [
    "- for 루프\n",
    "- while 루프\n",
    "- 조건문(조건 표현식과는 다름)"
   ]
  },
  {
   "cell_type": "markdown",
   "metadata": {},
   "source": [
    "##  1.6.4 들여쓰기(Indentation)를 이용한 파이썬의 그룹화"
   ]
  },
  {
   "cell_type": "markdown",
   "metadata": {},
   "source": [
    "- 어떤 블록을 구성하는 모든 문장은 동일한 수만큼 들여 써야 한다.\n",
    "- 루프 블록이 끝나도 바인딩은 유지된다."
   ]
  },
  {
   "cell_type": "markdown",
   "metadata": {},
   "source": [
    "### Task 1.6.5\n",
    "위의 for루프를 파이썬에 타이핑하여 입력해 보자."
   ]
  },
  {
   "cell_type": "code",
   "execution_count": 230,
   "metadata": {},
   "outputs": [
    {
     "name": "stdout",
     "output_type": "stream",
     "text": [
      "1\n",
      "4\n",
      "9\n",
      "binding x: 3\n",
      "binding y: 9\n"
     ]
    }
   ],
   "source": [
    "for x in [1,2,3]:\n",
    "    y = x*x\n",
    "    print(y)\n",
    "print('binding x:', x)\n",
    "print('binding y:', y)"
   ]
  },
  {
   "cell_type": "markdown",
   "metadata": {},
   "source": [
    "##  1.6.5 루프에서 빠져나오기"
   ]
  },
  {
   "cell_type": "markdown",
   "metadata": {},
   "source": [
    "- 파이썬은 break 문을 샐행할 경우 루프 실행을 종료하고 그 break문을 포함하는 가장 안쪽 중첩 루프 바로 다음에서 실행을 계속한다."
   ]
  },
  {
   "cell_type": "code",
   "execution_count": 231,
   "metadata": {},
   "outputs": [
    {
     "data": {
      "text/plain": [
       "9"
      ]
     },
     "execution_count": 231,
     "metadata": {},
     "output_type": "execute_result"
    }
   ],
   "source": [
    "s = 'There is no spoon.'\n",
    "for i in range(len(s)):\n",
    "    if s[i] == 'n':\n",
    "        break\n",
    "i"
   ]
  },
  {
   "cell_type": "markdown",
   "metadata": {},
   "source": [
    "## 1.6.6 파일로부터 읽어 오기"
   ]
  },
  {
   "cell_type": "markdown",
   "metadata": {},
   "source": [
    "- 파이썬에서 file객체는 파일을 참조하거나 액세스하는 데 사용된다.\n",
    "- 컴프리헨션 또는 for루프를 사용하여 파일 내의 각 라인을 반복적으로 액세스할 수 있다.\n",
    "- list()를 사용하여 파일 내의 라인들로 이루어진 리스트를 구할 수 있다.\n",
    "- 같은 파일로부터 다시 읽어 오기 위해서는 먼저 open을 다시 호출하여 새로운 파일 객체를 생성하는 것이 필요하다."
   ]
  },
  {
   "cell_type": "code",
   "execution_count": 235,
   "metadata": {
    "scrolled": false
   },
   "outputs": [
    {
     "name": "stdout",
     "output_type": "stream",
     "text": [
      "A prep course for the month-long World Cup soccer tournament , a worldwide phenomenon to be played in the United States for the first time beginning June 17 , is available in a set of three home videos . Each of the three volumes by PolyGram Video lists for $ 14.95 and has a running time of about 60 minutes . The three volumes : `` World Cup USA '94 : The Official Preview , '' which includes a tournament history with footage all the way back to the first World Cup held in 1930 . There 's a look at the training of the 1994 U.S. team and a profile of Brazil 's Pele , just 17 when he took the 1958 event by storm , repeating in 1962 and 1970 . `` Top 50 Great World Cup Goals , '' highlighting exciting moments from competition beginning in 1966 with favorites such as Pele , Johan Cruyff , Diego Maradona , Roberto Baggio , Salvatore `` Toto '' Schillaci and Franz Beckenbauer . `` Great World Cup Superstars , '' focusing on the top names in the game , featured in the `` Goals '' cassette , and adding some interviews that offer an insight into what makes these stars shine . Three new basketball videos available : `` Sir Charles '' takes a look at the on-court intensity and dynamic skills of Charles Barkley of the Phoenix Suns as well as his entertaining off-court persona. $ 19.98 , 50 minutes , 1-800-999-VIDEO . `` NBA Superstars 3 '' follows up on two previous hit videos meshing the moves of the NBA 's elite with today 's hit music . This one includes Kenny Anderson , Steve Smith , Derrick Coleman , Larry Johnson , Dan Majerle , Alonzo Mourning , Hakeem Olajuwon , Mark Price , Shawn Kemp , Isiah Thomas and Joe Dumars . Their play is matched with the music of Erick Sermon , M People , LL Cool J , Celine Dion , Domino , Soulhat , Soul Asylum , Buckshot LeFonque , Branford Marsalis , Pearl Jam and Rozella. $ 19.98 , 50 minutes , 1-800-999-VIDEO . `` Hog Wild : The Official 1994 NCAA Championship Video '' recaptures the excitement of the latest edition of March Madness and Arkansas 's march to the title with rousing victories over Michigan , Arizona and Duke in the three final games. $ 19.98 , 45 minutes , 1-800-747-7999 .\n",
      "\n"
     ]
    }
   ],
   "source": [
    "f = open('stories_big.txt')\n",
    "\n",
    "for line in f:\n",
    "    print(line)\n",
    "    break"
   ]
  },
  {
   "cell_type": "code",
   "execution_count": 6,
   "metadata": {},
   "outputs": [
    {
     "name": "stdout",
     "output_type": "stream",
     "text": [
      "A prep course for the month-long World Cup soccer tournament , a worldwide phenomenon to be played in the United States for the first time beginning June 17 , is available in a set of three home videos . Each of the three volumes by PolyGram Video lists for $ 14.95 and has a running time of about 60 minutes . The three volumes : `` World Cup USA '94 : The Official Preview , '' which includes a tournament history with footage all the way back to the first World Cup held in 1930 . There 's a look at the training of the 1994 U.S. team and a profile of Brazil 's Pele , just 17 when he took the 1958 event by storm , repeating in 1962 and 1970 . `` Top 50 Great World Cup Goals , '' highlighting exciting moments from competition beginning in 1966 with favorites such as Pele , Johan Cruyff , Diego Maradona , Roberto Baggio , Salvatore `` Toto '' Schillaci and Franz Beckenbauer . `` Great World Cup Superstars , '' focusing on the top names in the game , featured in the `` Goals '' cassette , and adding some interviews that offer an insight into what makes these stars shine . Three new basketball videos available : `` Sir Charles '' takes a look at the on-court intensity and dynamic skills of Charles Barkley of the Phoenix Suns as well as his entertaining off-court persona. $ 19.98 , 50 minutes , 1-800-999-VIDEO . `` NBA Superstars 3 '' follows up on two previous hit videos meshing the moves of the NBA 's elite with today 's hit music . This one includes Kenny Anderson , Steve Smith , Derrick Coleman , Larry Johnson , Dan Majerle , Alonzo Mourning , Hakeem Olajuwon , Mark Price , Shawn Kemp , Isiah Thomas and Joe Dumars . Their play is matched with the music of Erick Sermon , M People , LL Cool J , Celine Dion , Domino , Soulhat , Soul Asylum , Buckshot LeFonque , Branford Marsalis , Pearl Jam and Rozella. $ 19.98 , 50 minutes , 1-800-999-VIDEO . `` Hog Wild : The Official 1994 NCAA Championship Video '' recaptures the excitement of the latest edition of March Madness and Arkansas 's march to the title with rousing victories over Michigan , Arizona and Duke in the three final games. $ 19.98 , 45 minutes , 1-800-747-7999 .\n",
      "\n",
      "len: 50\n"
     ]
    }
   ],
   "source": [
    "f = open('stories_small.txt')\n",
    "stories = list(f)\n",
    "print(stories[0])\n",
    "print('len:',len(stories))"
   ]
  },
  {
   "cell_type": "markdown",
   "metadata": {},
   "source": [
    "##  1.6.7. 미니 검색 엔진"
   ]
  },
  {
   "cell_type": "markdown",
   "metadata": {},
   "source": [
    "- 문서들로 이루어진 파일이 하나 주어지고, 각 문서는 이 파일의 한 라인을 차지한다. 이때, 주어진 어떤 단어를 포함하는 문서들을 찾아내느 자료구조(역 인덱스)을 만들어 보자\n",
    "- split()은 문자열을 공백으로 나누어 서브 문자열로 분리하고 서브 문자열들의 리스트를 반환한다."
   ]
  },
  {
   "cell_type": "code",
   "execution_count": 1,
   "metadata": {},
   "outputs": [
    {
     "data": {
      "text/plain": [
       "['Ask', 'not', 'what', 'you', 'can', 'do', 'for', 'your', 'country.']"
      ]
     },
     "execution_count": 1,
     "metadata": {},
     "output_type": "execute_result"
    }
   ],
   "source": [
    "mystr = 'Ask not what you can do for your country.'\n",
    "mystr.split()"
   ]
  },
  {
   "cell_type": "markdown",
   "metadata": {},
   "source": [
    "- enumerlate()는 인덱스를 추적하면서 원소들 각각에 대해 이터레이션을 하고자 할때 사용된다."
   ]
  },
  {
   "cell_type": "code",
   "execution_count": 2,
   "metadata": {},
   "outputs": [
    {
     "data": {
      "text/plain": [
       "[(0, 'A'), (1, 'B'), (2, 'C')]"
      ]
     },
     "execution_count": 2,
     "metadata": {},
     "output_type": "execute_result"
    }
   ],
   "source": [
    "list(enumerate(['A', 'B', 'C']))"
   ]
  },
  {
   "cell_type": "code",
   "execution_count": 3,
   "metadata": {},
   "outputs": [
    {
     "data": {
      "text/plain": [
       "[0, 20, 60, 120, 200]"
      ]
     },
     "execution_count": 3,
     "metadata": {},
     "output_type": "execute_result"
    }
   ],
   "source": [
    "[i*x for (i,x) in enumerate([10, 20, 30, 40, 50])]"
   ]
  },
  {
   "cell_type": "code",
   "execution_count": 4,
   "metadata": {},
   "outputs": [
    {
     "data": {
      "text/plain": [
       "['', 'B', 'CC', 'DDD', 'EEEE']"
      ]
     },
     "execution_count": 4,
     "metadata": {},
     "output_type": "execute_result"
    }
   ],
   "source": [
    "[i*s for (i,s) in enumerate(['A', 'B', 'C', 'D', 'E'])]"
   ]
  },
  {
   "cell_type": "markdown",
   "metadata": {},
   "source": [
    "### Task 1.6.6\n",
    "주어진 문자열(문서)들의 리스트에 대해 딕셔너리를 리턴하는 프로시저, makeInverseIndex(strlist)을 작성해 보자. 이때, 반화되는 딕셔너리는 각 단어를 그 단어가 나타나는 문서들의 문서 번호로 이루어진 집합으로 매핑한다. 이러한 딕셔너리를 역 인텍스 자료 구조하고 한다. (힌트: enumerate)"
   ]
  },
  {
   "cell_type": "code",
   "execution_count": 28,
   "metadata": {
    "scrolled": true
   },
   "outputs": [
    {
     "name": "stdout",
     "output_type": "stream",
     "text": [
      "[('A', {0, 1, 3, 7, 8, 9, 11, 12, 14, 17, 18, 22, 24, 25, 26, 30, 32, 33, 35, 36, 38, 40, 41, 49}), ('prep', {0, 17}), ('course', {0, 2, 3, 4, 5, 9, 10, 13, 47, 17, 18, 49, 20})]\n"
     ]
    }
   ],
   "source": [
    "def makeInverseIndex(strlist): \n",
    "    inv_idx = {}\n",
    "    for (i, doc) in enumerate(strlist):\n",
    "        for word in doc.split():\n",
    "            if word in inv_idx:\n",
    "                inv_idx[word].add(i)\n",
    "            else:\n",
    "                inv_idx[word] = set()\n",
    "                inv_idx[word].add(i)            \n",
    "    return inv_idx\n",
    "\n",
    "f = open('stories_small.txt')\n",
    "strlist = list(f)\n",
    "inv_idx = makeInverseIndex(strlist)\n",
    "\n",
    "print(list(inv_idx.items())[:3])"
   ]
  },
  {
   "cell_type": "markdown",
   "metadata": {},
   "source": [
    "### Task 1.6.7\n",
    "역 인덱스와 질의 단어들의 리스트를 받아 들여 질의에 들어 있는 임의의 단어를 포함하는 모든 문서들을 지정하는 문서 번호들의 집합을 리턴하는 프로시저를 작성해 보자."
   ]
  },
  {
   "cell_type": "code",
   "execution_count": 29,
   "metadata": {},
   "outputs": [
    {
     "data": {
      "text/plain": [
       "{0, 2, 3, 4, 5, 9, 10, 13, 17, 18, 20, 47, 49}"
      ]
     },
     "execution_count": 29,
     "metadata": {},
     "output_type": "execute_result"
    }
   ],
   "source": [
    "def orSearch(inverseIndex, query):\n",
    "    doc_ids = set()\n",
    "    for word in query:\n",
    "        if word in inverseIndex:\n",
    "            doc_ids.update(inverseIndex[word])            \n",
    "    return doc_ids\n",
    "\n",
    "quary = ['prep', 'course']\n",
    "doc_ids = orSearch(inv_idx, quary)\n",
    "doc_ids"
   ]
  },
  {
   "cell_type": "markdown",
   "metadata": {},
   "source": [
    "### Task 1.6.8\n",
    "역 인덱스와 질의 단어들의 리스트를 받아 들려 질의에 들어 있는 모든 단어들을 포함하는 모든 문서들을 지정하는 문서 번호들의 집합을 리턴하는 프로시저를 작성해 보자."
   ]
  },
  {
   "cell_type": "code",
   "execution_count": 32,
   "metadata": {},
   "outputs": [
    {
     "data": {
      "text/plain": [
       "{0, 17}"
      ]
     },
     "execution_count": 32,
     "metadata": {},
     "output_type": "execute_result"
    }
   ],
   "source": [
    "def andSearch(inverseIndex, query):\n",
    "    doc_ids = set()\n",
    "    if query[0] in inverseIndex:\n",
    "        doc_ids = inverseIndex[query[0]]\n",
    "        for word in query[1:]:\n",
    "            if word in inverseIndex:\n",
    "                doc_ids = doc_ids & inverseIndex[word]\n",
    "            else:\n",
    "                doc_ids = set()\n",
    "                break;           \n",
    "    return doc_ids\n",
    "\n",
    "query = ['prep', 'course']\n",
    "doc_ids = andSearch(inv_idx, query)\n",
    "doc_ids"
   ]
  },
  {
   "cell_type": "markdown",
   "metadata": {},
   "source": [
    "# 1.7 Review questions"
   ]
  },
  {
   "cell_type": "markdown",
   "metadata": {},
   "source": [
    "### Q) $f:D \\longrightarrow F$는 무엇을 의미하는가?"
   ]
  },
  {
   "cell_type": "markdown",
   "metadata": {},
   "source": [
    "정의역 D에서 공역 F로의 함수 F를 정의한다."
   ]
  },
  {
   "cell_type": "markdown",
   "metadata": {},
   "source": [
    "### Q) 함수 f가 가역함수가 될 조건은 무엇인가? "
   ]
  },
  {
   "cell_type": "markdown",
   "metadata": {},
   "source": [
    "단사 함수(one-to-one)이면서 전사함수(onto)"
   ]
  },
  {
   "cell_type": "markdown",
   "metadata": {},
   "source": [
    "### Q) 함수 합성에서 결합성은 무엇인가?"
   ]
  },
  {
   "cell_type": "markdown",
   "metadata": {},
   "source": [
    "$h\\circ (g\\circ f)=(h\\circ g)\\circ f$"
   ]
  },
  {
   "cell_type": "markdown",
   "metadata": {},
   "source": [
    "### Q) 어떤 함수가 확률 함수가 될 조건은 무엇인가?"
   ]
  },
  {
   "cell_type": "markdown",
   "metadata": {},
   "source": [
    "함수의 공역(co-domatin)이 $\\mathbb{R^+}$이고 $\\sum{f(x)}=1$ 이어야 한다."
   ]
  },
  {
   "cell_type": "markdown",
   "metadata": {},
   "source": [
    "### Q) 확률이론 기본 원칙은 무엇인가?"
   ]
  },
  {
   "cell_type": "markdown",
   "metadata": {},
   "source": [
    "어떤 사건에 대한 확률은 그 사건을 구성하는 실험결과들에 대한 확률의 합이다."
   ]
  },
  {
   "cell_type": "markdown",
   "metadata": {},
   "source": [
    "### Q) 만일 가역함수의 입력이 균등 분포에 따라 랜덤하게 선택될 경우 출력의 분포는 무엇인가?"
   ]
  },
  {
   "cell_type": "markdown",
   "metadata": {},
   "source": [
    "균등분포(uniform)"
   ]
  },
  {
   "cell_type": "markdown",
   "metadata": {},
   "source": [
    "# 1.8 Problems"
   ]
  },
  {
   "cell_type": "markdown",
   "metadata": {},
   "source": [
    "### Problem 1.8.1\n",
    "- name: Increments(L)\n",
    "- input: 숫자들의 리스트\n",
    "- output: i 번째 원소는 L의 i 번째 원소에 1이 더해진 숫자들의 리스트"
   ]
  },
  {
   "cell_type": "code",
   "execution_count": 33,
   "metadata": {},
   "outputs": [
    {
     "data": {
      "text/plain": [
       "[2, 3, 4]"
      ]
     },
     "execution_count": 33,
     "metadata": {},
     "output_type": "execute_result"
    }
   ],
   "source": [
    "def increments(L): return [x+1 for x in L]\n",
    "\n",
    "L = [1, 2, 3]\n",
    "increments(L)"
   ]
  },
  {
   "cell_type": "markdown",
   "metadata": {},
   "source": [
    "### Problem 1.8.2\n",
    "- name: cubes(L)\n",
    "- input: 숫자들의 리스트\n",
    "- output: 숫자들의 리스트, 이 리스트의 i 번째 원소는 L의 i 번째 원소의 세제곱"
   ]
  },
  {
   "cell_type": "code",
   "execution_count": 34,
   "metadata": {},
   "outputs": [
    {
     "data": {
      "text/plain": [
       "[1, 8, 27]"
      ]
     },
     "execution_count": 34,
     "metadata": {},
     "output_type": "execute_result"
    }
   ],
   "source": [
    "def cubes(L): return [x**3 for x in L]\n",
    "\n",
    "cubes(L)"
   ]
  },
  {
   "cell_type": "markdown",
   "metadata": {},
   "source": [
    "### Problem 1.8.3\n",
    "- name: tuple_sum(A,B)\n",
    "- input: 동일한 길이의 리스트 A와 B, 각 리스트의 원소 각각은 숫자들의 쌍 (x,y)\n",
    "- output: 쌍 (x,y)의 리스트. 이 리스트의 i 번째 쌍의 첫 번째 원소는 A 내 i 번째 쌍의 첫 번째 원소와 B 내 i 번째 쌍의 첫 번째 원소의 합이다."
   ]
  },
  {
   "cell_type": "code",
   "execution_count": 6,
   "metadata": {},
   "outputs": [
    {
     "data": {
      "text/plain": [
       "[(4, 6), (40, 60)]"
      ]
     },
     "execution_count": 6,
     "metadata": {},
     "output_type": "execute_result"
    }
   ],
   "source": [
    "def tuple_sum(A, B): return [(a1+b1, a2+b2) for (a1, a2), (b1, b2) in zip(A, B)]\n",
    "\n",
    "A = [(1, 2), (10, 20)]\n",
    "B = [(3, 4), (30, 40)]\n",
    "tuple_sum(A, B)"
   ]
  },
  {
   "cell_type": "markdown",
   "metadata": {},
   "source": [
    "### Problem 1.8.4\n",
    "- name: inv_dict(d)\n",
    "- input: 가역함수 f를 나타내는 딕셔너리 d\n",
    "- output: 함수 f의 역함수를 나타내는 딕셔너리, 이 딕셔너리의 키는 d의 값이고 그 값은 d의 키이다."
   ]
  },
  {
   "cell_type": "code",
   "execution_count": 36,
   "metadata": {},
   "outputs": [
    {
     "data": {
      "text/plain": [
       "{'au revoir': 'good bye', 'merci': 'thank you'}"
      ]
     },
     "execution_count": 36,
     "metadata": {},
     "output_type": "execute_result"
    }
   ],
   "source": [
    "def inv_dict(d): return {v:x for (x, v) in d.items()}\n",
    "\n",
    "d = {'thank you':'merci', 'good bye':'au revoir'}\n",
    "inv_dict(d)"
   ]
  },
  {
   "cell_type": "markdown",
   "metadata": {},
   "source": [
    "### Problem 1.8.5\n",
    "먼저 다음 스펙을 지키는 프로시저, row(p, n)을 작성해 보자.\n",
    "- input: 정수 p, n\n",
    "- output: n-원소 리스트. 이 리스트의 원소 i는 p+i\n",
    "\n",
    "다음에 그 결과 값이 20-원소 리스트들의 15-원소 리스트인 컴프리센션을 작성해보다. 이때 i 번째 리스트의 j 번째 원소는 i+j 이다. row(p,n)를 컴프리헨션에 사용할 수 있다.\n",
    "마지막으로, 동일한 컴프리센션을 row(p,n)를 사용하지 않고 작성해보자. (힌트 row(p,n)에 대한 호출을 row(p,n)의 몸체를 형성하는 컴프리헨션으로 대체)"
   ]
  },
  {
   "cell_type": "code",
   "execution_count": 37,
   "metadata": {},
   "outputs": [
    {
     "name": "stdout",
     "output_type": "stream",
     "text": [
      "[[0, 1, 2, 3, 4, 5, 6, 7, 8, 9, 10, 11, 12, 13, 14, 15, 16, 17, 18, 19], [1, 2, 3, 4, 5, 6, 7, 8, 9, 10, 11, 12, 13, 14, 15, 16, 17, 18, 19, 20], [2, 3, 4, 5, 6, 7, 8, 9, 10, 11, 12, 13, 14, 15, 16, 17, 18, 19, 20, 21], [3, 4, 5, 6, 7, 8, 9, 10, 11, 12, 13, 14, 15, 16, 17, 18, 19, 20, 21, 22], [4, 5, 6, 7, 8, 9, 10, 11, 12, 13, 14, 15, 16, 17, 18, 19, 20, 21, 22, 23], [5, 6, 7, 8, 9, 10, 11, 12, 13, 14, 15, 16, 17, 18, 19, 20, 21, 22, 23, 24], [6, 7, 8, 9, 10, 11, 12, 13, 14, 15, 16, 17, 18, 19, 20, 21, 22, 23, 24, 25], [7, 8, 9, 10, 11, 12, 13, 14, 15, 16, 17, 18, 19, 20, 21, 22, 23, 24, 25, 26], [8, 9, 10, 11, 12, 13, 14, 15, 16, 17, 18, 19, 20, 21, 22, 23, 24, 25, 26, 27], [9, 10, 11, 12, 13, 14, 15, 16, 17, 18, 19, 20, 21, 22, 23, 24, 25, 26, 27, 28], [10, 11, 12, 13, 14, 15, 16, 17, 18, 19, 20, 21, 22, 23, 24, 25, 26, 27, 28, 29], [11, 12, 13, 14, 15, 16, 17, 18, 19, 20, 21, 22, 23, 24, 25, 26, 27, 28, 29, 30], [12, 13, 14, 15, 16, 17, 18, 19, 20, 21, 22, 23, 24, 25, 26, 27, 28, 29, 30, 31], [13, 14, 15, 16, 17, 18, 19, 20, 21, 22, 23, 24, 25, 26, 27, 28, 29, 30, 31, 32], [14, 15, 16, 17, 18, 19, 20, 21, 22, 23, 24, 25, 26, 27, 28, 29, 30, 31, 32, 33]]\n"
     ]
    }
   ],
   "source": [
    "def row(p, n): return [p+i for i in range(n)]\n",
    "\n",
    "print([row(p, 20) for p in range(15)])"
   ]
  },
  {
   "cell_type": "code",
   "execution_count": 38,
   "metadata": {
    "scrolled": true
   },
   "outputs": [
    {
     "name": "stdout",
     "output_type": "stream",
     "text": [
      "[[0, 1, 2, 3, 4, 5, 6, 7, 8, 9, 10, 11, 12, 13, 14, 15, 16, 17, 18, 19], [1, 2, 3, 4, 5, 6, 7, 8, 9, 10, 11, 12, 13, 14, 15, 16, 17, 18, 19, 20], [2, 3, 4, 5, 6, 7, 8, 9, 10, 11, 12, 13, 14, 15, 16, 17, 18, 19, 20, 21], [3, 4, 5, 6, 7, 8, 9, 10, 11, 12, 13, 14, 15, 16, 17, 18, 19, 20, 21, 22], [4, 5, 6, 7, 8, 9, 10, 11, 12, 13, 14, 15, 16, 17, 18, 19, 20, 21, 22, 23], [5, 6, 7, 8, 9, 10, 11, 12, 13, 14, 15, 16, 17, 18, 19, 20, 21, 22, 23, 24], [6, 7, 8, 9, 10, 11, 12, 13, 14, 15, 16, 17, 18, 19, 20, 21, 22, 23, 24, 25], [7, 8, 9, 10, 11, 12, 13, 14, 15, 16, 17, 18, 19, 20, 21, 22, 23, 24, 25, 26], [8, 9, 10, 11, 12, 13, 14, 15, 16, 17, 18, 19, 20, 21, 22, 23, 24, 25, 26, 27], [9, 10, 11, 12, 13, 14, 15, 16, 17, 18, 19, 20, 21, 22, 23, 24, 25, 26, 27, 28], [10, 11, 12, 13, 14, 15, 16, 17, 18, 19, 20, 21, 22, 23, 24, 25, 26, 27, 28, 29], [11, 12, 13, 14, 15, 16, 17, 18, 19, 20, 21, 22, 23, 24, 25, 26, 27, 28, 29, 30], [12, 13, 14, 15, 16, 17, 18, 19, 20, 21, 22, 23, 24, 25, 26, 27, 28, 29, 30, 31], [13, 14, 15, 16, 17, 18, 19, 20, 21, 22, 23, 24, 25, 26, 27, 28, 29, 30, 31, 32], [14, 15, 16, 17, 18, 19, 20, 21, 22, 23, 24, 25, 26, 27, 28, 29, 30, 31, 32, 33]]\n"
     ]
    }
   ],
   "source": [
    "print([[i+j for j in range(20)] for i in range(15)])"
   ]
  },
  {
   "cell_type": "markdown",
   "metadata": {},
   "source": [
    "### Problem 1.8.6\n",
    "다음 함수는 가역적인가? 만약 그렇다면, 이유를 설명해 보자. 글허지 않다면, 이 함수의 정의역 그리고/또는 공역을 변경하여 가역적으로 만들 수 있는가? 그림으로 나타내보자.\n",
    "\n",
    "U..........V\n",
    "  \n",
    "1------>a\n",
    "\n",
    "2------>b\n",
    "\n",
    "3------>c\n",
    "\n",
    "4------>d"
   ]
  },
  {
   "cell_type": "markdown",
   "metadata": {},
   "source": [
    "A) 가역적이다."
   ]
  },
  {
   "cell_type": "markdown",
   "metadata": {},
   "source": [
    "### Problem 1.8.7\n",
    "다음 함수는 가역적인가? 만약 그렇다면, 이유를 설명해 보자. 글허지 않다면, 이 함수의 정의역 그리고/또는 공역을 변경하여 가역적으로 만들 수 있는가? 그림으로 나타내보자.\n",
    "\n",
    "U..........V\n",
    "  \n",
    "1------>a\n",
    "\n",
    "2------>b\n",
    "\n",
    "3------>c\n",
    "\n",
    "4------>d\n",
    "\n",
    ".............e"
   ]
  },
  {
   "cell_type": "markdown",
   "metadata": {},
   "source": [
    "A) 비가역적이다. 공역이 모든 원소가 정의되지 않았다. 즉 전사함수(onto)가 아니다.\n",
    "\n",
    "U..........V\n",
    "\n",
    "1------>a\n",
    "\n",
    "2------>b\n",
    "\n",
    "3------>c\n",
    "\n",
    "4------>d\n",
    "\n",
    ".............e(제거)\n"
   ]
  },
  {
   "cell_type": "markdown",
   "metadata": {},
   "source": [
    "### Problem 1.8.8\n",
    "함수 $f:\\mathbb{R} \\longrightarrow \\mathbb{R}$이라 하자. $f(x)=abs(x)$이다. $g(x)=\\sqrt{x}$인 함수 g(x)에 대해, $g\\circ f$가 정의되게 하는 정의역과 공역을 선택할 수 있는가? 만약 그렇다면, 정의역과 공역을 명시해 보자. 그렇지 않다면, 그 이유를 설명해 보자. f또는 g의 정의역 그리고 /또는 공역을 변경하여 $g\\circ f$가 정의되게 할 수 있는가? "
   ]
  },
  {
   "cell_type": "markdown",
   "metadata": {},
   "source": [
    "A) $g\\circ\\ f$가 정의된다.\n",
    "- 정의역: $\\mathbb{R}$\n",
    "- 공역: $\\mathbb{R^+}$"
   ]
  },
  {
   "cell_type": "markdown",
   "metadata": {},
   "source": [
    "### Problem 1.8.9\n",
    "다음 그림과 같은 함수 f와 g를 고려해 보자.\n",
    "\n",
    "f..................g\n",
    "\n",
    "1->11....13->21\n",
    "\n",
    "2->12....12->22\n",
    "\n",
    "3->13....11->23\n",
    "\n",
    "합성 함수 $f\\circ g$가 정의 되는가? 만약 그렇다면, 그림으로 나타내고, 그렇지 않으면 그 이유를 설명해 보자."
   ]
  },
  {
   "cell_type": "markdown",
   "metadata": {},
   "source": [
    "A) 정의된다.\n",
    "\n",
    "f..................g\n",
    "\n",
    "1->11-->11->23\n",
    "\n",
    "2->12-->12->22\n",
    "\n",
    "3->13-->13->21"
   ]
  },
  {
   "cell_type": "markdown",
   "metadata": {},
   "source": [
    "### Problem 1.8.10\n",
    "정의역 {1,2,3,5,6}과 공역 {2,3,4,6,7}을 가지는 함수 f(x)=x+1은 그 정의역에서 다음 확률 함수를 가진다: Pr(1)=0.5, Pr(2)=0.2 그리고 Pr(3)=Pr(5)=Pr(6)=0.1. f(x)의 출력으로서 짝수를 가질 확률은 얼마인가? 홀수를 가질 확률은?"
   ]
  },
  {
   "cell_type": "markdown",
   "metadata": {},
   "source": [
    "A)\n",
    "- 짝수가 나올 수 있는 입력은 {1,3,5}이고, 각 확률은 0.5+0.1+0.1=0.7\n",
    "- 홀수는 1-짝수확률이므로 0.3 "
   ]
  },
  {
   "cell_type": "markdown",
   "metadata": {},
   "source": [
    "### Problem 1.8.11\n",
    "정의역 {1,2,3,4,5,6,7}과 공역 {0,1,2}을 가지는 함수 g(x)=x mod 3은 그 정의역에서 다음 확률 함수를 가진다: Pr(1)=Pr(2)=Pr(3)=0.2, Pr(4)=Pr(5)=Pr(7)=0.1 g(x)의 출력으로서 1을 가질 확률은 얼마인가? 0 또는 2를 가질 확률은 얼마인가?"
   ]
  },
  {
   "cell_type": "markdown",
   "metadata": {},
   "source": [
    "A)\n",
    "- 1을 가질 확률: 입력 {1,4,7}->0.2+0.1+0.1=0.4\n",
    "- 0을 가질 확률: 입력 {3,6}->0.2+0.1=0.3\n",
    "- 2를 가질 확률: 입력 {2,5}->0.2+0.1=0.3"
   ]
  }
 ],
 "metadata": {
  "kernelspec": {
   "display_name": "Python 3",
   "language": "python",
   "name": "python3"
  },
  "language_info": {
   "codemirror_mode": {
    "name": "ipython",
    "version": 3
   },
   "file_extension": ".py",
   "mimetype": "text/x-python",
   "name": "python",
   "nbconvert_exporter": "python",
   "pygments_lexer": "ipython3",
   "version": "3.6.0"
  }
 },
 "nbformat": 4,
 "nbformat_minor": 1
}
