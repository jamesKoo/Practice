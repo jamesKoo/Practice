{
 "cells": [
  {
   "cell_type": "markdown",
   "metadata": {},
   "source": [
    "# Chapter5 일급함수"
   ]
  },
  {
   "cell_type": "markdown",
   "metadata": {},
   "source": [
    "## 5.1 함수를 객체처럼 다루기"
   ]
  },
  {
   "cell_type": "code",
   "execution_count": 1,
   "metadata": {},
   "outputs": [
    {
     "data": {
      "text/plain": [
       "1405006117752879898543142606244511569936384000000000"
      ]
     },
     "execution_count": 1,
     "metadata": {},
     "output_type": "execute_result"
    }
   ],
   "source": [
    "def factorial(n):\n",
    "    '''return n!'''\n",
    "    return 1 if n < 2 else n * factorial(n-1)\n",
    "\n",
    "factorial(42)"
   ]
  },
  {
   "cell_type": "code",
   "execution_count": 2,
   "metadata": {},
   "outputs": [
    {
     "data": {
      "text/plain": [
       "'return n!'"
      ]
     },
     "execution_count": 2,
     "metadata": {},
     "output_type": "execute_result"
    }
   ],
   "source": [
    "factorial.__doc__"
   ]
  },
  {
   "cell_type": "code",
   "execution_count": 3,
   "metadata": {},
   "outputs": [
    {
     "name": "stdout",
     "output_type": "stream",
     "text": [
      "<class 'function'>\n"
     ]
    }
   ],
   "source": [
    "print(type(factorial))"
   ]
  },
  {
   "cell_type": "code",
   "execution_count": 4,
   "metadata": {},
   "outputs": [
    {
     "name": "stdout",
     "output_type": "stream",
     "text": [
      "Help on function factorial in module __main__:\n",
      "\n",
      "factorial(n)\n",
      "    return n!\n",
      "\n"
     ]
    }
   ],
   "source": [
    "help(factorial)"
   ]
  },
  {
   "cell_type": "code",
   "execution_count": 5,
   "metadata": {},
   "outputs": [
    {
     "data": {
      "text/plain": [
       "<function __main__.factorial(n)>"
      ]
     },
     "execution_count": 5,
     "metadata": {},
     "output_type": "execute_result"
    }
   ],
   "source": [
    "fact = factorial\n",
    "fact"
   ]
  },
  {
   "cell_type": "code",
   "execution_count": 6,
   "metadata": {},
   "outputs": [
    {
     "data": {
      "text/plain": [
       "120"
      ]
     },
     "execution_count": 6,
     "metadata": {},
     "output_type": "execute_result"
    }
   ],
   "source": [
    "fact(5)"
   ]
  },
  {
   "cell_type": "code",
   "execution_count": 8,
   "metadata": {},
   "outputs": [
    {
     "data": {
      "text/plain": [
       "<map at 0x104acb898>"
      ]
     },
     "execution_count": 8,
     "metadata": {},
     "output_type": "execute_result"
    }
   ],
   "source": [
    "map(fact, range(11))"
   ]
  },
  {
   "cell_type": "code",
   "execution_count": 9,
   "metadata": {},
   "outputs": [
    {
     "data": {
      "text/plain": [
       "[1, 1, 2, 6, 24, 120, 720, 5040, 40320, 362880, 3628800]"
      ]
     },
     "execution_count": 9,
     "metadata": {},
     "output_type": "execute_result"
    }
   ],
   "source": [
    "list(map(fact, range(11)))"
   ]
  },
  {
   "cell_type": "markdown",
   "metadata": {},
   "source": [
    "## 5.2 고위함수"
   ]
  },
  {
   "cell_type": "code",
   "execution_count": 10,
   "metadata": {},
   "outputs": [
    {
     "data": {
      "text/plain": [
       "['fig', 'apple', 'cherry', 'banana', 'rasberry', 'strawberry']"
      ]
     },
     "execution_count": 10,
     "metadata": {},
     "output_type": "execute_result"
    }
   ],
   "source": [
    "fruits = ['strawberry', 'fig', 'apple', 'cherry', 'rasberry', 'banana']\n",
    "sorted(fruits, key=len)"
   ]
  },
  {
   "cell_type": "code",
   "execution_count": 11,
   "metadata": {},
   "outputs": [
    {
     "data": {
      "text/plain": [
       "'gnitset'"
      ]
     },
     "execution_count": 11,
     "metadata": {},
     "output_type": "execute_result"
    }
   ],
   "source": [
    "def reverse(word):\n",
    "    return word[::-1]\n",
    "reverse('testing')"
   ]
  },
  {
   "cell_type": "code",
   "execution_count": 12,
   "metadata": {},
   "outputs": [
    {
     "data": {
      "text/plain": [
       "['banana', 'apple', 'fig', 'rasberry', 'strawberry', 'cherry']"
      ]
     },
     "execution_count": 12,
     "metadata": {},
     "output_type": "execute_result"
    }
   ],
   "source": [
    "sorted(fruits, key=reverse)"
   ]
  },
  {
   "cell_type": "code",
   "execution_count": 13,
   "metadata": {},
   "outputs": [
    {
     "data": {
      "text/plain": [
       "[1, 1, 2, 6, 24, 120]"
      ]
     },
     "execution_count": 13,
     "metadata": {},
     "output_type": "execute_result"
    }
   ],
   "source": [
    "list(map(fact, range(6)))"
   ]
  },
  {
   "cell_type": "code",
   "execution_count": 14,
   "metadata": {},
   "outputs": [
    {
     "data": {
      "text/plain": [
       "[1, 1, 2, 6, 24, 120]"
      ]
     },
     "execution_count": 14,
     "metadata": {},
     "output_type": "execute_result"
    }
   ],
   "source": [
    "[fact(n) for n in range(6)]"
   ]
  },
  {
   "cell_type": "code",
   "execution_count": 15,
   "metadata": {},
   "outputs": [
    {
     "data": {
      "text/plain": [
       "[1, 6, 120]"
      ]
     },
     "execution_count": 15,
     "metadata": {},
     "output_type": "execute_result"
    }
   ],
   "source": [
    "list(map(factorial, filter(lambda n: n % 2, range(6))))"
   ]
  },
  {
   "cell_type": "code",
   "execution_count": 16,
   "metadata": {},
   "outputs": [
    {
     "data": {
      "text/plain": [
       "[1, 6, 120]"
      ]
     },
     "execution_count": 16,
     "metadata": {},
     "output_type": "execute_result"
    }
   ],
   "source": [
    "[factorial(n) for n in range(6) if n % 2]"
   ]
  },
  {
   "cell_type": "code",
   "execution_count": 17,
   "metadata": {},
   "outputs": [
    {
     "data": {
      "text/plain": [
       "4950"
      ]
     },
     "execution_count": 17,
     "metadata": {},
     "output_type": "execute_result"
    }
   ],
   "source": [
    "from functools import reduce\n",
    "from operator import add\n",
    "reduce(add, range(100))"
   ]
  },
  {
   "cell_type": "code",
   "execution_count": 18,
   "metadata": {},
   "outputs": [
    {
     "data": {
      "text/plain": [
       "4950"
      ]
     },
     "execution_count": 18,
     "metadata": {},
     "output_type": "execute_result"
    }
   ],
   "source": [
    "sum(range(100))"
   ]
  },
  {
   "cell_type": "code",
   "execution_count": 23,
   "metadata": {},
   "outputs": [
    {
     "data": {
      "text/plain": [
       "False"
      ]
     },
     "execution_count": 23,
     "metadata": {},
     "output_type": "execute_result"
    }
   ],
   "source": [
    "all([2, 0])"
   ]
  },
  {
   "cell_type": "markdown",
   "metadata": {},
   "source": [
    "## 5.3 익명함수"
   ]
  },
  {
   "cell_type": "code",
   "execution_count": 24,
   "metadata": {},
   "outputs": [
    {
     "data": {
      "text/plain": [
       "['banana', 'apple', 'fig', 'rasberry', 'strawberry', 'cherry']"
      ]
     },
     "execution_count": 24,
     "metadata": {},
     "output_type": "execute_result"
    }
   ],
   "source": [
    "fruits = ['strawberry', 'fig', 'apple', 'cherry', 'rasberry', 'banana']\n",
    "sorted(fruits, key=lambda word: word[::-1])"
   ]
  },
  {
   "cell_type": "markdown",
   "metadata": {},
   "source": [
    "## 5.4 일곱 가지 맛의 콜러블 객체"
   ]
  },
  {
   "cell_type": "code",
   "execution_count": 25,
   "metadata": {},
   "outputs": [
    {
     "data": {
      "text/plain": [
       "(<function abs(x, /)>, str, 13)"
      ]
     },
     "execution_count": 25,
     "metadata": {},
     "output_type": "execute_result"
    }
   ],
   "source": [
    "abs, str, 13"
   ]
  },
  {
   "cell_type": "code",
   "execution_count": 26,
   "metadata": {},
   "outputs": [
    {
     "data": {
      "text/plain": [
       "[True, True, False]"
      ]
     },
     "execution_count": 26,
     "metadata": {},
     "output_type": "execute_result"
    }
   ],
   "source": [
    "[callable(obj) for obj in [abs, str, 13]]"
   ]
  },
  {
   "cell_type": "markdown",
   "metadata": {},
   "source": [
    "## 5.4 사용자 정의 콜러블형"
   ]
  },
  {
   "cell_type": "code",
   "execution_count": 43,
   "metadata": {},
   "outputs": [
    {
     "data": {
      "text/plain": [
       "0"
      ]
     },
     "execution_count": 43,
     "metadata": {},
     "output_type": "execute_result"
    }
   ],
   "source": [
    "import random\n",
    "\n",
    "class BingoCage:\n",
    "    def __init__(self, items):\n",
    "        self._items = list(items)\n",
    "        random.shuffle(self._items)\n",
    "    \n",
    "    def pick(self):\n",
    "        try:\n",
    "            return self._items.pop()\n",
    "        except IndexError:\n",
    "            raise LookupError('pick from empty BingoCage')\n",
    "            \n",
    "    def __call__(self):\n",
    "        return self.pick()\n",
    "    \n",
    "bingo = BingoCage(range(3))\n",
    "bingo.pick()"
   ]
  },
  {
   "cell_type": "code",
   "execution_count": 44,
   "metadata": {},
   "outputs": [
    {
     "data": {
      "text/plain": [
       "2"
      ]
     },
     "execution_count": 44,
     "metadata": {},
     "output_type": "execute_result"
    }
   ],
   "source": [
    "bingo()"
   ]
  },
  {
   "cell_type": "code",
   "execution_count": 45,
   "metadata": {},
   "outputs": [
    {
     "data": {
      "text/plain": [
       "True"
      ]
     },
     "execution_count": 45,
     "metadata": {},
     "output_type": "execute_result"
    }
   ],
   "source": [
    "callable(bingo)"
   ]
  },
  {
   "cell_type": "markdown",
   "metadata": {},
   "source": [
    "## 함수 인트로스펙션"
   ]
  },
  {
   "cell_type": "code",
   "execution_count": 50,
   "metadata": {},
   "outputs": [
    {
     "name": "stdout",
     "output_type": "stream",
     "text": [
      "['__annotations__', '__call__', '__class__', '__closure__', '__code__', '__defaults__', '__delattr__', '__dict__', '__dir__', '__doc__', '__eq__', '__format__', '__ge__', '__get__', '__getattribute__', '__globals__', '__gt__', '__hash__', '__init__', '__init_subclass__', '__kwdefaults__', '__le__', '__lt__', '__module__', '__name__', '__ne__', '__new__', '__qualname__', '__reduce__', '__reduce_ex__', '__repr__', '__setattr__', '__sizeof__', '__str__', '__subclasshook__']\n"
     ]
    }
   ],
   "source": [
    "print(dir(factorial))"
   ]
  },
  {
   "cell_type": "code",
   "execution_count": 51,
   "metadata": {},
   "outputs": [
    {
     "data": {
      "text/plain": [
       "{}"
      ]
     },
     "execution_count": 51,
     "metadata": {},
     "output_type": "execute_result"
    }
   ],
   "source": [
    "factorial.__dict__"
   ]
  },
  {
   "cell_type": "code",
   "execution_count": 55,
   "metadata": {},
   "outputs": [
    {
     "data": {
      "text/plain": [
       "{'short_description': 'Customer name'}"
      ]
     },
     "execution_count": 55,
     "metadata": {},
     "output_type": "execute_result"
    }
   ],
   "source": [
    "def upper_case_name(obj):\n",
    "    return ('%s %s' % (obj.first_name, obj.last_name)).upper()\n",
    "\n",
    "upper_case_name.short_description = 'Customer name'\n",
    "upper_case_name.__dict__"
   ]
  },
  {
   "cell_type": "code",
   "execution_count": 57,
   "metadata": {},
   "outputs": [
    {
     "data": {
      "text/plain": [
       "['__annotations__',\n",
       " '__call__',\n",
       " '__closure__',\n",
       " '__code__',\n",
       " '__defaults__',\n",
       " '__get__',\n",
       " '__globals__',\n",
       " '__kwdefaults__',\n",
       " '__name__',\n",
       " '__qualname__']"
      ]
     },
     "execution_count": 57,
     "metadata": {},
     "output_type": "execute_result"
    }
   ],
   "source": [
    "class C: pass\n",
    "obj = C()\n",
    "def func(): pass\n",
    "sorted(set(dir(func)) - set(dir(obj)))"
   ]
  },
  {
   "cell_type": "code",
   "execution_count": 62,
   "metadata": {},
   "outputs": [],
   "source": [
    "func.__closure__"
   ]
  },
  {
   "cell_type": "code",
   "execution_count": 63,
   "metadata": {},
   "outputs": [
    {
     "data": {
      "text/plain": [
       "<code object func at 0x104b5c8a0, file \"<ipython-input-57-f02c5e9a3a4d>\", line 3>"
      ]
     },
     "execution_count": 63,
     "metadata": {},
     "output_type": "execute_result"
    }
   ],
   "source": [
    "func.__code__"
   ]
  },
  {
   "cell_type": "code",
   "execution_count": 64,
   "metadata": {},
   "outputs": [
    {
     "data": {
      "text/plain": [
       "{'__name__': '__main__',\n",
       " '__doc__': 'Automatically created module for IPython interactive environment',\n",
       " '__package__': None,\n",
       " '__loader__': None,\n",
       " '__spec__': None,\n",
       " '__builtin__': <module 'builtins' (built-in)>,\n",
       " '__builtins__': <module 'builtins' (built-in)>,\n",
       " '_ih': ['',\n",
       "  \"def factorial(n):\\n    '''return n!'''\\n    return 1 if n < 2 else n * factorial(n-1)\\n\\nfactorial(42)\",\n",
       "  'factorial.__doc__',\n",
       "  'print(type(factorial))',\n",
       "  'help(factorial)',\n",
       "  'fact = factorial\\nfact',\n",
       "  'fact(5)',\n",
       "  'help(map)',\n",
       "  'map(fact, range(11))',\n",
       "  'list(map(fact, range(11)))',\n",
       "  \"fruits = ['strawberry', 'fig', 'apple', 'cherry', 'rasberry', 'banana']\\nsorted(fruits, key=len)\",\n",
       "  \"def reverse(word):\\n    return word[::-1]\\nreverse('testing')\",\n",
       "  'sorted(fruits, key=reverse)',\n",
       "  'list(map(fact, range(6)))',\n",
       "  '[fact(n) for n in range(6)]',\n",
       "  'list(map(factorial, filter(lambda n: n % 2, range(6))))',\n",
       "  '[factorial(n) for n in range(6) if n % 2]',\n",
       "  'from functools import reduce\\nfrom operator import add\\nreduce(add, range(100))',\n",
       "  'sum(range(100))',\n",
       "  'all([])',\n",
       "  'any([])',\n",
       "  'any([2])',\n",
       "  'any([2, 0])',\n",
       "  'all([2, 0])',\n",
       "  \"fruits = ['strawberry', 'fig', 'apple', 'cherry', 'rasberry', 'banana']\\nsorted(fruits, key=lambda word: word[::-1])\",\n",
       "  'abs, str, 13',\n",
       "  '[callable(obj) for obj in [abs, str, 13]]',\n",
       "  \"import random\\n\\nclass BingoCage:\\n    def __init__(self, items):\\n        self._items = list(items)\\n        random.shuffle(self._items)\\n    \\n    def pick(self):\\n        try:\\n            return self._items.pop()\\n        except IndexError:\\n            raise LookupError('pick from empty BingoCage')\\n            \\n    def __call__(self):\\n        return self.pick()\\n    \\n    bingo = BingoCage(range(3))\",\n",
       "  \"import random\\n\\nclass BingoCage:\\n    def __init__(self, items):\\n        self._items = list(items)\\n        random.shuffle(self._items)\\n    \\n    def pick(self):\\n        try:\\n            return self._items.pop()\\n        except IndexError:\\n            raise LookupError('pick from empty BingoCage')\\n            \\n    def __call__(self):\\n        return self.pick()\\n    \\n    bingo = BingoCage(range(3))\",\n",
       "  \"import random\\n\\nclass BingoCage:\\n    def __init__(self, items):\\n        self._items = list(items)\\n        random.shuffle(self._items)\\n    \\n    def pick(self):\\n        try:\\n            return self._items.pop()\\n        except IndexError:\\n            raise LookupError('pick from empty BingoCage')\\n            \\n    def __call__(self):\\n        return self.pick()\\n    \\nbingo = BingoCage(range(3))\",\n",
       "  \"import random\\n\\nclass BingoCage:\\n    def __init__(self, items):\\n        self._items = list(items)\\n        random.shuffle(self._items)\\n    \\n    def pick(self):\\n        try:\\n            return self._items.pop()\\n        except IndexError:\\n            raise LookupError('pick from empty BingoCage')\\n            \\n    def __call__(self):\\n        return self.pick()\\n    \\nbingo = BingoCage(range(3))\\nbingo.pick()\",\n",
       "  'bingo()',\n",
       "  'callable(bingo)',\n",
       "  \"import random\\n\\nclass BingoCage:\\n    def __init__(self, items):\\n        self._items = list(items)\\n        random.shuffle(self._items)\\n    \\n    def pick(self):\\n        try:\\n            return self._items.pop()\\n        except IndexError:\\n            raise LookupError('pick from empty BingoCage')\\n            \\n#     def __call__(self):\\n#         return self.pick()\\n    \\nbingo = BingoCage(range(3))\\nbingo.pick()\",\n",
       "  'bingo()',\n",
       "  'callable(bingo)',\n",
       "  \"import random\\n\\nclass BingoCage:\\n    def __init__(self, items):\\n        self._items = list(items)\\n        random.shuffle(self._items)\\n    \\n    def pick(self):\\n        try:\\n            return self._items.pop()\\n        except IndexError:\\n            raise LookupError('pick from empty BingoCage')\\n            \\n    def __call__(self):\\n        return self.pick()\\n    \\nbingo = BingoCage(range(3))\\nbingo.pick()\",\n",
       "  'bingo()',\n",
       "  'callable(bingo)',\n",
       "  \"import random\\n\\nclass BingoCage:\\n    def __init__(self, items):\\n        print(id(items))\\n        self._items = list(items)\\n        random.shuffle(self._items)\\n    \\n    def pick(self):\\n        try:\\n            return self._items.pop()\\n        except IndexError:\\n            raise LookupError('pick from empty BingoCage')\\n            \\n    def __call__(self):\\n        return self.pick()\\n\\nitems = range(3)\\nprint(id(items))\\nbingo = BingoCage(range(3))\\nbingo.pick()\",\n",
       "  \"import random\\n\\nclass BingoCage:\\n    def __init__(self, items):\\n        print(id(items))\\n        self._items = list(items)\\n        random.shuffle(self._items)\\n    \\n    def pick(self):\\n        try:\\n            return self._items.pop()\\n        except IndexError:\\n            raise LookupError('pick from empty BingoCage')\\n            \\n    def __call__(self):\\n        return self.pick()\\n\\nitems = range(3)\\nprint(id(items))\\nbingo = BingoCage(items)\\nbingo.pick()\",\n",
       "  \"import random\\n\\nclass BingoCage:\\n    def __init__(self, items):\\n        print(id(items))\\n        self._items = list(items)\\n        random.shuffle(self._items)\\n    \\n    def pick(self):\\n        try:\\n            return self._items.pop()\\n        except IndexError:\\n            raise LookupError('pick from empty BingoCage')\\n            \\n    def __call__(self):\\n        return self.pick()\\n\\nitems = list(range(3))\\nprint(id(items))\\nbingo = BingoCage(items)\\nbingo.pick()\",\n",
       "  \"import random\\n\\nclass BingoCage:\\n    def __init__(self, items):\\n        print(id(items))\\n        self._items = list(items)\\n        print(id(self._items))\\n        random.shuffle(self._items)\\n    \\n    def pick(self):\\n        try:\\n            return self._items.pop()\\n        except IndexError:\\n            raise LookupError('pick from empty BingoCage')\\n            \\n    def __call__(self):\\n        return self.pick()\\n\\nitems = list(range(3))\\nprint(id(items))\\nbingo = BingoCage(items)\\nbingo.pick()\",\n",
       "  \"import random\\n\\nclass BingoCage:\\n    def __init__(self, items):\\n        self._items = list(items)\\n        random.shuffle(self._items)\\n    \\n    def pick(self):\\n        try:\\n            return self._items.pop()\\n        except IndexError:\\n            raise LookupError('pick from empty BingoCage')\\n            \\n    def __call__(self):\\n        return self.pick()\\n    \\nbingo = BingoCage(range(3))\\nbingo.pick()\",\n",
       "  'bingo()',\n",
       "  'callable(bingo)',\n",
       "  'help(dir)',\n",
       "  'dir()',\n",
       "  'dir(factoral)',\n",
       "  'dir(factorial)',\n",
       "  'print(dir(factorial))',\n",
       "  'factorial.__dict__',\n",
       "  \"def upper_case_name(obj):\\n    return ('%s %s' % (obj.first_name, obj.last_name)).upper()\\n\\nupper_case_name.short_description = 'Customer name'\",\n",
       "  \"def upper_case_name(obj):\\n    return ('%s %s' % (obj.first_name, obj.last_name)).upper()\\n\\nupper_case_name.short_description = 'Customer name'\\ndir(upper_case_name), upper_case_name\",\n",
       "  \"def upper_case_name(obj):\\n    return ('%s %s' % (obj.first_name, obj.last_name)).upper()\\n\\nupper_case_name.short_description = 'Customer name'\\ndir(upper_case_name), upper_case_name.__dict__\",\n",
       "  \"def upper_case_name(obj):\\n    return ('%s %s' % (obj.first_name, obj.last_name)).upper()\\n\\nupper_case_name.short_description = 'Customer name'\\nupper_case_name.__dict__\",\n",
       "  'class C: pass\\nobj = C()\\ndef func(): pass\\nsorted(set(dir(func) - set(dir(obj)))',\n",
       "  'class C: pass\\nobj = C()\\ndef func(): pass\\nsorted(set(dir(func)) - set(dir(obj)))',\n",
       "  'dir(bingo)',\n",
       "  'bingo.__call__',\n",
       "  'factorial.__call__',\n",
       "  'func.__call__',\n",
       "  'func.__closure__',\n",
       "  'func.__code__',\n",
       "  'func.__globals__'],\n",
       " '_oh': {1: 1405006117752879898543142606244511569936384000000000,\n",
       "  2: 'return n!',\n",
       "  5: <function __main__.factorial(n)>,\n",
       "  6: 120,\n",
       "  8: <map at 0x104acb898>,\n",
       "  9: [1, 1, 2, 6, 24, 120, 720, 5040, 40320, 362880, 3628800],\n",
       "  10: ['fig', 'apple', 'cherry', 'banana', 'rasberry', 'strawberry'],\n",
       "  11: 'gnitset',\n",
       "  12: ['banana', 'apple', 'fig', 'rasberry', 'strawberry', 'cherry'],\n",
       "  13: [1, 1, 2, 6, 24, 120],\n",
       "  14: [1, 1, 2, 6, 24, 120],\n",
       "  15: [1, 6, 120],\n",
       "  16: [1, 6, 120],\n",
       "  17: 4950,\n",
       "  18: 4950,\n",
       "  19: True,\n",
       "  20: False,\n",
       "  21: True,\n",
       "  22: True,\n",
       "  23: False,\n",
       "  24: ['banana', 'apple', 'fig', 'rasberry', 'strawberry', 'cherry'],\n",
       "  25: (<function abs(x, /)>, str, 13),\n",
       "  26: [True, True, False],\n",
       "  30: 2,\n",
       "  31: 0,\n",
       "  32: True,\n",
       "  33: 2,\n",
       "  35: False,\n",
       "  36: 2,\n",
       "  37: 0,\n",
       "  38: True,\n",
       "  39: 2,\n",
       "  40: 0,\n",
       "  41: 1,\n",
       "  42: 2,\n",
       "  43: 0,\n",
       "  44: 2,\n",
       "  45: True,\n",
       "  47: ['BingoCage',\n",
       "   'In',\n",
       "   'Out',\n",
       "   '_',\n",
       "   '_1',\n",
       "   '_10',\n",
       "   '_11',\n",
       "   '_12',\n",
       "   '_13',\n",
       "   '_14',\n",
       "   '_15',\n",
       "   '_16',\n",
       "   '_17',\n",
       "   '_18',\n",
       "   '_19',\n",
       "   '_2',\n",
       "   '_20',\n",
       "   '_21',\n",
       "   '_22',\n",
       "   '_23',\n",
       "   '_24',\n",
       "   '_25',\n",
       "   '_26',\n",
       "   '_30',\n",
       "   '_31',\n",
       "   '_32',\n",
       "   '_33',\n",
       "   '_35',\n",
       "   '_36',\n",
       "   '_37',\n",
       "   '_38',\n",
       "   '_39',\n",
       "   '_40',\n",
       "   '_41',\n",
       "   '_42',\n",
       "   '_43',\n",
       "   '_44',\n",
       "   '_45',\n",
       "   '_5',\n",
       "   '_6',\n",
       "   '_8',\n",
       "   '_9',\n",
       "   '__',\n",
       "   '___',\n",
       "   '__builtin__',\n",
       "   '__builtins__',\n",
       "   '__doc__',\n",
       "   '__loader__',\n",
       "   '__name__',\n",
       "   '__package__',\n",
       "   '__spec__',\n",
       "   '_dh',\n",
       "   '_i',\n",
       "   '_i1',\n",
       "   '_i10',\n",
       "   '_i11',\n",
       "   '_i12',\n",
       "   '_i13',\n",
       "   '_i14',\n",
       "   '_i15',\n",
       "   '_i16',\n",
       "   '_i17',\n",
       "   '_i18',\n",
       "   '_i19',\n",
       "   '_i2',\n",
       "   '_i20',\n",
       "   '_i21',\n",
       "   '_i22',\n",
       "   '_i23',\n",
       "   '_i24',\n",
       "   '_i25',\n",
       "   '_i26',\n",
       "   '_i27',\n",
       "   '_i28',\n",
       "   '_i29',\n",
       "   '_i3',\n",
       "   '_i30',\n",
       "   '_i31',\n",
       "   '_i32',\n",
       "   '_i33',\n",
       "   '_i34',\n",
       "   '_i35',\n",
       "   '_i36',\n",
       "   '_i37',\n",
       "   '_i38',\n",
       "   '_i39',\n",
       "   '_i4',\n",
       "   '_i40',\n",
       "   '_i41',\n",
       "   '_i42',\n",
       "   '_i43',\n",
       "   '_i44',\n",
       "   '_i45',\n",
       "   '_i46',\n",
       "   '_i47',\n",
       "   '_i5',\n",
       "   '_i6',\n",
       "   '_i7',\n",
       "   '_i8',\n",
       "   '_i9',\n",
       "   '_ih',\n",
       "   '_ii',\n",
       "   '_iii',\n",
       "   '_oh',\n",
       "   'add',\n",
       "   'bingo',\n",
       "   'exit',\n",
       "   'fact',\n",
       "   'factorial',\n",
       "   'fruits',\n",
       "   'get_ipython',\n",
       "   'items',\n",
       "   'quit',\n",
       "   'random',\n",
       "   'reduce',\n",
       "   'reverse'],\n",
       "  49: ['__annotations__',\n",
       "   '__call__',\n",
       "   '__class__',\n",
       "   '__closure__',\n",
       "   '__code__',\n",
       "   '__defaults__',\n",
       "   '__delattr__',\n",
       "   '__dict__',\n",
       "   '__dir__',\n",
       "   '__doc__',\n",
       "   '__eq__',\n",
       "   '__format__',\n",
       "   '__ge__',\n",
       "   '__get__',\n",
       "   '__getattribute__',\n",
       "   '__globals__',\n",
       "   '__gt__',\n",
       "   '__hash__',\n",
       "   '__init__',\n",
       "   '__init_subclass__',\n",
       "   '__kwdefaults__',\n",
       "   '__le__',\n",
       "   '__lt__',\n",
       "   '__module__',\n",
       "   '__name__',\n",
       "   '__ne__',\n",
       "   '__new__',\n",
       "   '__qualname__',\n",
       "   '__reduce__',\n",
       "   '__reduce_ex__',\n",
       "   '__repr__',\n",
       "   '__setattr__',\n",
       "   '__sizeof__',\n",
       "   '__str__',\n",
       "   '__subclasshook__'],\n",
       "  51: {},\n",
       "  53: (['__annotations__',\n",
       "    '__call__',\n",
       "    '__class__',\n",
       "    '__closure__',\n",
       "    '__code__',\n",
       "    '__defaults__',\n",
       "    '__delattr__',\n",
       "    '__dict__',\n",
       "    '__dir__',\n",
       "    '__doc__',\n",
       "    '__eq__',\n",
       "    '__format__',\n",
       "    '__ge__',\n",
       "    '__get__',\n",
       "    '__getattribute__',\n",
       "    '__globals__',\n",
       "    '__gt__',\n",
       "    '__hash__',\n",
       "    '__init__',\n",
       "    '__init_subclass__',\n",
       "    '__kwdefaults__',\n",
       "    '__le__',\n",
       "    '__lt__',\n",
       "    '__module__',\n",
       "    '__name__',\n",
       "    '__ne__',\n",
       "    '__new__',\n",
       "    '__qualname__',\n",
       "    '__reduce__',\n",
       "    '__reduce_ex__',\n",
       "    '__repr__',\n",
       "    '__setattr__',\n",
       "    '__sizeof__',\n",
       "    '__str__',\n",
       "    '__subclasshook__',\n",
       "    'short_description'],\n",
       "   <function __main__.upper_case_name(obj)>),\n",
       "  54: (['__annotations__',\n",
       "    '__call__',\n",
       "    '__class__',\n",
       "    '__closure__',\n",
       "    '__code__',\n",
       "    '__defaults__',\n",
       "    '__delattr__',\n",
       "    '__dict__',\n",
       "    '__dir__',\n",
       "    '__doc__',\n",
       "    '__eq__',\n",
       "    '__format__',\n",
       "    '__ge__',\n",
       "    '__get__',\n",
       "    '__getattribute__',\n",
       "    '__globals__',\n",
       "    '__gt__',\n",
       "    '__hash__',\n",
       "    '__init__',\n",
       "    '__init_subclass__',\n",
       "    '__kwdefaults__',\n",
       "    '__le__',\n",
       "    '__lt__',\n",
       "    '__module__',\n",
       "    '__name__',\n",
       "    '__ne__',\n",
       "    '__new__',\n",
       "    '__qualname__',\n",
       "    '__reduce__',\n",
       "    '__reduce_ex__',\n",
       "    '__repr__',\n",
       "    '__setattr__',\n",
       "    '__sizeof__',\n",
       "    '__str__',\n",
       "    '__subclasshook__',\n",
       "    'short_description'],\n",
       "   {'short_description': 'Customer name'}),\n",
       "  55: {'short_description': 'Customer name'},\n",
       "  57: ['__annotations__',\n",
       "   '__call__',\n",
       "   '__closure__',\n",
       "   '__code__',\n",
       "   '__defaults__',\n",
       "   '__get__',\n",
       "   '__globals__',\n",
       "   '__kwdefaults__',\n",
       "   '__name__',\n",
       "   '__qualname__'],\n",
       "  58: ['__call__',\n",
       "   '__class__',\n",
       "   '__delattr__',\n",
       "   '__dict__',\n",
       "   '__dir__',\n",
       "   '__doc__',\n",
       "   '__eq__',\n",
       "   '__format__',\n",
       "   '__ge__',\n",
       "   '__getattribute__',\n",
       "   '__gt__',\n",
       "   '__hash__',\n",
       "   '__init__',\n",
       "   '__init_subclass__',\n",
       "   '__le__',\n",
       "   '__lt__',\n",
       "   '__module__',\n",
       "   '__ne__',\n",
       "   '__new__',\n",
       "   '__reduce__',\n",
       "   '__reduce_ex__',\n",
       "   '__repr__',\n",
       "   '__setattr__',\n",
       "   '__sizeof__',\n",
       "   '__str__',\n",
       "   '__subclasshook__',\n",
       "   '__weakref__',\n",
       "   '_items',\n",
       "   'pick'],\n",
       "  59: <bound method BingoCage.__call__ of <__main__.BingoCage object at 0x104b63898>>,\n",
       "  60: <method-wrapper '__call__' of function object at 0x104aa6f28>,\n",
       "  61: <method-wrapper '__call__' of function object at 0x104b6f620>,\n",
       "  63: <code object func at 0x104b5c8a0, file \"<ipython-input-57-f02c5e9a3a4d>\", line 3>},\n",
       " '_dh': ['/Users/jmkoo/Projects/Study/Python/Fluent_Python'],\n",
       " 'In': ['',\n",
       "  \"def factorial(n):\\n    '''return n!'''\\n    return 1 if n < 2 else n * factorial(n-1)\\n\\nfactorial(42)\",\n",
       "  'factorial.__doc__',\n",
       "  'print(type(factorial))',\n",
       "  'help(factorial)',\n",
       "  'fact = factorial\\nfact',\n",
       "  'fact(5)',\n",
       "  'help(map)',\n",
       "  'map(fact, range(11))',\n",
       "  'list(map(fact, range(11)))',\n",
       "  \"fruits = ['strawberry', 'fig', 'apple', 'cherry', 'rasberry', 'banana']\\nsorted(fruits, key=len)\",\n",
       "  \"def reverse(word):\\n    return word[::-1]\\nreverse('testing')\",\n",
       "  'sorted(fruits, key=reverse)',\n",
       "  'list(map(fact, range(6)))',\n",
       "  '[fact(n) for n in range(6)]',\n",
       "  'list(map(factorial, filter(lambda n: n % 2, range(6))))',\n",
       "  '[factorial(n) for n in range(6) if n % 2]',\n",
       "  'from functools import reduce\\nfrom operator import add\\nreduce(add, range(100))',\n",
       "  'sum(range(100))',\n",
       "  'all([])',\n",
       "  'any([])',\n",
       "  'any([2])',\n",
       "  'any([2, 0])',\n",
       "  'all([2, 0])',\n",
       "  \"fruits = ['strawberry', 'fig', 'apple', 'cherry', 'rasberry', 'banana']\\nsorted(fruits, key=lambda word: word[::-1])\",\n",
       "  'abs, str, 13',\n",
       "  '[callable(obj) for obj in [abs, str, 13]]',\n",
       "  \"import random\\n\\nclass BingoCage:\\n    def __init__(self, items):\\n        self._items = list(items)\\n        random.shuffle(self._items)\\n    \\n    def pick(self):\\n        try:\\n            return self._items.pop()\\n        except IndexError:\\n            raise LookupError('pick from empty BingoCage')\\n            \\n    def __call__(self):\\n        return self.pick()\\n    \\n    bingo = BingoCage(range(3))\",\n",
       "  \"import random\\n\\nclass BingoCage:\\n    def __init__(self, items):\\n        self._items = list(items)\\n        random.shuffle(self._items)\\n    \\n    def pick(self):\\n        try:\\n            return self._items.pop()\\n        except IndexError:\\n            raise LookupError('pick from empty BingoCage')\\n            \\n    def __call__(self):\\n        return self.pick()\\n    \\n    bingo = BingoCage(range(3))\",\n",
       "  \"import random\\n\\nclass BingoCage:\\n    def __init__(self, items):\\n        self._items = list(items)\\n        random.shuffle(self._items)\\n    \\n    def pick(self):\\n        try:\\n            return self._items.pop()\\n        except IndexError:\\n            raise LookupError('pick from empty BingoCage')\\n            \\n    def __call__(self):\\n        return self.pick()\\n    \\nbingo = BingoCage(range(3))\",\n",
       "  \"import random\\n\\nclass BingoCage:\\n    def __init__(self, items):\\n        self._items = list(items)\\n        random.shuffle(self._items)\\n    \\n    def pick(self):\\n        try:\\n            return self._items.pop()\\n        except IndexError:\\n            raise LookupError('pick from empty BingoCage')\\n            \\n    def __call__(self):\\n        return self.pick()\\n    \\nbingo = BingoCage(range(3))\\nbingo.pick()\",\n",
       "  'bingo()',\n",
       "  'callable(bingo)',\n",
       "  \"import random\\n\\nclass BingoCage:\\n    def __init__(self, items):\\n        self._items = list(items)\\n        random.shuffle(self._items)\\n    \\n    def pick(self):\\n        try:\\n            return self._items.pop()\\n        except IndexError:\\n            raise LookupError('pick from empty BingoCage')\\n            \\n#     def __call__(self):\\n#         return self.pick()\\n    \\nbingo = BingoCage(range(3))\\nbingo.pick()\",\n",
       "  'bingo()',\n",
       "  'callable(bingo)',\n",
       "  \"import random\\n\\nclass BingoCage:\\n    def __init__(self, items):\\n        self._items = list(items)\\n        random.shuffle(self._items)\\n    \\n    def pick(self):\\n        try:\\n            return self._items.pop()\\n        except IndexError:\\n            raise LookupError('pick from empty BingoCage')\\n            \\n    def __call__(self):\\n        return self.pick()\\n    \\nbingo = BingoCage(range(3))\\nbingo.pick()\",\n",
       "  'bingo()',\n",
       "  'callable(bingo)',\n",
       "  \"import random\\n\\nclass BingoCage:\\n    def __init__(self, items):\\n        print(id(items))\\n        self._items = list(items)\\n        random.shuffle(self._items)\\n    \\n    def pick(self):\\n        try:\\n            return self._items.pop()\\n        except IndexError:\\n            raise LookupError('pick from empty BingoCage')\\n            \\n    def __call__(self):\\n        return self.pick()\\n\\nitems = range(3)\\nprint(id(items))\\nbingo = BingoCage(range(3))\\nbingo.pick()\",\n",
       "  \"import random\\n\\nclass BingoCage:\\n    def __init__(self, items):\\n        print(id(items))\\n        self._items = list(items)\\n        random.shuffle(self._items)\\n    \\n    def pick(self):\\n        try:\\n            return self._items.pop()\\n        except IndexError:\\n            raise LookupError('pick from empty BingoCage')\\n            \\n    def __call__(self):\\n        return self.pick()\\n\\nitems = range(3)\\nprint(id(items))\\nbingo = BingoCage(items)\\nbingo.pick()\",\n",
       "  \"import random\\n\\nclass BingoCage:\\n    def __init__(self, items):\\n        print(id(items))\\n        self._items = list(items)\\n        random.shuffle(self._items)\\n    \\n    def pick(self):\\n        try:\\n            return self._items.pop()\\n        except IndexError:\\n            raise LookupError('pick from empty BingoCage')\\n            \\n    def __call__(self):\\n        return self.pick()\\n\\nitems = list(range(3))\\nprint(id(items))\\nbingo = BingoCage(items)\\nbingo.pick()\",\n",
       "  \"import random\\n\\nclass BingoCage:\\n    def __init__(self, items):\\n        print(id(items))\\n        self._items = list(items)\\n        print(id(self._items))\\n        random.shuffle(self._items)\\n    \\n    def pick(self):\\n        try:\\n            return self._items.pop()\\n        except IndexError:\\n            raise LookupError('pick from empty BingoCage')\\n            \\n    def __call__(self):\\n        return self.pick()\\n\\nitems = list(range(3))\\nprint(id(items))\\nbingo = BingoCage(items)\\nbingo.pick()\",\n",
       "  \"import random\\n\\nclass BingoCage:\\n    def __init__(self, items):\\n        self._items = list(items)\\n        random.shuffle(self._items)\\n    \\n    def pick(self):\\n        try:\\n            return self._items.pop()\\n        except IndexError:\\n            raise LookupError('pick from empty BingoCage')\\n            \\n    def __call__(self):\\n        return self.pick()\\n    \\nbingo = BingoCage(range(3))\\nbingo.pick()\",\n",
       "  'bingo()',\n",
       "  'callable(bingo)',\n",
       "  'help(dir)',\n",
       "  'dir()',\n",
       "  'dir(factoral)',\n",
       "  'dir(factorial)',\n",
       "  'print(dir(factorial))',\n",
       "  'factorial.__dict__',\n",
       "  \"def upper_case_name(obj):\\n    return ('%s %s' % (obj.first_name, obj.last_name)).upper()\\n\\nupper_case_name.short_description = 'Customer name'\",\n",
       "  \"def upper_case_name(obj):\\n    return ('%s %s' % (obj.first_name, obj.last_name)).upper()\\n\\nupper_case_name.short_description = 'Customer name'\\ndir(upper_case_name), upper_case_name\",\n",
       "  \"def upper_case_name(obj):\\n    return ('%s %s' % (obj.first_name, obj.last_name)).upper()\\n\\nupper_case_name.short_description = 'Customer name'\\ndir(upper_case_name), upper_case_name.__dict__\",\n",
       "  \"def upper_case_name(obj):\\n    return ('%s %s' % (obj.first_name, obj.last_name)).upper()\\n\\nupper_case_name.short_description = 'Customer name'\\nupper_case_name.__dict__\",\n",
       "  'class C: pass\\nobj = C()\\ndef func(): pass\\nsorted(set(dir(func) - set(dir(obj)))',\n",
       "  'class C: pass\\nobj = C()\\ndef func(): pass\\nsorted(set(dir(func)) - set(dir(obj)))',\n",
       "  'dir(bingo)',\n",
       "  'bingo.__call__',\n",
       "  'factorial.__call__',\n",
       "  'func.__call__',\n",
       "  'func.__closure__',\n",
       "  'func.__code__',\n",
       "  'func.__globals__'],\n",
       " 'Out': {1: 1405006117752879898543142606244511569936384000000000,\n",
       "  2: 'return n!',\n",
       "  5: <function __main__.factorial(n)>,\n",
       "  6: 120,\n",
       "  8: <map at 0x104acb898>,\n",
       "  9: [1, 1, 2, 6, 24, 120, 720, 5040, 40320, 362880, 3628800],\n",
       "  10: ['fig', 'apple', 'cherry', 'banana', 'rasberry', 'strawberry'],\n",
       "  11: 'gnitset',\n",
       "  12: ['banana', 'apple', 'fig', 'rasberry', 'strawberry', 'cherry'],\n",
       "  13: [1, 1, 2, 6, 24, 120],\n",
       "  14: [1, 1, 2, 6, 24, 120],\n",
       "  15: [1, 6, 120],\n",
       "  16: [1, 6, 120],\n",
       "  17: 4950,\n",
       "  18: 4950,\n",
       "  19: True,\n",
       "  20: False,\n",
       "  21: True,\n",
       "  22: True,\n",
       "  23: False,\n",
       "  24: ['banana', 'apple', 'fig', 'rasberry', 'strawberry', 'cherry'],\n",
       "  25: (<function abs(x, /)>, str, 13),\n",
       "  26: [True, True, False],\n",
       "  30: 2,\n",
       "  31: 0,\n",
       "  32: True,\n",
       "  33: 2,\n",
       "  35: False,\n",
       "  36: 2,\n",
       "  37: 0,\n",
       "  38: True,\n",
       "  39: 2,\n",
       "  40: 0,\n",
       "  41: 1,\n",
       "  42: 2,\n",
       "  43: 0,\n",
       "  44: 2,\n",
       "  45: True,\n",
       "  47: ['BingoCage',\n",
       "   'In',\n",
       "   'Out',\n",
       "   '_',\n",
       "   '_1',\n",
       "   '_10',\n",
       "   '_11',\n",
       "   '_12',\n",
       "   '_13',\n",
       "   '_14',\n",
       "   '_15',\n",
       "   '_16',\n",
       "   '_17',\n",
       "   '_18',\n",
       "   '_19',\n",
       "   '_2',\n",
       "   '_20',\n",
       "   '_21',\n",
       "   '_22',\n",
       "   '_23',\n",
       "   '_24',\n",
       "   '_25',\n",
       "   '_26',\n",
       "   '_30',\n",
       "   '_31',\n",
       "   '_32',\n",
       "   '_33',\n",
       "   '_35',\n",
       "   '_36',\n",
       "   '_37',\n",
       "   '_38',\n",
       "   '_39',\n",
       "   '_40',\n",
       "   '_41',\n",
       "   '_42',\n",
       "   '_43',\n",
       "   '_44',\n",
       "   '_45',\n",
       "   '_5',\n",
       "   '_6',\n",
       "   '_8',\n",
       "   '_9',\n",
       "   '__',\n",
       "   '___',\n",
       "   '__builtin__',\n",
       "   '__builtins__',\n",
       "   '__doc__',\n",
       "   '__loader__',\n",
       "   '__name__',\n",
       "   '__package__',\n",
       "   '__spec__',\n",
       "   '_dh',\n",
       "   '_i',\n",
       "   '_i1',\n",
       "   '_i10',\n",
       "   '_i11',\n",
       "   '_i12',\n",
       "   '_i13',\n",
       "   '_i14',\n",
       "   '_i15',\n",
       "   '_i16',\n",
       "   '_i17',\n",
       "   '_i18',\n",
       "   '_i19',\n",
       "   '_i2',\n",
       "   '_i20',\n",
       "   '_i21',\n",
       "   '_i22',\n",
       "   '_i23',\n",
       "   '_i24',\n",
       "   '_i25',\n",
       "   '_i26',\n",
       "   '_i27',\n",
       "   '_i28',\n",
       "   '_i29',\n",
       "   '_i3',\n",
       "   '_i30',\n",
       "   '_i31',\n",
       "   '_i32',\n",
       "   '_i33',\n",
       "   '_i34',\n",
       "   '_i35',\n",
       "   '_i36',\n",
       "   '_i37',\n",
       "   '_i38',\n",
       "   '_i39',\n",
       "   '_i4',\n",
       "   '_i40',\n",
       "   '_i41',\n",
       "   '_i42',\n",
       "   '_i43',\n",
       "   '_i44',\n",
       "   '_i45',\n",
       "   '_i46',\n",
       "   '_i47',\n",
       "   '_i5',\n",
       "   '_i6',\n",
       "   '_i7',\n",
       "   '_i8',\n",
       "   '_i9',\n",
       "   '_ih',\n",
       "   '_ii',\n",
       "   '_iii',\n",
       "   '_oh',\n",
       "   'add',\n",
       "   'bingo',\n",
       "   'exit',\n",
       "   'fact',\n",
       "   'factorial',\n",
       "   'fruits',\n",
       "   'get_ipython',\n",
       "   'items',\n",
       "   'quit',\n",
       "   'random',\n",
       "   'reduce',\n",
       "   'reverse'],\n",
       "  49: ['__annotations__',\n",
       "   '__call__',\n",
       "   '__class__',\n",
       "   '__closure__',\n",
       "   '__code__',\n",
       "   '__defaults__',\n",
       "   '__delattr__',\n",
       "   '__dict__',\n",
       "   '__dir__',\n",
       "   '__doc__',\n",
       "   '__eq__',\n",
       "   '__format__',\n",
       "   '__ge__',\n",
       "   '__get__',\n",
       "   '__getattribute__',\n",
       "   '__globals__',\n",
       "   '__gt__',\n",
       "   '__hash__',\n",
       "   '__init__',\n",
       "   '__init_subclass__',\n",
       "   '__kwdefaults__',\n",
       "   '__le__',\n",
       "   '__lt__',\n",
       "   '__module__',\n",
       "   '__name__',\n",
       "   '__ne__',\n",
       "   '__new__',\n",
       "   '__qualname__',\n",
       "   '__reduce__',\n",
       "   '__reduce_ex__',\n",
       "   '__repr__',\n",
       "   '__setattr__',\n",
       "   '__sizeof__',\n",
       "   '__str__',\n",
       "   '__subclasshook__'],\n",
       "  51: {},\n",
       "  53: (['__annotations__',\n",
       "    '__call__',\n",
       "    '__class__',\n",
       "    '__closure__',\n",
       "    '__code__',\n",
       "    '__defaults__',\n",
       "    '__delattr__',\n",
       "    '__dict__',\n",
       "    '__dir__',\n",
       "    '__doc__',\n",
       "    '__eq__',\n",
       "    '__format__',\n",
       "    '__ge__',\n",
       "    '__get__',\n",
       "    '__getattribute__',\n",
       "    '__globals__',\n",
       "    '__gt__',\n",
       "    '__hash__',\n",
       "    '__init__',\n",
       "    '__init_subclass__',\n",
       "    '__kwdefaults__',\n",
       "    '__le__',\n",
       "    '__lt__',\n",
       "    '__module__',\n",
       "    '__name__',\n",
       "    '__ne__',\n",
       "    '__new__',\n",
       "    '__qualname__',\n",
       "    '__reduce__',\n",
       "    '__reduce_ex__',\n",
       "    '__repr__',\n",
       "    '__setattr__',\n",
       "    '__sizeof__',\n",
       "    '__str__',\n",
       "    '__subclasshook__',\n",
       "    'short_description'],\n",
       "   <function __main__.upper_case_name(obj)>),\n",
       "  54: (['__annotations__',\n",
       "    '__call__',\n",
       "    '__class__',\n",
       "    '__closure__',\n",
       "    '__code__',\n",
       "    '__defaults__',\n",
       "    '__delattr__',\n",
       "    '__dict__',\n",
       "    '__dir__',\n",
       "    '__doc__',\n",
       "    '__eq__',\n",
       "    '__format__',\n",
       "    '__ge__',\n",
       "    '__get__',\n",
       "    '__getattribute__',\n",
       "    '__globals__',\n",
       "    '__gt__',\n",
       "    '__hash__',\n",
       "    '__init__',\n",
       "    '__init_subclass__',\n",
       "    '__kwdefaults__',\n",
       "    '__le__',\n",
       "    '__lt__',\n",
       "    '__module__',\n",
       "    '__name__',\n",
       "    '__ne__',\n",
       "    '__new__',\n",
       "    '__qualname__',\n",
       "    '__reduce__',\n",
       "    '__reduce_ex__',\n",
       "    '__repr__',\n",
       "    '__setattr__',\n",
       "    '__sizeof__',\n",
       "    '__str__',\n",
       "    '__subclasshook__',\n",
       "    'short_description'],\n",
       "   {'short_description': 'Customer name'}),\n",
       "  55: {'short_description': 'Customer name'},\n",
       "  57: ['__annotations__',\n",
       "   '__call__',\n",
       "   '__closure__',\n",
       "   '__code__',\n",
       "   '__defaults__',\n",
       "   '__get__',\n",
       "   '__globals__',\n",
       "   '__kwdefaults__',\n",
       "   '__name__',\n",
       "   '__qualname__'],\n",
       "  58: ['__call__',\n",
       "   '__class__',\n",
       "   '__delattr__',\n",
       "   '__dict__',\n",
       "   '__dir__',\n",
       "   '__doc__',\n",
       "   '__eq__',\n",
       "   '__format__',\n",
       "   '__ge__',\n",
       "   '__getattribute__',\n",
       "   '__gt__',\n",
       "   '__hash__',\n",
       "   '__init__',\n",
       "   '__init_subclass__',\n",
       "   '__le__',\n",
       "   '__lt__',\n",
       "   '__module__',\n",
       "   '__ne__',\n",
       "   '__new__',\n",
       "   '__reduce__',\n",
       "   '__reduce_ex__',\n",
       "   '__repr__',\n",
       "   '__setattr__',\n",
       "   '__sizeof__',\n",
       "   '__str__',\n",
       "   '__subclasshook__',\n",
       "   '__weakref__',\n",
       "   '_items',\n",
       "   'pick'],\n",
       "  59: <bound method BingoCage.__call__ of <__main__.BingoCage object at 0x104b63898>>,\n",
       "  60: <method-wrapper '__call__' of function object at 0x104aa6f28>,\n",
       "  61: <method-wrapper '__call__' of function object at 0x104b6f620>,\n",
       "  63: <code object func at 0x104b5c8a0, file \"<ipython-input-57-f02c5e9a3a4d>\", line 3>},\n",
       " 'get_ipython': <bound method InteractiveShell.get_ipython of <ipykernel.zmqshell.ZMQInteractiveShell object at 0x1049664a8>>,\n",
       " 'exit': <IPython.core.autocall.ZMQExitAutocall at 0x1049b6c88>,\n",
       " 'quit': <IPython.core.autocall.ZMQExitAutocall at 0x1049b6c88>,\n",
       " '_': <code object func at 0x104b5c8a0, file \"<ipython-input-57-f02c5e9a3a4d>\", line 3>,\n",
       " '__': <method-wrapper '__call__' of function object at 0x104b6f620>,\n",
       " '___': <method-wrapper '__call__' of function object at 0x104aa6f28>,\n",
       " '_i': 'func.__code__',\n",
       " '_ii': 'func.__closure__',\n",
       " '_iii': 'func.__call__',\n",
       " '_i1': \"def factorial(n):\\n    '''return n!'''\\n    return 1 if n < 2 else n * factorial(n-1)\\n\\nfactorial(42)\",\n",
       " 'factorial': <function __main__.factorial(n)>,\n",
       " '_1': 1405006117752879898543142606244511569936384000000000,\n",
       " '_i2': 'factorial.__doc__',\n",
       " '_2': 'return n!',\n",
       " '_i3': 'print(type(factorial))',\n",
       " '_i4': 'help(factorial)',\n",
       " '_i5': 'fact = factorial\\nfact',\n",
       " 'fact': <function __main__.factorial(n)>,\n",
       " '_5': <function __main__.factorial(n)>,\n",
       " '_i6': 'fact(5)',\n",
       " '_6': 120,\n",
       " '_i7': 'help(map)',\n",
       " '_i8': 'map(fact, range(11))',\n",
       " '_8': <map at 0x104acb898>,\n",
       " '_i9': 'list(map(fact, range(11)))',\n",
       " '_9': [1, 1, 2, 6, 24, 120, 720, 5040, 40320, 362880, 3628800],\n",
       " '_i10': \"fruits = ['strawberry', 'fig', 'apple', 'cherry', 'rasberry', 'banana']\\nsorted(fruits, key=len)\",\n",
       " 'fruits': ['strawberry', 'fig', 'apple', 'cherry', 'rasberry', 'banana'],\n",
       " '_10': ['fig', 'apple', 'cherry', 'banana', 'rasberry', 'strawberry'],\n",
       " '_i11': \"def reverse(word):\\n    return word[::-1]\\nreverse('testing')\",\n",
       " 'reverse': <function __main__.reverse(word)>,\n",
       " '_11': 'gnitset',\n",
       " '_i12': 'sorted(fruits, key=reverse)',\n",
       " '_12': ['banana', 'apple', 'fig', 'rasberry', 'strawberry', 'cherry'],\n",
       " '_i13': 'list(map(fact, range(6)))',\n",
       " '_13': [1, 1, 2, 6, 24, 120],\n",
       " '_i14': '[fact(n) for n in range(6)]',\n",
       " '_14': [1, 1, 2, 6, 24, 120],\n",
       " '_i15': 'list(map(factorial, filter(lambda n: n % 2, range(6))))',\n",
       " '_15': [1, 6, 120],\n",
       " '_i16': '[factorial(n) for n in range(6) if n % 2]',\n",
       " '_16': [1, 6, 120],\n",
       " '_i17': 'from functools import reduce\\nfrom operator import add\\nreduce(add, range(100))',\n",
       " 'reduce': <function _functools.reduce>,\n",
       " 'add': <function _operator.add>,\n",
       " '_17': 4950,\n",
       " '_i18': 'sum(range(100))',\n",
       " '_18': 4950,\n",
       " '_i19': 'all([])',\n",
       " '_19': True,\n",
       " '_i20': 'any([])',\n",
       " '_20': False,\n",
       " '_i21': 'any([2])',\n",
       " '_21': True,\n",
       " '_i22': 'any([2, 0])',\n",
       " '_22': True,\n",
       " '_i23': 'all([2, 0])',\n",
       " '_23': False,\n",
       " '_i24': \"fruits = ['strawberry', 'fig', 'apple', 'cherry', 'rasberry', 'banana']\\nsorted(fruits, key=lambda word: word[::-1])\",\n",
       " '_24': ['banana', 'apple', 'fig', 'rasberry', 'strawberry', 'cherry'],\n",
       " '_i25': 'abs, str, 13',\n",
       " '_25': (<function abs(x, /)>, str, 13),\n",
       " '_i26': '[callable(obj) for obj in [abs, str, 13]]',\n",
       " '_26': [True, True, False],\n",
       " '_i27': \"import random\\n\\nclass BingoCage:\\n    def __init__(self, items):\\n        self._items = list(items)\\n        random.shuffle(self._items)\\n    \\n    def pick(self):\\n        try:\\n            return self._items.pop()\\n        except IndexError:\\n            raise LookupError('pick from empty BingoCage')\\n            \\n    def __call__(self):\\n        return self.pick()\\n    \\n    bingo = BingoCage(range(3))\",\n",
       " 'random': <module 'random' from '/usr/local/Cellar/python/3.6.5/Frameworks/Python.framework/Versions/3.6/lib/python3.6/random.py'>,\n",
       " '_i28': \"import random\\n\\nclass BingoCage:\\n    def __init__(self, items):\\n        self._items = list(items)\\n        random.shuffle(self._items)\\n    \\n    def pick(self):\\n        try:\\n            return self._items.pop()\\n        except IndexError:\\n            raise LookupError('pick from empty BingoCage')\\n            \\n    def __call__(self):\\n        return self.pick()\\n    \\n    bingo = BingoCage(range(3))\",\n",
       " '_i29': \"import random\\n\\nclass BingoCage:\\n    def __init__(self, items):\\n        self._items = list(items)\\n        random.shuffle(self._items)\\n    \\n    def pick(self):\\n        try:\\n            return self._items.pop()\\n        except IndexError:\\n            raise LookupError('pick from empty BingoCage')\\n            \\n    def __call__(self):\\n        return self.pick()\\n    \\nbingo = BingoCage(range(3))\",\n",
       " 'BingoCage': __main__.BingoCage,\n",
       " 'bingo': <__main__.BingoCage at 0x104b63898>,\n",
       " '_i30': \"import random\\n\\nclass BingoCage:\\n    def __init__(self, items):\\n        self._items = list(items)\\n        random.shuffle(self._items)\\n    \\n    def pick(self):\\n        try:\\n            return self._items.pop()\\n        except IndexError:\\n            raise LookupError('pick from empty BingoCage')\\n            \\n    def __call__(self):\\n        return self.pick()\\n    \\nbingo = BingoCage(range(3))\\nbingo.pick()\",\n",
       " '_30': 2,\n",
       " '_i31': 'bingo()',\n",
       " '_31': 0,\n",
       " '_i32': 'callable(bingo)',\n",
       " '_32': True,\n",
       " '_i33': \"import random\\n\\nclass BingoCage:\\n    def __init__(self, items):\\n        self._items = list(items)\\n        random.shuffle(self._items)\\n    \\n    def pick(self):\\n        try:\\n            return self._items.pop()\\n        except IndexError:\\n            raise LookupError('pick from empty BingoCage')\\n            \\n#     def __call__(self):\\n#         return self.pick()\\n    \\nbingo = BingoCage(range(3))\\nbingo.pick()\",\n",
       " '_33': 2,\n",
       " '_i34': 'bingo()',\n",
       " '_i35': 'callable(bingo)',\n",
       " '_35': False,\n",
       " '_i36': \"import random\\n\\nclass BingoCage:\\n    def __init__(self, items):\\n        self._items = list(items)\\n        random.shuffle(self._items)\\n    \\n    def pick(self):\\n        try:\\n            return self._items.pop()\\n        except IndexError:\\n            raise LookupError('pick from empty BingoCage')\\n            \\n    def __call__(self):\\n        return self.pick()\\n    \\nbingo = BingoCage(range(3))\\nbingo.pick()\",\n",
       " '_36': 2,\n",
       " '_i37': 'bingo()',\n",
       " '_37': 0,\n",
       " '_i38': 'callable(bingo)',\n",
       " '_38': True,\n",
       " '_i39': \"import random\\n\\nclass BingoCage:\\n    def __init__(self, items):\\n        print(id(items))\\n        self._items = list(items)\\n        random.shuffle(self._items)\\n    \\n    def pick(self):\\n        try:\\n            return self._items.pop()\\n        except IndexError:\\n            raise LookupError('pick from empty BingoCage')\\n            \\n    def __call__(self):\\n        return self.pick()\\n\\nitems = range(3)\\nprint(id(items))\\nbingo = BingoCage(range(3))\\nbingo.pick()\",\n",
       " 'items': [0, 1, 2],\n",
       " '_39': 2,\n",
       " '_i40': \"import random\\n\\nclass BingoCage:\\n    def __init__(self, items):\\n        print(id(items))\\n        self._items = list(items)\\n        random.shuffle(self._items)\\n    \\n    def pick(self):\\n        try:\\n            return self._items.pop()\\n        except IndexError:\\n            raise LookupError('pick from empty BingoCage')\\n            \\n    def __call__(self):\\n        return self.pick()\\n\\nitems = range(3)\\nprint(id(items))\\nbingo = BingoCage(items)\\nbingo.pick()\",\n",
       " '_40': 0,\n",
       " '_i41': \"import random\\n\\nclass BingoCage:\\n    def __init__(self, items):\\n        print(id(items))\\n        self._items = list(items)\\n        random.shuffle(self._items)\\n    \\n    def pick(self):\\n        try:\\n            return self._items.pop()\\n        except IndexError:\\n            raise LookupError('pick from empty BingoCage')\\n            \\n    def __call__(self):\\n        return self.pick()\\n\\nitems = list(range(3))\\nprint(id(items))\\nbingo = BingoCage(items)\\nbingo.pick()\",\n",
       " '_41': 1,\n",
       " '_i42': \"import random\\n\\nclass BingoCage:\\n    def __init__(self, items):\\n        print(id(items))\\n        self._items = list(items)\\n        print(id(self._items))\\n        random.shuffle(self._items)\\n    \\n    def pick(self):\\n        try:\\n            return self._items.pop()\\n        except IndexError:\\n            raise LookupError('pick from empty BingoCage')\\n            \\n    def __call__(self):\\n        return self.pick()\\n\\nitems = list(range(3))\\nprint(id(items))\\nbingo = BingoCage(items)\\nbingo.pick()\",\n",
       " '_42': 2,\n",
       " '_i43': \"import random\\n\\nclass BingoCage:\\n    def __init__(self, items):\\n        self._items = list(items)\\n        random.shuffle(self._items)\\n    \\n    def pick(self):\\n        try:\\n            return self._items.pop()\\n        except IndexError:\\n            raise LookupError('pick from empty BingoCage')\\n            \\n    def __call__(self):\\n        return self.pick()\\n    \\nbingo = BingoCage(range(3))\\nbingo.pick()\",\n",
       " '_43': 0,\n",
       " '_i44': 'bingo()',\n",
       " '_44': 2,\n",
       " '_i45': 'callable(bingo)',\n",
       " '_45': True,\n",
       " '_i46': 'help(dir)',\n",
       " '_i47': 'dir()',\n",
       " '_47': ['BingoCage',\n",
       "  'In',\n",
       "  'Out',\n",
       "  '_',\n",
       "  '_1',\n",
       "  '_10',\n",
       "  '_11',\n",
       "  '_12',\n",
       "  '_13',\n",
       "  '_14',\n",
       "  '_15',\n",
       "  '_16',\n",
       "  '_17',\n",
       "  '_18',\n",
       "  '_19',\n",
       "  '_2',\n",
       "  '_20',\n",
       "  '_21',\n",
       "  '_22',\n",
       "  '_23',\n",
       "  '_24',\n",
       "  '_25',\n",
       "  '_26',\n",
       "  '_30',\n",
       "  '_31',\n",
       "  '_32',\n",
       "  '_33',\n",
       "  '_35',\n",
       "  '_36',\n",
       "  '_37',\n",
       "  '_38',\n",
       "  '_39',\n",
       "  '_40',\n",
       "  '_41',\n",
       "  '_42',\n",
       "  '_43',\n",
       "  '_44',\n",
       "  '_45',\n",
       "  '_5',\n",
       "  '_6',\n",
       "  '_8',\n",
       "  '_9',\n",
       "  '__',\n",
       "  '___',\n",
       "  '__builtin__',\n",
       "  '__builtins__',\n",
       "  '__doc__',\n",
       "  '__loader__',\n",
       "  '__name__',\n",
       "  '__package__',\n",
       "  '__spec__',\n",
       "  '_dh',\n",
       "  '_i',\n",
       "  '_i1',\n",
       "  '_i10',\n",
       "  '_i11',\n",
       "  '_i12',\n",
       "  '_i13',\n",
       "  '_i14',\n",
       "  '_i15',\n",
       "  '_i16',\n",
       "  '_i17',\n",
       "  '_i18',\n",
       "  '_i19',\n",
       "  '_i2',\n",
       "  '_i20',\n",
       "  '_i21',\n",
       "  '_i22',\n",
       "  '_i23',\n",
       "  '_i24',\n",
       "  '_i25',\n",
       "  '_i26',\n",
       "  '_i27',\n",
       "  '_i28',\n",
       "  '_i29',\n",
       "  '_i3',\n",
       "  '_i30',\n",
       "  '_i31',\n",
       "  '_i32',\n",
       "  '_i33',\n",
       "  '_i34',\n",
       "  '_i35',\n",
       "  '_i36',\n",
       "  '_i37',\n",
       "  '_i38',\n",
       "  '_i39',\n",
       "  '_i4',\n",
       "  '_i40',\n",
       "  '_i41',\n",
       "  '_i42',\n",
       "  '_i43',\n",
       "  '_i44',\n",
       "  '_i45',\n",
       "  '_i46',\n",
       "  '_i47',\n",
       "  '_i5',\n",
       "  '_i6',\n",
       "  '_i7',\n",
       "  '_i8',\n",
       "  '_i9',\n",
       "  '_ih',\n",
       "  '_ii',\n",
       "  '_iii',\n",
       "  '_oh',\n",
       "  'add',\n",
       "  'bingo',\n",
       "  'exit',\n",
       "  'fact',\n",
       "  'factorial',\n",
       "  'fruits',\n",
       "  'get_ipython',\n",
       "  'items',\n",
       "  'quit',\n",
       "  'random',\n",
       "  'reduce',\n",
       "  'reverse'],\n",
       " '_i48': 'dir(factoral)',\n",
       " '_i49': 'dir(factorial)',\n",
       " '_49': ['__annotations__',\n",
       "  '__call__',\n",
       "  '__class__',\n",
       "  '__closure__',\n",
       "  '__code__',\n",
       "  '__defaults__',\n",
       "  '__delattr__',\n",
       "  '__dict__',\n",
       "  '__dir__',\n",
       "  '__doc__',\n",
       "  '__eq__',\n",
       "  '__format__',\n",
       "  '__ge__',\n",
       "  '__get__',\n",
       "  '__getattribute__',\n",
       "  '__globals__',\n",
       "  '__gt__',\n",
       "  '__hash__',\n",
       "  '__init__',\n",
       "  '__init_subclass__',\n",
       "  '__kwdefaults__',\n",
       "  '__le__',\n",
       "  '__lt__',\n",
       "  '__module__',\n",
       "  '__name__',\n",
       "  '__ne__',\n",
       "  '__new__',\n",
       "  '__qualname__',\n",
       "  '__reduce__',\n",
       "  '__reduce_ex__',\n",
       "  '__repr__',\n",
       "  '__setattr__',\n",
       "  '__sizeof__',\n",
       "  '__str__',\n",
       "  '__subclasshook__'],\n",
       " '_i50': 'print(dir(factorial))',\n",
       " '_i51': 'factorial.__dict__',\n",
       " '_51': {},\n",
       " '_i52': \"def upper_case_name(obj):\\n    return ('%s %s' % (obj.first_name, obj.last_name)).upper()\\n\\nupper_case_name.short_description = 'Customer name'\",\n",
       " 'upper_case_name': <function __main__.upper_case_name(obj)>,\n",
       " '_i53': \"def upper_case_name(obj):\\n    return ('%s %s' % (obj.first_name, obj.last_name)).upper()\\n\\nupper_case_name.short_description = 'Customer name'\\ndir(upper_case_name), upper_case_name\",\n",
       " '_53': (['__annotations__',\n",
       "   '__call__',\n",
       "   '__class__',\n",
       "   '__closure__',\n",
       "   '__code__',\n",
       "   '__defaults__',\n",
       "   '__delattr__',\n",
       "   '__dict__',\n",
       "   '__dir__',\n",
       "   '__doc__',\n",
       "   '__eq__',\n",
       "   '__format__',\n",
       "   '__ge__',\n",
       "   '__get__',\n",
       "   '__getattribute__',\n",
       "   '__globals__',\n",
       "   '__gt__',\n",
       "   '__hash__',\n",
       "   '__init__',\n",
       "   '__init_subclass__',\n",
       "   '__kwdefaults__',\n",
       "   '__le__',\n",
       "   '__lt__',\n",
       "   '__module__',\n",
       "   '__name__',\n",
       "   '__ne__',\n",
       "   '__new__',\n",
       "   '__qualname__',\n",
       "   '__reduce__',\n",
       "   '__reduce_ex__',\n",
       "   '__repr__',\n",
       "   '__setattr__',\n",
       "   '__sizeof__',\n",
       "   '__str__',\n",
       "   '__subclasshook__',\n",
       "   'short_description'],\n",
       "  <function __main__.upper_case_name(obj)>),\n",
       " '_i54': \"def upper_case_name(obj):\\n    return ('%s %s' % (obj.first_name, obj.last_name)).upper()\\n\\nupper_case_name.short_description = 'Customer name'\\ndir(upper_case_name), upper_case_name.__dict__\",\n",
       " '_54': (['__annotations__',\n",
       "   '__call__',\n",
       "   '__class__',\n",
       "   '__closure__',\n",
       "   '__code__',\n",
       "   '__defaults__',\n",
       "   '__delattr__',\n",
       "   '__dict__',\n",
       "   '__dir__',\n",
       "   '__doc__',\n",
       "   '__eq__',\n",
       "   '__format__',\n",
       "   '__ge__',\n",
       "   '__get__',\n",
       "   '__getattribute__',\n",
       "   '__globals__',\n",
       "   '__gt__',\n",
       "   '__hash__',\n",
       "   '__init__',\n",
       "   '__init_subclass__',\n",
       "   '__kwdefaults__',\n",
       "   '__le__',\n",
       "   '__lt__',\n",
       "   '__module__',\n",
       "   '__name__',\n",
       "   '__ne__',\n",
       "   '__new__',\n",
       "   '__qualname__',\n",
       "   '__reduce__',\n",
       "   '__reduce_ex__',\n",
       "   '__repr__',\n",
       "   '__setattr__',\n",
       "   '__sizeof__',\n",
       "   '__str__',\n",
       "   '__subclasshook__',\n",
       "   'short_description'],\n",
       "  {'short_description': 'Customer name'}),\n",
       " '_i55': \"def upper_case_name(obj):\\n    return ('%s %s' % (obj.first_name, obj.last_name)).upper()\\n\\nupper_case_name.short_description = 'Customer name'\\nupper_case_name.__dict__\",\n",
       " '_55': {'short_description': 'Customer name'},\n",
       " '_i56': 'class C: pass\\nobj = C()\\ndef func(): pass\\nsorted(set(dir(func) - set(dir(obj)))',\n",
       " '_i57': 'class C: pass\\nobj = C()\\ndef func(): pass\\nsorted(set(dir(func)) - set(dir(obj)))',\n",
       " 'C': __main__.C,\n",
       " 'obj': <__main__.C at 0x104b5bcf8>,\n",
       " 'func': <function __main__.func()>,\n",
       " '_57': ['__annotations__',\n",
       "  '__call__',\n",
       "  '__closure__',\n",
       "  '__code__',\n",
       "  '__defaults__',\n",
       "  '__get__',\n",
       "  '__globals__',\n",
       "  '__kwdefaults__',\n",
       "  '__name__',\n",
       "  '__qualname__'],\n",
       " '_i58': 'dir(bingo)',\n",
       " '_58': ['__call__',\n",
       "  '__class__',\n",
       "  '__delattr__',\n",
       "  '__dict__',\n",
       "  '__dir__',\n",
       "  '__doc__',\n",
       "  '__eq__',\n",
       "  '__format__',\n",
       "  '__ge__',\n",
       "  '__getattribute__',\n",
       "  '__gt__',\n",
       "  '__hash__',\n",
       "  '__init__',\n",
       "  '__init_subclass__',\n",
       "  '__le__',\n",
       "  '__lt__',\n",
       "  '__module__',\n",
       "  '__ne__',\n",
       "  '__new__',\n",
       "  '__reduce__',\n",
       "  '__reduce_ex__',\n",
       "  '__repr__',\n",
       "  '__setattr__',\n",
       "  '__sizeof__',\n",
       "  '__str__',\n",
       "  '__subclasshook__',\n",
       "  '__weakref__',\n",
       "  '_items',\n",
       "  'pick'],\n",
       " '_i59': 'bingo.__call__',\n",
       " '_59': <bound method BingoCage.__call__ of <__main__.BingoCage object at 0x104b63898>>,\n",
       " '_i60': 'factorial.__call__',\n",
       " '_60': <method-wrapper '__call__' of function object at 0x104aa6f28>,\n",
       " '_i61': 'func.__call__',\n",
       " '_61': <method-wrapper '__call__' of function object at 0x104b6f620>,\n",
       " '_i62': 'func.__closure__',\n",
       " '_i63': 'func.__code__',\n",
       " '_63': <code object func at 0x104b5c8a0, file \"<ipython-input-57-f02c5e9a3a4d>\", line 3>,\n",
       " '_i64': 'func.__globals__'}"
      ]
     },
     "execution_count": 64,
     "metadata": {},
     "output_type": "execute_result"
    }
   ],
   "source": [
    "func.__globals__"
   ]
  },
  {
   "cell_type": "code",
   "execution_count": 65,
   "metadata": {},
   "outputs": [],
   "source": [
    "func.__kwdefaults__"
   ]
  },
  {
   "cell_type": "code",
   "execution_count": 66,
   "metadata": {},
   "outputs": [
    {
     "data": {
      "text/plain": [
       "'func'"
      ]
     },
     "execution_count": 66,
     "metadata": {},
     "output_type": "execute_result"
    }
   ],
   "source": [
    "func.__name__"
   ]
  },
  {
   "cell_type": "code",
   "execution_count": 67,
   "metadata": {},
   "outputs": [
    {
     "data": {
      "text/plain": [
       "'func'"
      ]
     },
     "execution_count": 67,
     "metadata": {},
     "output_type": "execute_result"
    }
   ],
   "source": [
    "func.__qualname__"
   ]
  },
  {
   "cell_type": "markdown",
   "metadata": {},
   "source": [
    "## 5.7 위치 매개변수에서 키워드 전용 매개변수까지"
   ]
  },
  {
   "cell_type": "code",
   "execution_count": 22,
   "metadata": {},
   "outputs": [
    {
     "data": {
      "text/plain": [
       "'<br />'"
      ]
     },
     "execution_count": 22,
     "metadata": {},
     "output_type": "execute_result"
    }
   ],
   "source": [
    "def tag(name, *content, cls=None, **attrs):\n",
    "    if cls is not None:\n",
    "        attrs['class'] = cls\n",
    "    if attrs:\n",
    "        attr_str = ''.join(' %s=\"%s\"' % (attr, value) for attr, value in sorted(attrs.items()))\n",
    "    else:\n",
    "        attr_str = ''\n",
    "    if content:\n",
    "        return '\\n'.join('<%s%s>%s</%s>' % (name, attr_str, c, name) for c in content)\n",
    "    else:\n",
    "        return '<%s%s />' % (name, attr_str)\n",
    "    \n",
    "tag('br')"
   ]
  },
  {
   "cell_type": "code",
   "execution_count": 71,
   "metadata": {},
   "outputs": [
    {
     "data": {
      "text/plain": [
       "'<p>hello</p>'"
      ]
     },
     "execution_count": 71,
     "metadata": {},
     "output_type": "execute_result"
    }
   ],
   "source": [
    "tag('p', 'hello')"
   ]
  },
  {
   "cell_type": "code",
   "execution_count": 72,
   "metadata": {},
   "outputs": [
    {
     "name": "stdout",
     "output_type": "stream",
     "text": [
      "<p>hello</p>\n",
      "<p>world</p>\n"
     ]
    }
   ],
   "source": [
    "print(tag('p', 'hello', 'world'))"
   ]
  },
  {
   "cell_type": "code",
   "execution_count": 73,
   "metadata": {},
   "outputs": [
    {
     "data": {
      "text/plain": [
       "'<p id=\"33\">hello</p>'"
      ]
     },
     "execution_count": 73,
     "metadata": {},
     "output_type": "execute_result"
    }
   ],
   "source": [
    "tag('p', 'hello', id=33)"
   ]
  },
  {
   "cell_type": "code",
   "execution_count": 75,
   "metadata": {},
   "outputs": [
    {
     "name": "stdout",
     "output_type": "stream",
     "text": [
      "<p class=\"sidebar\">hello</p>\n",
      "<p class=\"sidebar\">world</p>\n"
     ]
    }
   ],
   "source": [
    "print(tag('p', 'hello', 'world', cls='sidebar'))"
   ]
  },
  {
   "cell_type": "code",
   "execution_count": 77,
   "metadata": {},
   "outputs": [
    {
     "data": {
      "text/plain": [
       "'<img content=\"testing\" />'"
      ]
     },
     "execution_count": 77,
     "metadata": {},
     "output_type": "execute_result"
    }
   ],
   "source": [
    "tag(content='testing', name='img')"
   ]
  },
  {
   "cell_type": "code",
   "execution_count": 81,
   "metadata": {},
   "outputs": [
    {
     "data": {
      "text/plain": [
       "'<img class=\"framed\" src=\"sunset.jpg\" title=\"Sunset Boulevard\" />'"
      ]
     },
     "execution_count": 81,
     "metadata": {},
     "output_type": "execute_result"
    }
   ],
   "source": [
    "my_tag = {'name': 'img', 'title': 'Sunset Boulevard', 'src': 'sunset.jpg', 'cls': 'framed'}\n",
    "tag(**my_tag)"
   ]
  },
  {
   "cell_type": "code",
   "execution_count": 83,
   "metadata": {},
   "outputs": [
    {
     "data": {
      "text/plain": [
       "(1, 2)"
      ]
     },
     "execution_count": 83,
     "metadata": {},
     "output_type": "execute_result"
    }
   ],
   "source": [
    "def f(a, *, b):\n",
    "    return a, b\n",
    "\n",
    "f(1, b=2)"
   ]
  },
  {
   "cell_type": "code",
   "execution_count": 84,
   "metadata": {},
   "outputs": [
    {
     "ename": "TypeError",
     "evalue": "f() takes 1 positional argument but 2 were given",
     "output_type": "error",
     "traceback": [
      "\u001b[0;31m---------------------------------------------------------------------------\u001b[0m",
      "\u001b[0;31mTypeError\u001b[0m                                 Traceback (most recent call last)",
      "\u001b[0;32m<ipython-input-84-c9c271413adf>\u001b[0m in \u001b[0;36m<module>\u001b[0;34m\u001b[0m\n\u001b[0;32m----> 1\u001b[0;31m \u001b[0mf\u001b[0m\u001b[0;34m(\u001b[0m\u001b[0;36m1\u001b[0m\u001b[0;34m,\u001b[0m \u001b[0;36m2\u001b[0m\u001b[0;34m)\u001b[0m\u001b[0;34m\u001b[0m\u001b[0m\n\u001b[0m",
      "\u001b[0;31mTypeError\u001b[0m: f() takes 1 positional argument but 2 were given"
     ]
    }
   ],
   "source": [
    "f(1, 2)"
   ]
  },
  {
   "cell_type": "markdown",
   "metadata": {},
   "source": [
    "## 5.8 매개변수에 대한 정보 읽기"
   ]
  },
  {
   "cell_type": "code",
   "execution_count": 4,
   "metadata": {},
   "outputs": [],
   "source": [
    "import bobo\n",
    "\n",
    "@bobo.query('/')\n",
    "def hello(person):\n",
    "    return 'Hello %s!' % person"
   ]
  },
  {
   "cell_type": "code",
   "execution_count": null,
   "metadata": {},
   "outputs": [
    {
     "name": "stdout",
     "output_type": "stream",
     "text": [
      "Serving ['bobo__main__'] on port 8080...\n",
      "127.0.0.1 - - [10/Feb/2019 00:12:21] \"GET / HTTP/1.1\" 403 103\n",
      "127.0.0.1 - - [10/Feb/2019 00:12:23] \"GET /?person=Koo HTTP/1.1\" 200 10\n"
     ]
    }
   ],
   "source": [
    "!bobo -f hello.py"
   ]
  },
  {
   "cell_type": "code",
   "execution_count": 4,
   "metadata": {},
   "outputs": [],
   "source": [
    "def clip(text, max_len=80):\n",
    "    end = None\n",
    "    if len(text) > max_len:\n",
    "        space_before = text.rfind(' ', 0, max_len)\n",
    "        if space_before >= 0:\n",
    "            end = space_before\n",
    "        else:\n",
    "            space_after = text.rfind(' ', max_len)\n",
    "            if space_after >= 0:\n",
    "                end = space_after\n",
    "    if end is None:\n",
    "        end = len(text)\n",
    "    return text[:end].rstrip()"
   ]
  },
  {
   "cell_type": "code",
   "execution_count": 9,
   "metadata": {},
   "outputs": [
    {
     "data": {
      "text/plain": [
       "(80,)"
      ]
     },
     "execution_count": 9,
     "metadata": {},
     "output_type": "execute_result"
    }
   ],
   "source": [
    "clip.__defaults__"
   ]
  },
  {
   "cell_type": "code",
   "execution_count": 10,
   "metadata": {},
   "outputs": [
    {
     "data": {
      "text/plain": [
       "<code object clip at 0x10f1a4c00, file \"<ipython-input-4-e4dd7613047d>\", line 1>"
      ]
     },
     "execution_count": 10,
     "metadata": {},
     "output_type": "execute_result"
    }
   ],
   "source": [
    "clip.__code__"
   ]
  },
  {
   "cell_type": "code",
   "execution_count": 11,
   "metadata": {},
   "outputs": [
    {
     "data": {
      "text/plain": [
       "('text', 'max_len', 'end', 'space_before', 'space_after')"
      ]
     },
     "execution_count": 11,
     "metadata": {},
     "output_type": "execute_result"
    }
   ],
   "source": [
    "clip.__code__.co_varnames"
   ]
  },
  {
   "cell_type": "code",
   "execution_count": 13,
   "metadata": {},
   "outputs": [
    {
     "data": {
      "text/plain": [
       "2"
      ]
     },
     "execution_count": 13,
     "metadata": {},
     "output_type": "execute_result"
    }
   ],
   "source": [
    "clip.__code__.co_argcount"
   ]
  },
  {
   "cell_type": "code",
   "execution_count": 19,
   "metadata": {},
   "outputs": [
    {
     "data": {
      "text/plain": [
       "<Signature (text, max_len=80)>"
      ]
     },
     "execution_count": 19,
     "metadata": {},
     "output_type": "execute_result"
    }
   ],
   "source": [
    "from inspect import signature\n",
    "sig = signature(clip)\n",
    "sig"
   ]
  },
  {
   "cell_type": "code",
   "execution_count": 21,
   "metadata": {},
   "outputs": [
    {
     "name": "stdout",
     "output_type": "stream",
     "text": [
      "POSITIONAL_OR_KEYWORD : text = <class 'inspect._empty'>\n",
      "POSITIONAL_OR_KEYWORD : max_len = 80\n"
     ]
    }
   ],
   "source": [
    "for name, param in sig.parameters.items():\n",
    "    print(param.kind, ':', name, '=', param.default)"
   ]
  },
  {
   "cell_type": "code",
   "execution_count": 27,
   "metadata": {},
   "outputs": [
    {
     "data": {
      "text/plain": [
       "<BoundArguments (name='img', cls='framed', attrs={'title': 'Sunset Boulevard', 'src': 'sunset.jpg'})>"
      ]
     },
     "execution_count": 27,
     "metadata": {},
     "output_type": "execute_result"
    }
   ],
   "source": [
    "import inspect\n",
    "sig = inspect.signature(tag)\n",
    "my_tag = {'name': 'img', 'title': 'Sunset Boulevard', 'src': 'sunset.jpg', 'cls': 'framed'}\n",
    "bound_args = sig.bind(**my_tag)\n",
    "bound_args"
   ]
  },
  {
   "cell_type": "code",
   "execution_count": 25,
   "metadata": {},
   "outputs": [
    {
     "name": "stdout",
     "output_type": "stream",
     "text": [
      "name = img\n",
      "cls = framed\n",
      "attrs = {'title': 'Sunset Boulevard', 'src': 'sunset.jpg'}\n"
     ]
    }
   ],
   "source": [
    "for name, value in bound_args.arguments.items():\n",
    "    print(name, '=', value)"
   ]
  },
  {
   "cell_type": "code",
   "execution_count": 28,
   "metadata": {},
   "outputs": [
    {
     "ename": "TypeError",
     "evalue": "missing a required argument: 'name'",
     "output_type": "error",
     "traceback": [
      "\u001b[0;31m---------------------------------------------------------------------------\u001b[0m",
      "\u001b[0;31mTypeError\u001b[0m                                 Traceback (most recent call last)",
      "\u001b[0;32m<ipython-input-28-26e5f49b96e2>\u001b[0m in \u001b[0;36m<module>\u001b[0;34m\u001b[0m\n\u001b[1;32m      1\u001b[0m \u001b[0;32mdel\u001b[0m \u001b[0mmy_tag\u001b[0m\u001b[0;34m[\u001b[0m\u001b[0;34m'name'\u001b[0m\u001b[0;34m]\u001b[0m\u001b[0;34m\u001b[0m\u001b[0m\n\u001b[0;32m----> 2\u001b[0;31m \u001b[0mbound_args\u001b[0m \u001b[0;34m=\u001b[0m \u001b[0msig\u001b[0m\u001b[0;34m.\u001b[0m\u001b[0mbind\u001b[0m\u001b[0;34m(\u001b[0m\u001b[0;34m**\u001b[0m\u001b[0mmy_tag\u001b[0m\u001b[0;34m)\u001b[0m\u001b[0;34m\u001b[0m\u001b[0m\n\u001b[0m",
      "\u001b[0;32m/usr/local/Cellar/python/3.6.5/Frameworks/Python.framework/Versions/3.6/lib/python3.6/inspect.py\u001b[0m in \u001b[0;36mbind\u001b[0;34m(*args, **kwargs)\u001b[0m\n\u001b[1;32m   2967\u001b[0m         \u001b[0;32mif\u001b[0m \u001b[0mthe\u001b[0m \u001b[0mpassed\u001b[0m \u001b[0marguments\u001b[0m \u001b[0mcan\u001b[0m \u001b[0;32mnot\u001b[0m \u001b[0mbe\u001b[0m \u001b[0mbound\u001b[0m\u001b[0;34m.\u001b[0m\u001b[0;34m\u001b[0m\u001b[0m\n\u001b[1;32m   2968\u001b[0m         \"\"\"\n\u001b[0;32m-> 2969\u001b[0;31m         \u001b[0;32mreturn\u001b[0m \u001b[0margs\u001b[0m\u001b[0;34m[\u001b[0m\u001b[0;36m0\u001b[0m\u001b[0;34m]\u001b[0m\u001b[0;34m.\u001b[0m\u001b[0m_bind\u001b[0m\u001b[0;34m(\u001b[0m\u001b[0margs\u001b[0m\u001b[0;34m[\u001b[0m\u001b[0;36m1\u001b[0m\u001b[0;34m:\u001b[0m\u001b[0;34m]\u001b[0m\u001b[0;34m,\u001b[0m \u001b[0mkwargs\u001b[0m\u001b[0;34m)\u001b[0m\u001b[0;34m\u001b[0m\u001b[0m\n\u001b[0m\u001b[1;32m   2970\u001b[0m \u001b[0;34m\u001b[0m\u001b[0m\n\u001b[1;32m   2971\u001b[0m     \u001b[0;32mdef\u001b[0m \u001b[0mbind_partial\u001b[0m\u001b[0;34m(\u001b[0m\u001b[0;34m*\u001b[0m\u001b[0margs\u001b[0m\u001b[0;34m,\u001b[0m \u001b[0;34m**\u001b[0m\u001b[0mkwargs\u001b[0m\u001b[0;34m)\u001b[0m\u001b[0;34m:\u001b[0m\u001b[0;34m\u001b[0m\u001b[0m\n",
      "\u001b[0;32m/usr/local/Cellar/python/3.6.5/Frameworks/Python.framework/Versions/3.6/lib/python3.6/inspect.py\u001b[0m in \u001b[0;36m_bind\u001b[0;34m(self, args, kwargs, partial)\u001b[0m\n\u001b[1;32m   2882\u001b[0m                             \u001b[0mmsg\u001b[0m \u001b[0;34m=\u001b[0m \u001b[0;34m'missing a required argument: {arg!r}'\u001b[0m\u001b[0;34m\u001b[0m\u001b[0m\n\u001b[1;32m   2883\u001b[0m                             \u001b[0mmsg\u001b[0m \u001b[0;34m=\u001b[0m \u001b[0mmsg\u001b[0m\u001b[0;34m.\u001b[0m\u001b[0mformat\u001b[0m\u001b[0;34m(\u001b[0m\u001b[0marg\u001b[0m\u001b[0;34m=\u001b[0m\u001b[0mparam\u001b[0m\u001b[0;34m.\u001b[0m\u001b[0mname\u001b[0m\u001b[0;34m)\u001b[0m\u001b[0;34m\u001b[0m\u001b[0m\n\u001b[0;32m-> 2884\u001b[0;31m                             \u001b[0;32mraise\u001b[0m \u001b[0mTypeError\u001b[0m\u001b[0;34m(\u001b[0m\u001b[0mmsg\u001b[0m\u001b[0;34m)\u001b[0m \u001b[0;32mfrom\u001b[0m \u001b[0;32mNone\u001b[0m\u001b[0;34m\u001b[0m\u001b[0m\n\u001b[0m\u001b[1;32m   2885\u001b[0m             \u001b[0;32melse\u001b[0m\u001b[0;34m:\u001b[0m\u001b[0;34m\u001b[0m\u001b[0m\n\u001b[1;32m   2886\u001b[0m                 \u001b[0;31m# We have a positional argument to process\u001b[0m\u001b[0;34m\u001b[0m\u001b[0;34m\u001b[0m\u001b[0m\n",
      "\u001b[0;31mTypeError\u001b[0m: missing a required argument: 'name'"
     ]
    }
   ],
   "source": [
    "del my_tag['name']\n",
    "bound_args = sig.bind(**my_tag)"
   ]
  },
  {
   "cell_type": "markdown",
   "metadata": {},
   "source": [
    "## 5.9 함수 애너테이션"
   ]
  },
  {
   "cell_type": "code",
   "execution_count": 29,
   "metadata": {},
   "outputs": [],
   "source": [
    "def clip(text:str, max_len:'int > 0'=80) -> str:\n",
    "    end = None\n",
    "    if len(text) > max_len:\n",
    "        space_before = text.rfind(' ', 0, max_len)\n",
    "        if space_before >= 0:\n",
    "            end = space_before\n",
    "        else:\n",
    "            space_after = text.rfind(' ', max_len)\n",
    "            if space_after >= 0:\n",
    "                end = space_after\n",
    "    if end is None:\n",
    "        end = len(text)\n",
    "    return text[:end].rstrip()"
   ]
  },
  {
   "cell_type": "code",
   "execution_count": 30,
   "metadata": {},
   "outputs": [
    {
     "data": {
      "text/plain": [
       "{'text': str, 'max_len': 'int > 0', 'return': str}"
      ]
     },
     "execution_count": 30,
     "metadata": {},
     "output_type": "execute_result"
    }
   ],
   "source": [
    "clip.__annotations__"
   ]
  },
  {
   "cell_type": "code",
   "execution_count": 33,
   "metadata": {},
   "outputs": [
    {
     "data": {
      "text/plain": [
       "str"
      ]
     },
     "execution_count": 33,
     "metadata": {},
     "output_type": "execute_result"
    }
   ],
   "source": [
    "sig = signature(clip)\n",
    "sig.return_annotation"
   ]
  },
  {
   "cell_type": "code",
   "execution_count": 42,
   "metadata": {},
   "outputs": [
    {
     "name": "stdout",
     "output_type": "stream",
     "text": [
      "<class 'str'> : text = <class 'inspect._empty'>\n",
      "'int > 0'     : max_len = 80\n"
     ]
    }
   ],
   "source": [
    "for param in sig.parameters.values():\n",
    "    note = repr(param.annotation).ljust(13)\n",
    "    print(note, ':', param.name, '=', param.default)"
   ]
  },
  {
   "cell_type": "markdown",
   "metadata": {},
   "source": [
    "## 5.10 함수형 프로그래밍을 위한 패키지"
   ]
  },
  {
   "cell_type": "code",
   "execution_count": 46,
   "metadata": {},
   "outputs": [
    {
     "data": {
      "text/plain": [
       "120"
      ]
     },
     "execution_count": 46,
     "metadata": {},
     "output_type": "execute_result"
    }
   ],
   "source": [
    "from functools import reduce\n",
    "\n",
    "def fact(n):\n",
    "    return reduce(lambda a, b: a*b, range(1, n+1))\n",
    "\n",
    "fact(5)"
   ]
  },
  {
   "cell_type": "code",
   "execution_count": 48,
   "metadata": {},
   "outputs": [
    {
     "data": {
      "text/plain": [
       "120"
      ]
     },
     "execution_count": 48,
     "metadata": {},
     "output_type": "execute_result"
    }
   ],
   "source": [
    "from operator import mul\n",
    "\n",
    "def fact(n):\n",
    "    return reduce(mul, range(1, n+1))\n",
    "\n",
    "fact(5)"
   ]
  },
  {
   "cell_type": "code",
   "execution_count": 57,
   "metadata": {},
   "outputs": [
    {
     "name": "stdout",
     "output_type": "stream",
     "text": [
      "('Sao Paulo', 'BR', 19.649, (-23.547778, -46.635833))\n",
      "('Delhi NCR', 'IN', 21.935, (28.613889, 77.208889))\n",
      "('Tokyo', 'JP', 36.933, (35.689722, 139.691667))\n",
      "('Mexico City', 'MX', 20.142, (19.433333, -99.133333))\n",
      "('New York-Newark', 'US', 20.104, (40.808611, -74.020386))\n"
     ]
    }
   ],
   "source": [
    "metro_data = [\n",
    "    ('Tokyo', 'JP', 36.933, (35.689722, 139.691667)),   \n",
    "    ('Delhi NCR', 'IN', 21.935, (28.613889, 77.208889)),\n",
    "    ('Mexico City', 'MX', 20.142, (19.433333, -99.133333)),\n",
    "    ('New York-Newark', 'US', 20.104, (40.808611, -74.020386)),\n",
    "    ('Sao Paulo', 'BR', 19.649, (-23.547778, -46.635833)),\n",
    "]\n",
    "\n",
    "from operator import itemgetter\n",
    "for city in sorted(metro_data, key=itemgetter(1)):\n",
    "    print(city)"
   ]
  },
  {
   "cell_type": "code",
   "execution_count": 58,
   "metadata": {},
   "outputs": [
    {
     "name": "stdout",
     "output_type": "stream",
     "text": [
      "('JP', 'Tokyo')\n",
      "('IN', 'Delhi NCR')\n",
      "('MX', 'Mexico City')\n",
      "('US', 'New York-Newark')\n",
      "('BR', 'Sao Paulo')\n"
     ]
    }
   ],
   "source": [
    "cc_name = itemgetter(1, 0)\n",
    "for city in metro_data:\n",
    "    print(cc_name(city))"
   ]
  },
  {
   "cell_type": "code",
   "execution_count": 61,
   "metadata": {},
   "outputs": [
    {
     "data": {
      "text/plain": [
       "Metropolis(name='Tokyo', cc='JP', pop=36.933, coord=LatLong(lat=35.689722, long=139.691667))"
      ]
     },
     "execution_count": 61,
     "metadata": {},
     "output_type": "execute_result"
    }
   ],
   "source": [
    "from collections import namedtuple\n",
    "LatLong = namedtuple('LatLong', 'lat long')\n",
    "Metropolis = namedtuple('Metropolis', 'name cc pop coord')\n",
    "metro_areas = [Metropolis(name, cc, pop, LatLong(lat, long))\n",
    "              for name, cc, pop, (lat, long), in metro_data]\n",
    "metro_areas[0]"
   ]
  },
  {
   "cell_type": "code",
   "execution_count": 65,
   "metadata": {},
   "outputs": [
    {
     "data": {
      "text/plain": [
       "35.689722"
      ]
     },
     "execution_count": 65,
     "metadata": {},
     "output_type": "execute_result"
    }
   ],
   "source": [
    "metro_areas[0].coord.lat"
   ]
  },
  {
   "cell_type": "code",
   "execution_count": 67,
   "metadata": {},
   "outputs": [
    {
     "name": "stdout",
     "output_type": "stream",
     "text": [
      "('Sao Paulo', -23.547778)\n",
      "('Mexico City', 19.433333)\n",
      "('Delhi NCR', 28.613889)\n",
      "('Tokyo', 35.689722)\n",
      "('New York-Newark', 40.808611)\n"
     ]
    }
   ],
   "source": [
    "from operator import attrgetter\n",
    "name_lat = attrgetter('name', 'coord.lat')\n",
    "\n",
    "for city in sorted(metro_areas, key=attrgetter('coord.lat')):\n",
    "    print(name_lat(city))"
   ]
  },
  {
   "cell_type": "code",
   "execution_count": 70,
   "metadata": {},
   "outputs": [
    {
     "name": "stdout",
     "output_type": "stream",
     "text": [
      "['abs', 'add', 'and_', 'attrgetter', 'concat', 'contains', 'countOf', 'delitem', 'eq', 'floordiv', 'ge', 'getitem', 'gt', 'iadd', 'iand', 'iconcat', 'ifloordiv', 'ilshift', 'imatmul', 'imod', 'imul', 'index', 'indexOf', 'inv', 'invert', 'ior', 'ipow', 'irshift', 'is_', 'is_not', 'isub', 'itemgetter', 'itruediv', 'ixor', 'le', 'length_hint', 'lshift', 'lt', 'matmul', 'methodcaller', 'mod', 'mul', 'ne', 'neg', 'not_', 'or_', 'pos', 'pow', 'rshift', 'setitem', 'sub', 'truediv', 'truth', 'xor']\n"
     ]
    }
   ],
   "source": [
    "import operator\n",
    "print([name for name in dir(operator) if not name.startswith('_')])"
   ]
  },
  {
   "cell_type": "code",
   "execution_count": 77,
   "metadata": {},
   "outputs": [
    {
     "data": {
      "text/plain": [
       "'THE TIME HAS COME'"
      ]
     },
     "execution_count": 77,
     "metadata": {},
     "output_type": "execute_result"
    }
   ],
   "source": [
    "from operator import methodcaller\n",
    "s = 'The time has come'\n",
    "upcase = methodcaller('upper')\n",
    "upcase(s)"
   ]
  },
  {
   "cell_type": "code",
   "execution_count": 78,
   "metadata": {},
   "outputs": [
    {
     "data": {
      "text/plain": [
       "'The_time_has_come'"
      ]
     },
     "execution_count": 78,
     "metadata": {},
     "output_type": "execute_result"
    }
   ],
   "source": [
    "hiphenate = methodcaller('replace', ' ', '_')\n",
    "hiphenate(s)"
   ]
  },
  {
   "cell_type": "code",
   "execution_count": 80,
   "metadata": {},
   "outputs": [
    {
     "data": {
      "text/plain": [
       "21"
      ]
     },
     "execution_count": 80,
     "metadata": {},
     "output_type": "execute_result"
    }
   ],
   "source": [
    "from operator import mul\n",
    "from functools import partial\n",
    "triple = partial(mul, 3)\n",
    "triple(7)"
   ]
  },
  {
   "cell_type": "code",
   "execution_count": 83,
   "metadata": {},
   "outputs": [
    {
     "data": {
      "text/plain": [
       "[3, 6, 9, 12, 15, 18, 21, 24, 27]"
      ]
     },
     "execution_count": 83,
     "metadata": {},
     "output_type": "execute_result"
    }
   ],
   "source": [
    "list(map(triple, range(1, 10)))"
   ]
  },
  {
   "cell_type": "code",
   "execution_count": 85,
   "metadata": {},
   "outputs": [
    {
     "data": {
      "text/plain": [
       "('café', 'café')"
      ]
     },
     "execution_count": 85,
     "metadata": {},
     "output_type": "execute_result"
    }
   ],
   "source": [
    "import unicodedata\n",
    "import functools\n",
    "\n",
    "nfc = functools.partial(unicodedata.normalize, 'NFC')\n",
    "s1 = 'café'\n",
    "s2 = 'cafe\\u0301'\n",
    "s1, s2"
   ]
  },
  {
   "cell_type": "code",
   "execution_count": 86,
   "metadata": {},
   "outputs": [
    {
     "data": {
      "text/plain": [
       "False"
      ]
     },
     "execution_count": 86,
     "metadata": {},
     "output_type": "execute_result"
    }
   ],
   "source": [
    "s1 == s2"
   ]
  },
  {
   "cell_type": "code",
   "execution_count": 87,
   "metadata": {},
   "outputs": [
    {
     "data": {
      "text/plain": [
       "True"
      ]
     },
     "execution_count": 87,
     "metadata": {},
     "output_type": "execute_result"
    }
   ],
   "source": [
    "nfc(s1) == nfc(s2)"
   ]
  },
  {
   "cell_type": "code",
   "execution_count": 89,
   "metadata": {},
   "outputs": [
    {
     "data": {
      "text/plain": [
       "<function __main__.tag(name, *content, cls=None, **attrs)>"
      ]
     },
     "execution_count": 89,
     "metadata": {},
     "output_type": "execute_result"
    }
   ],
   "source": [
    "tag"
   ]
  },
  {
   "cell_type": "code",
   "execution_count": 90,
   "metadata": {},
   "outputs": [
    {
     "data": {
      "text/plain": [
       "'<img class=\"pic-frame\" src=\"wumpus.jpg\" />'"
      ]
     },
     "execution_count": 90,
     "metadata": {},
     "output_type": "execute_result"
    }
   ],
   "source": [
    "picture = partial(tag, 'img', cls='pic-frame')\n",
    "picture(src='wumpus.jpg')"
   ]
  },
  {
   "cell_type": "code",
   "execution_count": 91,
   "metadata": {},
   "outputs": [
    {
     "data": {
      "text/plain": [
       "functools.partial(<function tag at 0x11089bc80>, 'img', cls='pic-frame')"
      ]
     },
     "execution_count": 91,
     "metadata": {},
     "output_type": "execute_result"
    }
   ],
   "source": [
    "picture"
   ]
  },
  {
   "cell_type": "code",
   "execution_count": 92,
   "metadata": {},
   "outputs": [
    {
     "data": {
      "text/plain": [
       "('img',)"
      ]
     },
     "execution_count": 92,
     "metadata": {},
     "output_type": "execute_result"
    }
   ],
   "source": [
    "picture.args"
   ]
  },
  {
   "cell_type": "code",
   "execution_count": 93,
   "metadata": {},
   "outputs": [
    {
     "data": {
      "text/plain": [
       "{'cls': 'pic-frame'}"
      ]
     },
     "execution_count": 93,
     "metadata": {},
     "output_type": "execute_result"
    }
   ],
   "source": [
    "picture.keywords"
   ]
  }
 ],
 "metadata": {
  "kernelspec": {
   "display_name": "Python 3",
   "language": "python",
   "name": "python3"
  },
  "language_info": {
   "codemirror_mode": {
    "name": "ipython",
    "version": 3
   },
   "file_extension": ".py",
   "mimetype": "text/x-python",
   "name": "python",
   "nbconvert_exporter": "python",
   "pygments_lexer": "ipython3",
   "version": "3.6.5"
  }
 },
 "nbformat": 4,
 "nbformat_minor": 2
}
